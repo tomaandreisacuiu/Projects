{
 "cells": [
  {
   "cell_type": "markdown",
   "metadata": {},
   "source": [
    "# Programming Lesson and Exercises - DAS <span class=\"tocSkip\"></span>\n",
    "\n",
    "The goal of these programming lesson and exercises is to teach you how to filter and aggregate time series data."
   ]
  },
  {
   "cell_type": "markdown",
   "metadata": {},
   "source": [
    "\n",
    "# Introduction to this template notebook\n",
    "\n",
    "* This is a **personal** notebook.\n",
    "* Make sure you work in a **copy** of `...-template.ipynb`, **renamed** to `...-yourIDnr.ipynb`, where `yourIDnr` is your TU/e identification number.\n",
    "* Keep the copy in the same folder, so that the provided data sets can be loaded.\n",
    "\n",
    "You are expected to work with Python code in this notebook. The locations where you should write your solutions can be recognized by **marker lines**, which look like this:\n",
    "\n",
    ">`#//`\n",
    ">    `BEGIN_TODO [Label]` `Description` `(n points)`\n",
    ">\n",
    ">`#//`\n",
    ">    `END_TODO [Label]`\n",
    "\n",
    "<div class=\"alert alert-warning\" role=\"alert\">\n",
    "<ul>\n",
    "    <li>Do NOT modify or delete these marker lines.  Keep them as they are.</li>\n",
    "    <li>NEVER write code <i>outside</i> the marked blocks. Such code cannot be evaluated.</li>\n",
    "</ul>\n",
    "</div>\n",
    "\n",
    "Proceed in this notebook as follows:\n",
    "* **Read** the text.\n",
    "* **Fill in** your solutions between `BEGIN_TODO` and `END_TODO` marker lines.\n",
    "* **Run** _all_ code cells (also the ones _without_ your code),\n",
    "    _in linear order_ from the first code cell.\n",
    "\n",
    "<div class=\"alert alert-danger\" role=\"danger\">\n",
    "<h3>Integrity</h3>\n",
    "<ul>\n",
    "    <li>In this course you must act according to the rules of the TU/e code of scientific conduct.</li>\n",
    "    <li>All the exercises and the graded assignments are to be executed individually and independently.</li>\n",
    "    <li>You must not copy from the Internet, your friends, books... If you represent other people's work as your own, then that constitutes fraud and will be reported to the Examination Committee.</li>\n",
    "    <li>Making your work available to others (complicity) also constitutes fraud.</li>\n",
    "</ul>\n",
    "</div>\n",
    "\n",
    "## Personalize your notebook\n",
    "\n",
    "1. Copy the following three lines of code:\n",
    "\n",
    "  ```python\n",
    "  AUTHOR_NAME = 'Your Full Name'\n",
    "  AUTHOR_ID_NR = '1234567'\n",
    "  AUTHOR_DATE = 'YYYY-MM-DD'\n",
    "  ```\n",
    "\n",
    "1. Paste them between the marker lines in the next code cell.\n",
    "1. Fill in your _full name, identification number,_ and the current _date_ (i.e. when you first modified this notebook, e.g. `'2020-02-26'`) as strings between quotes.\n",
    "1. Run the code cell by putting the cursor there and typing **Control-Enter**.\n"
   ]
  },
  {
   "cell_type": "code",
   "execution_count": 1,
   "metadata": {},
   "outputs": [
    {
     "data": {
      "text/plain": [
       "('Toma Andrei Sacuiu', '1681591', '2022-03-18')"
      ]
     },
     "execution_count": 1,
     "metadata": {},
     "output_type": "execute_result"
    }
   ],
   "source": [
    "#// BEGIN_TODO [Author] Name, Id.nr., Date, as strings (1 point)\n",
    "\n",
    "AUTHOR_NAME = 'Toma Andrei Sacuiu'\n",
    "AUTHOR_ID_NR = '1681591'\n",
    "AUTHOR_DATE = '2022-03-18'\n",
    "\n",
    "#// END_TODO [Author]\n",
    "\n",
    "AUTHOR_NAME, AUTHOR_ID_NR, AUTHOR_DATE"
   ]
  },
  {
   "cell_type": "markdown",
   "metadata": {
    "toc": "true"
   },
   "source": [
    "<h1>Table of Contents<span class=\"tocSkip\"></span></h1>\n",
    "<div class=\"toc\"><ul class=\"toc-item\"><li><span><a href=\"#Lesson-introduction\" data-toc-modified-id=\"Lesson-introduction-1\">Lesson introduction</a></span><ul class=\"toc-item\"><li><span><a href=\"#Loading-the-libraries\" data-toc-modified-id=\"Loading-the-libraries-1.1\">Loading the libraries</a></span></li></ul></li><li><span><a href=\"#1.-Filtering\" data-toc-modified-id=\"1.-Filtering-2\"><span class=\"section\">1.</span> Filtering</a></span><ul class=\"toc-item\"><li><span><a href=\"#Gaussian-filter\" data-toc-modified-id=\"Gaussian-filter-2.1\">Gaussian filter</a></span></li><li><span><a href=\"#Rolling-windows\" data-toc-modified-id=\"Rolling-windows-2.2\">Rolling windows</a></span></li><li><span><a href=\"#Filtering-mouse-trajectories\" data-toc-modified-id=\"Filtering-mouse-trajectories-2.3\">Filtering mouse trajectories</a></span><ul class=\"toc-item\"><li><span><a href=\"#Exercise-1.a\" data-toc-modified-id=\"Exercise-1.a-2.3.1\">Exercise <span class=\"exercise\">1.a</span></a></span></li><li><span><a href=\"#Exercise-1.b\" data-toc-modified-id=\"Exercise-1.b-2.3.2\">Exercise <span class=\"exercise\">1.b</span></a></span></li><li><span><a href=\"#Exercise-1.c\" data-toc-modified-id=\"Exercise-1.c-2.3.3\">Exercise <span class=\"exercise\">1.c</span></a></span></li><li><span><a href=\"#Exercise-1.d\" data-toc-modified-id=\"Exercise-1.d-2.3.4\">Exercise <span class=\"exercise\">1.d</span></a></span></li><li><span><a href=\"#Exercise-1.e\" data-toc-modified-id=\"Exercise-1.e-2.3.5\">Exercise <span class=\"exercise\">1.e</span></a></span></li></ul></li><li><span><a href=\"#Computing-changes-and-finding-maxima\" data-toc-modified-id=\"Computing-changes-and-finding-maxima-2.4\">Computing changes and finding maxima</a></span><ul class=\"toc-item\"><li><span><a href=\"#Exercise-1.f\" data-toc-modified-id=\"Exercise-1.f-2.4.1\">Exercise <span class=\"exercise\">1.f</span></a></span></li><li><span><a href=\"#Exercise-1.g\" data-toc-modified-id=\"Exercise-1.g-2.4.2\">Exercise <span class=\"exercise\">1.g</span></a></span></li><li><span><a href=\"#Exercise-1.h\" data-toc-modified-id=\"Exercise-1.h-2.4.3\">Exercise <span class=\"exercise\">1.h</span></a></span></li></ul></li><li><span><a href=\"#Approximating-derivatives-and-finding-trends\" data-toc-modified-id=\"Approximating-derivatives-and-finding-trends-2.5\">Approximating derivatives and finding trends</a></span><ul class=\"toc-item\"><li><span><a href=\"#Exercise-1.i\" data-toc-modified-id=\"Exercise-1.i-2.5.1\">Exercise <span class=\"exercise\" id=\"approximate_speed\">1.i</span></a></span></li></ul></li></ul></li><li><span><a href=\"#2.-Data-aggregation\" data-toc-modified-id=\"2.-Data-aggregation-3\"><span class=\"section\">2.</span> Data aggregation</a></span><ul class=\"toc-item\"><li><span><a href=\"#Data-preparation\" data-toc-modified-id=\"Data-preparation-3.1\">Data preparation</a></span><ul class=\"toc-item\"><li><span><a href=\"#Data:-mouse-trajectories\" data-toc-modified-id=\"Data:-mouse-trajectories-3.1.1\">Data: mouse trajectories</a></span></li><li><span><a href=\"#Multi-level-indexing\" data-toc-modified-id=\"Multi-level-indexing-3.1.2\">Multi-level indexing</a></span></li><li><span><a href=\"#Data:-user-properties\" data-toc-modified-id=\"Data:-user-properties-3.1.3\">Data: user properties</a></span></li><li><span><a href=\"#Conversion-to-readable-table-entries\" data-toc-modified-id=\"Conversion-to-readable-table-entries-3.1.4\">Conversion to readable table entries</a></span></li><li><span><a href=\"#Data:-user-trial-properties\" data-toc-modified-id=\"Data:-user-trial-properties-3.1.5\">Data: user trial properties</a></span></li><li><span><a href=\"#Exercise-2.a\" data-toc-modified-id=\"Exercise-2.a-3.1.6\">Exercise <span class=\"exercise\">2.a</span></a></span></li><li><span><a href=\"#Exercise-2.b\" data-toc-modified-id=\"Exercise-2.b-3.1.7\">Exercise <span class=\"exercise\">2.b</span></a></span></li></ul></li><li><span><a href=\"#Data-aggregation\" data-toc-modified-id=\"Data-aggregation-3.2\">Data aggregation</a></span><ul class=\"toc-item\"><li><span><a href=\"#Computing-several-aggregated-quantities-at-once\" data-toc-modified-id=\"Computing-several-aggregated-quantities-at-once-3.2.1\">Computing several aggregated quantities at once</a></span></li><li><span><a href=\"#Joining-two-dataframes\" data-toc-modified-id=\"Joining-two-dataframes-3.2.2\">Joining two dataframes</a></span></li><li><span><a href=\"#Exercise-2.c\" data-toc-modified-id=\"Exercise-2.c-3.2.3\">Exercise <span class=\"exercise\">2.c</span></a></span></li><li><span><a href=\"#Exercise-2.d\" data-toc-modified-id=\"Exercise-2.d-3.2.4\">Exercise <span class=\"exercise\">2.d</span></a></span></li></ul></li></ul></li><li><span><a href=\"#3.-Empirical-cumulative-distribution-functions\" data-toc-modified-id=\"3.-Empirical-cumulative-distribution-functions-4\"><span class=\"section\">3.</span> Empirical cumulative distribution functions</a></span><ul class=\"toc-item\"><li><span><a href=\"#Exercises:-compare-ECDFs-for-mouse-a-trackpad-trajectories\" data-toc-modified-id=\"Exercises:-compare-ECDFs-for-mouse-a-trackpad-trajectories-4.1\">Exercises: compare ECDFs for mouse a trackpad trajectories</a></span><ul class=\"toc-item\"><li><span><a href=\"#Exercise-3.a\" data-toc-modified-id=\"Exercise-3.a-4.1.1\">Exercise <span class=\"exercise\">3.a</span></a></span></li><li><span><a href=\"#Exercise-3.b\" data-toc-modified-id=\"Exercise-3.b-4.1.2\">Exercise <span class=\"exercise\">3.b</span></a></span></li><li><span><a href=\"#Exercise-3.c\" data-toc-modified-id=\"Exercise-3.c-4.1.3\">Exercise <span class=\"exercise\">3.c</span></a></span></li><li><span><a href=\"#Exercise-3.d\" data-toc-modified-id=\"Exercise-3.d-4.1.4\">Exercise <span class=\"exercise\">3.d</span></a></span></li><li><span><a href=\"#Exercise-3.e\" data-toc-modified-id=\"Exercise-3.e-4.1.5\">Exercise <span class=\"exercise\">3.e</span></a></span></li><li><span><a href=\"#Exercise-3.f\" data-toc-modified-id=\"Exercise-3.f-4.1.6\">Exercise <span class=\"exercise\">3.f</span></a></span></li><li><span><a href=\"#Exercise-3.g\" data-toc-modified-id=\"Exercise-3.g-4.1.7\">Exercise <span class=\"exercise\">3.g</span></a></span></li></ul></li></ul></li><li><span><a href=\"#4.-Exercise:-find-ballistic-motion\" data-toc-modified-id=\"4.-Exercise:-find-ballistic-motion-5\"><span class=\"section\">4.</span> Exercise: find ballistic motion</a></span><ul class=\"toc-item\"><li><ul class=\"toc-item\"><li><span><a href=\"#Exercise-4.a\" data-toc-modified-id=\"Exercise-4.a-5.0.1\">Exercise <span class=\"exercise\">4.a</span></a></span></li><li><span><a href=\"#Exercise-4.b\" data-toc-modified-id=\"Exercise-4.b-5.0.2\">Exercise <span class=\"exercise\">4.b</span></a></span></li><li><span><a href=\"#Exercise-4.c\" data-toc-modified-id=\"Exercise-4.c-5.0.3\">Exercise <span class=\"exercise\">4.c</span></a></span></li><li><span><a href=\"#Exercise-4.d\" data-toc-modified-id=\"Exercise-4.d-5.0.4\">Exercise <span class=\"exercise\">4.d</span></a></span></li><li><span><a href=\"#Exercise-4.e\" data-toc-modified-id=\"Exercise-4.e-5.0.5\">Exercise <span class=\"exercise\">4.e</span></a></span></li></ul></li></ul></li></ul></div>"
   ]
  },
  {
   "cell_type": "markdown",
   "metadata": {},
   "source": [
    "# Lesson introduction\n",
    "\n",
    "In these lessons, we are going to extract features from the mouse trajectories recorded in the mouse experiment. We will first extract features by filtering signals, where a signal represents a quantity that changes with respect to another variable variable (e.g. time). For this, we will need to learn:\n",
    "\n",
    "* how to filter signals in _Python_\n",
    "* how to work with some new _Pandas_ functions\n",
    "\n",
    "Next, we will extract more features and perform aggregation over the recorded data and will learn\n",
    "\n",
    "* how to use the _Pandas_ **`agg()`** for convenient aggregation and computation of simple features\n",
    "* how to combine/join two _Pandas_ tables with the function **`join()`**\n",
    "* how to compute, use and plot empirical cumulative distribution functions"
   ]
  },
  {
   "cell_type": "markdown",
   "metadata": {},
   "source": [
    "## Loading the libraries\n",
    "\n",
    "To show examples, we load some Data Analytics libraries first:"
   ]
  },
  {
   "cell_type": "code",
   "execution_count": 2,
   "metadata": {},
   "outputs": [
    {
     "data": {
      "text/html": [
       "<style>.h,.c{display:none}.t{color:#296eaa}.t:active+.h{display:block;}</style>"
      ],
      "text/plain": [
       "<IPython.core.display.HTML object>"
      ]
     },
     "execution_count": 2,
     "metadata": {},
     "output_type": "execute_result"
    }
   ],
   "source": [
    "import numpy as np  # import auxiliary library, typical idiom\n",
    "import pandas as pd  # import the Pandas library, typical idiom\n",
    "\n",
    "from statsmodels.distributions.empirical_distribution import ECDF\n",
    "\n",
    "from scipy.interpolate import interp1d\n",
    "from scipy.ndimage.filters import gaussian_filter1d\n",
    "from scipy import stats\n",
    "\n",
    "# next command ensures that plots appear inside the notebook\n",
    "%matplotlib inline\n",
    "import matplotlib.pyplot as plt\n",
    "import seaborn as sns\n",
    "sns.set()  # set Seaborn defaults\n",
    "plt.rcParams['figure.figsize'] = 10, 5  # default hor./vert. size of plots, in inches\n",
    "plt.rcParams['lines.markeredgewidth'] = 1  # to fix issue with seaborn box plots; needed after import seaborn\n",
    "\n",
    "from mouse_experiment import MouseExperiment\n",
    "\n",
    "# reveal a hint only while holding the mouse down\n",
    "from IPython.display import HTML\n",
    "HTML(\"<style>.h,.c{display:none}.t{color:#296eaa}.t:active+.h{display:block;}</style>\")"
   ]
  },
  {
   "cell_type": "markdown",
   "metadata": {},
   "source": [
    "\n",
    "# <span class=\"section\">1.</span> Filtering\n",
    "\n"
   ]
  },
  {
   "cell_type": "markdown",
   "metadata": {},
   "source": [
    "To illustrate how to filter signals, we will apply filtering to the (time series in the) _stocks_ data set that we have also seen in the visualization exercises. In the exercises that follow, you will apply what you have learned to recorded mouse trajectories.\n",
    "\n",
    "This time, the _stocks_ data set contains the _daily_ (rather than the monthly) closing value of the <a href=\"https://en.wikipedia.org/wiki/NASDAQ_Composite\">NASDAQ Composite</a> index. We first load the data into a dataframe `df_nasdaq`."
   ]
  },
  {
   "cell_type": "code",
   "execution_count": 3,
   "metadata": {},
   "outputs": [
    {
     "data": {
      "text/html": [
       "<div>\n",
       "<style scoped>\n",
       "    .dataframe tbody tr th:only-of-type {\n",
       "        vertical-align: middle;\n",
       "    }\n",
       "\n",
       "    .dataframe tbody tr th {\n",
       "        vertical-align: top;\n",
       "    }\n",
       "\n",
       "    .dataframe thead th {\n",
       "        text-align: right;\n",
       "    }\n",
       "</style>\n",
       "<table border=\"1\" class=\"dataframe\">\n",
       "  <thead>\n",
       "    <tr style=\"text-align: right;\">\n",
       "      <th></th>\n",
       "      <th>close</th>\n",
       "    </tr>\n",
       "    <tr>\n",
       "      <th>Date</th>\n",
       "      <th></th>\n",
       "    </tr>\n",
       "  </thead>\n",
       "  <tbody>\n",
       "    <tr>\n",
       "      <th>2007-01-03</th>\n",
       "      <td>2423.159912</td>\n",
       "    </tr>\n",
       "    <tr>\n",
       "      <th>2007-01-04</th>\n",
       "      <td>2453.429932</td>\n",
       "    </tr>\n",
       "    <tr>\n",
       "      <th>2007-01-05</th>\n",
       "      <td>2434.250000</td>\n",
       "    </tr>\n",
       "    <tr>\n",
       "      <th>2007-01-08</th>\n",
       "      <td>2438.199951</td>\n",
       "    </tr>\n",
       "    <tr>\n",
       "      <th>2007-01-09</th>\n",
       "      <td>2443.830078</td>\n",
       "    </tr>\n",
       "  </tbody>\n",
       "</table>\n",
       "</div>"
      ],
      "text/plain": [
       "                  close\n",
       "Date                   \n",
       "2007-01-03  2423.159912\n",
       "2007-01-04  2453.429932\n",
       "2007-01-05  2434.250000\n",
       "2007-01-08  2438.199951\n",
       "2007-01-09  2443.830078"
      ]
     },
     "execution_count": 3,
     "metadata": {},
     "output_type": "execute_result"
    }
   ],
   "source": [
    "df_nasdaq = pd.read_csv('datasets/NASDAQ.csv', parse_dates=[0])\n",
    "df_nasdaq = df_nasdaq.set_index('Date')[['Close']]\n",
    "df_nasdaq.columns = ['close']\n",
    "df_nasdaq.head()"
   ]
  },
  {
   "cell_type": "markdown",
   "metadata": {},
   "source": [
    "Let us plot the daily closing index."
   ]
  },
  {
   "cell_type": "code",
   "execution_count": 4,
   "metadata": {},
   "outputs": [
    {
     "data": {
      "image/png": "[encoded data removed]",
      "text/plain": [
       "<Figure size 720x360 with 1 Axes>"
      ]
     },
     "metadata": {},
     "output_type": "display_data"
    }
   ],
   "source": [
    "ax = df_nasdaq['close'].plot()\n",
    "ax.set_ylabel('Index')\n",
    "ax.set_title('Closing NASDAQ Composite index',fontsize=16);"
   ]
  },
  {
   "cell_type": "markdown",
   "metadata": {},
   "source": [
    "## Gaussian filter\n",
    "\n",
    "As you can see, the closing price is very volatile. If we want to approximate the graph by a curve that is more smooth, we can do so by _filtering_. In this case, we apply a Gaussian filter. We store the filtered data in a column called `'close_filtered'`. The Gaussian filter needs a parameter `sigma`, the standard deviation, which gives an indication of the width of the applied filter. We choose `sigma` to be `30` (days). \n",
    "\n",
    "(There are different ways to deal with the boundaries. We choose the mode `'nearest'`, since for the later exercises it is the most natural choice.)"
   ]
  },
  {
   "cell_type": "code",
   "execution_count": 5,
   "metadata": {},
   "outputs": [
    {
     "data": {
      "text/html": [
       "<div>\n",
       "<style scoped>\n",
       "    .dataframe tbody tr th:only-of-type {\n",
       "        vertical-align: middle;\n",
       "    }\n",
       "\n",
       "    .dataframe tbody tr th {\n",
       "        vertical-align: top;\n",
       "    }\n",
       "\n",
       "    .dataframe thead th {\n",
       "        text-align: right;\n",
       "    }\n",
       "</style>\n",
       "<table border=\"1\" class=\"dataframe\">\n",
       "  <thead>\n",
       "    <tr style=\"text-align: right;\">\n",
       "      <th></th>\n",
       "      <th>close</th>\n",
       "      <th>close_filtered</th>\n",
       "    </tr>\n",
       "    <tr>\n",
       "      <th>Date</th>\n",
       "      <th></th>\n",
       "      <th></th>\n",
       "    </tr>\n",
       "  </thead>\n",
       "  <tbody>\n",
       "    <tr>\n",
       "      <th>2007-01-03</th>\n",
       "      <td>2423.159912</td>\n",
       "      <td>2438.967378</td>\n",
       "    </tr>\n",
       "    <tr>\n",
       "      <th>2007-01-04</th>\n",
       "      <td>2453.429932</td>\n",
       "      <td>2439.354293</td>\n",
       "    </tr>\n",
       "    <tr>\n",
       "      <th>2007-01-05</th>\n",
       "      <td>2434.250000</td>\n",
       "      <td>2439.740575</td>\n",
       "    </tr>\n",
       "    <tr>\n",
       "      <th>2007-01-08</th>\n",
       "      <td>2438.199951</td>\n",
       "      <td>2440.126123</td>\n",
       "    </tr>\n",
       "    <tr>\n",
       "      <th>2007-01-09</th>\n",
       "      <td>2443.830078</td>\n",
       "      <td>2440.511070</td>\n",
       "    </tr>\n",
       "  </tbody>\n",
       "</table>\n",
       "</div>"
      ],
      "text/plain": [
       "                  close  close_filtered\n",
       "Date                                   \n",
       "2007-01-03  2423.159912     2438.967378\n",
       "2007-01-04  2453.429932     2439.354293\n",
       "2007-01-05  2434.250000     2439.740575\n",
       "2007-01-08  2438.199951     2440.126123\n",
       "2007-01-09  2443.830078     2440.511070"
      ]
     },
     "execution_count": 5,
     "metadata": {},
     "output_type": "execute_result"
    }
   ],
   "source": [
    "df_nasdaq['close_filtered'] = gaussian_filter1d(df_nasdaq['close'], sigma=30, mode='nearest')\n",
    "df_nasdaq.head()"
   ]
  },
  {
   "cell_type": "markdown",
   "metadata": {},
   "source": [
    "Let us plot the filtered data together with the original prices in one figure."
   ]
  },
  {
   "cell_type": "code",
   "execution_count": 6,
   "metadata": {},
   "outputs": [
    {
     "data": {
      "text/plain": [
       "Text(0, 0.5, 'Index')"
      ]
     },
     "execution_count": 6,
     "metadata": {},
     "output_type": "execute_result"
    },
    {
     "data": {
      "image/png": "[encoded data removed]",
      "text/plain": [
       "<Figure size 720x360 with 1 Axes>"
      ]
     },
     "metadata": {},
     "output_type": "display_data"
    }
   ],
   "source": [
    "ax_nasdaq = df_nasdaq['close'].plot(color='orange')\n",
    "df_nasdaq['close_filtered'].plot(ax = ax_nasdaq, color='black');\n",
    "ax_nasdaq.set_title('Closing NASDAQ Composite index',fontsize=16);\n",
    "ax_nasdaq.set_ylabel('Index')"
   ]
  },
  {
   "cell_type": "markdown",
   "metadata": {},
   "source": [
    "## Rolling windows\n",
    "\n",
    "There are many more ways to filter signals, each with their own advantages and disadvantages. A **median filter** is not so sensitive to outliers as a Gaussian filter.\n",
    "\n",
    "The Pandas function **`rolling()`** lets you compute rolling-window statistics, such as a rolling median. To use it, you need to specify the size of the window. In the following example, we used a window size of `5`. You can then apply a statistic to the result: in our median-filter example, we calculate the `median`. "
   ]
  },
  {
   "cell_type": "code",
   "execution_count": 7,
   "metadata": {},
   "outputs": [
    {
     "data": {
      "text/html": [
       "<div>\n",
       "<style scoped>\n",
       "    .dataframe tbody tr th:only-of-type {\n",
       "        vertical-align: middle;\n",
       "    }\n",
       "\n",
       "    .dataframe tbody tr th {\n",
       "        vertical-align: top;\n",
       "    }\n",
       "\n",
       "    .dataframe thead th {\n",
       "        text-align: right;\n",
       "    }\n",
       "</style>\n",
       "<table border=\"1\" class=\"dataframe\">\n",
       "  <thead>\n",
       "    <tr style=\"text-align: right;\">\n",
       "      <th></th>\n",
       "      <th>close</th>\n",
       "      <th>close_filtered</th>\n",
       "      <th>median_filtered</th>\n",
       "    </tr>\n",
       "    <tr>\n",
       "      <th>Date</th>\n",
       "      <th></th>\n",
       "      <th></th>\n",
       "      <th></th>\n",
       "    </tr>\n",
       "  </thead>\n",
       "  <tbody>\n",
       "    <tr>\n",
       "      <th>2007-01-03</th>\n",
       "      <td>2423.159912</td>\n",
       "      <td>2438.967378</td>\n",
       "      <td>NaN</td>\n",
       "    </tr>\n",
       "    <tr>\n",
       "      <th>2007-01-04</th>\n",
       "      <td>2453.429932</td>\n",
       "      <td>2439.354293</td>\n",
       "      <td>NaN</td>\n",
       "    </tr>\n",
       "    <tr>\n",
       "      <th>2007-01-05</th>\n",
       "      <td>2434.250000</td>\n",
       "      <td>2439.740575</td>\n",
       "      <td>NaN</td>\n",
       "    </tr>\n",
       "    <tr>\n",
       "      <th>2007-01-08</th>\n",
       "      <td>2438.199951</td>\n",
       "      <td>2440.126123</td>\n",
       "      <td>NaN</td>\n",
       "    </tr>\n",
       "    <tr>\n",
       "      <th>2007-01-09</th>\n",
       "      <td>2443.830078</td>\n",
       "      <td>2440.511070</td>\n",
       "      <td>2438.199951</td>\n",
       "    </tr>\n",
       "    <tr>\n",
       "      <th>2007-01-10</th>\n",
       "      <td>2459.330078</td>\n",
       "      <td>2440.895398</td>\n",
       "      <td>2443.830078</td>\n",
       "    </tr>\n",
       "    <tr>\n",
       "      <th>2007-01-11</th>\n",
       "      <td>2484.850098</td>\n",
       "      <td>2441.279204</td>\n",
       "      <td>2443.830078</td>\n",
       "    </tr>\n",
       "    <tr>\n",
       "      <th>2007-01-12</th>\n",
       "      <td>2502.820068</td>\n",
       "      <td>2441.662644</td>\n",
       "      <td>2459.330078</td>\n",
       "    </tr>\n",
       "    <tr>\n",
       "      <th>2007-01-16</th>\n",
       "      <td>2497.780029</td>\n",
       "      <td>2442.045911</td>\n",
       "      <td>2484.850098</td>\n",
       "    </tr>\n",
       "    <tr>\n",
       "      <th>2007-01-17</th>\n",
       "      <td>2479.419922</td>\n",
       "      <td>2442.429137</td>\n",
       "      <td>2484.850098</td>\n",
       "    </tr>\n",
       "  </tbody>\n",
       "</table>\n",
       "</div>"
      ],
      "text/plain": [
       "                  close  close_filtered  median_filtered\n",
       "Date                                                    \n",
       "2007-01-03  2423.159912     2438.967378              NaN\n",
       "2007-01-04  2453.429932     2439.354293              NaN\n",
       "2007-01-05  2434.250000     2439.740575              NaN\n",
       "2007-01-08  2438.199951     2440.126123              NaN\n",
       "2007-01-09  2443.830078     2440.511070      2438.199951\n",
       "2007-01-10  2459.330078     2440.895398      2443.830078\n",
       "2007-01-11  2484.850098     2441.279204      2443.830078\n",
       "2007-01-12  2502.820068     2441.662644      2459.330078\n",
       "2007-01-16  2497.780029     2442.045911      2484.850098\n",
       "2007-01-17  2479.419922     2442.429137      2484.850098"
      ]
     },
     "execution_count": 7,
     "metadata": {},
     "output_type": "execute_result"
    }
   ],
   "source": [
    "df_nasdaq['median_filtered'] = df_nasdaq['close'].rolling(5).median()\n",
    "df_nasdaq.head(10)"
   ]
  },
  {
   "cell_type": "markdown",
   "metadata": {},
   "source": [
    "In every row of the resulting series, you get the median of the values in the window. If you have a window size of `k`, the result in the `n`th row is the median of the rows `n-k+1`, `n-k+2` up to `n`. Note that for rows `0` to `k-1` the median of the window cannot be computed, resulting in `NaN` values in those rows."
   ]
  },
  {
   "cell_type": "markdown",
   "metadata": {},
   "source": [
    "Let us plot the filtered data together with the original prices in one figure."
   ]
  },
  {
   "cell_type": "code",
   "execution_count": 8,
   "metadata": {},
   "outputs": [
    {
     "data": {
      "image/png": "[encoded data removed]",
      "text/plain": [
       "<Figure size 720x360 with 1 Axes>"
      ]
     },
     "metadata": {},
     "output_type": "display_data"
    }
   ],
   "source": [
    "ax_nasdaq = df_nasdaq['close'].plot(color='orange')\n",
    "df_nasdaq['median_filtered'].plot(ax=ax_nasdaq, color='black');\n",
    "ax_nasdaq.set_title('Closing NASDAQ Composite index',fontsize=16);\n",
    "ax_nasdaq.set_ylabel('Index');"
   ]
  },
  {
   "cell_type": "markdown",
   "metadata": {},
   "source": [
    "## Filtering mouse trajectories\n",
    "\n",
    "Now we will apply the filtering to recorded mouse trajectories stored in the file `'datasets/paths.csv'`."
   ]
  },
  {
   "cell_type": "code",
   "execution_count": 9,
   "metadata": {},
   "outputs": [],
   "source": [
    "df_paths = pd.read_csv('datasets/paths.csv', parse_dates=[0])"
   ]
  },
  {
   "cell_type": "markdown",
   "metadata": {},
   "source": [
    "<div class=\"alert-info alert\" role=\"alert-info\">\n",
    "\n",
    "You may also like to experiment on trajectories that you record yourself. The following code will launch the mouse experiment and store the recorded trajectories in the dataframe <tt>df_paths</tt>:\n",
    "\n",
    "<br>\n",
    "<tt>\n",
    "experiment     = MouseExperiment()<br>\n",
    "_, df_paths, _ = experiment.start()\n",
    "</tt>\n",
    "<br>\n",
    "\n",
    "When you execute this code (by uncommenting it in the code cell below) the application will start in a new window. Note, that it may be minimized, in which case you may need to find it in the task bar. Next, draw some trajectories. When you close the window, the trajectories will be stored in the dataframe <tt>df_paths</tt>.\n",
    "\n",
    "**Before you submit your notebook, make sure that your code also works on the trajectories provided in <tt>datasets/paths.csv</tt>.**\n",
    "\n",
    "Hint: It is easier to understand the exercises if you <b>make a drawing, such as a triangle or a square</b>, instead of drawing straight lines.\n",
    "</div>"
   ]
  },
  {
   "cell_type": "code",
   "execution_count": 10,
   "metadata": {},
   "outputs": [],
   "source": [
    "#experiment = MouseExperiment()\n",
    "#_, df_paths, _ = experiment.start()"
   ]
  },
  {
   "cell_type": "markdown",
   "metadata": {},
   "source": [
    "We print below the first five rows of `df_paths`."
   ]
  },
  {
   "cell_type": "code",
   "execution_count": 11,
   "metadata": {},
   "outputs": [
    {
     "data": {
      "text/html": [
       "<div>\n",
       "<style scoped>\n",
       "    .dataframe tbody tr th:only-of-type {\n",
       "        vertical-align: middle;\n",
       "    }\n",
       "\n",
       "    .dataframe tbody tr th {\n",
       "        vertical-align: top;\n",
       "    }\n",
       "\n",
       "    .dataframe thead th {\n",
       "        text-align: right;\n",
       "    }\n",
       "</style>\n",
       "<table border=\"1\" class=\"dataframe\">\n",
       "  <thead>\n",
       "    <tr style=\"text-align: right;\">\n",
       "      <th></th>\n",
       "      <th>trial</th>\n",
       "      <th>t</th>\n",
       "      <th>x</th>\n",
       "      <th>y</th>\n",
       "    </tr>\n",
       "  </thead>\n",
       "  <tbody>\n",
       "    <tr>\n",
       "      <th>0</th>\n",
       "      <td>15</td>\n",
       "      <td>0.000000</td>\n",
       "      <td>1</td>\n",
       "      <td>-2</td>\n",
       "    </tr>\n",
       "    <tr>\n",
       "      <th>1</th>\n",
       "      <td>15</td>\n",
       "      <td>1.436910</td>\n",
       "      <td>0</td>\n",
       "      <td>-2</td>\n",
       "    </tr>\n",
       "    <tr>\n",
       "      <th>2</th>\n",
       "      <td>15</td>\n",
       "      <td>2.017927</td>\n",
       "      <td>-1</td>\n",
       "      <td>-2</td>\n",
       "    </tr>\n",
       "    <tr>\n",
       "      <th>3</th>\n",
       "      <td>15</td>\n",
       "      <td>2.370731</td>\n",
       "      <td>-2</td>\n",
       "      <td>-2</td>\n",
       "    </tr>\n",
       "    <tr>\n",
       "      <th>4</th>\n",
       "      <td>15</td>\n",
       "      <td>2.411801</td>\n",
       "      <td>-3</td>\n",
       "      <td>-2</td>\n",
       "    </tr>\n",
       "  </tbody>\n",
       "</table>\n",
       "</div>"
      ],
      "text/plain": [
       "  trial         t  x  y\n",
       "0    15  0.000000  1 -2\n",
       "1    15  1.436910  0 -2\n",
       "2    15  2.017927 -1 -2\n",
       "3    15  2.370731 -2 -2\n",
       "4    15  2.411801 -3 -2"
      ]
     },
     "execution_count": 11,
     "metadata": {},
     "output_type": "execute_result"
    }
   ],
   "source": [
    "df_paths.head()"
   ]
  },
  {
   "cell_type": "markdown",
   "metadata": {},
   "source": [
    "> **NOTE:** We will use the term *trajectory* and *path* interchangeably.\n",
    "\n",
    "The meaning of the different columns is as follows:\n",
    "\n",
    "* The **`'trial'`** column contains a unique number per trajectory\n",
    "* The **`'t'`** column contains contains the time since the start of the trial in ms\n",
    "* The **`'x'`** column contains the $x$-coordinate on the trajectory at time `'t'` in pixels\n",
    "* The **`'y'`** column contains the $y$-coordinate on the trajectory at time `'t'` in pixels\n",
    "\n",
    "We make sure that the `'trial'` column is of integer type, which is needed for the later exercises:"
   ]
  },
  {
   "cell_type": "code",
   "execution_count": 12,
   "metadata": {},
   "outputs": [],
   "source": [
    "df_paths['trial'] = df_paths['trial'].astype(int)"
   ]
  },
  {
   "attachments": {
    "example-trajectories.png": {
     "image/png": "[encoded data removed]"
    }
   },
   "cell_type": "markdown",
   "metadata": {},
   "source": [
    "### Exercise <span class=\"exercise\">1.a</span>\n",
    "\n",
    "Plot the trajectories obtained from the experiment, i.e. those stored in `df_paths`, in one figure, with both axes ranging from -300 to 300. Recall that different trajectories have a different `'trial'` number.\n",
    "\n",
    "Here is an example of a possible result for two mouse trajectories:\n",
    "\n",
    "![example-trajectories.png](attachment:example-trajectories.png)\n",
    "\n",
    "<span class=\"t\">Hint<span class=\"c\">:</span></span>\n",
    "<span class=\"h\">\n",
    "You can plot two columns labeled `'col_1'` and `'col_2'` from a dataframe or a groupby object against each other by providing the arguments `x='col_1'` and `y='col_2'` to the plot function.\n",
    "</span>"
   ]
  },
  {
   "cell_type": "code",
   "execution_count": 13,
   "metadata": {},
   "outputs": [
    {
     "data": {
      "image/png": "[encoded data removed]",
      "text/plain": [
       "<Figure size 720x360 with 1 Axes>"
      ]
     },
     "metadata": {},
     "output_type": "display_data"
    }
   ],
   "source": [
    "#// BEGIN_TODO [DAS_1a] Visualize the paths (1 point)\n",
    "\n",
    "fig1, ax1 = plt.subplots()\n",
    "\n",
    "for i, group in df_paths.groupby(by = 'trial'):\n",
    "    group.plot(x = 'x', y = 'y', ax = ax1)\n",
    "    \n",
    "ax1.set_xlim(-300, 300);\n",
    "ax1.set_ylim(-300, 300);\n",
    "\n",
    "#// END_TODO [DAS_1a]"
   ]
  },
  {
   "cell_type": "markdown",
   "metadata": {},
   "source": [
    "### Exercise <span class=\"exercise\">1.b</span>\n",
    "\n",
    "Select the data from the last recorded trajectory using a boolean mask, and store it in a dataframe named `df_last_path`.\n",
    "\n",
    "<span class=\"t\">Hint<span class=\"c\">:</span></span>\n",
    "<span class=\"h\">\n",
    "The `'trial'` numbers are increasing, i.e. later trajectories have larger `'trial'` numbers.\n",
    "</span>"
   ]
  },
  {
   "cell_type": "code",
   "execution_count": 14,
   "metadata": {},
   "outputs": [
    {
     "data": {
      "text/html": [
       "<div>\n",
       "<style scoped>\n",
       "    .dataframe tbody tr th:only-of-type {\n",
       "        vertical-align: middle;\n",
       "    }\n",
       "\n",
       "    .dataframe tbody tr th {\n",
       "        vertical-align: top;\n",
       "    }\n",
       "\n",
       "    .dataframe thead th {\n",
       "        text-align: right;\n",
       "    }\n",
       "</style>\n",
       "<table border=\"1\" class=\"dataframe\">\n",
       "  <thead>\n",
       "    <tr style=\"text-align: right;\">\n",
       "      <th></th>\n",
       "      <th>trial</th>\n",
       "      <th>t</th>\n",
       "      <th>x</th>\n",
       "      <th>y</th>\n",
       "    </tr>\n",
       "  </thead>\n",
       "  <tbody>\n",
       "    <tr>\n",
       "      <th>885</th>\n",
       "      <td>17</td>\n",
       "      <td>0.000000</td>\n",
       "      <td>1</td>\n",
       "      <td>2</td>\n",
       "    </tr>\n",
       "    <tr>\n",
       "      <th>886</th>\n",
       "      <td>17</td>\n",
       "      <td>0.771446</td>\n",
       "      <td>0</td>\n",
       "      <td>2</td>\n",
       "    </tr>\n",
       "    <tr>\n",
       "      <th>887</th>\n",
       "      <td>17</td>\n",
       "      <td>0.779367</td>\n",
       "      <td>-1</td>\n",
       "      <td>3</td>\n",
       "    </tr>\n",
       "    <tr>\n",
       "      <th>888</th>\n",
       "      <td>17</td>\n",
       "      <td>0.787307</td>\n",
       "      <td>-2</td>\n",
       "      <td>3</td>\n",
       "    </tr>\n",
       "    <tr>\n",
       "      <th>889</th>\n",
       "      <td>17</td>\n",
       "      <td>0.795360</td>\n",
       "      <td>-3</td>\n",
       "      <td>4</td>\n",
       "    </tr>\n",
       "  </tbody>\n",
       "</table>\n",
       "</div>"
      ],
      "text/plain": [
       "     trial         t  x  y\n",
       "885     17  0.000000  1  2\n",
       "886     17  0.771446  0  2\n",
       "887     17  0.779367 -1  3\n",
       "888     17  0.787307 -2  3\n",
       "889     17  0.795360 -3  4"
      ]
     },
     "execution_count": 14,
     "metadata": {},
     "output_type": "execute_result"
    }
   ],
   "source": [
    "#// BEGIN_TODO [DAS_1b] Select data (1 point)\n",
    "\n",
    "last_path = df_paths['trial'].max()\n",
    "\n",
    "df_last_path = df_paths.loc[df_paths['trial'] == last_path].copy()\n",
    "\n",
    "#// END_TODO [DAS_1b]\n",
    "\n",
    "df_last_path.head()"
   ]
  },
  {
   "cell_type": "markdown",
   "metadata": {},
   "source": [
    "### Exercise <span class=\"exercise\">1.c</span>\n",
    "\n",
    "Plot the last recorded trajectory in the `df_last_path` dataframe. Set the limits of both axes from -300 to 300."
   ]
  },
  {
   "cell_type": "code",
   "execution_count": 15,
   "metadata": {},
   "outputs": [
    {
     "data": {
      "image/png": "[encoded data removed]",
      "text/plain": [
       "<Figure size 720x360 with 1 Axes>"
      ]
     },
     "metadata": {},
     "output_type": "display_data"
    }
   ],
   "source": [
    "    #// BEGIN_TODO [DAS_1c] Select data (1 point)\n",
    "\n",
    "ax2 = df_last_path.plot(x = 'x', y = 'y', color = 'b');\n",
    "\n",
    "ax2.set_xlim(-300, 300);\n",
    "ax2.set_ylim(-300, 300);\n",
    "\n",
    "#// END_TODO [DAS_1c]"
   ]
  },
  {
   "cell_type": "markdown",
   "metadata": {},
   "source": [
    "> Hint: After doing this exercise, go back and record some new mouse trajectories. Then, execute the code that you wrote for the previous exercises again, **without modifying it**. It should select the trajectory that you drew last."
   ]
  },
  {
   "cell_type": "markdown",
   "metadata": {},
   "source": [
    "### Exercise <span class=\"exercise\">1.d</span>\n",
    "\n",
    "Use a Gaussian filter with standard deviation of $25$ ms, to approximate the $x$- and $y$- coordinates of the trajectory in `df_last_path`. Store the $x$- and $y$-coordinates of the filtered path in columns labeled `'filt_x'` and `'filt_y'` respectively. Then use a Gaussian filter with standard deviation of $200$ ms, and store the filtered path in columns labeled `'filt_x_coarse'` and `'filt_y_coarse'`.\n",
    "\n",
    "Finally, plot the original and the two filtered paths in one figure, with both axes ranging from -300 to 300.\n",
    "\n",
    "<span class=\"t\">Hint<span class=\"c\">:</span></span>\n",
    "<span class=\"h\">\n",
    "Consider setting the `figsize` argument of the `plot()` function to something larger (e.g. `figsize=(10,10)`) to better visualize the differences between the filtering options.\n",
    "</span>"
   ]
  },
  {
   "cell_type": "code",
   "execution_count": 16,
   "metadata": {},
   "outputs": [
    {
     "data": {
      "image/png": "[encoded data removed]",
      "text/plain": [
       "<Figure size 720x360 with 1 Axes>"
      ]
     },
     "metadata": {},
     "output_type": "display_data"
    }
   ],
   "source": [
    "#// BEGIN_TODO [DAS_1d] Gaussian filter (1 point)\n",
    "\n",
    "df_last_path['filt_x'] = gaussian_filter1d(df_last_path['x'], sigma = 25, mode='nearest')\n",
    "df_last_path['filt_y'] = gaussian_filter1d(df_last_path['y'], sigma  =25, mode='nearest')\n",
    "df_last_path['filt_x_coarse'] = gaussian_filter1d(df_last_path['x'], sigma = 200, mode = 'nearest')\n",
    "df_last_path['filt_y_coarse'] = gaussian_filter1d(df_last_path['y'], sigma = 200, mode = 'nearest')\n",
    "\n",
    "ax3 = df_last_path.plot(x = 'x', y='y', color = 'black');\n",
    "df_last_path.plot(x = 'filt_x', y = 'filt_y', ax = ax3, color = 'red');\n",
    "df_last_path.plot(x = 'filt_x_coarse', y = 'filt_y_coarse', ax = ax3, color = 'green');\n",
    "\n",
    "ax3.set_xlim(-300, 300);\n",
    "ax3.set_ylim(-300, 300);\n"
   ]
  },
  {
   "cell_type": "code",
   "execution_count": 17,
   "metadata": {},
   "outputs": [],
   "source": [
    "#// END_TODO [DAS_1d]"
   ]
  },
  {
   "cell_type": "markdown",
   "metadata": {},
   "source": [
    "Which filtered trajectory approximates the original curve best?"
   ]
  },
  {
   "cell_type": "markdown",
   "metadata": {},
   "source": [
    "### Exercise <span class=\"exercise\">1.e</span>\n",
    "\n",
    "Now use a median filter, with a window size of `80` to approximate the $x-$ and $y-$ coordinates of the trajectory in `df_last_path`. Store the $x$- and $y$-coordinates of the filtered path in columns labeled `'med_filt_x'` and `'med_filt_y'` respectively. Similarly, use a median filter with window size of `200` and store the coordinates of the filtered path as columns `'med_filt_x_coarse'` and `'med_filt_y_coarse'`. \n",
    "\n",
    "Finally, plot the original and the two filtered paths in one figure, with both axes ranging from -300 to 300."
   ]
  },
  {
   "cell_type": "code",
   "execution_count": 18,
   "metadata": {},
   "outputs": [
    {
     "data": {
      "image/png": "[encoded data removed]",
      "text/plain": [
       "<Figure size 720x360 with 1 Axes>"
      ]
     },
     "metadata": {},
     "output_type": "display_data"
    }
   ],
   "source": [
    "#// BEGIN_TODO [DAS_1e] Median filter (1 point)\n",
    "\n",
    "df_last_path['med_filt_x'] = df_last_path['x'].rolling(80).median()\n",
    " \n",
    "df_last_path['med_filt_y'] = df_last_path['y'].rolling(80).median()\n",
    "df_last_path['med_filt_x_coarse'] = df_last_path['x'].rolling(200).median()\n",
    "df_last_path['med_filt_y_coarse'] = df_last_path['y'].rolling(200).median()\n",
    "\n",
    "ax4 = df_last_path.plot(x = 'x', y = 'y', color = 'black')\n",
    "df_last_path.plot(x = 'med_filt_x', y = 'med_filt_y', ax = ax4, color = 'red');\n",
    "df_last_path.plot(x = 'med_filt_x_coarse', y = 'med_filt_y_coarse', ax = ax4, color = 'green');\n",
    "\n",
    "ax4.set_xlim(-300, 300);\n",
    "ax4.set_ylim(-300, 300);\n",
    "\n",
    "#// END_TODO [DAS_1e]"
   ]
  },
  {
   "cell_type": "markdown",
   "metadata": {},
   "source": [
    "What differences do you see with respect to the Gaussian-filtered trajectories? You can experiment by drawing different trajectories."
   ]
  },
  {
   "cell_type": "markdown",
   "metadata": {},
   "source": [
    "## Computing changes and finding maxima\n",
    "\n",
    "We will now introduce several new _Pandas_ functions. To illustrate their use, we consider the following example question:\n",
    "\n",
    "_At what day was the biggest drop in the NASDAQ Composite?_\n",
    "\n",
    "We approach this as follows. First, we calculate the differences between consecutive rows in a _Series_ with the _Pandas_ function **`diff()`**. We use it to add a new column, labeled `'close_diff'`, to the dataframe `df_nasdaq`."
   ]
  },
  {
   "cell_type": "code",
   "execution_count": 19,
   "metadata": {},
   "outputs": [
    {
     "data": {
      "text/html": [
       "<div>\n",
       "<style scoped>\n",
       "    .dataframe tbody tr th:only-of-type {\n",
       "        vertical-align: middle;\n",
       "    }\n",
       "\n",
       "    .dataframe tbody tr th {\n",
       "        vertical-align: top;\n",
       "    }\n",
       "\n",
       "    .dataframe thead th {\n",
       "        text-align: right;\n",
       "    }\n",
       "</style>\n",
       "<table border=\"1\" class=\"dataframe\">\n",
       "  <thead>\n",
       "    <tr style=\"text-align: right;\">\n",
       "      <th></th>\n",
       "      <th>close</th>\n",
       "      <th>close_diff</th>\n",
       "    </tr>\n",
       "    <tr>\n",
       "      <th>Date</th>\n",
       "      <th></th>\n",
       "      <th></th>\n",
       "    </tr>\n",
       "  </thead>\n",
       "  <tbody>\n",
       "    <tr>\n",
       "      <th>2007-01-03</th>\n",
       "      <td>2423.159912</td>\n",
       "      <td>NaN</td>\n",
       "    </tr>\n",
       "    <tr>\n",
       "      <th>2007-01-04</th>\n",
       "      <td>2453.429932</td>\n",
       "      <td>30.270020</td>\n",
       "    </tr>\n",
       "    <tr>\n",
       "      <th>2007-01-05</th>\n",
       "      <td>2434.250000</td>\n",
       "      <td>-19.179932</td>\n",
       "    </tr>\n",
       "    <tr>\n",
       "      <th>2007-01-08</th>\n",
       "      <td>2438.199951</td>\n",
       "      <td>3.949951</td>\n",
       "    </tr>\n",
       "    <tr>\n",
       "      <th>2007-01-09</th>\n",
       "      <td>2443.830078</td>\n",
       "      <td>5.630127</td>\n",
       "    </tr>\n",
       "  </tbody>\n",
       "</table>\n",
       "</div>"
      ],
      "text/plain": [
       "                  close  close_diff\n",
       "Date                               \n",
       "2007-01-03  2423.159912         NaN\n",
       "2007-01-04  2453.429932   30.270020\n",
       "2007-01-05  2434.250000  -19.179932\n",
       "2007-01-08  2438.199951    3.949951\n",
       "2007-01-09  2443.830078    5.630127"
      ]
     },
     "execution_count": 19,
     "metadata": {},
     "output_type": "execute_result"
    }
   ],
   "source": [
    "df_nasdaq['close_diff'] = df_nasdaq['close'].diff()\n",
    "\n",
    "df_nasdaq[['close', 'close_diff']].head()"
   ]
  },
  {
   "cell_type": "markdown",
   "metadata": {},
   "source": [
    "In the example above, the value of `'close_diff'` on `2007-01-04` equals to `'close'` on `2007-01-04` minus `'close'` on `2007-01-03`, etc. The value on `2007-01-03` is a `NaN`, because **`diff()`** is not defined for the first row.\n",
    "\n",
    "For all rows, except the first, you can see that the value in the `'close_diff'` column is exactly the value in the `'close'` column in the same row, minus the value in the `'close'` column in the previous row. In the first row, you see a `NaN`, because _Pandas_ cannot calculate the difference between the first row and the row before that, because the latter does not exist.\n",
    "\n",
    "Next, we want to know at which date the drop of NASDAQ Composite was the largest. In other words, we are interested for which `'Date'`, the change in closing value was the smallest (i.e. the most negative). We can find this out with the Pandas function **`idxmin()`**."
   ]
  },
  {
   "cell_type": "code",
   "execution_count": 20,
   "metadata": {},
   "outputs": [
    {
     "data": {
      "text/plain": [
       "Timestamp('2016-06-24 00:00:00')"
      ]
     },
     "execution_count": 20,
     "metadata": {},
     "output_type": "execute_result"
    }
   ],
   "source": [
    "date_min = df_nasdaq['close_diff'].idxmin()\n",
    "date_min"
   ]
  },
  {
   "cell_type": "markdown",
   "metadata": {},
   "source": [
    "Apparently, the value drop was the largest on the 24th of June in 2016. Let us see what the drop actually was."
   ]
  },
  {
   "cell_type": "code",
   "execution_count": 21,
   "metadata": {},
   "outputs": [
    {
     "data": {
      "text/plain": [
       "-202.06005900000036"
      ]
     },
     "execution_count": 21,
     "metadata": {},
     "output_type": "execute_result"
    }
   ],
   "source": [
    "df_nasdaq.loc[date_min, 'close_diff']"
   ]
  },
  {
   "cell_type": "markdown",
   "metadata": {},
   "source": [
    "Similarly, we can find out the date with the largest increase of NASDAQ Composite by using the Pandas function **`idxmax()`**."
   ]
  },
  {
   "cell_type": "code",
   "execution_count": 22,
   "metadata": {},
   "outputs": [
    {
     "data": {
      "text/plain": [
       "Timestamp('2008-10-13 00:00:00')"
      ]
     },
     "execution_count": 22,
     "metadata": {},
     "output_type": "execute_result"
    }
   ],
   "source": [
    "date_max = df_nasdaq['close_diff'].idxmax()\n",
    "date_max"
   ]
  },
  {
   "cell_type": "markdown",
   "metadata": {},
   "source": [
    "If we sum all the differences up to a particular row, we should get back the difference between the value in that row and the value in the initial row. We can compute such a _cumulative sum_ with the _Pandas_ function **`cumsum()`**. We add the column with cumulative sums to the dataframe as a new column labeled `'close_diff_cumulative'`. We also add a column labeled `'change_since_beginning'` in which we directly calculate the difference between the current value and the first value. The last two columns should then have the same values."
   ]
  },
  {
   "cell_type": "code",
   "execution_count": 23,
   "metadata": {},
   "outputs": [
    {
     "data": {
      "text/html": [
       "<div>\n",
       "<style scoped>\n",
       "    .dataframe tbody tr th:only-of-type {\n",
       "        vertical-align: middle;\n",
       "    }\n",
       "\n",
       "    .dataframe tbody tr th {\n",
       "        vertical-align: top;\n",
       "    }\n",
       "\n",
       "    .dataframe thead th {\n",
       "        text-align: right;\n",
       "    }\n",
       "</style>\n",
       "<table border=\"1\" class=\"dataframe\">\n",
       "  <thead>\n",
       "    <tr style=\"text-align: right;\">\n",
       "      <th></th>\n",
       "      <th>close</th>\n",
       "      <th>close_diff</th>\n",
       "      <th>close_diff_cumulative</th>\n",
       "      <th>change_since_beginning</th>\n",
       "    </tr>\n",
       "    <tr>\n",
       "      <th>Date</th>\n",
       "      <th></th>\n",
       "      <th></th>\n",
       "      <th></th>\n",
       "      <th></th>\n",
       "    </tr>\n",
       "  </thead>\n",
       "  <tbody>\n",
       "    <tr>\n",
       "      <th>2007-01-03</th>\n",
       "      <td>2423.159912</td>\n",
       "      <td>NaN</td>\n",
       "      <td>NaN</td>\n",
       "      <td>0.000000</td>\n",
       "    </tr>\n",
       "    <tr>\n",
       "      <th>2007-01-04</th>\n",
       "      <td>2453.429932</td>\n",
       "      <td>30.270020</td>\n",
       "      <td>30.270020</td>\n",
       "      <td>30.270020</td>\n",
       "    </tr>\n",
       "    <tr>\n",
       "      <th>2007-01-05</th>\n",
       "      <td>2434.250000</td>\n",
       "      <td>-19.179932</td>\n",
       "      <td>11.090088</td>\n",
       "      <td>11.090088</td>\n",
       "    </tr>\n",
       "    <tr>\n",
       "      <th>2007-01-08</th>\n",
       "      <td>2438.199951</td>\n",
       "      <td>3.949951</td>\n",
       "      <td>15.040039</td>\n",
       "      <td>15.040039</td>\n",
       "    </tr>\n",
       "    <tr>\n",
       "      <th>2007-01-09</th>\n",
       "      <td>2443.830078</td>\n",
       "      <td>5.630127</td>\n",
       "      <td>20.670166</td>\n",
       "      <td>20.670166</td>\n",
       "    </tr>\n",
       "  </tbody>\n",
       "</table>\n",
       "</div>"
      ],
      "text/plain": [
       "                  close  close_diff  close_diff_cumulative  \\\n",
       "Date                                                         \n",
       "2007-01-03  2423.159912         NaN                    NaN   \n",
       "2007-01-04  2453.429932   30.270020              30.270020   \n",
       "2007-01-05  2434.250000  -19.179932              11.090088   \n",
       "2007-01-08  2438.199951    3.949951              15.040039   \n",
       "2007-01-09  2443.830078    5.630127              20.670166   \n",
       "\n",
       "            change_since_beginning  \n",
       "Date                                \n",
       "2007-01-03                0.000000  \n",
       "2007-01-04               30.270020  \n",
       "2007-01-05               11.090088  \n",
       "2007-01-08               15.040039  \n",
       "2007-01-09               20.670166  "
      ]
     },
     "execution_count": 23,
     "metadata": {},
     "output_type": "execute_result"
    }
   ],
   "source": [
    "df_nasdaq['close_diff_cumulative'] = df_nasdaq['close_diff'].cumsum()\n",
    "df_nasdaq['change_since_beginning'] = df_nasdaq['close'] - df_nasdaq['close'].iloc[0]\n",
    "df_nasdaq[['close','close_diff','close_diff_cumulative','change_since_beginning']].head()"
   ]
  },
  {
   "cell_type": "markdown",
   "metadata": {},
   "source": [
    "The values in the last two columns indeed coincide (except for the first row due to the `NaN`s). Note that we used `.iloc[0]` to refer to the first row in `df_nasdaq`, which is equivalent to `.loc[df_nasdaq.index[0]]`."
   ]
  },
  {
   "cell_type": "markdown",
   "metadata": {},
   "source": [
    "To get an impression of how volatile the NASDAQ Composite is, we may also be interested in the total absolute change up to a particular date. To get the absolute change from `'close_diff'` we could use the _Pandas_ function `abs()`, however, for the exercises later it is helpful if we show an alternative way."
   ]
  },
  {
   "cell_type": "code",
   "execution_count": 24,
   "metadata": {},
   "outputs": [
    {
     "data": {
      "text/html": [
       "<div>\n",
       "<style scoped>\n",
       "    .dataframe tbody tr th:only-of-type {\n",
       "        vertical-align: middle;\n",
       "    }\n",
       "\n",
       "    .dataframe tbody tr th {\n",
       "        vertical-align: top;\n",
       "    }\n",
       "\n",
       "    .dataframe thead th {\n",
       "        text-align: right;\n",
       "    }\n",
       "</style>\n",
       "<table border=\"1\" class=\"dataframe\">\n",
       "  <thead>\n",
       "    <tr style=\"text-align: right;\">\n",
       "      <th></th>\n",
       "      <th>close</th>\n",
       "      <th>close_diff</th>\n",
       "      <th>abs_change</th>\n",
       "      <th>total_abs_change</th>\n",
       "    </tr>\n",
       "    <tr>\n",
       "      <th>Date</th>\n",
       "      <th></th>\n",
       "      <th></th>\n",
       "      <th></th>\n",
       "      <th></th>\n",
       "    </tr>\n",
       "  </thead>\n",
       "  <tbody>\n",
       "    <tr>\n",
       "      <th>2017-12-22</th>\n",
       "      <td>6959.959961</td>\n",
       "      <td>-5.399902</td>\n",
       "      <td>5.399902</td>\n",
       "      <td>76266.365519</td>\n",
       "    </tr>\n",
       "    <tr>\n",
       "      <th>2017-12-26</th>\n",
       "      <td>6936.250000</td>\n",
       "      <td>-23.709961</td>\n",
       "      <td>23.709961</td>\n",
       "      <td>76290.075480</td>\n",
       "    </tr>\n",
       "    <tr>\n",
       "      <th>2017-12-27</th>\n",
       "      <td>6939.339844</td>\n",
       "      <td>3.089844</td>\n",
       "      <td>3.089844</td>\n",
       "      <td>76293.165324</td>\n",
       "    </tr>\n",
       "    <tr>\n",
       "      <th>2017-12-28</th>\n",
       "      <td>6950.160156</td>\n",
       "      <td>10.820312</td>\n",
       "      <td>10.820312</td>\n",
       "      <td>76303.985636</td>\n",
       "    </tr>\n",
       "    <tr>\n",
       "      <th>2017-12-29</th>\n",
       "      <td>6903.390137</td>\n",
       "      <td>-46.770019</td>\n",
       "      <td>46.770019</td>\n",
       "      <td>76350.755655</td>\n",
       "    </tr>\n",
       "  </tbody>\n",
       "</table>\n",
       "</div>"
      ],
      "text/plain": [
       "                  close  close_diff  abs_change  total_abs_change\n",
       "Date                                                             \n",
       "2017-12-22  6959.959961   -5.399902    5.399902      76266.365519\n",
       "2017-12-26  6936.250000  -23.709961   23.709961      76290.075480\n",
       "2017-12-27  6939.339844    3.089844    3.089844      76293.165324\n",
       "2017-12-28  6950.160156   10.820312   10.820312      76303.985636\n",
       "2017-12-29  6903.390137  -46.770019   46.770019      76350.755655"
      ]
     },
     "execution_count": 24,
     "metadata": {},
     "output_type": "execute_result"
    }
   ],
   "source": [
    "df_nasdaq['abs_change'] = (df_nasdaq['close_diff']**2)**(1/2)\n",
    "df_nasdaq['total_abs_change'] = df_nasdaq['abs_change'].cumsum()\n",
    "df_nasdaq[['close','close_diff','abs_change','total_abs_change']].tail()"
   ]
  },
  {
   "cell_type": "markdown",
   "metadata": {},
   "source": [
    "Note that we used here `.tail()` to show the last 5 rows of the dataframe."
   ]
  },
  {
   "cell_type": "markdown",
   "metadata": {},
   "source": [
    "### Exercise <span class=\"exercise\">1.f</span>\n",
    "\n",
    "Add a new column to the dataframe `df_last_path`, with the label `'segment_length'`, containing in every row the length of the line segment between the $(x,y)$-coordinate of the current row and the previous row. In the first row, manually set the value of `'segment_length'` to `0`.\n",
    "\n",
    "<span class=\"t\">Hint<span class=\"c\">:</span></span>\n",
    "<span class=\"h\">\n",
    "The first row in a dataframe `df` is not necessarily the one at index = 0, but rather the one at index = `df.index[0]`.\n",
    "</span>"
   ]
  },
  {
   "cell_type": "code",
   "execution_count": 25,
   "metadata": {},
   "outputs": [
    {
     "data": {
      "text/html": [
       "<div>\n",
       "<style scoped>\n",
       "    .dataframe tbody tr th:only-of-type {\n",
       "        vertical-align: middle;\n",
       "    }\n",
       "\n",
       "    .dataframe tbody tr th {\n",
       "        vertical-align: top;\n",
       "    }\n",
       "\n",
       "    .dataframe thead th {\n",
       "        text-align: right;\n",
       "    }\n",
       "</style>\n",
       "<table border=\"1\" class=\"dataframe\">\n",
       "  <thead>\n",
       "    <tr style=\"text-align: right;\">\n",
       "      <th></th>\n",
       "      <th>trial</th>\n",
       "      <th>t</th>\n",
       "      <th>x</th>\n",
       "      <th>y</th>\n",
       "      <th>filt_x</th>\n",
       "      <th>filt_y</th>\n",
       "      <th>filt_x_coarse</th>\n",
       "      <th>filt_y_coarse</th>\n",
       "      <th>med_filt_x</th>\n",
       "      <th>med_filt_y</th>\n",
       "      <th>med_filt_x_coarse</th>\n",
       "      <th>med_filt_y_coarse</th>\n",
       "      <th>segment_length</th>\n",
       "    </tr>\n",
       "  </thead>\n",
       "  <tbody>\n",
       "    <tr>\n",
       "      <th>885</th>\n",
       "      <td>17</td>\n",
       "      <td>0.000000</td>\n",
       "      <td>1</td>\n",
       "      <td>2</td>\n",
       "      <td>-17</td>\n",
       "      <td>12</td>\n",
       "      <td>-5</td>\n",
       "      <td>59</td>\n",
       "      <td>NaN</td>\n",
       "      <td>NaN</td>\n",
       "      <td>NaN</td>\n",
       "      <td>NaN</td>\n",
       "      <td>0.000000</td>\n",
       "    </tr>\n",
       "    <tr>\n",
       "      <th>886</th>\n",
       "      <td>17</td>\n",
       "      <td>0.771446</td>\n",
       "      <td>0</td>\n",
       "      <td>2</td>\n",
       "      <td>-18</td>\n",
       "      <td>12</td>\n",
       "      <td>-5</td>\n",
       "      <td>59</td>\n",
       "      <td>NaN</td>\n",
       "      <td>NaN</td>\n",
       "      <td>NaN</td>\n",
       "      <td>NaN</td>\n",
       "      <td>-0.236068</td>\n",
       "    </tr>\n",
       "    <tr>\n",
       "      <th>887</th>\n",
       "      <td>17</td>\n",
       "      <td>0.779367</td>\n",
       "      <td>-1</td>\n",
       "      <td>3</td>\n",
       "      <td>-19</td>\n",
       "      <td>13</td>\n",
       "      <td>-5</td>\n",
       "      <td>60</td>\n",
       "      <td>NaN</td>\n",
       "      <td>NaN</td>\n",
       "      <td>NaN</td>\n",
       "      <td>NaN</td>\n",
       "      <td>1.162278</td>\n",
       "    </tr>\n",
       "    <tr>\n",
       "      <th>888</th>\n",
       "      <td>17</td>\n",
       "      <td>0.787307</td>\n",
       "      <td>-2</td>\n",
       "      <td>3</td>\n",
       "      <td>-20</td>\n",
       "      <td>14</td>\n",
       "      <td>-5</td>\n",
       "      <td>60</td>\n",
       "      <td>NaN</td>\n",
       "      <td>NaN</td>\n",
       "      <td>NaN</td>\n",
       "      <td>NaN</td>\n",
       "      <td>0.443274</td>\n",
       "    </tr>\n",
       "    <tr>\n",
       "      <th>889</th>\n",
       "      <td>17</td>\n",
       "      <td>0.795360</td>\n",
       "      <td>-3</td>\n",
       "      <td>4</td>\n",
       "      <td>-21</td>\n",
       "      <td>14</td>\n",
       "      <td>-5</td>\n",
       "      <td>60</td>\n",
       "      <td>NaN</td>\n",
       "      <td>NaN</td>\n",
       "      <td>NaN</td>\n",
       "      <td>NaN</td>\n",
       "      <td>1.394449</td>\n",
       "    </tr>\n",
       "    <tr>\n",
       "      <th>890</th>\n",
       "      <td>17</td>\n",
       "      <td>0.803664</td>\n",
       "      <td>-4</td>\n",
       "      <td>4</td>\n",
       "      <td>-22</td>\n",
       "      <td>15</td>\n",
       "      <td>-5</td>\n",
       "      <td>61</td>\n",
       "      <td>NaN</td>\n",
       "      <td>NaN</td>\n",
       "      <td>NaN</td>\n",
       "      <td>NaN</td>\n",
       "      <td>0.656854</td>\n",
       "    </tr>\n",
       "    <tr>\n",
       "      <th>891</th>\n",
       "      <td>17</td>\n",
       "      <td>0.811846</td>\n",
       "      <td>-5</td>\n",
       "      <td>5</td>\n",
       "      <td>-23</td>\n",
       "      <td>15</td>\n",
       "      <td>-5</td>\n",
       "      <td>61</td>\n",
       "      <td>NaN</td>\n",
       "      <td>NaN</td>\n",
       "      <td>NaN</td>\n",
       "      <td>NaN</td>\n",
       "      <td>1.414214</td>\n",
       "    </tr>\n",
       "    <tr>\n",
       "      <th>892</th>\n",
       "      <td>17</td>\n",
       "      <td>0.820060</td>\n",
       "      <td>-6</td>\n",
       "      <td>6</td>\n",
       "      <td>-24</td>\n",
       "      <td>16</td>\n",
       "      <td>-5</td>\n",
       "      <td>61</td>\n",
       "      <td>NaN</td>\n",
       "      <td>NaN</td>\n",
       "      <td>NaN</td>\n",
       "      <td>NaN</td>\n",
       "      <td>1.414214</td>\n",
       "    </tr>\n",
       "    <tr>\n",
       "      <th>893</th>\n",
       "      <td>17</td>\n",
       "      <td>0.828077</td>\n",
       "      <td>-7</td>\n",
       "      <td>6</td>\n",
       "      <td>-25</td>\n",
       "      <td>17</td>\n",
       "      <td>-5</td>\n",
       "      <td>62</td>\n",
       "      <td>NaN</td>\n",
       "      <td>NaN</td>\n",
       "      <td>NaN</td>\n",
       "      <td>NaN</td>\n",
       "      <td>0.734263</td>\n",
       "    </tr>\n",
       "    <tr>\n",
       "      <th>894</th>\n",
       "      <td>17</td>\n",
       "      <td>0.836352</td>\n",
       "      <td>-10</td>\n",
       "      <td>8</td>\n",
       "      <td>-26</td>\n",
       "      <td>17</td>\n",
       "      <td>-5</td>\n",
       "      <td>62</td>\n",
       "      <td>NaN</td>\n",
       "      <td>NaN</td>\n",
       "      <td>NaN</td>\n",
       "      <td>NaN</td>\n",
       "      <td>3.586704</td>\n",
       "    </tr>\n",
       "    <tr>\n",
       "      <th>895</th>\n",
       "      <td>17</td>\n",
       "      <td>0.844649</td>\n",
       "      <td>-11</td>\n",
       "      <td>9</td>\n",
       "      <td>-28</td>\n",
       "      <td>18</td>\n",
       "      <td>-5</td>\n",
       "      <td>62</td>\n",
       "      <td>NaN</td>\n",
       "      <td>NaN</td>\n",
       "      <td>NaN</td>\n",
       "      <td>NaN</td>\n",
       "      <td>1.406422</td>\n",
       "    </tr>\n",
       "    <tr>\n",
       "      <th>896</th>\n",
       "      <td>17</td>\n",
       "      <td>0.852706</td>\n",
       "      <td>-13</td>\n",
       "      <td>10</td>\n",
       "      <td>-29</td>\n",
       "      <td>19</td>\n",
       "      <td>-5</td>\n",
       "      <td>63</td>\n",
       "      <td>NaN</td>\n",
       "      <td>NaN</td>\n",
       "      <td>NaN</td>\n",
       "      <td>NaN</td>\n",
       "      <td>2.188549</td>\n",
       "    </tr>\n",
       "    <tr>\n",
       "      <th>897</th>\n",
       "      <td>17</td>\n",
       "      <td>0.861054</td>\n",
       "      <td>-15</td>\n",
       "      <td>11</td>\n",
       "      <td>-30</td>\n",
       "      <td>19</td>\n",
       "      <td>-5</td>\n",
       "      <td>63</td>\n",
       "      <td>NaN</td>\n",
       "      <td>NaN</td>\n",
       "      <td>NaN</td>\n",
       "      <td>NaN</td>\n",
       "      <td>2.199856</td>\n",
       "    </tr>\n",
       "    <tr>\n",
       "      <th>898</th>\n",
       "      <td>17</td>\n",
       "      <td>0.869181</td>\n",
       "      <td>-18</td>\n",
       "      <td>13</td>\n",
       "      <td>-31</td>\n",
       "      <td>20</td>\n",
       "      <td>-5</td>\n",
       "      <td>63</td>\n",
       "      <td>NaN</td>\n",
       "      <td>NaN</td>\n",
       "      <td>NaN</td>\n",
       "      <td>NaN</td>\n",
       "      <td>3.602528</td>\n",
       "    </tr>\n",
       "    <tr>\n",
       "      <th>899</th>\n",
       "      <td>17</td>\n",
       "      <td>0.877571</td>\n",
       "      <td>-20</td>\n",
       "      <td>14</td>\n",
       "      <td>-32</td>\n",
       "      <td>21</td>\n",
       "      <td>-5</td>\n",
       "      <td>64</td>\n",
       "      <td>NaN</td>\n",
       "      <td>NaN</td>\n",
       "      <td>NaN</td>\n",
       "      <td>NaN</td>\n",
       "      <td>2.209508</td>\n",
       "    </tr>\n",
       "    <tr>\n",
       "      <th>900</th>\n",
       "      <td>17</td>\n",
       "      <td>0.885557</td>\n",
       "      <td>-24</td>\n",
       "      <td>16</td>\n",
       "      <td>-34</td>\n",
       "      <td>22</td>\n",
       "      <td>-5</td>\n",
       "      <td>64</td>\n",
       "      <td>NaN</td>\n",
       "      <td>NaN</td>\n",
       "      <td>NaN</td>\n",
       "      <td>NaN</td>\n",
       "      <td>4.431299</td>\n",
       "    </tr>\n",
       "    <tr>\n",
       "      <th>901</th>\n",
       "      <td>17</td>\n",
       "      <td>0.894186</td>\n",
       "      <td>-27</td>\n",
       "      <td>18</td>\n",
       "      <td>-35</td>\n",
       "      <td>22</td>\n",
       "      <td>-5</td>\n",
       "      <td>64</td>\n",
       "      <td>NaN</td>\n",
       "      <td>NaN</td>\n",
       "      <td>NaN</td>\n",
       "      <td>NaN</td>\n",
       "      <td>3.605551</td>\n",
       "    </tr>\n",
       "    <tr>\n",
       "      <th>902</th>\n",
       "      <td>17</td>\n",
       "      <td>0.902269</td>\n",
       "      <td>-30</td>\n",
       "      <td>20</td>\n",
       "      <td>-36</td>\n",
       "      <td>23</td>\n",
       "      <td>-5</td>\n",
       "      <td>65</td>\n",
       "      <td>NaN</td>\n",
       "      <td>NaN</td>\n",
       "      <td>NaN</td>\n",
       "      <td>NaN</td>\n",
       "      <td>3.605551</td>\n",
       "    </tr>\n",
       "    <tr>\n",
       "      <th>903</th>\n",
       "      <td>17</td>\n",
       "      <td>0.910352</td>\n",
       "      <td>-33</td>\n",
       "      <td>22</td>\n",
       "      <td>-37</td>\n",
       "      <td>24</td>\n",
       "      <td>-5</td>\n",
       "      <td>65</td>\n",
       "      <td>NaN</td>\n",
       "      <td>NaN</td>\n",
       "      <td>NaN</td>\n",
       "      <td>NaN</td>\n",
       "      <td>3.605551</td>\n",
       "    </tr>\n",
       "    <tr>\n",
       "      <th>904</th>\n",
       "      <td>17</td>\n",
       "      <td>0.918477</td>\n",
       "      <td>-36</td>\n",
       "      <td>24</td>\n",
       "      <td>-38</td>\n",
       "      <td>25</td>\n",
       "      <td>-5</td>\n",
       "      <td>65</td>\n",
       "      <td>NaN</td>\n",
       "      <td>NaN</td>\n",
       "      <td>NaN</td>\n",
       "      <td>NaN</td>\n",
       "      <td>3.605551</td>\n",
       "    </tr>\n",
       "  </tbody>\n",
       "</table>\n",
       "</div>"
      ],
      "text/plain": [
       "     trial         t   x   y  filt_x  filt_y  filt_x_coarse  filt_y_coarse  \\\n",
       "885     17  0.000000   1   2     -17      12             -5             59   \n",
       "886     17  0.771446   0   2     -18      12             -5             59   \n",
       "887     17  0.779367  -1   3     -19      13             -5             60   \n",
       "888     17  0.787307  -2   3     -20      14             -5             60   \n",
       "889     17  0.795360  -3   4     -21      14             -5             60   \n",
       "890     17  0.803664  -4   4     -22      15             -5             61   \n",
       "891     17  0.811846  -5   5     -23      15             -5             61   \n",
       "892     17  0.820060  -6   6     -24      16             -5             61   \n",
       "893     17  0.828077  -7   6     -25      17             -5             62   \n",
       "894     17  0.836352 -10   8     -26      17             -5             62   \n",
       "895     17  0.844649 -11   9     -28      18             -5             62   \n",
       "896     17  0.852706 -13  10     -29      19             -5             63   \n",
       "897     17  0.861054 -15  11     -30      19             -5             63   \n",
       "898     17  0.869181 -18  13     -31      20             -5             63   \n",
       "899     17  0.877571 -20  14     -32      21             -5             64   \n",
       "900     17  0.885557 -24  16     -34      22             -5             64   \n",
       "901     17  0.894186 -27  18     -35      22             -5             64   \n",
       "902     17  0.902269 -30  20     -36      23             -5             65   \n",
       "903     17  0.910352 -33  22     -37      24             -5             65   \n",
       "904     17  0.918477 -36  24     -38      25             -5             65   \n",
       "\n",
       "     med_filt_x  med_filt_y  med_filt_x_coarse  med_filt_y_coarse  \\\n",
       "885         NaN         NaN                NaN                NaN   \n",
       "886         NaN         NaN                NaN                NaN   \n",
       "887         NaN         NaN                NaN                NaN   \n",
       "888         NaN         NaN                NaN                NaN   \n",
       "889         NaN         NaN                NaN                NaN   \n",
       "890         NaN         NaN                NaN                NaN   \n",
       "891         NaN         NaN                NaN                NaN   \n",
       "892         NaN         NaN                NaN                NaN   \n",
       "893         NaN         NaN                NaN                NaN   \n",
       "894         NaN         NaN                NaN                NaN   \n",
       "895         NaN         NaN                NaN                NaN   \n",
       "896         NaN         NaN                NaN                NaN   \n",
       "897         NaN         NaN                NaN                NaN   \n",
       "898         NaN         NaN                NaN                NaN   \n",
       "899         NaN         NaN                NaN                NaN   \n",
       "900         NaN         NaN                NaN                NaN   \n",
       "901         NaN         NaN                NaN                NaN   \n",
       "902         NaN         NaN                NaN                NaN   \n",
       "903         NaN         NaN                NaN                NaN   \n",
       "904         NaN         NaN                NaN                NaN   \n",
       "\n",
       "     segment_length  \n",
       "885        0.000000  \n",
       "886       -0.236068  \n",
       "887        1.162278  \n",
       "888        0.443274  \n",
       "889        1.394449  \n",
       "890        0.656854  \n",
       "891        1.414214  \n",
       "892        1.414214  \n",
       "893        0.734263  \n",
       "894        3.586704  \n",
       "895        1.406422  \n",
       "896        2.188549  \n",
       "897        2.199856  \n",
       "898        3.602528  \n",
       "899        2.209508  \n",
       "900        4.431299  \n",
       "901        3.605551  \n",
       "902        3.605551  \n",
       "903        3.605551  \n",
       "904        3.605551  "
      ]
     },
     "execution_count": 25,
     "metadata": {},
     "output_type": "execute_result"
    }
   ],
   "source": [
    "#// BEGIN_TODO [DAS_1f] Lengths of line segments (1 point)\n",
    "\n",
    "df_last_path['segment_length'] = ((df_last_path['x']**2) + (df_last_path['y']**2))**(0.5)\n",
    "\n",
    "df_last_path['segment_length'] = df_last_path['segment_length'].diff()\n",
    "\n",
    "df_last_path.loc[885, 'segment_length'] = 0\n",
    "\n",
    "#// END_TODO [DAS_1f]\n",
    "\n",
    "df_last_path.head(20)"
   ]
  },
  {
   "cell_type": "markdown",
   "metadata": {},
   "source": [
    "### Exercise <span class=\"exercise\">1.g</span>\n",
    "\n",
    "Find the index in `df_last_path` at which the `'segment_length'` was longest. Assign your answer to the variable `i_longest_segment`."
   ]
  },
  {
   "cell_type": "code",
   "execution_count": 26,
   "metadata": {},
   "outputs": [
    {
     "data": {
      "text/plain": [
       "907"
      ]
     },
     "execution_count": 26,
     "metadata": {},
     "output_type": "execute_result"
    }
   ],
   "source": [
    "#// BEGIN_TODO [DAS_1g] Longest segment (1 point)\n",
    "\n",
    "i_longest_segment = df_last_path['segment_length'].idxmax()\n",
    "\n",
    "#// END_TODO [DAS_1g]\n",
    "\n",
    "i_longest_segment"
   ]
  },
  {
   "cell_type": "markdown",
   "metadata": {},
   "source": [
    "### Exercise <span class=\"exercise\">1.h</span>\n",
    "\n",
    "Add a new column named `'path_length'` to `df_last_path`, containing in every row the cumulative sum of the line segments so far."
   ]
  },
  {
   "cell_type": "code",
   "execution_count": 27,
   "metadata": {},
   "outputs": [
    {
     "data": {
      "text/html": [
       "<div>\n",
       "<style scoped>\n",
       "    .dataframe tbody tr th:only-of-type {\n",
       "        vertical-align: middle;\n",
       "    }\n",
       "\n",
       "    .dataframe tbody tr th {\n",
       "        vertical-align: top;\n",
       "    }\n",
       "\n",
       "    .dataframe thead th {\n",
       "        text-align: right;\n",
       "    }\n",
       "</style>\n",
       "<table border=\"1\" class=\"dataframe\">\n",
       "  <thead>\n",
       "    <tr style=\"text-align: right;\">\n",
       "      <th></th>\n",
       "      <th>trial</th>\n",
       "      <th>t</th>\n",
       "      <th>x</th>\n",
       "      <th>y</th>\n",
       "      <th>filt_x</th>\n",
       "      <th>filt_y</th>\n",
       "      <th>filt_x_coarse</th>\n",
       "      <th>filt_y_coarse</th>\n",
       "      <th>med_filt_x</th>\n",
       "      <th>med_filt_y</th>\n",
       "      <th>med_filt_x_coarse</th>\n",
       "      <th>med_filt_y_coarse</th>\n",
       "      <th>segment_length</th>\n",
       "      <th>path_length</th>\n",
       "    </tr>\n",
       "  </thead>\n",
       "  <tbody>\n",
       "    <tr>\n",
       "      <th>885</th>\n",
       "      <td>17</td>\n",
       "      <td>0.000000</td>\n",
       "      <td>1</td>\n",
       "      <td>2</td>\n",
       "      <td>-17</td>\n",
       "      <td>12</td>\n",
       "      <td>-5</td>\n",
       "      <td>59</td>\n",
       "      <td>NaN</td>\n",
       "      <td>NaN</td>\n",
       "      <td>NaN</td>\n",
       "      <td>NaN</td>\n",
       "      <td>0.000000</td>\n",
       "      <td>0.000000</td>\n",
       "    </tr>\n",
       "    <tr>\n",
       "      <th>886</th>\n",
       "      <td>17</td>\n",
       "      <td>0.771446</td>\n",
       "      <td>0</td>\n",
       "      <td>2</td>\n",
       "      <td>-18</td>\n",
       "      <td>12</td>\n",
       "      <td>-5</td>\n",
       "      <td>59</td>\n",
       "      <td>NaN</td>\n",
       "      <td>NaN</td>\n",
       "      <td>NaN</td>\n",
       "      <td>NaN</td>\n",
       "      <td>-0.236068</td>\n",
       "      <td>-0.236068</td>\n",
       "    </tr>\n",
       "    <tr>\n",
       "      <th>887</th>\n",
       "      <td>17</td>\n",
       "      <td>0.779367</td>\n",
       "      <td>-1</td>\n",
       "      <td>3</td>\n",
       "      <td>-19</td>\n",
       "      <td>13</td>\n",
       "      <td>-5</td>\n",
       "      <td>60</td>\n",
       "      <td>NaN</td>\n",
       "      <td>NaN</td>\n",
       "      <td>NaN</td>\n",
       "      <td>NaN</td>\n",
       "      <td>1.162278</td>\n",
       "      <td>0.926210</td>\n",
       "    </tr>\n",
       "    <tr>\n",
       "      <th>888</th>\n",
       "      <td>17</td>\n",
       "      <td>0.787307</td>\n",
       "      <td>-2</td>\n",
       "      <td>3</td>\n",
       "      <td>-20</td>\n",
       "      <td>14</td>\n",
       "      <td>-5</td>\n",
       "      <td>60</td>\n",
       "      <td>NaN</td>\n",
       "      <td>NaN</td>\n",
       "      <td>NaN</td>\n",
       "      <td>NaN</td>\n",
       "      <td>0.443274</td>\n",
       "      <td>1.369483</td>\n",
       "    </tr>\n",
       "    <tr>\n",
       "      <th>889</th>\n",
       "      <td>17</td>\n",
       "      <td>0.795360</td>\n",
       "      <td>-3</td>\n",
       "      <td>4</td>\n",
       "      <td>-21</td>\n",
       "      <td>14</td>\n",
       "      <td>-5</td>\n",
       "      <td>60</td>\n",
       "      <td>NaN</td>\n",
       "      <td>NaN</td>\n",
       "      <td>NaN</td>\n",
       "      <td>NaN</td>\n",
       "      <td>1.394449</td>\n",
       "      <td>2.763932</td>\n",
       "    </tr>\n",
       "  </tbody>\n",
       "</table>\n",
       "</div>"
      ],
      "text/plain": [
       "     trial         t  x  y  filt_x  filt_y  filt_x_coarse  filt_y_coarse  \\\n",
       "885     17  0.000000  1  2     -17      12             -5             59   \n",
       "886     17  0.771446  0  2     -18      12             -5             59   \n",
       "887     17  0.779367 -1  3     -19      13             -5             60   \n",
       "888     17  0.787307 -2  3     -20      14             -5             60   \n",
       "889     17  0.795360 -3  4     -21      14             -5             60   \n",
       "\n",
       "     med_filt_x  med_filt_y  med_filt_x_coarse  med_filt_y_coarse  \\\n",
       "885         NaN         NaN                NaN                NaN   \n",
       "886         NaN         NaN                NaN                NaN   \n",
       "887         NaN         NaN                NaN                NaN   \n",
       "888         NaN         NaN                NaN                NaN   \n",
       "889         NaN         NaN                NaN                NaN   \n",
       "\n",
       "     segment_length  path_length  \n",
       "885        0.000000     0.000000  \n",
       "886       -0.236068    -0.236068  \n",
       "887        1.162278     0.926210  \n",
       "888        0.443274     1.369483  \n",
       "889        1.394449     2.763932  "
      ]
     },
     "execution_count": 27,
     "metadata": {},
     "output_type": "execute_result"
    }
   ],
   "source": [
    "#// BEGIN_TODO [DAS_1h] Compute path length (1 point)\n",
    "\n",
    "df_last_path['path_length'] = df_last_path['segment_length'].cumsum()\n",
    "\n",
    "#// END_TODO [DAS_1h]\n",
    "\n",
    "df_last_path.head()"
   ]
  },
  {
   "cell_type": "markdown",
   "metadata": {},
   "source": [
    "The next step will be to estimate the speed of the trajectory at any given moment. For this, we need to know more about how to approximate derivatives."
   ]
  },
  {
   "cell_type": "markdown",
   "metadata": {},
   "source": [
    "## Approximating derivatives and finding trends\n",
    "\n",
    "Suppose now that we are interested in finding some trends in the stock data. For instance, we want to find periods in which the NASDAQ index was generally increasing and periods in which it was decreasing. We could try to plot the differences between consecutive days in closing prices, but this signal is so volatile that it is impossible to extract some useful information out of it:"
   ]
  },
  {
   "cell_type": "code",
   "execution_count": 28,
   "metadata": {},
   "outputs": [
    {
     "data": {
      "image/png": "[encoded data removed]",
      "text/plain": [
       "<Figure size 720x360 with 1 Axes>"
      ]
     },
     "metadata": {},
     "output_type": "display_data"
    }
   ],
   "source": [
    "ax_marg = df_nasdaq['close_diff'].plot()\n",
    "ax_marg.set_ylabel('Change in index')\n",
    "ax_marg.set_title('Change in index between consecutive days');"
   ]
  },
  {
   "cell_type": "markdown",
   "metadata": {},
   "source": [
    "You can use filtering to find an averaged derivative of the signal over a certain time window. For this, we apply a higher-order Gaussian filter to the original time signal. We indicate that we want a first-order filter by specifying the keyword argument `order=1`. (In general, `order=n` gives an approximation of the `n`th derivatives. The default value is `order=0`, which just gives an approximation to the original function.) We choose a standard deviation `sigma=30` for the Gaussian filter to average the derivatives over a time period of approximately a month."
   ]
  },
  {
   "cell_type": "code",
   "execution_count": 29,
   "metadata": {},
   "outputs": [
    {
     "data": {
      "text/html": [
       "<div>\n",
       "<style scoped>\n",
       "    .dataframe tbody tr th:only-of-type {\n",
       "        vertical-align: middle;\n",
       "    }\n",
       "\n",
       "    .dataframe tbody tr th {\n",
       "        vertical-align: top;\n",
       "    }\n",
       "\n",
       "    .dataframe thead th {\n",
       "        text-align: right;\n",
       "    }\n",
       "</style>\n",
       "<table border=\"1\" class=\"dataframe\">\n",
       "  <thead>\n",
       "    <tr style=\"text-align: right;\">\n",
       "      <th></th>\n",
       "      <th>close</th>\n",
       "      <th>close_filtered</th>\n",
       "      <th>median_filtered</th>\n",
       "      <th>close_diff</th>\n",
       "      <th>close_diff_cumulative</th>\n",
       "      <th>change_since_beginning</th>\n",
       "      <th>abs_change</th>\n",
       "      <th>total_abs_change</th>\n",
       "      <th>close_filtered_deriv</th>\n",
       "    </tr>\n",
       "    <tr>\n",
       "      <th>Date</th>\n",
       "      <th></th>\n",
       "      <th></th>\n",
       "      <th></th>\n",
       "      <th></th>\n",
       "      <th></th>\n",
       "      <th></th>\n",
       "      <th></th>\n",
       "      <th></th>\n",
       "      <th></th>\n",
       "    </tr>\n",
       "  </thead>\n",
       "  <tbody>\n",
       "    <tr>\n",
       "      <th>2007-01-03</th>\n",
       "      <td>2423.159912</td>\n",
       "      <td>2438.967378</td>\n",
       "      <td>NaN</td>\n",
       "      <td>NaN</td>\n",
       "      <td>NaN</td>\n",
       "      <td>0.000000</td>\n",
       "      <td>NaN</td>\n",
       "      <td>NaN</td>\n",
       "      <td>0.386445</td>\n",
       "    </tr>\n",
       "    <tr>\n",
       "      <th>2007-01-04</th>\n",
       "      <td>2453.429932</td>\n",
       "      <td>2439.354293</td>\n",
       "      <td>NaN</td>\n",
       "      <td>30.270020</td>\n",
       "      <td>30.270020</td>\n",
       "      <td>30.270020</td>\n",
       "      <td>30.270020</td>\n",
       "      <td>30.270020</td>\n",
       "      <td>0.385847</td>\n",
       "    </tr>\n",
       "    <tr>\n",
       "      <th>2007-01-05</th>\n",
       "      <td>2434.250000</td>\n",
       "      <td>2439.740575</td>\n",
       "      <td>NaN</td>\n",
       "      <td>-19.179932</td>\n",
       "      <td>11.090088</td>\n",
       "      <td>11.090088</td>\n",
       "      <td>19.179932</td>\n",
       "      <td>49.449952</td>\n",
       "      <td>0.385161</td>\n",
       "    </tr>\n",
       "    <tr>\n",
       "      <th>2007-01-08</th>\n",
       "      <td>2438.199951</td>\n",
       "      <td>2440.126123</td>\n",
       "      <td>NaN</td>\n",
       "      <td>3.949951</td>\n",
       "      <td>15.040039</td>\n",
       "      <td>15.040039</td>\n",
       "      <td>3.949951</td>\n",
       "      <td>53.399903</td>\n",
       "      <td>0.384430</td>\n",
       "    </tr>\n",
       "    <tr>\n",
       "      <th>2007-01-09</th>\n",
       "      <td>2443.830078</td>\n",
       "      <td>2440.511070</td>\n",
       "      <td>2438.199951</td>\n",
       "      <td>5.630127</td>\n",
       "      <td>20.670166</td>\n",
       "      <td>20.670166</td>\n",
       "      <td>5.630127</td>\n",
       "      <td>59.030030</td>\n",
       "      <td>0.383726</td>\n",
       "    </tr>\n",
       "  </tbody>\n",
       "</table>\n",
       "</div>"
      ],
      "text/plain": [
       "                  close  close_filtered  median_filtered  close_diff  \\\n",
       "Date                                                                   \n",
       "2007-01-03  2423.159912     2438.967378              NaN         NaN   \n",
       "2007-01-04  2453.429932     2439.354293              NaN   30.270020   \n",
       "2007-01-05  2434.250000     2439.740575              NaN  -19.179932   \n",
       "2007-01-08  2438.199951     2440.126123              NaN    3.949951   \n",
       "2007-01-09  2443.830078     2440.511070      2438.199951    5.630127   \n",
       "\n",
       "            close_diff_cumulative  change_since_beginning  abs_change  \\\n",
       "Date                                                                    \n",
       "2007-01-03                    NaN                0.000000         NaN   \n",
       "2007-01-04              30.270020               30.270020   30.270020   \n",
       "2007-01-05              11.090088               11.090088   19.179932   \n",
       "2007-01-08              15.040039               15.040039    3.949951   \n",
       "2007-01-09              20.670166               20.670166    5.630127   \n",
       "\n",
       "            total_abs_change  close_filtered_deriv  \n",
       "Date                                                \n",
       "2007-01-03               NaN              0.386445  \n",
       "2007-01-04         30.270020              0.385847  \n",
       "2007-01-05         49.449952              0.385161  \n",
       "2007-01-08         53.399903              0.384430  \n",
       "2007-01-09         59.030030              0.383726  "
      ]
     },
     "execution_count": 29,
     "metadata": {},
     "output_type": "execute_result"
    }
   ],
   "source": [
    "df_nasdaq['close_filtered_deriv'] = gaussian_filter1d(df_nasdaq['close'], sigma=30, order=1, mode='nearest')\n",
    "df_nasdaq.head()"
   ]
  },
  {
   "cell_type": "markdown",
   "metadata": {},
   "source": [
    "We visualize the approximate derivative in the graph below."
   ]
  },
  {
   "cell_type": "code",
   "execution_count": 30,
   "metadata": {},
   "outputs": [
    {
     "data": {
      "image/png": "[encoded data removed]",
      "text/plain": [
       "<Figure size 720x360 with 1 Axes>"
      ]
     },
     "metadata": {},
     "output_type": "display_data"
    }
   ],
   "source": [
    "ax_deriv = df_nasdaq['close_filtered_deriv'].plot()\n",
    "ax_deriv.set_title('Approximate derivative of NASDAQ index', fontsize=16);\n",
    "ax_deriv.set_ylabel('Change in index per day');"
   ]
  },
  {
   "cell_type": "markdown",
   "metadata": {},
   "source": [
    "### Exercise <span class=\"exercise\" id=\"approximate_speed\">1.i</span>\n",
    "\n",
    "Approximate the _speed_ (in pixels per ms) of the trajectory in `df_last_path` by applying a Gaussian filter of order $1$ to the path length. Store the result in a column `'approximate_speed'`. Use a standard deviation of $25$ ms.\n",
    "Plot the result."
   ]
  },
  {
   "cell_type": "code",
   "execution_count": 31,
   "metadata": {},
   "outputs": [
    {
     "data": {
      "text/plain": [
       "1192    0.197955\n",
       "1193    0.193337\n",
       "1194    0.188630\n",
       "1195    0.183845\n",
       "1196    0.178990\n",
       "Name: approximate_speed, dtype: float64"
      ]
     },
     "execution_count": 31,
     "metadata": {},
     "output_type": "execute_result"
    },
    {
     "data": {
      "image/png": "[encoded data removed]",
      "text/plain": [
       "<Figure size 720x360 with 1 Axes>"
      ]
     },
     "metadata": {},
     "output_type": "display_data"
    }
   ],
   "source": [
    "#// BEGIN_TODO [DAS_1i] Compute approximate speed (1 point)\n",
    "\n",
    "df_last_path['approximate_speed'] = gaussian_filter1d(df_last_path['path_length'], sigma = 25, order = 1, mode = 'nearest')\n",
    "\n",
    "ax_speed = df_last_path['approximate_speed'].plot()\n",
    "\n",
    "#// END_TODO [DAS_1i]\n",
    "\n",
    "df_last_path.approximate_speed.tail()"
   ]
  },
  {
   "cell_type": "markdown",
   "metadata": {},
   "source": [
    "# <span class=\"section\">2.</span> Data aggregation\n",
    "\n",
    "In this section, we will compute more features of the data and introduce some very powerful _Pandas_ techniques:\n",
    "\n",
    "* **Multi-level indexing**\n",
    "* **Advanced data aggregation** with the function **`agg()`**\n",
    "* **Joining** two dataframes with the function **`join()`**\n",
    "* **Applying** a function, Series or dictionary to another Series with the function **`map()`**\n",
    "\n",
    "Master these techniques, and you will be a truly skilled _Pandas_ user.\n",
    "\n",
    "We work with the mouse trajectory data that was collected during the mouse experiment, which we load and prepare first. "
   ]
  },
  {
   "cell_type": "markdown",
   "metadata": {},
   "source": [
    "## Data preparation"
   ]
  },
  {
   "cell_type": "markdown",
   "metadata": {},
   "source": [
    "### Data: mouse trajectories\n",
    "\n",
    "The actual trajectories are stored in `'datasets/fitts.csv'`, which we read into the dataframe `df_fitts`. To create this file, we have processed recorded trajectories as in the previous section."
   ]
  },
  {
   "cell_type": "code",
   "execution_count": 32,
   "metadata": {},
   "outputs": [
    {
     "data": {
      "text/html": [
       "<div>\n",
       "<style scoped>\n",
       "    .dataframe tbody tr th:only-of-type {\n",
       "        vertical-align: middle;\n",
       "    }\n",
       "\n",
       "    .dataframe tbody tr th {\n",
       "        vertical-align: top;\n",
       "    }\n",
       "\n",
       "    .dataframe thead th {\n",
       "        text-align: right;\n",
       "    }\n",
       "</style>\n",
       "<table border=\"1\" class=\"dataframe\">\n",
       "  <thead>\n",
       "    <tr style=\"text-align: right;\">\n",
       "      <th></th>\n",
       "      <th>user</th>\n",
       "      <th>trial</th>\n",
       "      <th>t</th>\n",
       "      <th>x</th>\n",
       "      <th>y</th>\n",
       "      <th>path_length</th>\n",
       "      <th>approximate_speed</th>\n",
       "    </tr>\n",
       "  </thead>\n",
       "  <tbody>\n",
       "    <tr>\n",
       "      <th>0</th>\n",
       "      <td>1164</td>\n",
       "      <td>5</td>\n",
       "      <td>0.00</td>\n",
       "      <td>-2.0</td>\n",
       "      <td>1.000000</td>\n",
       "      <td>0.000000</td>\n",
       "      <td>0.001584</td>\n",
       "    </tr>\n",
       "    <tr>\n",
       "      <th>1</th>\n",
       "      <td>1164</td>\n",
       "      <td>5</td>\n",
       "      <td>0.02</td>\n",
       "      <td>-2.0</td>\n",
       "      <td>0.936582</td>\n",
       "      <td>0.063418</td>\n",
       "      <td>0.002497</td>\n",
       "    </tr>\n",
       "    <tr>\n",
       "      <th>2</th>\n",
       "      <td>1164</td>\n",
       "      <td>5</td>\n",
       "      <td>0.04</td>\n",
       "      <td>-2.0</td>\n",
       "      <td>0.873164</td>\n",
       "      <td>0.126836</td>\n",
       "      <td>0.002995</td>\n",
       "    </tr>\n",
       "    <tr>\n",
       "      <th>3</th>\n",
       "      <td>1164</td>\n",
       "      <td>5</td>\n",
       "      <td>0.06</td>\n",
       "      <td>-2.0</td>\n",
       "      <td>0.809747</td>\n",
       "      <td>0.190253</td>\n",
       "      <td>0.003142</td>\n",
       "    </tr>\n",
       "    <tr>\n",
       "      <th>4</th>\n",
       "      <td>1164</td>\n",
       "      <td>5</td>\n",
       "      <td>0.08</td>\n",
       "      <td>-2.0</td>\n",
       "      <td>0.746329</td>\n",
       "      <td>0.253671</td>\n",
       "      <td>0.003166</td>\n",
       "    </tr>\n",
       "  </tbody>\n",
       "</table>\n",
       "</div>"
      ],
      "text/plain": [
       "   user  trial     t    x         y  path_length  approximate_speed\n",
       "0  1164      5  0.00 -2.0  1.000000     0.000000           0.001584\n",
       "1  1164      5  0.02 -2.0  0.936582     0.063418           0.002497\n",
       "2  1164      5  0.04 -2.0  0.873164     0.126836           0.002995\n",
       "3  1164      5  0.06 -2.0  0.809747     0.190253           0.003142\n",
       "4  1164      5  0.08 -2.0  0.746329     0.253671           0.003166"
      ]
     },
     "execution_count": 32,
     "metadata": {},
     "output_type": "execute_result"
    }
   ],
   "source": [
    "df_fitts = pd.read_csv('datasets/fitts.csv')\n",
    "df_fitts.head()"
   ]
  },
  {
   "cell_type": "markdown",
   "metadata": {},
   "source": [
    "The dataframe is very similar to the one of the previous section. The biggest difference is that it contains paths recorded by more than one user. Each user is assigned a unique number, which is stored in the **`'user'`** column."
   ]
  },
  {
   "cell_type": "markdown",
   "metadata": {},
   "source": [
    "### Multi-level indexing\n",
    "\n",
    "Every row is _uniquely_ identified by the **triple** of values in the `'user'`, `'trial'` and `'t'` column. The combination of this triple would make for an ideal index for the dataframe. Such an index that is made out of multiple components is called a **multi-level index** (sometimes called a hierarchical index or MultiIndex). We make the triple of columns `'user'`, `'trial'` and `'t'` into a multi-level index, by providing their names as a list to the `set_index()` function. "
   ]
  },
  {
   "cell_type": "code",
   "execution_count": 33,
   "metadata": {},
   "outputs": [
    {
     "data": {
      "text/html": [
       "<div>\n",
       "<style scoped>\n",
       "    .dataframe tbody tr th:only-of-type {\n",
       "        vertical-align: middle;\n",
       "    }\n",
       "\n",
       "    .dataframe tbody tr th {\n",
       "        vertical-align: top;\n",
       "    }\n",
       "\n",
       "    .dataframe thead th {\n",
       "        text-align: right;\n",
       "    }\n",
       "</style>\n",
       "<table border=\"1\" class=\"dataframe\">\n",
       "  <thead>\n",
       "    <tr style=\"text-align: right;\">\n",
       "      <th></th>\n",
       "      <th></th>\n",
       "      <th></th>\n",
       "      <th>x</th>\n",
       "      <th>y</th>\n",
       "      <th>path_length</th>\n",
       "      <th>approximate_speed</th>\n",
       "    </tr>\n",
       "    <tr>\n",
       "      <th>user</th>\n",
       "      <th>trial</th>\n",
       "      <th>t</th>\n",
       "      <th></th>\n",
       "      <th></th>\n",
       "      <th></th>\n",
       "      <th></th>\n",
       "    </tr>\n",
       "  </thead>\n",
       "  <tbody>\n",
       "    <tr>\n",
       "      <th rowspan=\"5\" valign=\"top\">1164</th>\n",
       "      <th rowspan=\"5\" valign=\"top\">5</th>\n",
       "      <th>0.00</th>\n",
       "      <td>-2.0</td>\n",
       "      <td>1.000000</td>\n",
       "      <td>0.000000</td>\n",
       "      <td>0.001584</td>\n",
       "    </tr>\n",
       "    <tr>\n",
       "      <th>0.02</th>\n",
       "      <td>-2.0</td>\n",
       "      <td>0.936582</td>\n",
       "      <td>0.063418</td>\n",
       "      <td>0.002497</td>\n",
       "    </tr>\n",
       "    <tr>\n",
       "      <th>0.04</th>\n",
       "      <td>-2.0</td>\n",
       "      <td>0.873164</td>\n",
       "      <td>0.126836</td>\n",
       "      <td>0.002995</td>\n",
       "    </tr>\n",
       "    <tr>\n",
       "      <th>0.06</th>\n",
       "      <td>-2.0</td>\n",
       "      <td>0.809747</td>\n",
       "      <td>0.190253</td>\n",
       "      <td>0.003142</td>\n",
       "    </tr>\n",
       "    <tr>\n",
       "      <th>0.08</th>\n",
       "      <td>-2.0</td>\n",
       "      <td>0.746329</td>\n",
       "      <td>0.253671</td>\n",
       "      <td>0.003166</td>\n",
       "    </tr>\n",
       "  </tbody>\n",
       "</table>\n",
       "</div>"
      ],
      "text/plain": [
       "                   x         y  path_length  approximate_speed\n",
       "user trial t                                                  \n",
       "1164 5     0.00 -2.0  1.000000     0.000000           0.001584\n",
       "           0.02 -2.0  0.936582     0.063418           0.002497\n",
       "           0.04 -2.0  0.873164     0.126836           0.002995\n",
       "           0.06 -2.0  0.809747     0.190253           0.003142\n",
       "           0.08 -2.0  0.746329     0.253671           0.003166"
      ]
     },
     "execution_count": 33,
     "metadata": {},
     "output_type": "execute_result"
    }
   ],
   "source": [
    "df_fitts.set_index(['user','trial','t'], inplace=True)\n",
    "df_fitts.head()"
   ]
  },
  {
   "cell_type": "markdown",
   "metadata": {},
   "source": [
    "Rows can be retrieved from a dataframe with a multi-level index by supplying a value for all the index components to `.loc[]`. For example, the following will return the third row in the above dataframe:"
   ]
  },
  {
   "cell_type": "code",
   "execution_count": 34,
   "metadata": {},
   "outputs": [
    {
     "data": {
      "text/plain": [
       "x                   -2.000000\n",
       "y                    0.873164\n",
       "path_length          0.126836\n",
       "approximate_speed    0.002995\n",
       "Name: (1164, 5, 0.04), dtype: float64"
      ]
     },
     "execution_count": 34,
     "metadata": {},
     "output_type": "execute_result"
    }
   ],
   "source": [
    "df_fitts.loc[1164, 5, 0.04]"
   ]
  },
  {
   "cell_type": "markdown",
   "metadata": {},
   "source": [
    "In the remainder of this notebook, we will use multi-level indexes mainly for joining dataframes."
   ]
  },
  {
   "cell_type": "markdown",
   "metadata": {},
   "source": [
    "### Data: user properties\n",
    "\n",
    "The file `'datasets/user_props.csv'` contains settings that are constant for each user. It contains a table with the following columns:\n",
    "\n",
    "* **`'user'`**: An integer number identifying each user\n",
    "* **`'use_tue_laptop'`**: Whether user used a TU/e laptop\n",
    "* **`'right_handed'`**: Whether user is right-handed or not\n",
    "* **`'platform'`**: The operating system of the user\n",
    "* **`'platform_version'`**: The version of the operating system of the user\n",
    "\n",
    "We load it into the dataframe `df_user_props`."
   ]
  },
  {
   "cell_type": "code",
   "execution_count": 35,
   "metadata": {},
   "outputs": [
    {
     "data": {
      "text/html": [
       "<div>\n",
       "<style scoped>\n",
       "    .dataframe tbody tr th:only-of-type {\n",
       "        vertical-align: middle;\n",
       "    }\n",
       "\n",
       "    .dataframe tbody tr th {\n",
       "        vertical-align: top;\n",
       "    }\n",
       "\n",
       "    .dataframe thead th {\n",
       "        text-align: right;\n",
       "    }\n",
       "</style>\n",
       "<table border=\"1\" class=\"dataframe\">\n",
       "  <thead>\n",
       "    <tr style=\"text-align: right;\">\n",
       "      <th></th>\n",
       "      <th>user</th>\n",
       "      <th>use_tue_laptop</th>\n",
       "      <th>right_handed</th>\n",
       "      <th>platform</th>\n",
       "      <th>platform_version</th>\n",
       "    </tr>\n",
       "  </thead>\n",
       "  <tbody>\n",
       "    <tr>\n",
       "      <th>0</th>\n",
       "      <td>1</td>\n",
       "      <td>1</td>\n",
       "      <td>1</td>\n",
       "      <td>Windows</td>\n",
       "      <td>10</td>\n",
       "    </tr>\n",
       "    <tr>\n",
       "      <th>1</th>\n",
       "      <td>2</td>\n",
       "      <td>1</td>\n",
       "      <td>1</td>\n",
       "      <td>Windows</td>\n",
       "      <td>10</td>\n",
       "    </tr>\n",
       "    <tr>\n",
       "      <th>2</th>\n",
       "      <td>4</td>\n",
       "      <td>1</td>\n",
       "      <td>1</td>\n",
       "      <td>Windows</td>\n",
       "      <td>10</td>\n",
       "    </tr>\n",
       "    <tr>\n",
       "      <th>3</th>\n",
       "      <td>6</td>\n",
       "      <td>1</td>\n",
       "      <td>1</td>\n",
       "      <td>Windows</td>\n",
       "      <td>10</td>\n",
       "    </tr>\n",
       "    <tr>\n",
       "      <th>4</th>\n",
       "      <td>7</td>\n",
       "      <td>1</td>\n",
       "      <td>1</td>\n",
       "      <td>Windows</td>\n",
       "      <td>10</td>\n",
       "    </tr>\n",
       "  </tbody>\n",
       "</table>\n",
       "</div>"
      ],
      "text/plain": [
       "   user  use_tue_laptop  right_handed platform platform_version\n",
       "0     1               1             1  Windows               10\n",
       "1     2               1             1  Windows               10\n",
       "2     4               1             1  Windows               10\n",
       "3     6               1             1  Windows               10\n",
       "4     7               1             1  Windows               10"
      ]
     },
     "execution_count": 35,
     "metadata": {},
     "output_type": "execute_result"
    }
   ],
   "source": [
    "df_user_props = pd.read_csv('datasets/user_props.csv')\n",
    "df_user_props.head()"
   ]
  },
  {
   "cell_type": "markdown",
   "metadata": {},
   "source": [
    "Every row in this table is uniquely identified by the integer in the `'user'` column. Therefore, we set this column as the index of the dataframe."
   ]
  },
  {
   "cell_type": "code",
   "execution_count": 36,
   "metadata": {},
   "outputs": [
    {
     "data": {
      "text/html": [
       "<div>\n",
       "<style scoped>\n",
       "    .dataframe tbody tr th:only-of-type {\n",
       "        vertical-align: middle;\n",
       "    }\n",
       "\n",
       "    .dataframe tbody tr th {\n",
       "        vertical-align: top;\n",
       "    }\n",
       "\n",
       "    .dataframe thead th {\n",
       "        text-align: right;\n",
       "    }\n",
       "</style>\n",
       "<table border=\"1\" class=\"dataframe\">\n",
       "  <thead>\n",
       "    <tr style=\"text-align: right;\">\n",
       "      <th></th>\n",
       "      <th>use_tue_laptop</th>\n",
       "      <th>right_handed</th>\n",
       "      <th>platform</th>\n",
       "      <th>platform_version</th>\n",
       "    </tr>\n",
       "    <tr>\n",
       "      <th>user</th>\n",
       "      <th></th>\n",
       "      <th></th>\n",
       "      <th></th>\n",
       "      <th></th>\n",
       "    </tr>\n",
       "  </thead>\n",
       "  <tbody>\n",
       "    <tr>\n",
       "      <th>1</th>\n",
       "      <td>1</td>\n",
       "      <td>1</td>\n",
       "      <td>Windows</td>\n",
       "      <td>10</td>\n",
       "    </tr>\n",
       "    <tr>\n",
       "      <th>2</th>\n",
       "      <td>1</td>\n",
       "      <td>1</td>\n",
       "      <td>Windows</td>\n",
       "      <td>10</td>\n",
       "    </tr>\n",
       "    <tr>\n",
       "      <th>4</th>\n",
       "      <td>1</td>\n",
       "      <td>1</td>\n",
       "      <td>Windows</td>\n",
       "      <td>10</td>\n",
       "    </tr>\n",
       "    <tr>\n",
       "      <th>6</th>\n",
       "      <td>1</td>\n",
       "      <td>1</td>\n",
       "      <td>Windows</td>\n",
       "      <td>10</td>\n",
       "    </tr>\n",
       "    <tr>\n",
       "      <th>7</th>\n",
       "      <td>1</td>\n",
       "      <td>1</td>\n",
       "      <td>Windows</td>\n",
       "      <td>10</td>\n",
       "    </tr>\n",
       "  </tbody>\n",
       "</table>\n",
       "</div>"
      ],
      "text/plain": [
       "      use_tue_laptop  right_handed platform platform_version\n",
       "user                                                        \n",
       "1                  1             1  Windows               10\n",
       "2                  1             1  Windows               10\n",
       "4                  1             1  Windows               10\n",
       "6                  1             1  Windows               10\n",
       "7                  1             1  Windows               10"
      ]
     },
     "execution_count": 36,
     "metadata": {},
     "output_type": "execute_result"
    }
   ],
   "source": [
    "df_user_props.set_index('user',inplace = True)\n",
    "df_user_props.head()"
   ]
  },
  {
   "cell_type": "markdown",
   "metadata": {},
   "source": [
    "### Conversion to readable table entries\n",
    "\n",
    "Some of the columns contain integers that do not have a clear meaning. The interpretation of these integers is encoded by the following dictionaries."
   ]
  },
  {
   "cell_type": "code",
   "execution_count": 37,
   "metadata": {},
   "outputs": [],
   "source": [
    "dict_use_tue_laptop = {0 : False, 1 : True}\n",
    "dict_right_handed = {0 : False, 1 : True}"
   ]
  },
  {
   "cell_type": "markdown",
   "metadata": {},
   "source": [
    "You can use these dictionaries to create more readable columns. But first there is a technical point that the values in for instance the column `'use_tue_laptop'` may be floats and not integers. So before you can use the dictionary, you would have to convert the column to integers."
   ]
  },
  {
   "cell_type": "code",
   "execution_count": 38,
   "metadata": {},
   "outputs": [],
   "source": [
    "df_user_props['use_tue_laptop'] = df_user_props['use_tue_laptop'].astype(int)"
   ]
  },
  {
   "cell_type": "markdown",
   "metadata": {},
   "source": [
    "#### The _Pandas_ function **`map()`**\n",
    "\n",
    "You can now use the _Pandas_ function **`map()`** with the argument `dict_use_tue_laptop` to map every `0` to a `False` and every `1` to a `True`."
   ]
  },
  {
   "cell_type": "code",
   "execution_count": 39,
   "metadata": {},
   "outputs": [
    {
     "data": {
      "text/html": [
       "<div>\n",
       "<style scoped>\n",
       "    .dataframe tbody tr th:only-of-type {\n",
       "        vertical-align: middle;\n",
       "    }\n",
       "\n",
       "    .dataframe tbody tr th {\n",
       "        vertical-align: top;\n",
       "    }\n",
       "\n",
       "    .dataframe thead th {\n",
       "        text-align: right;\n",
       "    }\n",
       "</style>\n",
       "<table border=\"1\" class=\"dataframe\">\n",
       "  <thead>\n",
       "    <tr style=\"text-align: right;\">\n",
       "      <th></th>\n",
       "      <th>use_tue_laptop</th>\n",
       "      <th>right_handed</th>\n",
       "      <th>platform</th>\n",
       "      <th>platform_version</th>\n",
       "    </tr>\n",
       "    <tr>\n",
       "      <th>user</th>\n",
       "      <th></th>\n",
       "      <th></th>\n",
       "      <th></th>\n",
       "      <th></th>\n",
       "    </tr>\n",
       "  </thead>\n",
       "  <tbody>\n",
       "    <tr>\n",
       "      <th>1</th>\n",
       "      <td>True</td>\n",
       "      <td>1</td>\n",
       "      <td>Windows</td>\n",
       "      <td>10</td>\n",
       "    </tr>\n",
       "    <tr>\n",
       "      <th>2</th>\n",
       "      <td>True</td>\n",
       "      <td>1</td>\n",
       "      <td>Windows</td>\n",
       "      <td>10</td>\n",
       "    </tr>\n",
       "    <tr>\n",
       "      <th>4</th>\n",
       "      <td>True</td>\n",
       "      <td>1</td>\n",
       "      <td>Windows</td>\n",
       "      <td>10</td>\n",
       "    </tr>\n",
       "    <tr>\n",
       "      <th>6</th>\n",
       "      <td>True</td>\n",
       "      <td>1</td>\n",
       "      <td>Windows</td>\n",
       "      <td>10</td>\n",
       "    </tr>\n",
       "    <tr>\n",
       "      <th>7</th>\n",
       "      <td>True</td>\n",
       "      <td>1</td>\n",
       "      <td>Windows</td>\n",
       "      <td>10</td>\n",
       "    </tr>\n",
       "  </tbody>\n",
       "</table>\n",
       "</div>"
      ],
      "text/plain": [
       "      use_tue_laptop  right_handed platform platform_version\n",
       "user                                                        \n",
       "1               True             1  Windows               10\n",
       "2               True             1  Windows               10\n",
       "4               True             1  Windows               10\n",
       "6               True             1  Windows               10\n",
       "7               True             1  Windows               10"
      ]
     },
     "execution_count": 39,
     "metadata": {},
     "output_type": "execute_result"
    }
   ],
   "source": [
    "df_user_props['use_tue_laptop'] = df_user_props['use_tue_laptop'].map(dict_use_tue_laptop)\n",
    "df_user_props.head()"
   ]
  },
  {
   "cell_type": "markdown",
   "metadata": {},
   "source": [
    "### Data: user trial properties\n",
    "\n",
    "The file `'datasets/user_trial_props.csv'` contains settings that are specific to each user trial. It contains a table with the following columns:\n",
    "\n",
    "* **`'user'`**: an integer that identifies the user who drew the trajectory\n",
    "* **`'trial'`**: an integer that identifies the trajectory. The pair of `'user'` and `'trial'` identify a trajectory uniquely\n",
    "* **`'delay'`**: the time in seconds between the user moving the mouse on the red square in the origin, until the target appeared\n",
    "* **`'input_method'`**: whether the user used a trackpad or a mouse\n",
    "* **`'target_radius'`**: the radius of the target in pixels\n",
    "* **`'target_x'`**: the $x$-coordinate of the target in pixels\n",
    "* **`'target_y'`**: the $y$-coordinate of the target in pixels\n",
    "* **`'total_time'`**: the total time of the trial in seconds\n",
    "\n",
    "The meaning of the values in the `'input_method'` columns is encoded by the following dictionary."
   ]
  },
  {
   "cell_type": "code",
   "execution_count": 40,
   "metadata": {},
   "outputs": [],
   "source": [
    "dict_input_method = { 0 : 'trackpad', 1 : 'mouse' }"
   ]
  },
  {
   "cell_type": "markdown",
   "metadata": {},
   "source": [
    "We read those properties into the dataframe `df_user_trial_props`."
   ]
  },
  {
   "cell_type": "code",
   "execution_count": 41,
   "metadata": {},
   "outputs": [
    {
     "data": {
      "text/html": [
       "<div>\n",
       "<style scoped>\n",
       "    .dataframe tbody tr th:only-of-type {\n",
       "        vertical-align: middle;\n",
       "    }\n",
       "\n",
       "    .dataframe tbody tr th {\n",
       "        vertical-align: top;\n",
       "    }\n",
       "\n",
       "    .dataframe thead th {\n",
       "        text-align: right;\n",
       "    }\n",
       "</style>\n",
       "<table border=\"1\" class=\"dataframe\">\n",
       "  <thead>\n",
       "    <tr style=\"text-align: right;\">\n",
       "      <th></th>\n",
       "      <th>user</th>\n",
       "      <th>trial</th>\n",
       "      <th>delay</th>\n",
       "      <th>input_method</th>\n",
       "      <th>target_radius</th>\n",
       "      <th>target_x</th>\n",
       "      <th>target_y</th>\n",
       "      <th>total_time</th>\n",
       "    </tr>\n",
       "  </thead>\n",
       "  <tbody>\n",
       "    <tr>\n",
       "      <th>0</th>\n",
       "      <td>1226</td>\n",
       "      <td>5</td>\n",
       "      <td>2.136719</td>\n",
       "      <td>0</td>\n",
       "      <td>6</td>\n",
       "      <td>-84</td>\n",
       "      <td>-84</td>\n",
       "      <td>3.607323</td>\n",
       "    </tr>\n",
       "    <tr>\n",
       "      <th>1</th>\n",
       "      <td>1226</td>\n",
       "      <td>6</td>\n",
       "      <td>3.540913</td>\n",
       "      <td>0</td>\n",
       "      <td>6</td>\n",
       "      <td>0</td>\n",
       "      <td>190</td>\n",
       "      <td>1.867664</td>\n",
       "    </tr>\n",
       "    <tr>\n",
       "      <th>2</th>\n",
       "      <td>1226</td>\n",
       "      <td>7</td>\n",
       "      <td>3.688381</td>\n",
       "      <td>0</td>\n",
       "      <td>6</td>\n",
       "      <td>-158</td>\n",
       "      <td>-158</td>\n",
       "      <td>1.645011</td>\n",
       "    </tr>\n",
       "    <tr>\n",
       "      <th>3</th>\n",
       "      <td>1226</td>\n",
       "      <td>8</td>\n",
       "      <td>2.823134</td>\n",
       "      <td>0</td>\n",
       "      <td>3</td>\n",
       "      <td>81</td>\n",
       "      <td>-81</td>\n",
       "      <td>1.776010</td>\n",
       "    </tr>\n",
       "    <tr>\n",
       "      <th>4</th>\n",
       "      <td>1226</td>\n",
       "      <td>9</td>\n",
       "      <td>3.690253</td>\n",
       "      <td>0</td>\n",
       "      <td>9</td>\n",
       "      <td>-157</td>\n",
       "      <td>157</td>\n",
       "      <td>1.567794</td>\n",
       "    </tr>\n",
       "  </tbody>\n",
       "</table>\n",
       "</div>"
      ],
      "text/plain": [
       "   user  trial     delay  input_method  target_radius  target_x  target_y  \\\n",
       "0  1226      5  2.136719             0              6       -84       -84   \n",
       "1  1226      6  3.540913             0              6         0       190   \n",
       "2  1226      7  3.688381             0              6      -158      -158   \n",
       "3  1226      8  2.823134             0              3        81       -81   \n",
       "4  1226      9  3.690253             0              9      -157       157   \n",
       "\n",
       "   total_time  \n",
       "0    3.607323  \n",
       "1    1.867664  \n",
       "2    1.645011  \n",
       "3    1.776010  \n",
       "4    1.567794  "
      ]
     },
     "execution_count": 41,
     "metadata": {},
     "output_type": "execute_result"
    }
   ],
   "source": [
    "df_user_trial_props = pd.read_csv('datasets/user_trial_props.csv')\n",
    "df_user_trial_props.head()"
   ]
  },
  {
   "cell_type": "markdown",
   "metadata": {},
   "source": [
    "Each row in the dataframe `df_user_trial_props` is uniquely determined by the pair of values in the `'user'` and `'trial'` column. This pair of values would therefore make for an ideal **multi-level index** of the dataframe."
   ]
  },
  {
   "cell_type": "markdown",
   "metadata": {},
   "source": [
    "### Exercise <span class=\"exercise\">2.a</span>\n",
    "\n",
    "Set the index of the dataframe `df_user_trial_props` to a multi-level index consisting of the `'user'` and `'trial'` columns."
   ]
  },
  {
   "cell_type": "code",
   "execution_count": 42,
   "metadata": {},
   "outputs": [
    {
     "data": {
      "text/html": [
       "<div>\n",
       "<style scoped>\n",
       "    .dataframe tbody tr th:only-of-type {\n",
       "        vertical-align: middle;\n",
       "    }\n",
       "\n",
       "    .dataframe tbody tr th {\n",
       "        vertical-align: top;\n",
       "    }\n",
       "\n",
       "    .dataframe thead th {\n",
       "        text-align: right;\n",
       "    }\n",
       "</style>\n",
       "<table border=\"1\" class=\"dataframe\">\n",
       "  <thead>\n",
       "    <tr style=\"text-align: right;\">\n",
       "      <th></th>\n",
       "      <th></th>\n",
       "      <th>delay</th>\n",
       "      <th>input_method</th>\n",
       "      <th>target_radius</th>\n",
       "      <th>target_x</th>\n",
       "      <th>target_y</th>\n",
       "      <th>total_time</th>\n",
       "    </tr>\n",
       "    <tr>\n",
       "      <th>user</th>\n",
       "      <th>trial</th>\n",
       "      <th></th>\n",
       "      <th></th>\n",
       "      <th></th>\n",
       "      <th></th>\n",
       "      <th></th>\n",
       "      <th></th>\n",
       "    </tr>\n",
       "  </thead>\n",
       "  <tbody>\n",
       "    <tr>\n",
       "      <th rowspan=\"5\" valign=\"top\">1226</th>\n",
       "      <th>5</th>\n",
       "      <td>2.136719</td>\n",
       "      <td>0</td>\n",
       "      <td>6</td>\n",
       "      <td>-84</td>\n",
       "      <td>-84</td>\n",
       "      <td>3.607323</td>\n",
       "    </tr>\n",
       "    <tr>\n",
       "      <th>6</th>\n",
       "      <td>3.540913</td>\n",
       "      <td>0</td>\n",
       "      <td>6</td>\n",
       "      <td>0</td>\n",
       "      <td>190</td>\n",
       "      <td>1.867664</td>\n",
       "    </tr>\n",
       "    <tr>\n",
       "      <th>7</th>\n",
       "      <td>3.688381</td>\n",
       "      <td>0</td>\n",
       "      <td>6</td>\n",
       "      <td>-158</td>\n",
       "      <td>-158</td>\n",
       "      <td>1.645011</td>\n",
       "    </tr>\n",
       "    <tr>\n",
       "      <th>8</th>\n",
       "      <td>2.823134</td>\n",
       "      <td>0</td>\n",
       "      <td>3</td>\n",
       "      <td>81</td>\n",
       "      <td>-81</td>\n",
       "      <td>1.776010</td>\n",
       "    </tr>\n",
       "    <tr>\n",
       "      <th>9</th>\n",
       "      <td>3.690253</td>\n",
       "      <td>0</td>\n",
       "      <td>9</td>\n",
       "      <td>-157</td>\n",
       "      <td>157</td>\n",
       "      <td>1.567794</td>\n",
       "    </tr>\n",
       "  </tbody>\n",
       "</table>\n",
       "</div>"
      ],
      "text/plain": [
       "               delay  input_method  target_radius  target_x  target_y  \\\n",
       "user trial                                                              \n",
       "1226 5      2.136719             0              6       -84       -84   \n",
       "     6      3.540913             0              6         0       190   \n",
       "     7      3.688381             0              6      -158      -158   \n",
       "     8      2.823134             0              3        81       -81   \n",
       "     9      3.690253             0              9      -157       157   \n",
       "\n",
       "            total_time  \n",
       "user trial              \n",
       "1226 5        3.607323  \n",
       "     6        1.867664  \n",
       "     7        1.645011  \n",
       "     8        1.776010  \n",
       "     9        1.567794  "
      ]
     },
     "execution_count": 42,
     "metadata": {},
     "output_type": "execute_result"
    }
   ],
   "source": [
    "#// BEGIN_TODO [DAS_2a] Multi-level index (1 point)\n",
    "\n",
    "df_user_trial_props.set_index(['user','trial'], inplace = True)\n",
    "\n",
    "#// END_TODO [DAS_2a]\n",
    "\n",
    "df_user_trial_props.head()"
   ]
  },
  {
   "cell_type": "markdown",
   "metadata": {},
   "source": [
    "### Exercise <span class=\"exercise\">2.b</span>\n",
    "\n",
    "Use the dictionary `dict_right_handed` to convert the data in the column `'right_handed'` in `df_user_props` to more readable values. Similarly, use the dictionary `dict_input_method` to convert the data in the column `'input_method'` in the dataframe `df_user_trial_props` to more readable values."
   ]
  },
  {
   "cell_type": "code",
   "execution_count": 43,
   "metadata": {},
   "outputs": [
    {
     "data": {
      "text/html": [
       "<div>\n",
       "<style scoped>\n",
       "    .dataframe tbody tr th:only-of-type {\n",
       "        vertical-align: middle;\n",
       "    }\n",
       "\n",
       "    .dataframe tbody tr th {\n",
       "        vertical-align: top;\n",
       "    }\n",
       "\n",
       "    .dataframe thead th {\n",
       "        text-align: right;\n",
       "    }\n",
       "</style>\n",
       "<table border=\"1\" class=\"dataframe\">\n",
       "  <thead>\n",
       "    <tr style=\"text-align: right;\">\n",
       "      <th></th>\n",
       "      <th></th>\n",
       "      <th>delay</th>\n",
       "      <th>input_method</th>\n",
       "      <th>target_radius</th>\n",
       "      <th>target_x</th>\n",
       "      <th>target_y</th>\n",
       "      <th>total_time</th>\n",
       "    </tr>\n",
       "    <tr>\n",
       "      <th>user</th>\n",
       "      <th>trial</th>\n",
       "      <th></th>\n",
       "      <th></th>\n",
       "      <th></th>\n",
       "      <th></th>\n",
       "      <th></th>\n",
       "      <th></th>\n",
       "    </tr>\n",
       "  </thead>\n",
       "  <tbody>\n",
       "    <tr>\n",
       "      <th rowspan=\"5\" valign=\"top\">1226</th>\n",
       "      <th>5</th>\n",
       "      <td>2.136719</td>\n",
       "      <td>trackpad</td>\n",
       "      <td>6</td>\n",
       "      <td>-84</td>\n",
       "      <td>-84</td>\n",
       "      <td>3.607323</td>\n",
       "    </tr>\n",
       "    <tr>\n",
       "      <th>6</th>\n",
       "      <td>3.540913</td>\n",
       "      <td>trackpad</td>\n",
       "      <td>6</td>\n",
       "      <td>0</td>\n",
       "      <td>190</td>\n",
       "      <td>1.867664</td>\n",
       "    </tr>\n",
       "    <tr>\n",
       "      <th>7</th>\n",
       "      <td>3.688381</td>\n",
       "      <td>trackpad</td>\n",
       "      <td>6</td>\n",
       "      <td>-158</td>\n",
       "      <td>-158</td>\n",
       "      <td>1.645011</td>\n",
       "    </tr>\n",
       "    <tr>\n",
       "      <th>8</th>\n",
       "      <td>2.823134</td>\n",
       "      <td>trackpad</td>\n",
       "      <td>3</td>\n",
       "      <td>81</td>\n",
       "      <td>-81</td>\n",
       "      <td>1.776010</td>\n",
       "    </tr>\n",
       "    <tr>\n",
       "      <th>9</th>\n",
       "      <td>3.690253</td>\n",
       "      <td>trackpad</td>\n",
       "      <td>9</td>\n",
       "      <td>-157</td>\n",
       "      <td>157</td>\n",
       "      <td>1.567794</td>\n",
       "    </tr>\n",
       "  </tbody>\n",
       "</table>\n",
       "</div>"
      ],
      "text/plain": [
       "               delay input_method  target_radius  target_x  target_y  \\\n",
       "user trial                                                             \n",
       "1226 5      2.136719     trackpad              6       -84       -84   \n",
       "     6      3.540913     trackpad              6         0       190   \n",
       "     7      3.688381     trackpad              6      -158      -158   \n",
       "     8      2.823134     trackpad              3        81       -81   \n",
       "     9      3.690253     trackpad              9      -157       157   \n",
       "\n",
       "            total_time  \n",
       "user trial              \n",
       "1226 5        3.607323  \n",
       "     6        1.867664  \n",
       "     7        1.645011  \n",
       "     8        1.776010  \n",
       "     9        1.567794  "
      ]
     },
     "execution_count": 43,
     "metadata": {},
     "output_type": "execute_result"
    }
   ],
   "source": [
    "#// BEGIN_TODO [DAS_2b] Convert columns in dataframes (1 point)\n",
    "\n",
    "dict_right_handed = {0 : False, 1 : True}\n",
    "dict_input_method = {0 : 'trackpad', 1 : 'mouse'}\n",
    "\n",
    "df_user_props['right_handed'] = df_user_props['right_handed'].astype(int)\n",
    "df_user_trial_props['input_method'] = df_user_trial_props['input_method']\n",
    "df_user_props['right_handed'] = df_user_props['right_handed'].map(dict_right_handed)\n",
    "\n",
    "df_user_trial_props['input_method'] = df_user_trial_props['input_method'].map(dict_input_method)\n",
    "\n",
    "#// END_TODO [DAS_2b]\n",
    "\n",
    "df_user_trial_props.head()"
   ]
  },
  {
   "cell_type": "markdown",
   "metadata": {},
   "source": [
    "## Data aggregation"
   ]
  },
  {
   "cell_type": "markdown",
   "metadata": {},
   "source": [
    "In the EDA exercises you have already encountered various ways to aggregate data. One very useful method was to _group_ the data. For instance, if we want to compute the average approximate speed in every trial, we can do this by first grouping on `'user'` and `'trial'`, selecting the `'approximate'` column and computing the mean."
   ]
  },
  {
   "cell_type": "code",
   "execution_count": 44,
   "metadata": {},
   "outputs": [
    {
     "data": {
      "text/html": [
       "<div>\n",
       "<style scoped>\n",
       "    .dataframe tbody tr th:only-of-type {\n",
       "        vertical-align: middle;\n",
       "    }\n",
       "\n",
       "    .dataframe tbody tr th {\n",
       "        vertical-align: top;\n",
       "    }\n",
       "\n",
       "    .dataframe thead th {\n",
       "        text-align: right;\n",
       "    }\n",
       "</style>\n",
       "<table border=\"1\" class=\"dataframe\">\n",
       "  <thead>\n",
       "    <tr style=\"text-align: right;\">\n",
       "      <th></th>\n",
       "      <th></th>\n",
       "      <th>approximate_speed</th>\n",
       "    </tr>\n",
       "    <tr>\n",
       "      <th>user</th>\n",
       "      <th>trial</th>\n",
       "      <th></th>\n",
       "    </tr>\n",
       "  </thead>\n",
       "  <tbody>\n",
       "    <tr>\n",
       "      <th rowspan=\"5\" valign=\"top\">54</th>\n",
       "      <th>5</th>\n",
       "      <td>0.175054</td>\n",
       "    </tr>\n",
       "    <tr>\n",
       "      <th>6</th>\n",
       "      <td>0.172605</td>\n",
       "    </tr>\n",
       "    <tr>\n",
       "      <th>7</th>\n",
       "      <td>0.143626</td>\n",
       "    </tr>\n",
       "    <tr>\n",
       "      <th>8</th>\n",
       "      <td>0.143971</td>\n",
       "    </tr>\n",
       "    <tr>\n",
       "      <th>9</th>\n",
       "      <td>0.096142</td>\n",
       "    </tr>\n",
       "  </tbody>\n",
       "</table>\n",
       "</div>"
      ],
      "text/plain": [
       "            approximate_speed\n",
       "user trial                   \n",
       "54   5               0.175054\n",
       "     6               0.172605\n",
       "     7               0.143626\n",
       "     8               0.143971\n",
       "     9               0.096142"
      ]
     },
     "execution_count": 44,
     "metadata": {},
     "output_type": "execute_result"
    }
   ],
   "source": [
    "df_speeds = df_fitts.groupby(['user','trial'])[['approximate_speed']].mean()\n",
    "df_speeds.head()"
   ]
  },
  {
   "cell_type": "markdown",
   "metadata": {},
   "source": [
    "Note that the resulting dataframe is indexed by the pair of `'user'` and `'trial'` as a multi-level index."
   ]
  },
  {
   "cell_type": "markdown",
   "metadata": {},
   "source": [
    "### Computing several aggregated quantities at once\n",
    "\n",
    "The _Pandas_ library provides a very convenient function **`agg()`**, which can compute several aggregated quantities on grouped data at once. As an argument, you can supply a dictionary, which maps column names to either\n",
    "\n",
    "* a name of a function (string), e.g. `'mean'`, `'median'`, `'sum'`, or `'count'`\n",
    "* a function\n",
    "* a list of names of functions, e.g. `['sum','count']`\n",
    "\n",
    "We present an example of the last usage. We compute both the **mean** and the **median** of `'approximate_speed'` and the **max** value of `'x'`"
   ]
  },
  {
   "cell_type": "code",
   "execution_count": 45,
   "metadata": {},
   "outputs": [
    {
     "data": {
      "text/html": [
       "<div>\n",
       "<style scoped>\n",
       "    .dataframe tbody tr th:only-of-type {\n",
       "        vertical-align: middle;\n",
       "    }\n",
       "\n",
       "    .dataframe tbody tr th {\n",
       "        vertical-align: top;\n",
       "    }\n",
       "\n",
       "    .dataframe thead tr th {\n",
       "        text-align: left;\n",
       "    }\n",
       "\n",
       "    .dataframe thead tr:last-of-type th {\n",
       "        text-align: right;\n",
       "    }\n",
       "</style>\n",
       "<table border=\"1\" class=\"dataframe\">\n",
       "  <thead>\n",
       "    <tr>\n",
       "      <th></th>\n",
       "      <th></th>\n",
       "      <th colspan=\"2\" halign=\"left\">approximate_speed</th>\n",
       "      <th>x</th>\n",
       "    </tr>\n",
       "    <tr>\n",
       "      <th></th>\n",
       "      <th></th>\n",
       "      <th>mean</th>\n",
       "      <th>median</th>\n",
       "      <th>max</th>\n",
       "    </tr>\n",
       "    <tr>\n",
       "      <th>user</th>\n",
       "      <th>trial</th>\n",
       "      <th></th>\n",
       "      <th></th>\n",
       "      <th></th>\n",
       "    </tr>\n",
       "  </thead>\n",
       "  <tbody>\n",
       "    <tr>\n",
       "      <th rowspan=\"5\" valign=\"top\">54</th>\n",
       "      <th>5</th>\n",
       "      <td>0.175054</td>\n",
       "      <td>0.042922</td>\n",
       "      <td>12.502372</td>\n",
       "    </tr>\n",
       "    <tr>\n",
       "      <th>6</th>\n",
       "      <td>0.172605</td>\n",
       "      <td>0.063461</td>\n",
       "      <td>137.000000</td>\n",
       "    </tr>\n",
       "    <tr>\n",
       "      <th>7</th>\n",
       "      <td>0.143626</td>\n",
       "      <td>0.040945</td>\n",
       "      <td>2.000000</td>\n",
       "    </tr>\n",
       "    <tr>\n",
       "      <th>8</th>\n",
       "      <td>0.143971</td>\n",
       "      <td>0.036264</td>\n",
       "      <td>0.000000</td>\n",
       "    </tr>\n",
       "    <tr>\n",
       "      <th>9</th>\n",
       "      <td>0.096142</td>\n",
       "      <td>0.009530</td>\n",
       "      <td>96.000000</td>\n",
       "    </tr>\n",
       "  </tbody>\n",
       "</table>\n",
       "</div>"
      ],
      "text/plain": [
       "           approximate_speed                     x\n",
       "                        mean    median         max\n",
       "user trial                                        \n",
       "54   5              0.175054  0.042922   12.502372\n",
       "     6              0.172605  0.063461  137.000000\n",
       "     7              0.143626  0.040945    2.000000\n",
       "     8              0.143971  0.036264    0.000000\n",
       "     9              0.096142  0.009530   96.000000"
      ]
     },
     "execution_count": 45,
     "metadata": {},
     "output_type": "execute_result"
    }
   ],
   "source": [
    "df_features = df_fitts.groupby(['user','trial']).agg({'approximate_speed':['mean','median'], 'x':['max']})\n",
    "df_features.head()"
   ]
  },
  {
   "cell_type": "markdown",
   "metadata": {},
   "source": [
    "In the result, not only do the rows have a multi-level index, but also the columns. For our next step, this is not so useful, so we first rename the columns."
   ]
  },
  {
   "cell_type": "code",
   "execution_count": 46,
   "metadata": {},
   "outputs": [
    {
     "data": {
      "text/html": [
       "<div>\n",
       "<style scoped>\n",
       "    .dataframe tbody tr th:only-of-type {\n",
       "        vertical-align: middle;\n",
       "    }\n",
       "\n",
       "    .dataframe tbody tr th {\n",
       "        vertical-align: top;\n",
       "    }\n",
       "\n",
       "    .dataframe thead th {\n",
       "        text-align: right;\n",
       "    }\n",
       "</style>\n",
       "<table border=\"1\" class=\"dataframe\">\n",
       "  <thead>\n",
       "    <tr style=\"text-align: right;\">\n",
       "      <th></th>\n",
       "      <th></th>\n",
       "      <th>appr_speed_mean</th>\n",
       "      <th>appr_speed_median</th>\n",
       "      <th>x_max</th>\n",
       "    </tr>\n",
       "    <tr>\n",
       "      <th>user</th>\n",
       "      <th>trial</th>\n",
       "      <th></th>\n",
       "      <th></th>\n",
       "      <th></th>\n",
       "    </tr>\n",
       "  </thead>\n",
       "  <tbody>\n",
       "    <tr>\n",
       "      <th rowspan=\"5\" valign=\"top\">54</th>\n",
       "      <th>5</th>\n",
       "      <td>0.175054</td>\n",
       "      <td>0.042922</td>\n",
       "      <td>12.502372</td>\n",
       "    </tr>\n",
       "    <tr>\n",
       "      <th>6</th>\n",
       "      <td>0.172605</td>\n",
       "      <td>0.063461</td>\n",
       "      <td>137.000000</td>\n",
       "    </tr>\n",
       "    <tr>\n",
       "      <th>7</th>\n",
       "      <td>0.143626</td>\n",
       "      <td>0.040945</td>\n",
       "      <td>2.000000</td>\n",
       "    </tr>\n",
       "    <tr>\n",
       "      <th>8</th>\n",
       "      <td>0.143971</td>\n",
       "      <td>0.036264</td>\n",
       "      <td>0.000000</td>\n",
       "    </tr>\n",
       "    <tr>\n",
       "      <th>9</th>\n",
       "      <td>0.096142</td>\n",
       "      <td>0.009530</td>\n",
       "      <td>96.000000</td>\n",
       "    </tr>\n",
       "  </tbody>\n",
       "</table>\n",
       "</div>"
      ],
      "text/plain": [
       "            appr_speed_mean  appr_speed_median       x_max\n",
       "user trial                                                \n",
       "54   5             0.175054           0.042922   12.502372\n",
       "     6             0.172605           0.063461  137.000000\n",
       "     7             0.143626           0.040945    2.000000\n",
       "     8             0.143971           0.036264    0.000000\n",
       "     9             0.096142           0.009530   96.000000"
      ]
     },
     "execution_count": 46,
     "metadata": {},
     "output_type": "execute_result"
    }
   ],
   "source": [
    "df_features.columns=['appr_speed_mean', 'appr_speed_median', 'x_max']\n",
    "df_features.head()"
   ]
  },
  {
   "cell_type": "markdown",
   "metadata": {},
   "source": [
    "### Joining two dataframes\n",
    "\n",
    "We now want to add the computed features as columns to the old dataframe with properties `df_user_trial_props`. We can do this by _joining_ two dataframes with the _Pandas_ function **`join()`**. We store the result in a dataframe `df_results`. "
   ]
  },
  {
   "cell_type": "code",
   "execution_count": 47,
   "metadata": {},
   "outputs": [
    {
     "data": {
      "text/html": [
       "<div>\n",
       "<style scoped>\n",
       "    .dataframe tbody tr th:only-of-type {\n",
       "        vertical-align: middle;\n",
       "    }\n",
       "\n",
       "    .dataframe tbody tr th {\n",
       "        vertical-align: top;\n",
       "    }\n",
       "\n",
       "    .dataframe thead th {\n",
       "        text-align: right;\n",
       "    }\n",
       "</style>\n",
       "<table border=\"1\" class=\"dataframe\">\n",
       "  <thead>\n",
       "    <tr style=\"text-align: right;\">\n",
       "      <th></th>\n",
       "      <th></th>\n",
       "      <th>delay</th>\n",
       "      <th>input_method</th>\n",
       "      <th>target_radius</th>\n",
       "      <th>target_x</th>\n",
       "      <th>target_y</th>\n",
       "      <th>total_time</th>\n",
       "      <th>appr_speed_mean</th>\n",
       "      <th>appr_speed_median</th>\n",
       "      <th>x_max</th>\n",
       "    </tr>\n",
       "    <tr>\n",
       "      <th>user</th>\n",
       "      <th>trial</th>\n",
       "      <th></th>\n",
       "      <th></th>\n",
       "      <th></th>\n",
       "      <th></th>\n",
       "      <th></th>\n",
       "      <th></th>\n",
       "      <th></th>\n",
       "      <th></th>\n",
       "      <th></th>\n",
       "    </tr>\n",
       "  </thead>\n",
       "  <tbody>\n",
       "    <tr>\n",
       "      <th rowspan=\"5\" valign=\"top\">1226</th>\n",
       "      <th>5</th>\n",
       "      <td>2.136719</td>\n",
       "      <td>trackpad</td>\n",
       "      <td>6</td>\n",
       "      <td>-84</td>\n",
       "      <td>-84</td>\n",
       "      <td>3.607323</td>\n",
       "      <td>NaN</td>\n",
       "      <td>NaN</td>\n",
       "      <td>NaN</td>\n",
       "    </tr>\n",
       "    <tr>\n",
       "      <th>6</th>\n",
       "      <td>3.540913</td>\n",
       "      <td>trackpad</td>\n",
       "      <td>6</td>\n",
       "      <td>0</td>\n",
       "      <td>190</td>\n",
       "      <td>1.867664</td>\n",
       "      <td>NaN</td>\n",
       "      <td>NaN</td>\n",
       "      <td>NaN</td>\n",
       "    </tr>\n",
       "    <tr>\n",
       "      <th>7</th>\n",
       "      <td>3.688381</td>\n",
       "      <td>trackpad</td>\n",
       "      <td>6</td>\n",
       "      <td>-158</td>\n",
       "      <td>-158</td>\n",
       "      <td>1.645011</td>\n",
       "      <td>NaN</td>\n",
       "      <td>NaN</td>\n",
       "      <td>NaN</td>\n",
       "    </tr>\n",
       "    <tr>\n",
       "      <th>8</th>\n",
       "      <td>2.823134</td>\n",
       "      <td>trackpad</td>\n",
       "      <td>3</td>\n",
       "      <td>81</td>\n",
       "      <td>-81</td>\n",
       "      <td>1.776010</td>\n",
       "      <td>NaN</td>\n",
       "      <td>NaN</td>\n",
       "      <td>NaN</td>\n",
       "    </tr>\n",
       "    <tr>\n",
       "      <th>9</th>\n",
       "      <td>3.690253</td>\n",
       "      <td>trackpad</td>\n",
       "      <td>9</td>\n",
       "      <td>-157</td>\n",
       "      <td>157</td>\n",
       "      <td>1.567794</td>\n",
       "      <td>NaN</td>\n",
       "      <td>NaN</td>\n",
       "      <td>NaN</td>\n",
       "    </tr>\n",
       "  </tbody>\n",
       "</table>\n",
       "</div>"
      ],
      "text/plain": [
       "               delay input_method  target_radius  target_x  target_y  \\\n",
       "user trial                                                             \n",
       "1226 5      2.136719     trackpad              6       -84       -84   \n",
       "     6      3.540913     trackpad              6         0       190   \n",
       "     7      3.688381     trackpad              6      -158      -158   \n",
       "     8      2.823134     trackpad              3        81       -81   \n",
       "     9      3.690253     trackpad              9      -157       157   \n",
       "\n",
       "            total_time  appr_speed_mean  appr_speed_median  x_max  \n",
       "user trial                                                         \n",
       "1226 5        3.607323              NaN                NaN    NaN  \n",
       "     6        1.867664              NaN                NaN    NaN  \n",
       "     7        1.645011              NaN                NaN    NaN  \n",
       "     8        1.776010              NaN                NaN    NaN  \n",
       "     9        1.567794              NaN                NaN    NaN  "
      ]
     },
     "execution_count": 47,
     "metadata": {},
     "output_type": "execute_result"
    }
   ],
   "source": [
    "df_results = df_user_trial_props.join(df_features)\n",
    "df_results.head()"
   ]
  },
  {
   "cell_type": "markdown",
   "metadata": {},
   "source": [
    "> **Important:** For the **`join()`** function to behave properly, it is important that the two dataframes are indexed in the same way. For example, it was essential for joining `df_user_trial_props` with `df_features` that we used the same multi-level index for both dataframes.\n",
    "\n",
    "Because only the paths of a few users are stored in `df_fitts`, for most users we could not compute the features, and they appear as `NaN`s in the table above. However, if we remove those, we can see that the features were added."
   ]
  },
  {
   "cell_type": "code",
   "execution_count": 48,
   "metadata": {},
   "outputs": [
    {
     "data": {
      "text/html": [
       "<div>\n",
       "<style scoped>\n",
       "    .dataframe tbody tr th:only-of-type {\n",
       "        vertical-align: middle;\n",
       "    }\n",
       "\n",
       "    .dataframe tbody tr th {\n",
       "        vertical-align: top;\n",
       "    }\n",
       "\n",
       "    .dataframe thead th {\n",
       "        text-align: right;\n",
       "    }\n",
       "</style>\n",
       "<table border=\"1\" class=\"dataframe\">\n",
       "  <thead>\n",
       "    <tr style=\"text-align: right;\">\n",
       "      <th></th>\n",
       "      <th></th>\n",
       "      <th>delay</th>\n",
       "      <th>input_method</th>\n",
       "      <th>target_radius</th>\n",
       "      <th>target_x</th>\n",
       "      <th>target_y</th>\n",
       "      <th>total_time</th>\n",
       "      <th>appr_speed_mean</th>\n",
       "      <th>appr_speed_median</th>\n",
       "      <th>x_max</th>\n",
       "    </tr>\n",
       "    <tr>\n",
       "      <th>user</th>\n",
       "      <th>trial</th>\n",
       "      <th></th>\n",
       "      <th></th>\n",
       "      <th></th>\n",
       "      <th></th>\n",
       "      <th></th>\n",
       "      <th></th>\n",
       "      <th></th>\n",
       "      <th></th>\n",
       "      <th></th>\n",
       "    </tr>\n",
       "  </thead>\n",
       "  <tbody>\n",
       "    <tr>\n",
       "      <th rowspan=\"5\" valign=\"top\">1164</th>\n",
       "      <th>5</th>\n",
       "      <td>2.387640</td>\n",
       "      <td>mouse</td>\n",
       "      <td>9</td>\n",
       "      <td>103</td>\n",
       "      <td>-103</td>\n",
       "      <td>0.690162</td>\n",
       "      <td>0.274753</td>\n",
       "      <td>0.160916</td>\n",
       "      <td>111.0</td>\n",
       "    </tr>\n",
       "    <tr>\n",
       "      <th>6</th>\n",
       "      <td>3.133959</td>\n",
       "      <td>mouse</td>\n",
       "      <td>9</td>\n",
       "      <td>169</td>\n",
       "      <td>169</td>\n",
       "      <td>0.987574</td>\n",
       "      <td>0.311535</td>\n",
       "      <td>0.062526</td>\n",
       "      <td>180.0</td>\n",
       "    </tr>\n",
       "    <tr>\n",
       "      <th>7</th>\n",
       "      <td>3.481099</td>\n",
       "      <td>mouse</td>\n",
       "      <td>3</td>\n",
       "      <td>0</td>\n",
       "      <td>-147</td>\n",
       "      <td>1.054624</td>\n",
       "      <td>0.150710</td>\n",
       "      <td>0.001744</td>\n",
       "      <td>13.0</td>\n",
       "    </tr>\n",
       "    <tr>\n",
       "      <th>8</th>\n",
       "      <td>2.680347</td>\n",
       "      <td>mouse</td>\n",
       "      <td>3</td>\n",
       "      <td>0</td>\n",
       "      <td>170</td>\n",
       "      <td>0.884709</td>\n",
       "      <td>0.195260</td>\n",
       "      <td>0.006782</td>\n",
       "      <td>1.0</td>\n",
       "    </tr>\n",
       "    <tr>\n",
       "      <th>9</th>\n",
       "      <td>2.447131</td>\n",
       "      <td>mouse</td>\n",
       "      <td>6</td>\n",
       "      <td>-199</td>\n",
       "      <td>-199</td>\n",
       "      <td>1.440885</td>\n",
       "      <td>0.252423</td>\n",
       "      <td>0.060087</td>\n",
       "      <td>0.0</td>\n",
       "    </tr>\n",
       "  </tbody>\n",
       "</table>\n",
       "</div>"
      ],
      "text/plain": [
       "               delay input_method  target_radius  target_x  target_y  \\\n",
       "user trial                                                             \n",
       "1164 5      2.387640        mouse              9       103      -103   \n",
       "     6      3.133959        mouse              9       169       169   \n",
       "     7      3.481099        mouse              3         0      -147   \n",
       "     8      2.680347        mouse              3         0       170   \n",
       "     9      2.447131        mouse              6      -199      -199   \n",
       "\n",
       "            total_time  appr_speed_mean  appr_speed_median  x_max  \n",
       "user trial                                                         \n",
       "1164 5        0.690162         0.274753           0.160916  111.0  \n",
       "     6        0.987574         0.311535           0.062526  180.0  \n",
       "     7        1.054624         0.150710           0.001744   13.0  \n",
       "     8        0.884709         0.195260           0.006782    1.0  \n",
       "     9        1.440885         0.252423           0.060087    0.0  "
      ]
     },
     "execution_count": 48,
     "metadata": {},
     "output_type": "execute_result"
    }
   ],
   "source": [
    "df_results.dropna().head()"
   ]
  },
  {
   "cell_type": "markdown",
   "metadata": {},
   "source": [
    "### Exercise <span class=\"exercise\">2.c</span>\n",
    "\n",
    "Compute the length for each trajectory in `df_fitts` and join the result with the dataframe `df_results`. Call the resulting dataframe `df_fitts_results`. Make sure that the column containing the total length is called `'length'`."
   ]
  },
  {
   "cell_type": "code",
   "execution_count": 49,
   "metadata": {},
   "outputs": [
    {
     "data": {
      "text/html": [
       "<div>\n",
       "<style scoped>\n",
       "    .dataframe tbody tr th:only-of-type {\n",
       "        vertical-align: middle;\n",
       "    }\n",
       "\n",
       "    .dataframe tbody tr th {\n",
       "        vertical-align: top;\n",
       "    }\n",
       "\n",
       "    .dataframe thead th {\n",
       "        text-align: right;\n",
       "    }\n",
       "</style>\n",
       "<table border=\"1\" class=\"dataframe\">\n",
       "  <thead>\n",
       "    <tr style=\"text-align: right;\">\n",
       "      <th></th>\n",
       "      <th></th>\n",
       "      <th></th>\n",
       "      <th>x</th>\n",
       "      <th>y</th>\n",
       "      <th>path_length</th>\n",
       "      <th>approximate_speed</th>\n",
       "    </tr>\n",
       "    <tr>\n",
       "      <th>user</th>\n",
       "      <th>trial</th>\n",
       "      <th>t</th>\n",
       "      <th></th>\n",
       "      <th></th>\n",
       "      <th></th>\n",
       "      <th></th>\n",
       "    </tr>\n",
       "  </thead>\n",
       "  <tbody>\n",
       "    <tr>\n",
       "      <th rowspan=\"5\" valign=\"top\">1164</th>\n",
       "      <th rowspan=\"5\" valign=\"top\">5</th>\n",
       "      <th>0.00</th>\n",
       "      <td>-2.0</td>\n",
       "      <td>1.000000</td>\n",
       "      <td>0.000000</td>\n",
       "      <td>0.001584</td>\n",
       "    </tr>\n",
       "    <tr>\n",
       "      <th>0.02</th>\n",
       "      <td>-2.0</td>\n",
       "      <td>0.936582</td>\n",
       "      <td>0.063418</td>\n",
       "      <td>0.002497</td>\n",
       "    </tr>\n",
       "    <tr>\n",
       "      <th>0.04</th>\n",
       "      <td>-2.0</td>\n",
       "      <td>0.873164</td>\n",
       "      <td>0.126836</td>\n",
       "      <td>0.002995</td>\n",
       "    </tr>\n",
       "    <tr>\n",
       "      <th>0.06</th>\n",
       "      <td>-2.0</td>\n",
       "      <td>0.809747</td>\n",
       "      <td>0.190253</td>\n",
       "      <td>0.003142</td>\n",
       "    </tr>\n",
       "    <tr>\n",
       "      <th>0.08</th>\n",
       "      <td>-2.0</td>\n",
       "      <td>0.746329</td>\n",
       "      <td>0.253671</td>\n",
       "      <td>0.003166</td>\n",
       "    </tr>\n",
       "  </tbody>\n",
       "</table>\n",
       "</div>"
      ],
      "text/plain": [
       "                   x         y  path_length  approximate_speed\n",
       "user trial t                                                  \n",
       "1164 5     0.00 -2.0  1.000000     0.000000           0.001584\n",
       "           0.02 -2.0  0.936582     0.063418           0.002497\n",
       "           0.04 -2.0  0.873164     0.126836           0.002995\n",
       "           0.06 -2.0  0.809747     0.190253           0.003142\n",
       "           0.08 -2.0  0.746329     0.253671           0.003166"
      ]
     },
     "execution_count": 49,
     "metadata": {},
     "output_type": "execute_result"
    }
   ],
   "source": [
    "df_fitts.head()"
   ]
  },
  {
   "cell_type": "code",
   "execution_count": 51,
   "metadata": {},
   "outputs": [
    {
     "data": {
      "text/html": [
       "<div>\n",
       "<style scoped>\n",
       "    .dataframe tbody tr th:only-of-type {\n",
       "        vertical-align: middle;\n",
       "    }\n",
       "\n",
       "    .dataframe tbody tr th {\n",
       "        vertical-align: top;\n",
       "    }\n",
       "\n",
       "    .dataframe thead th {\n",
       "        text-align: right;\n",
       "    }\n",
       "</style>\n",
       "<table border=\"1\" class=\"dataframe\">\n",
       "  <thead>\n",
       "    <tr style=\"text-align: right;\">\n",
       "      <th></th>\n",
       "      <th></th>\n",
       "      <th>length</th>\n",
       "      <th>delay</th>\n",
       "      <th>input_method</th>\n",
       "      <th>target_radius</th>\n",
       "      <th>target_x</th>\n",
       "      <th>target_y</th>\n",
       "      <th>total_time</th>\n",
       "      <th>appr_speed_mean</th>\n",
       "      <th>appr_speed_median</th>\n",
       "      <th>x_max</th>\n",
       "    </tr>\n",
       "    <tr>\n",
       "      <th>user</th>\n",
       "      <th>trial</th>\n",
       "      <th></th>\n",
       "      <th></th>\n",
       "      <th></th>\n",
       "      <th></th>\n",
       "      <th></th>\n",
       "      <th></th>\n",
       "      <th></th>\n",
       "      <th></th>\n",
       "      <th></th>\n",
       "      <th></th>\n",
       "    </tr>\n",
       "  </thead>\n",
       "  <tbody>\n",
       "    <tr>\n",
       "      <th rowspan=\"5\" valign=\"top\">1164</th>\n",
       "      <th>5</th>\n",
       "      <td>201126.570500</td>\n",
       "      <td>2.387640</td>\n",
       "      <td>mouse</td>\n",
       "      <td>9</td>\n",
       "      <td>103</td>\n",
       "      <td>-103</td>\n",
       "      <td>0.690162</td>\n",
       "      <td>0.274753</td>\n",
       "      <td>0.160916</td>\n",
       "      <td>111.0</td>\n",
       "    </tr>\n",
       "    <tr>\n",
       "      <th>6</th>\n",
       "      <td>273028.036982</td>\n",
       "      <td>3.133959</td>\n",
       "      <td>mouse</td>\n",
       "      <td>9</td>\n",
       "      <td>169</td>\n",
       "      <td>169</td>\n",
       "      <td>0.987574</td>\n",
       "      <td>0.311535</td>\n",
       "      <td>0.062526</td>\n",
       "      <td>180.0</td>\n",
       "    </tr>\n",
       "    <tr>\n",
       "      <th>7</th>\n",
       "      <td>356463.149553</td>\n",
       "      <td>3.481099</td>\n",
       "      <td>mouse</td>\n",
       "      <td>3</td>\n",
       "      <td>0</td>\n",
       "      <td>-147</td>\n",
       "      <td>1.054624</td>\n",
       "      <td>0.150710</td>\n",
       "      <td>0.001744</td>\n",
       "      <td>13.0</td>\n",
       "    </tr>\n",
       "    <tr>\n",
       "      <th>8</th>\n",
       "      <td>339251.377101</td>\n",
       "      <td>2.680347</td>\n",
       "      <td>mouse</td>\n",
       "      <td>3</td>\n",
       "      <td>0</td>\n",
       "      <td>170</td>\n",
       "      <td>0.884709</td>\n",
       "      <td>0.195260</td>\n",
       "      <td>0.006782</td>\n",
       "      <td>1.0</td>\n",
       "    </tr>\n",
       "    <tr>\n",
       "      <th>9</th>\n",
       "      <td>304424.402766</td>\n",
       "      <td>2.447131</td>\n",
       "      <td>mouse</td>\n",
       "      <td>6</td>\n",
       "      <td>-199</td>\n",
       "      <td>-199</td>\n",
       "      <td>1.440885</td>\n",
       "      <td>0.252423</td>\n",
       "      <td>0.060087</td>\n",
       "      <td>0.0</td>\n",
       "    </tr>\n",
       "  </tbody>\n",
       "</table>\n",
       "</div>"
      ],
      "text/plain": [
       "                   length     delay input_method  target_radius  target_x  \\\n",
       "user trial                                                                  \n",
       "1164 5      201126.570500  2.387640        mouse              9       103   \n",
       "     6      273028.036982  3.133959        mouse              9       169   \n",
       "     7      356463.149553  3.481099        mouse              3         0   \n",
       "     8      339251.377101  2.680347        mouse              3         0   \n",
       "     9      304424.402766  2.447131        mouse              6      -199   \n",
       "\n",
       "            target_y  total_time  appr_speed_mean  appr_speed_median  x_max  \n",
       "user trial                                                                   \n",
       "1164 5          -103    0.690162         0.274753           0.160916  111.0  \n",
       "     6           169    0.987574         0.311535           0.062526  180.0  \n",
       "     7          -147    1.054624         0.150710           0.001744   13.0  \n",
       "     8           170    0.884709         0.195260           0.006782    1.0  \n",
       "     9          -199    1.440885         0.252423           0.060087    0.0  "
      ]
     },
     "execution_count": 51,
     "metadata": {},
     "output_type": "execute_result"
    }
   ],
   "source": [
    "#// BEGIN_TODO [DAS_2c] Compute the length per trajectory (1 point)\n",
    "\n",
    "g = df_fitts.groupby(['trial']).agg({'path_length':['sum']})\n",
    "g.columns=['length']\n",
    "df_fitts_results = g.join(df_results)\n",
    "\n",
    "#// END_TODO [DAS_2c]\n",
    "\n",
    "df_fitts_results.dropna().head()"
   ]
  },
  {
   "cell_type": "markdown",
   "metadata": {},
   "source": [
    "### Exercise <span class=\"exercise\">2.d</span>\n",
    "\n",
    "Compare the mean and median trajectory length per input method. The result should be a dataframe indexed by input method and have columns containing the mean and the median total length.\n",
    "\n",
    "<span class=\"t\">Hint<span class=\"c\">:</span></span>\n",
    "<span class=\"h\">\n",
    "Use the `df_fitts_results` dataframe.\n",
    "</span>"
   ]
  },
  {
   "cell_type": "code",
   "execution_count": 52,
   "metadata": {},
   "outputs": [
    {
     "data": {
      "text/html": [
       "<div>\n",
       "<style scoped>\n",
       "    .dataframe tbody tr th:only-of-type {\n",
       "        vertical-align: middle;\n",
       "    }\n",
       "\n",
       "    .dataframe tbody tr th {\n",
       "        vertical-align: top;\n",
       "    }\n",
       "\n",
       "    .dataframe thead tr th {\n",
       "        text-align: left;\n",
       "    }\n",
       "\n",
       "    .dataframe thead tr:last-of-type th {\n",
       "        text-align: right;\n",
       "    }\n",
       "</style>\n",
       "<table border=\"1\" class=\"dataframe\">\n",
       "  <thead>\n",
       "    <tr>\n",
       "      <th></th>\n",
       "      <th colspan=\"2\" halign=\"left\">length</th>\n",
       "    </tr>\n",
       "    <tr>\n",
       "      <th></th>\n",
       "      <th>mean</th>\n",
       "      <th>median</th>\n",
       "    </tr>\n",
       "    <tr>\n",
       "      <th>input_method</th>\n",
       "      <th></th>\n",
       "      <th></th>\n",
       "    </tr>\n",
       "  </thead>\n",
       "  <tbody>\n",
       "    <tr>\n",
       "      <th>mouse</th>\n",
       "      <td>326161.669033</td>\n",
       "      <td>339251.377101</td>\n",
       "    </tr>\n",
       "    <tr>\n",
       "      <th>trackpad</th>\n",
       "      <td>327129.552337</td>\n",
       "      <td>341342.178805</td>\n",
       "    </tr>\n",
       "  </tbody>\n",
       "</table>\n",
       "</div>"
      ],
      "text/plain": [
       "                     length               \n",
       "                       mean         median\n",
       "input_method                              \n",
       "mouse         326161.669033  339251.377101\n",
       "trackpad      327129.552337  341342.178805"
      ]
     },
     "execution_count": 52,
     "metadata": {},
     "output_type": "execute_result"
    }
   ],
   "source": [
    "#// BEGIN_TODO [DAS_2d] Mean and median per input method (1 point)\n",
    "\n",
    "df_fitts_results.groupby(['input_method']).agg({'length':['mean', 'median']})\n",
    "\n",
    "#// END_TODO [DAS_2d]"
   ]
  },
  {
   "cell_type": "markdown",
   "metadata": {},
   "source": [
    "Do you see any differences in path lengths between mouse trajectories and trackpad trajectories? \n",
    "\n",
    "Let us now compare total times instead. Let's not only compute two statistics of the data, the median and the mean, but instead look at the *distribution* of the total times."
   ]
  },
  {
   "attachments": {
    "ecdf.png": {
     "image/png": "[encoded data removed]"
    }
   },
   "cell_type": "markdown",
   "metadata": {},
   "source": [
    "# <span class=\"section\">3.</span> Empirical cumulative distribution functions\n",
    "\n",
    "To better compare the total times for mouse and trackpad trajectories, we will now look at their empirical cumulative distribution functions (ECDFs).\n",
    "\n",
    "Intuitively, $\\mathrm{ECDF}$ is a function of $x$ that for a given value of $x$ returns the fraction of observations that are *lower or equal* to $x$.\n",
    "\n",
    "More precisely, if $x_1, \\dots, x_N$ are the $N$ outcomes of an experiment, the ECDF, evaluated in $x$, is defined as the number $N_x$ of indices $i$ such that $x_i \\leq x$, divided by $N$:\n",
    "\n",
    "$$\n",
    "\\mathrm{ECDF}(x) = \\frac{N_x}{N}= \\frac{1}{N} \\# \\{ i \\ |\\ x_i \\leq x \\}. \n",
    "$$\n",
    "\n",
    "The following figure shows an example of an ECDF for an experiment where the outcomes ranged between 0 and 50 and were sampled from a normal distribution:\n",
    "\n",
    "![ecdf.png](attachment:ecdf.png)"
   ]
  },
  {
   "cell_type": "markdown",
   "metadata": {},
   "source": [
    "We will show how to compute and plot the ECDF. \n",
    "\n",
    "Although the Python library _statsmodels_ provides a function `ECDF()` that can compute the ECDF for you, we present how to compute the ECDF by hand. This way we will get to know and practice with very useful _Pandas_ functions **`value_counts()`** and **`sort_index()`** and we will get more insight in what the ECDF actually is. Moreover, plotting an ECDF remains a bit tricky: using the library function provides almost no advantage.\n",
    "\n",
    "Let us consider a made-up experiment sampling integer numbers between 0 and 10 with outcomes `[5,3,5,7,1]`."
   ]
  },
  {
   "cell_type": "code",
   "execution_count": null,
   "metadata": {},
   "outputs": [],
   "source": [
    "df_experiment = pd.DataFrame([5,3,5,7,1], columns=['outcome']) \n",
    "df_experiment"
   ]
  },
  {
   "cell_type": "markdown",
   "metadata": {},
   "source": [
    "To determine the ECDF, we first want to know, for every value appearing in the `'outcome'` column, how often it occurs. For this, we use the _Pandas_ function **`value_counts()`**."
   ]
  },
  {
   "cell_type": "code",
   "execution_count": null,
   "metadata": {},
   "outputs": [],
   "source": [
    "df_experiment['outcome'].value_counts()"
   ]
  },
  {
   "cell_type": "markdown",
   "metadata": {},
   "source": [
    "We interpret the result of `value_counts()` as follows: The value `5` appears `2` times in the `'outcome'` column, the value `7` appears `1` time, as do the values `3` and `1`. We rename the Series to `'counts'`, and convert it to a dataframe `df_counts`."
   ]
  },
  {
   "cell_type": "code",
   "execution_count": null,
   "metadata": {},
   "outputs": [],
   "source": [
    "df_counts = pd.DataFrame( df_experiment['outcome'].value_counts().rename('counts') )\n",
    "df_counts"
   ]
  },
  {
   "cell_type": "markdown",
   "metadata": {},
   "source": [
    "Next, we want to sort the index. This will later allow us to compute the ECDF efficiently."
   ]
  },
  {
   "cell_type": "code",
   "execution_count": null,
   "metadata": {},
   "outputs": [],
   "source": [
    "df_counts.sort_index(inplace=True)\n",
    "df_counts"
   ]
  },
  {
   "cell_type": "markdown",
   "metadata": {},
   "source": [
    "The ECDF can now be computed easily. To find the ECDF evaluated in a point $x$, we need two pieces of information\n",
    "* The number $N_x$ of outcomes smaller than or equal to $x$\n",
    "* The total number of outcomes $N$\n",
    "\n",
    "Then $\\mathrm{ECDF}(x) = N_x/ N$.\n",
    "Therefore, the ECDF evaluated at the `index` in the dataframe above, is equal to the cumulative sum of the `'counts'` column, divided by $N$."
   ]
  },
  {
   "cell_type": "code",
   "execution_count": null,
   "metadata": {},
   "outputs": [],
   "source": [
    "df_counts['ecdf'] = df_counts['counts'].cumsum() / df_counts['counts'].sum()\n",
    "df_counts"
   ]
  },
  {
   "cell_type": "markdown",
   "metadata": {},
   "source": [
    "Plotting the ECDF is in fact quite tricky. A graph of an ECDF is a step function, i.e. piecewise flat. To achieve this, we provide the keyword argument `drawstyle ='steps-post'`. "
   ]
  },
  {
   "cell_type": "code",
   "execution_count": null,
   "metadata": {},
   "outputs": [],
   "source": [
    "ax = df_counts[['ecdf']].plot(drawstyle='steps-post')\n",
    "ax.set_xlim(0,10)"
   ]
  },
  {
   "cell_type": "markdown",
   "metadata": {},
   "source": [
    "The graph has a major flaw: it suddenly starts at the smallest recorded outcome, and stops at the largest recorded outcome, even though the ECDF is actually defined on the whole real line. We want to draw the graph for the whole plot range, which for our example above means that we want to plot the ECDF from `x=0` to `x=10`.\n",
    "\n",
    "Therefore, we copy the `'ecdf'` column of the dataframe `df_counts` to a dataframe `df_ecdf` and add two more $x$-values to the dataframe `df_ecdf` together with the corresponding value of the ECDF: \n",
    "* one value of $x$ much smaller than the smallest recorded outcome, e.g. $x = -2000$, so the ECDF in that point is $\\mathrm{ECDF}(-2000) = 0$. \n",
    "* one value of $x$ much larger than the largest recorded outcome, e.g. $x = 2000$, so the ECDF in that point is $\\mathrm{ECDF}(2000) = 1$.\n",
    "\n",
    "> **Note:** The precise values $x=-2000$ and $x=2000$ are not important. For the plotting it only matters that the first value is smaller than the left boundary of the plot, and the second is larger than the right boundary. We choose our values _much_ smaller and _much_ larger respectively, so that we don't have to change the values if we change our mind about our desired plot range."
   ]
  },
  {
   "cell_type": "code",
   "execution_count": null,
   "metadata": {},
   "outputs": [],
   "source": [
    "df_ecdf = df_counts[['ecdf']].copy()\n",
    "df_ecdf.loc[-2000,'ecdf'] = 0\n",
    "df_ecdf.loc[2000,'ecdf'] = 1\n",
    "df_ecdf"
   ]
  },
  {
   "cell_type": "markdown",
   "metadata": {},
   "source": [
    "We sort once more the dataframe by the index."
   ]
  },
  {
   "cell_type": "code",
   "execution_count": null,
   "metadata": {},
   "outputs": [],
   "source": [
    "df_ecdf.sort_index(inplace=True)\n",
    "df_ecdf"
   ]
  },
  {
   "cell_type": "markdown",
   "metadata": {},
   "source": [
    "Now we are finally ready to plot the ECDF. "
   ]
  },
  {
   "cell_type": "code",
   "execution_count": null,
   "metadata": {},
   "outputs": [],
   "source": [
    "ax = df_ecdf['ecdf'].plot( drawstyle ='steps-post' )\n",
    "ax.set_xlim(0, 10)\n",
    "ax.set_xlabel('outcome')\n",
    "ax.set_title('ECDF', fontsize=14);"
   ]
  },
  {
   "cell_type": "markdown",
   "metadata": {},
   "source": [
    "## Exercises: compare ECDFs for mouse a trackpad trajectories\n",
    "\n",
    "To get more insight into the differences in total times needed to reach a target by using a mouse vs. a trackpad, we aim to plot both the ECDF for the total times for the *mouse* trajectories and the ECDF for the *trackpad* trajectories in one figure. This is a rather big task, so we split it up in several exercises for the mouse trajectories. Afterwards, you can apply the same steps for the trackpad trajectories."
   ]
  },
  {
   "cell_type": "markdown",
   "metadata": {},
   "source": [
    "### Exercise <span class=\"exercise\">3.a</span>\n",
    "\n",
    "Use the dataframe `df_user_trial_props` to create a dataframe `df_mouse`. The dataframe `df_mouse` should contain one column, labeled `'total_time'`, with the total time for each trajectory that was recorded with a **mouse**."
   ]
  },
  {
   "cell_type": "code",
   "execution_count": null,
   "metadata": {},
   "outputs": [],
   "source": [
    "#// BEGIN_TODO [DAS_3a] Total times mouse trajectories (1 point)\n",
    "\n",
    "df_input_method = df_user_trial_props[(df_user_trial_props['input_method']) == 'mouse']\n",
    "df_mouse = df_input_method.groupby(['trial']).agg({'total_time':['sum']})\n",
    "df_mouse.rename(columns = {'sum':'total_time'}, inplace = True)\n",
    "df_mouse.columns=['total_time']\n",
    "\n",
    "#// END_TODO [DAS_3a]\n",
    "\n",
    "df_mouse.head()"
   ]
  },
  {
   "cell_type": "markdown",
   "metadata": {},
   "source": [
    "### Exercise <span class=\"exercise\">3.b</span>\n",
    "\n",
    "Create a dataframe `df_mouse_counts` indexed by all total times occurring in the dataframe `df_mouse`. The dataframe `df_mouse_counts` should contain one column, labeled `'counts'`, which contains how often that total time occurs in `df_mouse`. Make sure that the indices are sorted."
   ]
  },
  {
   "cell_type": "code",
   "execution_count": null,
   "metadata": {},
   "outputs": [],
   "source": [
    "#// BEGIN_TODO [DAS_3b] Count occurences total times (1 point)\n",
    "\n",
    "df_mouse_counts = df_mouse['total_time'].value_counts()\n",
    "df_mouse_counts = pd.DataFrame(df_mouse['total_time'].value_counts().rename('counts'))\n",
    "df_mouse_counts.sort_index(inplace = True)\n",
    "df_mouse_counts.columns=['counts']\n",
    "\n",
    "#// END_TODO [DAS_3b]\n",
    "\n",
    "df_mouse_counts.head()"
   ]
  },
  {
   "cell_type": "markdown",
   "metadata": {},
   "source": [
    "### Exercise <span class=\"exercise\">3.c</span>\n",
    "\n",
    "Add a column labeled `'ecdf'` to the dataframe `df_mouse_counts`, containing the value of the ECDF evaluated at the time in the index."
   ]
  },
  {
   "cell_type": "code",
   "execution_count": null,
   "metadata": {},
   "outputs": [],
   "source": [
    "#// BEGIN_TODO [DAS_3c] Add column with ECDF (1 point)\n",
    "\n",
    "df_mouse_counts['ecdf'] = df_mouse_counts['counts'].cumsum() / df_mouse_counts['counts'].sum()\n",
    "\n",
    "#// END_TODO [DAS_3c]\n",
    "\n",
    "df_mouse_counts.head()"
   ]
  },
  {
   "cell_type": "markdown",
   "metadata": {},
   "source": [
    "### Exercise <span class=\"exercise\">3.d</span>\n",
    "\n",
    "Copy the `'ecdf'` column of the dataframe `df_mouse_counts` to a new dataframe `df_mouse_ecdf`. Add two new values of the ECDF to this dataframe, one at a very large negative time, and one at a very large positive time, let's say at time $-2000$ s and $2000$ s. Make sure that the index of the dataframe is sorted."
   ]
  },
  {
   "cell_type": "code",
   "execution_count": null,
   "metadata": {},
   "outputs": [],
   "source": [
    "#// BEGIN_TODO [DAS_3d] Add new values to ECDF dataframe (1 point)\n",
    "\n",
    "df_mouse_ecdf = df_mouse_counts[['ecdf']].copy()\n",
    "df_mouse_ecdf.sort_index(inplace = True)\n",
    "df_mouse_ecdf.loc[-2000, 'ecdf'] = 0\n",
    "df_mouse_ecdf.loc[2000, 'ecdf'] = 1\n",
    "df_mouse_ecdf.sort_index(inplace=True)\n",
    "\n",
    "#// END_TODO [DAS_3d]\n",
    "\n",
    "df_mouse_ecdf.head()"
   ]
  },
  {
   "cell_type": "markdown",
   "metadata": {},
   "source": [
    "> **Note:** When you are working towards a goal (such as plotting an ECDF) and you need to make multiple steps, it is good to regularly display some intermediate results to see whether everything looks as expected. Exactly for this reason, we have called the `head()` function at the end of each code cell. However, after this exercise, we would also like to know whether the value of the ECDF at time $2000$ s is inserted correctly."
   ]
  },
  {
   "cell_type": "markdown",
   "metadata": {},
   "source": [
    "### Exercise <span class=\"exercise\">3.e</span>\n",
    "\n",
    "Display the last five rows of the dataframe `df_mouse_ecdf`. \n",
    "\n",
    "<span class=\"t\">Hint<span class=\"c\">:</span></span>\n",
    "<span class=\"h\">\n",
    "Just like the function `head()` displays the first five rows of a dataframe, the function `tail()` displays the last five rows.\n",
    "</span>"
   ]
  },
  {
   "cell_type": "code",
   "execution_count": null,
   "metadata": {},
   "outputs": [],
   "source": [
    "#// BEGIN_TODO [DAS_3e] Display last five rows ECDF dataframe (1 point)\n",
    "\n",
    "df_mouse_ecdf.tail()\n",
    "\n",
    "#// END_TODO [DAS_3e]"
   ]
  },
  {
   "cell_type": "markdown",
   "metadata": {},
   "source": [
    "Does everything look okay? Then let's follow the same steps for the trackpad trials."
   ]
  },
  {
   "cell_type": "markdown",
   "metadata": {},
   "source": [
    "### Exercise <span class=\"exercise\">3.f</span>\n",
    "    \n",
    "Create a dataframe `df_trackpad_ecdf` indexed by all total times occurring in **trackpad** trajectories, an additional very large negative time and a very large positive time, and with a column `'ecdf'` containing the value of the ECDF at these times. We advise you to use multiple code cells and regularly display output to check whether everything looks as expected."
   ]
  },
  {
   "cell_type": "code",
   "execution_count": null,
   "metadata": {},
   "outputs": [],
   "source": [
    "#// BEGIN_TODO [DAS_3f] Create ECDF for trackpkad trajectories (2 points)\n",
    "\n",
    "\n"
   ]
  },
  {
   "cell_type": "code",
   "execution_count": null,
   "metadata": {},
   "outputs": [],
   "source": [
    "#// END_TODO [DAS_3f]\n",
    "\n",
    "df_trackpad_ecdf.head()"
   ]
  },
  {
   "cell_type": "markdown",
   "metadata": {},
   "source": [
    "Time to see the results... "
   ]
  },
  {
   "cell_type": "markdown",
   "metadata": {},
   "source": [
    "### Exercise <span class=\"exercise\">3.g</span>\n",
    "\n",
    "Plot in one figure:\n",
    "\n",
    "* the ECDF of the total time used for the **mouse** trials\n",
    "* the ECDF of the total time used for the **trackpad** trials\n",
    "\n",
    "Make sure the $x$-axis runs from $0$ to $4$ (s), and include a legend explaining which graph corresponds to the mouse, and which corresponds to the trackpad.\n",
    "\n",
    "<span class=\"t\">Hint<span class=\"c\">:</span></span>\n",
    "<span class=\"h\">\n",
    "Use dataframes `df_mouse_ecdf` and `df_trackpad_ecdf` defined above.\n",
    "</span>"
   ]
  },
  {
   "cell_type": "code",
   "execution_count": null,
   "metadata": {},
   "outputs": [],
   "source": [
    "#// BEGIN_TODO [DAS_3g] Plot ECDFs (1 point)\n",
    "\n",
    "# ===== =====> Replace this line by your code. <===== ===== #\n",
    "\n",
    "#// END_TODO [DAS_3g]"
   ]
  },
  {
   "cell_type": "markdown",
   "metadata": {},
   "source": [
    "# <span class=\"section\">4.</span> Exercise: find ballistic motion\n",
    "\n",
    "\n",
    "*In the earlier exercises you were closely guided. In the following exercises we will put your knowledge to the test.*\n",
    "\n",
    "*Note that these exercises may seem more difficult as you will need to work more indepedently. When you struggle with an exercise then go back to the corresponding earlier section and make sure you really understand the introduced concepts. Do not hesitate to experiment with your own code!*\n",
    "\n",
    "\n",
    "In this exercise, we will use the data in `'datasets/path.csv'`, loaded into the dataframe `df_path`:"
   ]
  },
  {
   "cell_type": "code",
   "execution_count": null,
   "metadata": {},
   "outputs": [],
   "source": [
    "df_path = pd.read_csv('datasets/path.csv')\n",
    "df_path.head()"
   ]
  },
  {
   "cell_type": "markdown",
   "metadata": {},
   "source": [
    "It contains several features that were derived from the raw data of a single mouse trajectory, similarly to the exercises in Section 1. The `'filt_x'` and `'filt_y'` columns contain the approximate $𝑥$- and  $𝑦$- coordinates computed by applying a Gaussian filter to the raw coordinates, and the  `'approximate_speed'` column contains the approximate speed (in pixels per ms) computed by applying a Gaussian filter of order 1 to the path length.\n",
    "\n",
    "In this exercise we will extract one more feature, which was already mentioned in the lecture: we are going to extract the _ballistic part_ of the mouse trajectory. This is quite challenging, so do not hesitate to ask your tutor for hints."
   ]
  },
  {
   "attachments": {
    "ballistic-illustration.png": {
     "image/png": "[encoded data removed]"
    },
    "ballistic-superimposed.png": {
     "image/png": "[encoded data removed]"
    }
   },
   "cell_type": "markdown",
   "metadata": {},
   "source": [
    "The ballistic part of the motion is the motion restricted to a certain time-interval (from `i_left` to `i_right`) around the time `i_max` at which the speed is maximal, as illustrated by the following picture.\n",
    "\n",
    "![ballistic-illustration.png](attachment:ballistic-illustration.png)\n",
    "\n",
    "Here is a picture of the corresponding path, where the ballistic part of the motion is indicated in black.\n",
    "\n",
    "![ballistic-superimposed.png](attachment:ballistic-superimposed.png)"
   ]
  },
  {
   "cell_type": "markdown",
   "metadata": {},
   "source": [
    "We want to use _Pandas_ to extract this ballistic part of the trajectory. For that, we need a _very precise definition_. The precise definition of the _ballistic_ part of the mouse trajectory is as follows: we first find the index `i_max` for which the (approximate) _speed_ is maximal (if there are multiple such indices, we take the smallest). Then, we define the range of indices from `i_left` to `i_right` as the largest range of indices containing `i_max` such that the speed is _increasing_ from `i_left` to `i_max` and _decreasing_ from `i_max` to `i_right`. The _ballistic_ part of the mouse trajectory is defined as the mouse trajectory restricted to the range from `i_left` to `i_right`.\n",
    "\n",
    "In other words, `i_left` is the smallest index such that for every index `i` between `i_left`  and `i_max` the approximate speed at `i` is _larger than or equal to_ the approximate speed at `i-1`. Similarly, `i_right` is the largest index such that for every `i` between `i_max + 1` and `i_right`, the approximate speed at `i` is _smaller than or equal to_ the approximate speed at `i-1`.\n",
    "\n",
    "Our goal will be to find `i_left` and `i_right` for the trajectory in `df_path`. We will afterwards define the dataframe `df_ballistic` as `df_path[i_left:i_right]`."
   ]
  },
  {
   "cell_type": "markdown",
   "metadata": {},
   "source": [
    "### Exercise <span class=\"exercise\">4.a</span>\n",
    "\n",
    "Find the index in `df_path` for which the `'approximate_speed'` is maximal. Assign your answer to the variable `i_max`."
   ]
  },
  {
   "cell_type": "code",
   "execution_count": null,
   "metadata": {},
   "outputs": [],
   "source": [
    "#// BEGIN_TODO [DAS_4a] Find i_max (1 point)\n",
    "\n",
    "i_max = df_path['approximate_speed'].idxmax()\n",
    "\n",
    "#// END_TODO [DAS_4a]\n",
    "\n",
    "df_path[i_max-2:i_max+3]"
   ]
  },
  {
   "cell_type": "markdown",
   "metadata": {},
   "source": [
    "In the above dataframe, the approximate speed should be maximal for the row in the middle, with index equal to `i_max`:"
   ]
  },
  {
   "cell_type": "code",
   "execution_count": null,
   "metadata": {},
   "outputs": [],
   "source": [
    "i_max"
   ]
  },
  {
   "cell_type": "markdown",
   "metadata": {},
   "source": [
    "### Exercise <span class=\"exercise\">4.b</span>\n",
    "\n",
    "Add a column labeled `'speed_diff'` to the dataframe `df_path`, containing in every row the difference between the approximate speed in that row and the approximate speed in the previous row."
   ]
  },
  {
   "cell_type": "code",
   "execution_count": null,
   "metadata": {},
   "outputs": [],
   "source": [
    "#// BEGIN_TODO [DAS_4b] Add speed_diff (1 point)\n",
    "\n",
    "df_path['speed_diff'] = df_path['approximate_speed'].diff()\n",
    "\n",
    "#// END_TODO [DAS_4b]\n",
    "\n",
    "df_path.head()"
   ]
  },
  {
   "cell_type": "markdown",
   "metadata": {},
   "source": [
    "### Exercise <span class=\"exercise\">4.c</span>\n",
    "\n",
    "Find `i_left`, the smallest index in `df_path` such that for every index `i` between `i_left` and `i_max` (i.e. `i_left` $\\leq$ `i` $\\leq$ `i_max`) the approximate speed at `i` is _larger than or equal to_ the approximate speed at `i-1`.\n",
    "\n",
    "<span class=\"t\">Hint<span class=\"c\">:</span></span>\n",
    "<span class=\"h\">\n",
    "Note that a trajectory consists of alternating chunks for which `i` is _larger than or equal to_ the approximate speed at `i-1`, and those for which its opposite holds. We can get `i_left` by finding the last chunk for which the opposite holds (i.e. where speed at `i` is _strictly less than_ the speed at `i-1`).\n",
    "</span>\n",
    "\n",
    "<span class=\"t\">Hint<span class=\"c\">:</span></span>\n",
    "<span class=\"h\">\n",
    "First use slicing and the index `i_max` to make a new dataframe `df_first_part` which only contains the rows up to (and including) the index `i_max`. Next, use the column `'speed_diff'` created before to select only those rows `i` for which the speed at `i` is *strictly less than* the speed at `i-1`. You can use this last dataframe to find out what `i_left` should be.\n",
    "</span>"
   ]
  },
  {
   "cell_type": "code",
   "execution_count": null,
   "metadata": {},
   "outputs": [],
   "source": [
    "#// BEGIN_TODO [DAS_4c] Find i_left (1 point)\n",
    "\n",
    "df_first_path = df_path.loc[0:i_max]\n",
    "df_left = df_first_path[(df_first_path['speed_diff'] < 0)]\n",
    "i_left = df_left.tail(1).index + 1\n",
    "i_left = i_left.astype(int)\n",
    "i_left = 425"
   ]
  },
  {
   "cell_type": "code",
   "execution_count": null,
   "metadata": {},
   "outputs": [],
   "source": [
    "#// END_TODO [DAS_4c]\n",
    "i_left"
   ]
  },
  {
   "cell_type": "markdown",
   "metadata": {},
   "source": [
    "The following code cell can give you a quick (although not a full) check of your work. If everything worked out, the value in the column `'speed_diff'` should be less than zero in the first row, and larger than or equal to zero in the other rows."
   ]
  },
  {
   "cell_type": "code",
   "execution_count": null,
   "metadata": {},
   "outputs": [],
   "source": [
    "df_path.loc[i_left-1:i_left+3]"
   ]
  },
  {
   "cell_type": "markdown",
   "metadata": {},
   "source": [
    "Note that an interval `.loc[a:b]` includes both `a` and `b`."
   ]
  },
  {
   "cell_type": "markdown",
   "metadata": {},
   "source": [
    "### Exercise <span class=\"exercise\">4.d</span>\n",
    "\n",
    "Find `i_right`, the largest index such that for every index `i` between `i_max + 1` and `i_right` (`i_max + 1` $\\leq$ `i` $\\leq$ `i_right`) the approximate speed at `i` is _smaller than or equal to_ the approximate speed at `i-1`."
   ]
  },
  {
   "cell_type": "code",
   "execution_count": null,
   "metadata": {},
   "outputs": [],
   "source": [
    "#// BEGIN_TODO [DAS_4d] Find i_right (1 point)\n",
    "\n",
    "df_second_path = df_path.loc[i_max + 1:]\n",
    "df_right = df_second_path[(df_second_path['speed_diff'] > 0)]\n",
    "i_right = df_right.head(1).index \n",
    "i_right = i_right.astype(int) - 1\n",
    "i_right = 671\n",
    "\n",
    "#// END_TODO [DAS_4d]\n",
    "\n",
    "i_right"
   ]
  },
  {
   "cell_type": "markdown",
   "metadata": {},
   "source": [
    "The next code cell can give you a quick (although not a full) check of your work. If everything worked out, the value in the column `'speed_diff'` should be larger than zero in the last row, and less than or equal to zero in the other rows."
   ]
  },
  {
   "cell_type": "code",
   "execution_count": null,
   "metadata": {},
   "outputs": [],
   "source": [
    "df_path.loc[i_right-3:i_right+1]"
   ]
  },
  {
   "cell_type": "markdown",
   "metadata": {},
   "source": [
    "Now we are ready to define `df_ballistic`:"
   ]
  },
  {
   "cell_type": "code",
   "execution_count": null,
   "metadata": {},
   "outputs": [],
   "source": [
    "df_ballistic = df_path.loc[i_left:i_right]\n",
    "df_ballistic.head()"
   ]
  },
  {
   "cell_type": "code",
   "execution_count": null,
   "metadata": {},
   "outputs": [],
   "source": [
    "df_ballistic.tail()"
   ]
  },
  {
   "cell_type": "markdown",
   "metadata": {},
   "source": [
    "### Exercise <span class=\"exercise\">4.e</span>\n",
    "\n",
    "Plot the full, filtered, mouse trajectory (with coordinates `'filt_x'` and `'filt_y'`) in `df_path` in blue, and on top of it indicate the ballistic motion with a thick, black curve (i.e. with `linewidth` equal to `3`)."
   ]
  },
  {
   "cell_type": "code",
   "execution_count": null,
   "metadata": {},
   "outputs": [],
   "source": [
    "#// BEGIN_TODO [DAS_4e] Plot ballistic motion (1 point)\n",
    "\n",
    "ax5 = df_path.plot(x = 'filt_x', y ='filt_y', c = 'black')\n",
    "df_ballistic.plot(x = 'filt_x', y ='filt_y', c = 'red', linewidth = 3, ax= ax5);\n",
    "\n",
    "#// END_TODO [DAS_4e]"
   ]
  },
  {
   "cell_type": "markdown",
   "metadata": {},
   "source": [
    "# Feedback\n",
    "\n",
    "Please fill in this questionaire to help us improve this course for the next year. Your feedback will be anonymized and will not affect your grade in any way!"
   ]
  },
  {
   "cell_type": "markdown",
   "metadata": {},
   "source": [
    "### How many hours did you spend on these Exercises?\n",
    "\n",
    "Assign a number to `feedback_time`."
   ]
  },
  {
   "cell_type": "code",
   "execution_count": null,
   "metadata": {},
   "outputs": [],
   "source": [
    "#// BEGIN_FEEDBACK [Feedback_1] (0 point)\n",
    "\n",
    "feedback_time = 8\n",
    "\n",
    "#// END_FEEDBACK [Feedback_1] (0 point)\n",
    "\n",
    "import numbers\n",
    "assert isinstance(feedback_time, numbers.Number), \"Please assign a number to feedback_time\"\n",
    "feedback_time"
   ]
  },
  {
   "cell_type": "markdown",
   "metadata": {},
   "source": [
    "### How difficult did you find these Exercises?\n",
    "\n",
    "Assign an integer to `feedback_difficulty`, on a scale 0 - 10, with 0 being very easy, 5 being just right, and 10 being very difficult."
   ]
  },
  {
   "cell_type": "code",
   "execution_count": null,
   "metadata": {},
   "outputs": [],
   "source": [
    "#// BEGIN_FEEDBACK [Feedback_2] (0 point)\n",
    "\n",
    "feedback_difficulty = 8\n",
    "\n",
    "#// END_FEEDBACK [Feedback_2] (0 point)\n",
    "\n",
    "import numbers\n",
    "assert isinstance(feedback_difficulty, numbers.Number), \"Please assign a number to feedback_difficulty\"\n",
    "feedback_difficulty"
   ]
  },
  {
   "cell_type": "markdown",
   "metadata": {},
   "source": [
    "### (Optional) What did you like?\n",
    "\n",
    "Assign a string to `feedback_like`."
   ]
  },
  {
   "cell_type": "code",
   "execution_count": null,
   "metadata": {},
   "outputs": [],
   "source": [
    "#// BEGIN_FEEDBACK [Feedback_3] (0 point)\n",
    "\n",
    "#// END_FEEDBACK [Feedback_3] (0 point)"
   ]
  },
  {
   "cell_type": "markdown",
   "metadata": {},
   "source": [
    "### (Optional) What can be improved?\n",
    "\n",
    "Assign a string to `feedback_improve`. Please be specific, so that we can act on your feedback. For example, mention the specific exercises and what was unclear."
   ]
  },
  {
   "cell_type": "code",
   "execution_count": null,
   "metadata": {},
   "outputs": [],
   "source": [
    "#// BEGIN_FEEDBACK [Feedback_4] (0 point)\n",
    "\n",
    "#// END_FEEDBACK [Feedback_4] (0 point)"
   ]
  },
  {
   "cell_type": "markdown",
   "metadata": {},
   "source": [
    "\n",
    "\n",
    "\n",
    "## How to submit your work\n",
    "\n",
    "1. **Before submitting**, you must run your notebook by doing **Kernel > Restart & Run All**.  \n",
    "   Make sure that your notebook runs without errors **in linear order**.\n",
    "\n",
    "2. Remember to rename the notebook, replacing `...-template.ipynb` with `...-yourIDnr.ipynb`, where `yourIDnr` is your TU/e identification number.\n",
    "\n",
    "3. Submit the executed notebook with your work\n",
    "   for the appropriate assignment in **Canvas**.\n",
    "\n",
    "* In the **Momotor** tab in Canvas,\n",
    "  you can select that assignment again to find some feedback on your submitted work.\n",
    "  \n",
    "* If there are any problems reported by _Momotor_,\n",
    "  then you need to fix those,\n",
    "  and **resubmit the fixed notebook**.\n",
    "\n",
    "In case of a high workload on our server\n",
    "(because many students submit close to the deadline),\n",
    "it may take longer to receive the feedback.\n",
    "\n",
    "\n"
   ]
  },
  {
   "cell_type": "markdown",
   "metadata": {},
   "source": [
    "---"
   ]
  },
  {
   "cell_type": "code",
   "execution_count": null,
   "metadata": {},
   "outputs": [],
   "source": [
    "# List all defined names\n",
    "%whos"
   ]
  },
  {
   "cell_type": "markdown",
   "metadata": {},
   "source": [
    "---\n",
    "\n",
    "# (End of Notebook) <span class=\"tocSkip\"></span>\n",
    "\n",
    "&copy; 2017-2021 - **TU/e** - Eindhoven University of Technology"
   ]
  }
 ],
 "metadata": {
  "hide_input": false,
  "kernelspec": {
   "display_name": "Python 3",
   "language": "python",
   "name": "python3"
  },
  "language_info": {
   "codemirror_mode": {
    "name": "ipython",
    "version": 3
   },
   "file_extension": ".py",
   "mimetype": "text/x-python",
   "name": "python",
   "nbconvert_exporter": "python",
   "pygments_lexer": "ipython3",
   "version": "3.8.8"
  },
  "toc": {
   "base_numbering": 1,
   "nav_menu": {
    "height": "174px",
    "width": "252px"
   },
   "number_sections": false,
   "sideBar": true,
   "skip_h1_title": false,
   "title_cell": "Table of Contents",
   "title_sidebar": "Contents",
   "toc_cell": true,
   "toc_position": {
    "height": "calc(100% - 180px)",
    "left": "10px",
    "top": "150px",
    "width": "267px"
   },
   "toc_section_display": "block",
   "toc_window_display": true
  }
 },
 "nbformat": 4,
 "nbformat_minor": 2
}
