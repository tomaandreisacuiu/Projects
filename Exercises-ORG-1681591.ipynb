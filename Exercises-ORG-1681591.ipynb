{
 "cells": [
  {
   "cell_type": "markdown",
   "metadata": {},
   "source": [
    "# Programming Lesson and Exercises - ORG<span class=\"tocSkip\"></span>\n",
    "\n",
    "The goal of these programming lesson and exercises is to teach you how to organise and query data in a relational database using Python and SQL.\n",
    "\n",
    "<div class=\"alert-info alert\" role=\"alert-info\">Make sure to consult the lecture slides for more details on the relational database model and the SQL langauge.</div>"
   ]
  },
  {
   "cell_type": "markdown",
   "metadata": {},
   "source": [
    "\n",
    "# Introduction to this template notebook\n",
    "\n",
    "* This is a **personal** notebook.\n",
    "* Make sure you work in a **copy** of `...-template.ipynb`, **renamed** to `...-yourIDnr.ipynb`, where `yourIDnr` is your TU/e identification number.\n",
    "* Keep the copy in the same folder, so that the provided data sets can be loaded.\n",
    "\n",
    "You are expected to work with Python code in this notebook. The locations where you should write your solutions can be recognized by **marker lines**, which look like this:\n",
    "\n",
    ">`#//`\n",
    ">    `BEGIN_TODO [Label]` `Description` `(n points)`\n",
    ">\n",
    ">`#//`\n",
    ">    `END_TODO [Label]`\n",
    "\n",
    "<div class=\"alert alert-warning\" role=\"alert\">\n",
    "<ul>\n",
    "    <li>Do NOT modify or delete these marker lines.  Keep them as they are.</li>\n",
    "    <li>NEVER write code <i>outside</i> the marked blocks. Such code cannot be evaluated.</li>\n",
    "</ul>\n",
    "</div>\n",
    "\n",
    "Proceed in this notebook as follows:\n",
    "* **Read** the text.\n",
    "* **Fill in** your solutions between `BEGIN_TODO` and `END_TODO` marker lines.\n",
    "* **Run** _all_ code cells (also the ones _without_ your code),\n",
    "    _in linear order_ from the first code cell.\n",
    "\n",
    "<div class=\"alert alert-danger\" role=\"danger\">\n",
    "<h3>Integrity</h3>\n",
    "<ul>\n",
    "    <li>In this course you must act according to the rules of the TU/e code of scientific conduct.</li>\n",
    "    <li>All the exercises and the graded assignments are to be executed individually and independently.</li>\n",
    "    <li>You must not copy from the Internet, your friends, books... If you represent other people's work as your own, then that constitutes fraud and will be reported to the Examination Committee.</li>\n",
    "    <li>Making your work available to others (complicity) also constitutes fraud.</li>\n",
    "</ul>\n",
    "</div>\n",
    "\n",
    "## Personalize your notebook\n",
    "\n",
    "1. Copy the following three lines of code:\n",
    "\n",
    "  ```python\n",
    "  AUTHOR_NAME = 'Your Full Name'\n",
    "  AUTHOR_ID_NR = '1234567'\n",
    "  AUTHOR_DATE = 'YYYY-MM-DD'\n",
    "  ```\n",
    "\n",
    "1. Paste them between the marker lines in the next code cell.\n",
    "1. Fill in your _full name, identification number,_ and the current _date_ (i.e. when you first modified this notebook, e.g. `'2020-02-26'`) as strings between quotes.\n",
    "1. Run the code cell by putting the cursor there and typing **Control-Enter**.\n"
   ]
  },
  {
   "cell_type": "code",
   "execution_count": 1,
   "metadata": {},
   "outputs": [
    {
     "data": {
      "text/plain": [
       "('Toma Andrei Sacuiu', '1681591', '2022-03-06')"
      ]
     },
     "execution_count": 1,
     "metadata": {},
     "output_type": "execute_result"
    }
   ],
   "source": [
    "#// BEGIN_TODO [Author] Name, Id.nr., Date, as strings (1 point)\n",
    "\n",
    "AUTHOR_NAME = 'Toma Andrei Sacuiu'\n",
    "AUTHOR_ID_NR = '1681591'\n",
    "AUTHOR_DATE = '2022-03-06'\n",
    "\n",
    "#// END_TODO [Author]\n",
    "\n",
    "AUTHOR_NAME, AUTHOR_ID_NR, AUTHOR_DATE"
   ]
  },
  {
   "cell_type": "markdown",
   "metadata": {
    "toc": "true"
   },
   "source": [
    "<h1>Table of Contents<span class=\"tocSkip\"></span></h1>\n",
    "<div class=\"toc\"><ul class=\"toc-item\"><li><ul class=\"toc-item\"><li><span><a href=\"#Learning-objectives-of-this-lesson\" data-toc-modified-id=\"Learning-objectives-of-this-lesson-0.1\">Learning objectives of this lesson</a></span></li></ul></li><li><span><a href=\"#1.-SQL-Basics\" data-toc-modified-id=\"1.-SQL-Basics-1\"><span class=\"section\">1.</span> SQL Basics</a></span><ul class=\"toc-item\"><li><span><a href=\"#Introduction\" data-toc-modified-id=\"Introduction-1.1\">Introduction</a></span><ul class=\"toc-item\"><li><span><a href=\"#Loading-the-libraries\" data-toc-modified-id=\"Loading-the-libraries-1.1.1\">Loading the libraries</a></span></li><li><span><a href=\"#Common-steps-in-working-with-SQLite-databases\" data-toc-modified-id=\"Common-steps-in-working-with-SQLite-databases-1.1.2\">Common steps in working with SQLite databases</a></span></li></ul></li><li><span><a href=\"#Step-1.-Connect-to-database\" data-toc-modified-id=\"Step-1.-Connect-to-database-1.2\">Step 1. Connect to database</a></span></li><li><span><a href=\"#Step-2.-Operate-on-database\" data-toc-modified-id=\"Step-2.-Operate-on-database-1.3\">Step 2. Operate on database</a></span><ul class=\"toc-item\"><li><span><a href=\"#SELECT-statement\" data-toc-modified-id=\"SELECT-statement-1.3.1\"><code>SELECT</code> statement</a></span></li><li><span><a href=\"#WHERE-clause\" data-toc-modified-id=\"WHERE-clause-1.3.2\"><code>WHERE</code> clause</a></span></li><li><span><a href=\"#Exercise-1.a\" data-toc-modified-id=\"Exercise-1.a-1.3.3\">Exercise <span class=\"exercise\">1.a</span></a></span></li><li><span><a href=\"#Exercise-1.b\" data-toc-modified-id=\"Exercise-1.b-1.3.4\">Exercise <span class=\"exercise\">1.b</span></a></span></li><li><span><a href=\"#GROUP-BY-clause\" data-toc-modified-id=\"GROUP-BY-clause-1.3.5\"><code>GROUP BY</code> clause</a></span></li><li><span><a href=\"#Exercise-1.c\" data-toc-modified-id=\"Exercise-1.c-1.3.6\">Exercise <span class=\"exercise\">1.c</span></a></span></li><li><span><a href=\"#ORDER-BY-clause\" data-toc-modified-id=\"ORDER-BY-clause-1.3.7\"><code>ORDER BY</code> clause</a></span></li><li><span><a href=\"#Exercise-1.d\" data-toc-modified-id=\"Exercise-1.d-1.3.8\">Exercise <span class=\"exercise\">1.d</span></a></span></li><li><span><a href=\"#LIMIT-clause\" data-toc-modified-id=\"LIMIT-clause-1.3.9\"><code>LIMIT</code> clause</a></span></li><li><span><a href=\"#Exercise-1.e\" data-toc-modified-id=\"Exercise-1.e-1.3.10\">Exercise <span class=\"exercise\">1.e</span></a></span></li><li><span><a href=\"#Joining-tables\" data-toc-modified-id=\"Joining-tables-1.3.11\">Joining tables</a></span></li><li><span><a href=\"#Exercise-1.f\" data-toc-modified-id=\"Exercise-1.f-1.3.12\">Exercise <span class=\"exercise\">1.f</span></a></span></li><li><span><a href=\"#Exercise-1.g\" data-toc-modified-id=\"Exercise-1.g-1.3.13\">Exercise <span class=\"exercise\">1.g</span></a></span></li><li><span><a href=\"#Exercise-1.h\" data-toc-modified-id=\"Exercise-1.h-1.3.14\">Exercise <span class=\"exercise\">1.h</span></a></span></li><li><span><a href=\"#Subqueries,-or-nested-queries\" data-toc-modified-id=\"Subqueries,-or-nested-queries-1.3.15\">Subqueries, or nested queries</a></span></li><li><span><a href=\"#Exercise-1.i\" data-toc-modified-id=\"Exercise-1.i-1.3.16\">Exercise <span class=\"exercise\">1.i</span></a></span></li></ul></li><li><span><a href=\"#Step-3.-Close-connection-to-database\" data-toc-modified-id=\"Step-3.-Close-connection-to-database-1.4\">Step 3. Close connection to database</a></span></li></ul></li><li><span><a href=\"#2.-Data-cleaning\" data-toc-modified-id=\"2.-Data-cleaning-2\"><span class=\"section\">2.</span> Data cleaning</a></span><ul class=\"toc-item\"><li><span><a href=\"#df.astype():-convert-to-given-type\" data-toc-modified-id=\"df.astype():-convert-to-given-type-2.1\"><code>df.astype()</code>: convert to given type</a></span><ul class=\"toc-item\"><li><span><a href=\"#Exercise-2.a\" data-toc-modified-id=\"Exercise-2.a-2.1.1\">Exercise <span class=\"exercise\">2.a</span></a></span></li></ul></li><li><span><a href=\"#pd.to_numeric():-convert-to-numeric\" data-toc-modified-id=\"pd.to_numeric():-convert-to-numeric-2.2\"><code>pd.to_numeric()</code>: convert to numeric</a></span></li><li><span><a href=\"#ts.unique():-find-all-unique-values\" data-toc-modified-id=\"ts.unique():-find-all-unique-values-2.3\"><code>ts.unique()</code>: find all unique values</a></span><ul class=\"toc-item\"><li><span><a href=\"#Exercise-2.b\" data-toc-modified-id=\"Exercise-2.b-2.3.1\">Exercise <span class=\"exercise\">2.b</span></a></span></li></ul></li><li><span><a href=\"#df.duplicated():-find-duplicates\" data-toc-modified-id=\"df.duplicated():-find-duplicates-2.4\"><code>df.duplicated()</code>: find duplicates</a></span><ul class=\"toc-item\"><li><span><a href=\"#Exercise-2.c\" data-toc-modified-id=\"Exercise-2.c-2.4.1\">Exercise <span class=\"exercise\">2.c</span></a></span></li></ul></li><li><span><a href=\"#df.drop_duplicates():-remove-duplicates\" data-toc-modified-id=\"df.drop_duplicates():-remove-duplicates-2.5\"><code>df.drop_duplicates()</code>: remove duplicates</a></span><ul class=\"toc-item\"><li><span><a href=\"#Exercise-2.d\" data-toc-modified-id=\"Exercise-2.d-2.5.1\">Exercise <span class=\"exercise\">2.d</span></a></span></li></ul></li><li><span><a href=\"#df.dropna()-to-remove-rows-with-missing-values\" data-toc-modified-id=\"df.dropna()-to-remove-rows-with-missing-values-2.6\"><code>df.dropna()</code> to remove rows with missing values</a></span><ul class=\"toc-item\"><li><span><a href=\"#Exercise-2.e\" data-toc-modified-id=\"Exercise-2.e-2.6.1\">Exercise <span class=\"exercise\">2.e</span></a></span></li></ul></li><li><span><a href=\"#df.fillna()-to-replace-missing-values\" data-toc-modified-id=\"df.fillna()-to-replace-missing-values-2.7\"><code>df.fillna()</code> to replace missing values</a></span><ul class=\"toc-item\"><li><span><a href=\"#Exercise-2.f\" data-toc-modified-id=\"Exercise-2.f-2.7.1\">Exercise <span class=\"exercise\">2.f</span></a></span></li></ul></li><li><span><a href=\"#ts.str.strip()-to-strip-characters-from-begin/end-of-strings\" data-toc-modified-id=\"ts.str.strip()-to-strip-characters-from-begin/end-of-strings-2.8\"><code>ts.str.strip()</code> to strip characters from begin/end of strings</a></span><ul class=\"toc-item\"><li><span><a href=\"#Exercise-2.g\" data-toc-modified-id=\"Exercise-2.g-2.8.1\">Exercise <span class=\"exercise\">2.g</span></a></span></li></ul></li></ul></li><li><span><a href=\"#3.-Exercises:-cleaning-the-mouse-experiment\" data-toc-modified-id=\"3.-Exercises:-cleaning-the-mouse-experiment-3\"><span class=\"section\">3.</span> Exercises: cleaning the mouse experiment</a></span><ul class=\"toc-item\"><li><ul class=\"toc-item\"><li><span><a href=\"#Exercise-3.a\" data-toc-modified-id=\"Exercise-3.a-3.0.1\">Exercise <span class=\"exercise\">3.a</span></a></span></li><li><span><a href=\"#Exercise-3.b\" data-toc-modified-id=\"Exercise-3.b-3.0.2\">Exercise <span class=\"exercise\">3.b</span></a></span></li><li><span><a href=\"#Exercise-3.c\" data-toc-modified-id=\"Exercise-3.c-3.0.3\">Exercise <span class=\"exercise\">3.c</span></a></span></li><li><span><a href=\"#Exercise-3.d\" data-toc-modified-id=\"Exercise-3.d-3.0.4\">Exercise <span class=\"exercise\">3.d</span></a></span></li><li><span><a href=\"#Exercise-3.e\" data-toc-modified-id=\"Exercise-3.e-3.0.5\">Exercise <span class=\"exercise\">3.e</span></a></span></li><li><span><a href=\"#Exercise-3.f\" data-toc-modified-id=\"Exercise-3.f-3.0.6\">Exercise <span class=\"exercise\">3.f</span></a></span></li><li><span><a href=\"#Exercise-3.g\" data-toc-modified-id=\"Exercise-3.g-3.0.7\">Exercise <span class=\"exercise\">3.g</span></a></span></li></ul></li></ul></li><li><span><a href=\"#4.-Exercises:-analyzing-the-mouse-experiment\" data-toc-modified-id=\"4.-Exercises:-analyzing-the-mouse-experiment-4\"><span class=\"section\">4.</span> Exercises: analyzing the mouse experiment</a></span><ul class=\"toc-item\"><li><ul class=\"toc-item\"><li><span><a href=\"#Exercise-4.a\" data-toc-modified-id=\"Exercise-4.a-4.0.1\">Exercise <span class=\"exercise\">4.a</span></a></span></li><li><span><a href=\"#Exercise-4.b\" data-toc-modified-id=\"Exercise-4.b-4.0.2\">Exercise <span class=\"exercise\">4.b</span></a></span></li><li><span><a href=\"#Exercise-4.c\" data-toc-modified-id=\"Exercise-4.c-4.0.3\">Exercise <span class=\"exercise\">4.c</span></a></span></li><li><span><a href=\"#Exercise-4.d\" data-toc-modified-id=\"Exercise-4.d-4.0.4\">Exercise <span class=\"exercise\">4.d</span></a></span></li><li><span><a href=\"#Exercise-4.e\" data-toc-modified-id=\"Exercise-4.e-4.0.5\">Exercise <span class=\"exercise\">4.e</span></a></span></li><li><span><a href=\"#Exercise-4.f\" data-toc-modified-id=\"Exercise-4.f-4.0.6\">Exercise <span class=\"exercise\">4.f</span></a></span></li><li><span><a href=\"#Exercise-4.g\" data-toc-modified-id=\"Exercise-4.g-4.0.7\">Exercise <span class=\"exercise\">4.g</span></a></span></li><li><span><a href=\"#Exercise-4.h\" data-toc-modified-id=\"Exercise-4.h-4.0.8\">Exercise <span class=\"exercise\">4.h</span></a></span></li></ul></li></ul></li></ul></div>"
   ]
  },
  {
   "cell_type": "markdown",
   "metadata": {},
   "source": [
    "## Learning objectives of this lesson\n",
    "\n",
    "After this lesson, you should \n",
    "\n",
    "* know how to work with SQLite databases through Pandas data frames;\n",
    "* know how to query data in a SQLite database using Python and its `sqlite3` library.\n",
    "* know how to perform basic data cleaning tasks using Pandas"
   ]
  },
  {
   "cell_type": "markdown",
   "metadata": {},
   "source": [
    "# <span class=\"section\">1.</span> SQL Basics"
   ]
  },
  {
   "cell_type": "markdown",
   "metadata": {},
   "source": [
    "## Introduction\n",
    "\n",
    "So far, we have dealt with data given as a _single table_,\n",
    "typically stored in a CSV file and operated on in a Pandas `DataFrame`.\n",
    "Often, however, the use of a single table leads to unnecessary duplication of data\n",
    "and difficulties in data processing.\n",
    "\n",
    "For example,\n",
    "consider an experiment where we collect data from various patients.\n",
    "We have data pertaining to each patient:\n",
    "name, date of birth, and daily weight and temperature measurements.\n",
    "How to _organize_ that data and store it?\n",
    "This is important for the _data collection_ process and subsequent\n",
    "_data analysis_ process.\n",
    "\n",
    "You could try to put it in one table,\n",
    "with one row per patient, and columns for name, date of birth, and every day:\n",
    "\n",
    "| Name | Date of Birth | Day 1 Weight | Day 1 Temperature | Day 2 Weight | Day 2 Temperature | ... |\n",
    "| :--- | :------------ | -----------: | ----------------: | -----------: | ----------------: | --: |\n",
    "| A | 1950-01-01 | 60.0 | 37.8 | 59.8 | 38.1 | ... |\n",
    "| B | 1947-07-15 | 84.3 | 39.2 | 85.0 | 38.5 | ... |\n",
    "| ... | ... | ... | ... | ... | ... | ... |\n",
    "\n",
    "The number of columns would grow, and could differ per patient.\n",
    "\n",
    "You could try to put it in one table,\n",
    "with one row per patient per day,\n",
    "and columns for name, date of birth, day, weight, and temperature,\n",
    "repeating values that stay the same (name and date of birth):\n",
    "\n",
    "| Name | Date of Birth | Day | Weight | Temperature |\n",
    "| :--- | :------------ | --: | -----: | ----------: |\n",
    "| A | 1950-01-01 | 1 | 60.0 | 37.8 |\n",
    "| B | 1947-07-15 | 1 | 84.3 | 39.2 |\n",
    "| A | 1950-01-01 | 2 | 59.8 | 38.1 |\n",
    "| B | 1947-07-15 | 2 | 84.3 | 39.2 |\n",
    "| ... | ... | ... | ... | ... |\n",
    "\n",
    "In this approach, some data (necessarily) gets duplicated.\n",
    "\n",
    "Also, note that patients may not be uniquely identified by name and date of birth.\n",
    "In the first table, their measurements would still be kept apart.\n",
    "But in the second table, this starts to be problematic.\n",
    "\n",
    "Using multiple, related tables is a better approach.\n",
    "In this case, two tables could be used:\n",
    "\n",
    "**Patient data**\n",
    "\n",
    "| ID | Name | Date of Birth |\n",
    "| -: | :--- | :------------ |\n",
    "| 13 | A | 1950-01-01 |\n",
    "| 72 | B | 1947-07-15 |\n",
    "| ... | ... | ... |\n",
    "\n",
    "**Measurement data**\n",
    "\n",
    "| ID | Day | Weight | Temperature |\n",
    "| -: | --: | -----: | ----------: |\n",
    "| 13 |  1 | 60.0 | 37.8 |\n",
    "| 72 |  1 | 84.3 | 39.2 |\n",
    "| 13 |  2 | 59.8 | 38.1 |\n",
    "| 72 |  2 | 84.3 | 39.2 |\n",
    "| ... | ... | ... | ... |\n",
    "\n",
    "The additional column `ID` relates the two tables,\n",
    "and helps to keep apart patients with the same name and date of birth.\n",
    "\n",
    "We assume that you have a basic understanding of how a _relational database_ is organized:\n",
    "\n",
    "* a collection of (named, related) *tables*, where\n",
    "* each table consists of a collection of *rows*, where\n",
    "* each row contains one _value_ per *column*,\n",
    "* where all values in a column belong to a prescribed *type*.\n",
    "\n",
    "In this lesson we will use **SQL**, which stands for **Structured Query Language**,\n",
    "a standardized language to work with _relational databases_.\n",
    "\n",
    "We will use **SQLite** as _SQL database engine_\n",
    "(it knows SQL, though not all of it).\n",
    "Note that SQLite is a separate piece of open-source software,\n",
    "that is installed as part of Anaconda."
   ]
  },
  {
   "cell_type": "markdown",
   "metadata": {},
   "source": [
    "### Loading the libraries\n",
    "\n",
    "To show examples, we load some Data Analytics libraries first:"
   ]
  },
  {
   "cell_type": "code",
   "execution_count": 2,
   "metadata": {},
   "outputs": [
    {
     "data": {
      "text/html": [
       "<style>.h,.c{display:none}.t{color:#296eaa}.t:active+.h{display:block;}</style>"
      ],
      "text/plain": [
       "<IPython.core.display.HTML object>"
      ]
     },
     "execution_count": 2,
     "metadata": {},
     "output_type": "execute_result"
    }
   ],
   "source": [
    "import numpy as np\n",
    "import pandas as pd\n",
    "\n",
    "# reveal a hint only while holding the mouse down\n",
    "from IPython.display import HTML\n",
    "HTML(\"<style>.h,.c{display:none}.t{color:#296eaa}.t:active+.h{display:block;}</style>\")"
   ]
  },
  {
   "cell_type": "markdown",
   "metadata": {},
   "source": [
    "Next, we load **`sqlite3`**, a Python library to work with _SQLite_ databases:"
   ]
  },
  {
   "cell_type": "code",
   "execution_count": 3,
   "metadata": {},
   "outputs": [],
   "source": [
    "import sqlite3"
   ]
  },
  {
   "cell_type": "markdown",
   "metadata": {},
   "source": [
    "### Common steps in working with SQLite databases\n",
    "\n",
    "Typically, the following sequence of steps takes place, when working with an SQL database.\n",
    "\n",
    "1. Connect to the database (residing in a file).\n",
    "2. Operate on the database:\n",
    "\n",
    "    * execute queries, to retrieve selected values;\n",
    "    * create, update, or delete rows/values in a table;\n",
    "    * create, alter (by adding or deleting columns), or delete tables.\n",
    "    \n",
    "3. Close the connection to the database.\n",
    "\n",
    "Step 2 can be repeated as desired."
   ]
  },
  {
   "cell_type": "markdown",
   "metadata": {},
   "source": [
    "## Step 1. Connect to database\n",
    "\n",
    "In order to work with a database, a _connection_ to that database needs to be established.\n",
    "\n",
    "In these exercises we will work with the SQLite database engine. An SQLite database is stored in a (binary) file in the file system. You connect to it via\n",
    "\n",
    "* **`sqlite3.connect(file_name)`**\n",
    "\n",
    "This function returns a **connection object**, that will be used in subsequent operations.\n",
    "\n",
    "Here we open a connection to the database stored in the file `'countries.db'` and assign it to a variable named `conn_countries`:"
   ]
  },
  {
   "cell_type": "code",
   "execution_count": 4,
   "metadata": {},
   "outputs": [],
   "source": [
    "conn_countries = sqlite3.connect('datasets/countries.db')"
   ]
  },
  {
   "cell_type": "markdown",
   "metadata": {},
   "source": [
    "> **Note:** If the database file does not exist, it will be created, starting out with an empty database.\n",
    "\n",
    "The `'countries.db'` database contains two tables: `'continents'` and `'countries'`. The `'continents'` table has following columns:\n",
    "\n",
    "- `'code'`: A two letter code of the continent.\n",
    "- `'name'`: The name of the continent.\n",
    "\n",
    "The `'countries'` has the following columns:\n",
    "\n",
    "- `'name'`: The name of the country.\n",
    "- `'alpha_3'`: The ISO 3166-1 alpha-3 code of the country.\n",
    "- `'tld'`: The top-level domain of the country.\n",
    "- `'continent'`: A two letter code of the continent where the country is located (corresponding to the codes in the `'continents'` table).\n",
    "- `'capital'`: The name of the capital of the country.\n",
    "- `'area'`: The area of the country (in square km).\n",
    "- `'population'`: The population size of the country."
   ]
  },
  {
   "cell_type": "markdown",
   "metadata": {},
   "source": [
    "## Step 2. Operate on database\n",
    "\n",
    "When working with an SQL database, operations are expressed as **SQL statements**. SQL defines many statements for organising and manipulating data in a database. In these exercises we will focus on querying data using the **SELECT** statement. See [W3 Schools - SQL Tutorial](https://www.w3schools.com/sql/) for more details about SQL.\n",
    "\n",
    "General rules:\n",
    "\n",
    "* SQL is _not_ case sensitive (`SELECT` and `select` are treated the same way).\n",
    "* SQL statements are terminated by a semicolon ('**`;`**'). Note that many modern libraries, including Pandas, allow to skip the semicolon, howver, it is a good practice to include it for portability.\n",
    "* SQL identifiers that contain spaces, or that are the same as a keyword, are enclosed in **double quotes**.\n",
    "* SQL string literals are enclosed in **single quotes**.\n",
    "\n",
    "### `SELECT` statement\n",
    "\n",
    "The SQL **SELECT** statement retrieves values from a database and presents the result as a table organized in rows and columns.\n",
    "\n",
    "The SELECT statement has a number of required and optional clauses:\n",
    "\n",
    "| Clause | Type | Remarks |\n",
    "| :----- | :--: | :------ |\n",
    "| `SELECT` _`expr1, expr2, ...`_ | Required | `SELECT *` selects all columns; `SELECT DISTINCT ...` |\n",
    "| `FROM` _`table1, table2, ...`_ | Required | |\n",
    "| `WHERE` _`condition`_ | Optional | Filter on boolean condition before grouping |\n",
    "| `GROUP BY` _`column1, column2, ...`_ | Optional | |\n",
    "| `ORDER BY` _`column1, column2, ...`_ | Optional | Append `DESC` for descending order |\n",
    "| `LIMIT` _`number`_ | Optional | Report only first given number of rows |\n",
    "\n",
    "Numeric expressions _`expr1`_ etc. can contain\n",
    "\n",
    "* _column names_; must be disambiguated by prepending _table name_: `table1.column1`\n",
    "* aliases for renaming column/table names: e.g. `table1.column1 AS 'some name'` to rename `table1.column1` to `'some name'` (aliases exist only for the duration of the query)\n",
    "* operators: +, -, *, /, %\n",
    "* functions: MIN, MAX, COUNT, SUM, AVG (these aggregate when `GROUP BY` is used)\n",
    "\n",
    "A SQL query is stored in a Python string. Here is an example of a query that returns all the data in the `'countries'` table."
   ]
  },
  {
   "cell_type": "code",
   "execution_count": 5,
   "metadata": {},
   "outputs": [],
   "source": [
    "query_all = 'SELECT * FROM countries;'"
   ]
  },
  {
   "cell_type": "markdown",
   "metadata": {},
   "source": [
    "The Pandas library offers a convenient function to work with SQL databases:\n",
    "\n",
    "* **`pd.read_sql_query(query, connection)`** : execute an SQL `query` on an open `connection` to an SQL database, and return the query result as a `DataFrame`.\n",
    "\n",
    "Here is an example of executing the above query `query_all` on the previously opened connection `conn_countries`:"
   ]
  },
  {
   "cell_type": "code",
   "execution_count": 6,
   "metadata": {},
   "outputs": [
    {
     "data": {
      "text/html": [
       "<div>\n",
       "<style scoped>\n",
       "    .dataframe tbody tr th:only-of-type {\n",
       "        vertical-align: middle;\n",
       "    }\n",
       "\n",
       "    .dataframe tbody tr th {\n",
       "        vertical-align: top;\n",
       "    }\n",
       "\n",
       "    .dataframe thead th {\n",
       "        text-align: right;\n",
       "    }\n",
       "</style>\n",
       "<table border=\"1\" class=\"dataframe\">\n",
       "  <thead>\n",
       "    <tr style=\"text-align: right;\">\n",
       "      <th></th>\n",
       "      <th>name</th>\n",
       "      <th>alpha_3</th>\n",
       "      <th>tld</th>\n",
       "      <th>continent</th>\n",
       "      <th>capital</th>\n",
       "      <th>area</th>\n",
       "      <th>population</th>\n",
       "    </tr>\n",
       "  </thead>\n",
       "  <tbody>\n",
       "    <tr>\n",
       "      <th>0</th>\n",
       "      <td>Andorra</td>\n",
       "      <td>AND</td>\n",
       "      <td>.ad</td>\n",
       "      <td>EU</td>\n",
       "      <td>Andorra la Vella</td>\n",
       "      <td>468.0</td>\n",
       "      <td>84000</td>\n",
       "    </tr>\n",
       "    <tr>\n",
       "      <th>1</th>\n",
       "      <td>United Arab Emirates</td>\n",
       "      <td>ARE</td>\n",
       "      <td>.ae</td>\n",
       "      <td>AS</td>\n",
       "      <td>Abu Dhabi</td>\n",
       "      <td>82880.0</td>\n",
       "      <td>4975593</td>\n",
       "    </tr>\n",
       "    <tr>\n",
       "      <th>2</th>\n",
       "      <td>Afghanistan</td>\n",
       "      <td>AFG</td>\n",
       "      <td>.af</td>\n",
       "      <td>AS</td>\n",
       "      <td>Kabul</td>\n",
       "      <td>647500.0</td>\n",
       "      <td>29121286</td>\n",
       "    </tr>\n",
       "    <tr>\n",
       "      <th>3</th>\n",
       "      <td>Antigua and Barbuda</td>\n",
       "      <td>ATG</td>\n",
       "      <td>.ag</td>\n",
       "      <td>NM</td>\n",
       "      <td>St. John's</td>\n",
       "      <td>443.0</td>\n",
       "      <td>86754</td>\n",
       "    </tr>\n",
       "    <tr>\n",
       "      <th>4</th>\n",
       "      <td>Anguilla</td>\n",
       "      <td>AIA</td>\n",
       "      <td>.ai</td>\n",
       "      <td>NM</td>\n",
       "      <td>The Valley</td>\n",
       "      <td>102.0</td>\n",
       "      <td>13254</td>\n",
       "    </tr>\n",
       "    <tr>\n",
       "      <th>...</th>\n",
       "      <td>...</td>\n",
       "      <td>...</td>\n",
       "      <td>...</td>\n",
       "      <td>...</td>\n",
       "      <td>...</td>\n",
       "      <td>...</td>\n",
       "      <td>...</td>\n",
       "    </tr>\n",
       "    <tr>\n",
       "      <th>246</th>\n",
       "      <td>Mayotte</td>\n",
       "      <td>MYT</td>\n",
       "      <td>.yt</td>\n",
       "      <td>AF</td>\n",
       "      <td>Mamoudzou</td>\n",
       "      <td>374.0</td>\n",
       "      <td>159042</td>\n",
       "    </tr>\n",
       "    <tr>\n",
       "      <th>247</th>\n",
       "      <td>South Africa</td>\n",
       "      <td>ZAF</td>\n",
       "      <td>.za</td>\n",
       "      <td>AF</td>\n",
       "      <td>Pretoria</td>\n",
       "      <td>1219912.0</td>\n",
       "      <td>49000000</td>\n",
       "    </tr>\n",
       "    <tr>\n",
       "      <th>248</th>\n",
       "      <td>Zambia</td>\n",
       "      <td>ZMB</td>\n",
       "      <td>.zm</td>\n",
       "      <td>AF</td>\n",
       "      <td>Lusaka</td>\n",
       "      <td>752614.0</td>\n",
       "      <td>13460305</td>\n",
       "    </tr>\n",
       "    <tr>\n",
       "      <th>249</th>\n",
       "      <td>Zimbabwe</td>\n",
       "      <td>ZWE</td>\n",
       "      <td>.zw</td>\n",
       "      <td>AF</td>\n",
       "      <td>Harare</td>\n",
       "      <td>390580.0</td>\n",
       "      <td>13061000</td>\n",
       "    </tr>\n",
       "    <tr>\n",
       "      <th>250</th>\n",
       "      <td>Netherlands Antilles</td>\n",
       "      <td>ANT</td>\n",
       "      <td>.an</td>\n",
       "      <td>NM</td>\n",
       "      <td>Willemstad</td>\n",
       "      <td>960.0</td>\n",
       "      <td>300000</td>\n",
       "    </tr>\n",
       "  </tbody>\n",
       "</table>\n",
       "<p>251 rows × 7 columns</p>\n",
       "</div>"
      ],
      "text/plain": [
       "                     name alpha_3  tld continent           capital       area  \\\n",
       "0                 Andorra     AND  .ad        EU  Andorra la Vella      468.0   \n",
       "1    United Arab Emirates     ARE  .ae        AS         Abu Dhabi    82880.0   \n",
       "2             Afghanistan     AFG  .af        AS             Kabul   647500.0   \n",
       "3     Antigua and Barbuda     ATG  .ag        NM        St. John's      443.0   \n",
       "4                Anguilla     AIA  .ai        NM        The Valley      102.0   \n",
       "..                    ...     ...  ...       ...               ...        ...   \n",
       "246               Mayotte     MYT  .yt        AF         Mamoudzou      374.0   \n",
       "247          South Africa     ZAF  .za        AF          Pretoria  1219912.0   \n",
       "248                Zambia     ZMB  .zm        AF            Lusaka   752614.0   \n",
       "249              Zimbabwe     ZWE  .zw        AF            Harare   390580.0   \n",
       "250  Netherlands Antilles     ANT  .an        NM        Willemstad      960.0   \n",
       "\n",
       "     population  \n",
       "0         84000  \n",
       "1       4975593  \n",
       "2      29121286  \n",
       "3         86754  \n",
       "4         13254  \n",
       "..          ...  \n",
       "246      159042  \n",
       "247    49000000  \n",
       "248    13460305  \n",
       "249    13061000  \n",
       "250      300000  \n",
       "\n",
       "[251 rows x 7 columns]"
      ]
     },
     "execution_count": 6,
     "metadata": {},
     "output_type": "execute_result"
    }
   ],
   "source": [
    "pd.read_sql_query(query_all, conn_countries)"
   ]
  },
  {
   "cell_type": "markdown",
   "metadata": {},
   "source": [
    "### `WHERE` clause\n",
    "\n",
    "The `WHERE` clause is a boolean condition, which can contain:\n",
    "\n",
    "* _column names_\n",
    "* comparison operators: =, <>, <, >, <=, >=\n",
    "* boolean operators: NOT, AND, OR\n",
    "* pattern matching operator (to match string values against a pattern with wildcards): LIKE\n",
    "    * e.g. condition `... WHERE name LIKE \"Nether%\"` will select rows containing a string starting with `Nether` in the `name` column\n",
    "\n",
    "Here is an example of a query that selects all rows from the table `countries`, that have an area less than 1000 and a population over 200000, showing the columns `'name'` and `'capital'`:"
   ]
  },
  {
   "cell_type": "code",
   "execution_count": 7,
   "metadata": {},
   "outputs": [
    {
     "data": {
      "text/html": [
       "<div>\n",
       "<style scoped>\n",
       "    .dataframe tbody tr th:only-of-type {\n",
       "        vertical-align: middle;\n",
       "    }\n",
       "\n",
       "    .dataframe tbody tr th {\n",
       "        vertical-align: top;\n",
       "    }\n",
       "\n",
       "    .dataframe thead th {\n",
       "        text-align: right;\n",
       "    }\n",
       "</style>\n",
       "<table border=\"1\" class=\"dataframe\">\n",
       "  <thead>\n",
       "    <tr style=\"text-align: right;\">\n",
       "      <th></th>\n",
       "      <th>name</th>\n",
       "      <th>capital</th>\n",
       "    </tr>\n",
       "  </thead>\n",
       "  <tbody>\n",
       "    <tr>\n",
       "      <th>0</th>\n",
       "      <td>Barbados</td>\n",
       "      <td>Bridgetown</td>\n",
       "    </tr>\n",
       "    <tr>\n",
       "      <th>1</th>\n",
       "      <td>Bahrain</td>\n",
       "      <td>Manama</td>\n",
       "    </tr>\n",
       "    <tr>\n",
       "      <th>2</th>\n",
       "      <td>Macao</td>\n",
       "      <td>Macao</td>\n",
       "    </tr>\n",
       "    <tr>\n",
       "      <th>3</th>\n",
       "      <td>Malta</td>\n",
       "      <td>Valletta</td>\n",
       "    </tr>\n",
       "    <tr>\n",
       "      <th>4</th>\n",
       "      <td>Maldives</td>\n",
       "      <td>Male</td>\n",
       "    </tr>\n",
       "    <tr>\n",
       "      <th>5</th>\n",
       "      <td>Singapore</td>\n",
       "      <td>Singapore</td>\n",
       "    </tr>\n",
       "    <tr>\n",
       "      <th>6</th>\n",
       "      <td>Netherlands Antilles</td>\n",
       "      <td>Willemstad</td>\n",
       "    </tr>\n",
       "  </tbody>\n",
       "</table>\n",
       "</div>"
      ],
      "text/plain": [
       "                   name     capital\n",
       "0              Barbados  Bridgetown\n",
       "1               Bahrain      Manama\n",
       "2                 Macao       Macao\n",
       "3                 Malta    Valletta\n",
       "4              Maldives        Male\n",
       "5             Singapore   Singapore\n",
       "6  Netherlands Antilles  Willemstad"
      ]
     },
     "execution_count": 7,
     "metadata": {},
     "output_type": "execute_result"
    }
   ],
   "source": [
    "query_area_population = '''\n",
    "    SELECT name, capital\n",
    "    FROM countries\n",
    "    WHERE area < 1000 AND population > 200000;\n",
    "'''\n",
    "pd.read_sql_query(query_area_population, conn_countries)"
   ]
  },
  {
   "cell_type": "markdown",
   "metadata": {},
   "source": [
    "### Exercise <span class=\"exercise\">1.a</span>\n",
    "\n",
    "Execute the following query to select the name and area of all countries with an area larger than one million square km:\n",
    "\n",
    "```\n",
    "SELECT name, area\n",
    "FROM countries\n",
    "WHERE area > 1000000\n",
    "```\n",
    "\n",
    "Execute the query on the open database connection `conn_countries`. Assign the resulting data frame to variable `result_select`."
   ]
  },
  {
   "cell_type": "code",
   "execution_count": 8,
   "metadata": {},
   "outputs": [
    {
     "data": {
      "text/html": [
       "<div>\n",
       "<style scoped>\n",
       "    .dataframe tbody tr th:only-of-type {\n",
       "        vertical-align: middle;\n",
       "    }\n",
       "\n",
       "    .dataframe tbody tr th {\n",
       "        vertical-align: top;\n",
       "    }\n",
       "\n",
       "    .dataframe thead th {\n",
       "        text-align: right;\n",
       "    }\n",
       "</style>\n",
       "<table border=\"1\" class=\"dataframe\">\n",
       "  <thead>\n",
       "    <tr style=\"text-align: right;\">\n",
       "      <th></th>\n",
       "      <th>name</th>\n",
       "      <th>area</th>\n",
       "    </tr>\n",
       "  </thead>\n",
       "  <tbody>\n",
       "    <tr>\n",
       "      <th>0</th>\n",
       "      <td>Angola</td>\n",
       "      <td>1246700.0</td>\n",
       "    </tr>\n",
       "    <tr>\n",
       "      <th>1</th>\n",
       "      <td>Antarctica</td>\n",
       "      <td>14000000.0</td>\n",
       "    </tr>\n",
       "    <tr>\n",
       "      <th>2</th>\n",
       "      <td>Argentina</td>\n",
       "      <td>2766890.0</td>\n",
       "    </tr>\n",
       "    <tr>\n",
       "      <th>3</th>\n",
       "      <td>Australia</td>\n",
       "      <td>7686850.0</td>\n",
       "    </tr>\n",
       "    <tr>\n",
       "      <th>4</th>\n",
       "      <td>Bolivia</td>\n",
       "      <td>1098580.0</td>\n",
       "    </tr>\n",
       "    <tr>\n",
       "      <th>5</th>\n",
       "      <td>Brazil</td>\n",
       "      <td>8511965.0</td>\n",
       "    </tr>\n",
       "    <tr>\n",
       "      <th>6</th>\n",
       "      <td>Canada</td>\n",
       "      <td>9984670.0</td>\n",
       "    </tr>\n",
       "    <tr>\n",
       "      <th>7</th>\n",
       "      <td>Democratic Republic of the Congo</td>\n",
       "      <td>2345410.0</td>\n",
       "    </tr>\n",
       "    <tr>\n",
       "      <th>8</th>\n",
       "      <td>China</td>\n",
       "      <td>9596960.0</td>\n",
       "    </tr>\n",
       "    <tr>\n",
       "      <th>9</th>\n",
       "      <td>Colombia</td>\n",
       "      <td>1138910.0</td>\n",
       "    </tr>\n",
       "    <tr>\n",
       "      <th>10</th>\n",
       "      <td>Algeria</td>\n",
       "      <td>2381740.0</td>\n",
       "    </tr>\n",
       "    <tr>\n",
       "      <th>11</th>\n",
       "      <td>Egypt</td>\n",
       "      <td>1001450.0</td>\n",
       "    </tr>\n",
       "    <tr>\n",
       "      <th>12</th>\n",
       "      <td>Ethiopia</td>\n",
       "      <td>1127127.0</td>\n",
       "    </tr>\n",
       "    <tr>\n",
       "      <th>13</th>\n",
       "      <td>Greenland</td>\n",
       "      <td>2166086.0</td>\n",
       "    </tr>\n",
       "    <tr>\n",
       "      <th>14</th>\n",
       "      <td>Indonesia</td>\n",
       "      <td>1919440.0</td>\n",
       "    </tr>\n",
       "    <tr>\n",
       "      <th>15</th>\n",
       "      <td>India</td>\n",
       "      <td>3287590.0</td>\n",
       "    </tr>\n",
       "    <tr>\n",
       "      <th>16</th>\n",
       "      <td>Iran</td>\n",
       "      <td>1648000.0</td>\n",
       "    </tr>\n",
       "    <tr>\n",
       "      <th>17</th>\n",
       "      <td>Kazakhstan</td>\n",
       "      <td>2717300.0</td>\n",
       "    </tr>\n",
       "    <tr>\n",
       "      <th>18</th>\n",
       "      <td>Libya</td>\n",
       "      <td>1759540.0</td>\n",
       "    </tr>\n",
       "    <tr>\n",
       "      <th>19</th>\n",
       "      <td>Mali</td>\n",
       "      <td>1240000.0</td>\n",
       "    </tr>\n",
       "    <tr>\n",
       "      <th>20</th>\n",
       "      <td>Mongolia</td>\n",
       "      <td>1565000.0</td>\n",
       "    </tr>\n",
       "    <tr>\n",
       "      <th>21</th>\n",
       "      <td>Mauritania</td>\n",
       "      <td>1030700.0</td>\n",
       "    </tr>\n",
       "    <tr>\n",
       "      <th>22</th>\n",
       "      <td>Mexico</td>\n",
       "      <td>1972550.0</td>\n",
       "    </tr>\n",
       "    <tr>\n",
       "      <th>23</th>\n",
       "      <td>Niger</td>\n",
       "      <td>1267000.0</td>\n",
       "    </tr>\n",
       "    <tr>\n",
       "      <th>24</th>\n",
       "      <td>Peru</td>\n",
       "      <td>1285220.0</td>\n",
       "    </tr>\n",
       "    <tr>\n",
       "      <th>25</th>\n",
       "      <td>Russia</td>\n",
       "      <td>17100000.0</td>\n",
       "    </tr>\n",
       "    <tr>\n",
       "      <th>26</th>\n",
       "      <td>Saudi Arabia</td>\n",
       "      <td>1960582.0</td>\n",
       "    </tr>\n",
       "    <tr>\n",
       "      <th>27</th>\n",
       "      <td>Sudan</td>\n",
       "      <td>1861484.0</td>\n",
       "    </tr>\n",
       "    <tr>\n",
       "      <th>28</th>\n",
       "      <td>Chad</td>\n",
       "      <td>1284000.0</td>\n",
       "    </tr>\n",
       "    <tr>\n",
       "      <th>29</th>\n",
       "      <td>United States</td>\n",
       "      <td>9629091.0</td>\n",
       "    </tr>\n",
       "    <tr>\n",
       "      <th>30</th>\n",
       "      <td>South Africa</td>\n",
       "      <td>1219912.0</td>\n",
       "    </tr>\n",
       "  </tbody>\n",
       "</table>\n",
       "</div>"
      ],
      "text/plain": [
       "                                name        area\n",
       "0                             Angola   1246700.0\n",
       "1                         Antarctica  14000000.0\n",
       "2                          Argentina   2766890.0\n",
       "3                          Australia   7686850.0\n",
       "4                            Bolivia   1098580.0\n",
       "5                             Brazil   8511965.0\n",
       "6                             Canada   9984670.0\n",
       "7   Democratic Republic of the Congo   2345410.0\n",
       "8                              China   9596960.0\n",
       "9                           Colombia   1138910.0\n",
       "10                           Algeria   2381740.0\n",
       "11                             Egypt   1001450.0\n",
       "12                          Ethiopia   1127127.0\n",
       "13                         Greenland   2166086.0\n",
       "14                         Indonesia   1919440.0\n",
       "15                             India   3287590.0\n",
       "16                              Iran   1648000.0\n",
       "17                        Kazakhstan   2717300.0\n",
       "18                             Libya   1759540.0\n",
       "19                              Mali   1240000.0\n",
       "20                          Mongolia   1565000.0\n",
       "21                        Mauritania   1030700.0\n",
       "22                            Mexico   1972550.0\n",
       "23                             Niger   1267000.0\n",
       "24                              Peru   1285220.0\n",
       "25                            Russia  17100000.0\n",
       "26                      Saudi Arabia   1960582.0\n",
       "27                             Sudan   1861484.0\n",
       "28                              Chad   1284000.0\n",
       "29                     United States   9629091.0\n",
       "30                      South Africa   1219912.0"
      ]
     },
     "execution_count": 8,
     "metadata": {},
     "output_type": "execute_result"
    }
   ],
   "source": [
    "#// BEGIN_TODO [ORG_1a] Execute pre-defined query (1 point)\n",
    "\n",
    "query1 = '''\n",
    "    SELECT name, area\n",
    "    FROM countries\n",
    "    WHERE area > 1000000;\n",
    "'''\n",
    "result_select = pd.read_sql_query(query1, conn_countries)\n",
    "\n",
    "#// END_TODO [ORG_1a]\n",
    "\n",
    "result_select"
   ]
  },
  {
   "cell_type": "markdown",
   "metadata": {},
   "source": [
    "### Exercise <span class=\"exercise\">1.b</span>\n",
    "\n",
    "Execute a query to select the name and population of European countries with a population larger than 60 million. Assign the query to variable `query_where` and the result to variable `result_where`."
   ]
  },
  {
   "cell_type": "code",
   "execution_count": 9,
   "metadata": {},
   "outputs": [
    {
     "data": {
      "text/html": [
       "<div>\n",
       "<style scoped>\n",
       "    .dataframe tbody tr th:only-of-type {\n",
       "        vertical-align: middle;\n",
       "    }\n",
       "\n",
       "    .dataframe tbody tr th {\n",
       "        vertical-align: top;\n",
       "    }\n",
       "\n",
       "    .dataframe thead th {\n",
       "        text-align: right;\n",
       "    }\n",
       "</style>\n",
       "<table border=\"1\" class=\"dataframe\">\n",
       "  <thead>\n",
       "    <tr style=\"text-align: right;\">\n",
       "      <th></th>\n",
       "      <th>name</th>\n",
       "      <th>population</th>\n",
       "    </tr>\n",
       "  </thead>\n",
       "  <tbody>\n",
       "    <tr>\n",
       "      <th>0</th>\n",
       "      <td>Germany</td>\n",
       "      <td>81802257</td>\n",
       "    </tr>\n",
       "    <tr>\n",
       "      <th>1</th>\n",
       "      <td>France</td>\n",
       "      <td>64768389</td>\n",
       "    </tr>\n",
       "    <tr>\n",
       "      <th>2</th>\n",
       "      <td>United Kingdom</td>\n",
       "      <td>62348447</td>\n",
       "    </tr>\n",
       "    <tr>\n",
       "      <th>3</th>\n",
       "      <td>Italy</td>\n",
       "      <td>60340328</td>\n",
       "    </tr>\n",
       "    <tr>\n",
       "      <th>4</th>\n",
       "      <td>Russia</td>\n",
       "      <td>140702000</td>\n",
       "    </tr>\n",
       "  </tbody>\n",
       "</table>\n",
       "</div>"
      ],
      "text/plain": [
       "             name  population\n",
       "0         Germany    81802257\n",
       "1          France    64768389\n",
       "2  United Kingdom    62348447\n",
       "3           Italy    60340328\n",
       "4          Russia   140702000"
      ]
     },
     "execution_count": 9,
     "metadata": {},
     "output_type": "execute_result"
    }
   ],
   "source": [
    "#// BEGIN_TODO [ORG_1b] Define and execute a query (1 point)\n",
    "\n",
    "query_where = '''SELECT name,population\n",
    "                FROM countries\n",
    "                WHERE population > 60000000 AND continent = 'EU' '''\n",
    "\n",
    "result_where = pd.read_sql_query(query_where,conn_countries)\n",
    "\n",
    "#// END_TODO [ORG_1b]\n",
    "\n",
    "result_where"
   ]
  },
  {
   "cell_type": "markdown",
   "metadata": {},
   "source": [
    "### `GROUP BY` clause\n",
    "\n",
    "The `GROUP BY` clause aggregates data, similarly to the `.groupby()` method in Pandas. The `MIN`, `MAX`, `COUNT`, `SUM`, `AVG` functions are used in the `SELECT` expression to specify how to aggregate the data in the columns.\n",
    "\n",
    "Here is an example query using the `GROUP BY` clause to obtain an overview of all continents, with for each continent:\n",
    "\n",
    "* the continent code\n",
    "* the number of countries on it\n",
    "* the total population\n",
    "* the maximum population over its countries"
   ]
  },
  {
   "cell_type": "code",
   "execution_count": 10,
   "metadata": {},
   "outputs": [
    {
     "data": {
      "text/html": [
       "<div>\n",
       "<style scoped>\n",
       "    .dataframe tbody tr th:only-of-type {\n",
       "        vertical-align: middle;\n",
       "    }\n",
       "\n",
       "    .dataframe tbody tr th {\n",
       "        vertical-align: top;\n",
       "    }\n",
       "\n",
       "    .dataframe thead th {\n",
       "        text-align: right;\n",
       "    }\n",
       "</style>\n",
       "<table border=\"1\" class=\"dataframe\">\n",
       "  <thead>\n",
       "    <tr style=\"text-align: right;\">\n",
       "      <th></th>\n",
       "      <th>continent</th>\n",
       "      <th>COUNT(name)</th>\n",
       "      <th>SUM(population)</th>\n",
       "      <th>MAX(population)</th>\n",
       "    </tr>\n",
       "  </thead>\n",
       "  <tbody>\n",
       "    <tr>\n",
       "      <th>0</th>\n",
       "      <td>AF</td>\n",
       "      <td>58</td>\n",
       "      <td>1016879730</td>\n",
       "      <td>154000000</td>\n",
       "    </tr>\n",
       "    <tr>\n",
       "      <th>1</th>\n",
       "      <td>AN</td>\n",
       "      <td>5</td>\n",
       "      <td>170</td>\n",
       "      <td>140</td>\n",
       "    </tr>\n",
       "    <tr>\n",
       "      <th>2</th>\n",
       "      <td>AS</td>\n",
       "      <td>52</td>\n",
       "      <td>4130586341</td>\n",
       "      <td>1330044000</td>\n",
       "    </tr>\n",
       "    <tr>\n",
       "      <th>3</th>\n",
       "      <td>EU</td>\n",
       "      <td>53</td>\n",
       "      <td>739141025</td>\n",
       "      <td>140702000</td>\n",
       "    </tr>\n",
       "    <tr>\n",
       "      <th>4</th>\n",
       "      <td>NM</td>\n",
       "      <td>42</td>\n",
       "      <td>540105043</td>\n",
       "      <td>310232863</td>\n",
       "    </tr>\n",
       "    <tr>\n",
       "      <th>5</th>\n",
       "      <td>OC</td>\n",
       "      <td>27</td>\n",
       "      <td>36066049</td>\n",
       "      <td>21515754</td>\n",
       "    </tr>\n",
       "    <tr>\n",
       "      <th>6</th>\n",
       "      <td>SM</td>\n",
       "      <td>14</td>\n",
       "      <td>400143568</td>\n",
       "      <td>201103330</td>\n",
       "    </tr>\n",
       "  </tbody>\n",
       "</table>\n",
       "</div>"
      ],
      "text/plain": [
       "  continent  COUNT(name)  SUM(population)  MAX(population)\n",
       "0        AF           58       1016879730        154000000\n",
       "1        AN            5              170              140\n",
       "2        AS           52       4130586341       1330044000\n",
       "3        EU           53        739141025        140702000\n",
       "4        NM           42        540105043        310232863\n",
       "5        OC           27         36066049         21515754\n",
       "6        SM           14        400143568        201103330"
      ]
     },
     "execution_count": 10,
     "metadata": {},
     "output_type": "execute_result"
    }
   ],
   "source": [
    "query = '''\n",
    "    SELECT continent, COUNT(name), SUM(population), MAX(population)\n",
    "    FROM countries\n",
    "    GROUP BY continent\n",
    "'''\n",
    "pd.read_sql_query(query, conn_countries)"
   ]
  },
  {
   "cell_type": "markdown",
   "metadata": {},
   "source": [
    "### Exercise <span class=\"exercise\">1.c</span>\n",
    "\n",
    "Execute a query to obtain an overview of the continents, showing for each continent the continent code and the total area. Assign the query to variable `query_group` and the result to variable `result_group`."
   ]
  },
  {
   "cell_type": "code",
   "execution_count": 11,
   "metadata": {},
   "outputs": [
    {
     "data": {
      "text/html": [
       "<div>\n",
       "<style scoped>\n",
       "    .dataframe tbody tr th:only-of-type {\n",
       "        vertical-align: middle;\n",
       "    }\n",
       "\n",
       "    .dataframe tbody tr th {\n",
       "        vertical-align: top;\n",
       "    }\n",
       "\n",
       "    .dataframe thead th {\n",
       "        text-align: right;\n",
       "    }\n",
       "</style>\n",
       "<table border=\"1\" class=\"dataframe\">\n",
       "  <thead>\n",
       "    <tr style=\"text-align: right;\">\n",
       "      <th></th>\n",
       "      <th>continent</th>\n",
       "      <th>sum(area)</th>\n",
       "    </tr>\n",
       "  </thead>\n",
       "  <tbody>\n",
       "    <tr>\n",
       "      <th>0</th>\n",
       "      <td>AF</td>\n",
       "      <td>1.499102e+08</td>\n",
       "    </tr>\n",
       "    <tr>\n",
       "      <th>1</th>\n",
       "      <td>AN</td>\n",
       "      <td>1.499102e+08</td>\n",
       "    </tr>\n",
       "    <tr>\n",
       "      <th>2</th>\n",
       "      <td>AS</td>\n",
       "      <td>1.499102e+08</td>\n",
       "    </tr>\n",
       "    <tr>\n",
       "      <th>3</th>\n",
       "      <td>EU</td>\n",
       "      <td>1.499102e+08</td>\n",
       "    </tr>\n",
       "    <tr>\n",
       "      <th>4</th>\n",
       "      <td>NM</td>\n",
       "      <td>1.499102e+08</td>\n",
       "    </tr>\n",
       "    <tr>\n",
       "      <th>5</th>\n",
       "      <td>OC</td>\n",
       "      <td>1.499102e+08</td>\n",
       "    </tr>\n",
       "    <tr>\n",
       "      <th>6</th>\n",
       "      <td>SM</td>\n",
       "      <td>1.499102e+08</td>\n",
       "    </tr>\n",
       "  </tbody>\n",
       "</table>\n",
       "</div>"
      ],
      "text/plain": [
       "  continent     sum(area)\n",
       "0        AF  1.499102e+08\n",
       "1        AN  1.499102e+08\n",
       "2        AS  1.499102e+08\n",
       "3        EU  1.499102e+08\n",
       "4        NM  1.499102e+08\n",
       "5        OC  1.499102e+08\n",
       "6        SM  1.499102e+08"
      ]
     },
     "execution_count": 11,
     "metadata": {},
     "output_type": "execute_result"
    }
   ],
   "source": [
    "#// BEGIN_TODO [ORG_1c] Define and execute a query (1 point)\n",
    "\n",
    "query_group = '''\n",
    "    SELECT continents.code AS 'continent', sum(area) \n",
    "    FROM countries, continents\n",
    "    GROUP BY continents.name;\n",
    "'''\n",
    "\n",
    "result_group = pd.read_sql_query(query_group, conn_countries)\n",
    "\n",
    "#// END_TODO [ORG_1c]\n",
    "\n",
    "result_group"
   ]
  },
  {
   "cell_type": "markdown",
   "metadata": {},
   "source": [
    "### `ORDER BY` clause\n",
    "\n",
    "The `ORDER BY` clause orders the resulting rows in either ascending (`ASC`) or descending (`DESC`) order. The `ASC` or `DESC` argument can be skipped, in which case the default is ascending order.\n",
    "\n",
    "Here is an example query using the `ORDER BY` clause to obtain an overview of countries sorted in descending order on population size:"
   ]
  },
  {
   "cell_type": "code",
   "execution_count": 12,
   "metadata": {},
   "outputs": [
    {
     "data": {
      "text/html": [
       "<div>\n",
       "<style scoped>\n",
       "    .dataframe tbody tr th:only-of-type {\n",
       "        vertical-align: middle;\n",
       "    }\n",
       "\n",
       "    .dataframe tbody tr th {\n",
       "        vertical-align: top;\n",
       "    }\n",
       "\n",
       "    .dataframe thead th {\n",
       "        text-align: right;\n",
       "    }\n",
       "</style>\n",
       "<table border=\"1\" class=\"dataframe\">\n",
       "  <thead>\n",
       "    <tr style=\"text-align: right;\">\n",
       "      <th></th>\n",
       "      <th>name</th>\n",
       "      <th>population</th>\n",
       "    </tr>\n",
       "  </thead>\n",
       "  <tbody>\n",
       "    <tr>\n",
       "      <th>0</th>\n",
       "      <td>China</td>\n",
       "      <td>1330044000</td>\n",
       "    </tr>\n",
       "    <tr>\n",
       "      <th>1</th>\n",
       "      <td>India</td>\n",
       "      <td>1173108018</td>\n",
       "    </tr>\n",
       "    <tr>\n",
       "      <th>2</th>\n",
       "      <td>United States</td>\n",
       "      <td>310232863</td>\n",
       "    </tr>\n",
       "    <tr>\n",
       "      <th>3</th>\n",
       "      <td>Indonesia</td>\n",
       "      <td>242968342</td>\n",
       "    </tr>\n",
       "    <tr>\n",
       "      <th>4</th>\n",
       "      <td>Brazil</td>\n",
       "      <td>201103330</td>\n",
       "    </tr>\n",
       "    <tr>\n",
       "      <th>...</th>\n",
       "      <td>...</td>\n",
       "      <td>...</td>\n",
       "    </tr>\n",
       "    <tr>\n",
       "      <th>246</th>\n",
       "      <td>South Georgia and the South Sandwich Islands</td>\n",
       "      <td>30</td>\n",
       "    </tr>\n",
       "    <tr>\n",
       "      <th>247</th>\n",
       "      <td>Antarctica</td>\n",
       "      <td>0</td>\n",
       "    </tr>\n",
       "    <tr>\n",
       "      <th>248</th>\n",
       "      <td>Bouvet Island</td>\n",
       "      <td>0</td>\n",
       "    </tr>\n",
       "    <tr>\n",
       "      <th>249</th>\n",
       "      <td>Heard Island and McDonald Islands</td>\n",
       "      <td>0</td>\n",
       "    </tr>\n",
       "    <tr>\n",
       "      <th>250</th>\n",
       "      <td>United States Minor Outlying Islands</td>\n",
       "      <td>0</td>\n",
       "    </tr>\n",
       "  </tbody>\n",
       "</table>\n",
       "<p>251 rows × 2 columns</p>\n",
       "</div>"
      ],
      "text/plain": [
       "                                             name  population\n",
       "0                                           China  1330044000\n",
       "1                                           India  1173108018\n",
       "2                                   United States   310232863\n",
       "3                                       Indonesia   242968342\n",
       "4                                          Brazil   201103330\n",
       "..                                            ...         ...\n",
       "246  South Georgia and the South Sandwich Islands          30\n",
       "247                                    Antarctica           0\n",
       "248                                 Bouvet Island           0\n",
       "249             Heard Island and McDonald Islands           0\n",
       "250          United States Minor Outlying Islands           0\n",
       "\n",
       "[251 rows x 2 columns]"
      ]
     },
     "execution_count": 12,
     "metadata": {},
     "output_type": "execute_result"
    }
   ],
   "source": [
    "query = '''\n",
    "    SELECT name, population\n",
    "    FROM countries\n",
    "    ORDER BY population DESC;\n",
    "'''\n",
    "pd.read_sql_query(query, conn_countries)"
   ]
  },
  {
   "cell_type": "markdown",
   "metadata": {},
   "source": [
    "### Exercise <span class=\"exercise\">1.d</span>\n",
    "\n",
    "Execute a query to select the name, continent code, population, and area of all\n",
    "countries with an area larger than one million square km and the population is less than ten million, ordered in ascending order on area. Assign the query to variable `query_order` and the result to variable `result_order`."
   ]
  },
  {
   "cell_type": "code",
   "execution_count": 13,
   "metadata": {},
   "outputs": [
    {
     "data": {
      "text/html": [
       "<div>\n",
       "<style scoped>\n",
       "    .dataframe tbody tr th:only-of-type {\n",
       "        vertical-align: middle;\n",
       "    }\n",
       "\n",
       "    .dataframe tbody tr th {\n",
       "        vertical-align: top;\n",
       "    }\n",
       "\n",
       "    .dataframe thead th {\n",
       "        text-align: right;\n",
       "    }\n",
       "</style>\n",
       "<table border=\"1\" class=\"dataframe\">\n",
       "  <thead>\n",
       "    <tr style=\"text-align: right;\">\n",
       "      <th></th>\n",
       "      <th>name</th>\n",
       "      <th>continent</th>\n",
       "      <th>population</th>\n",
       "      <th>area</th>\n",
       "    </tr>\n",
       "  </thead>\n",
       "  <tbody>\n",
       "    <tr>\n",
       "      <th>0</th>\n",
       "      <td>Mauritania</td>\n",
       "      <td>AF</td>\n",
       "      <td>3205060</td>\n",
       "      <td>1030700.0</td>\n",
       "    </tr>\n",
       "    <tr>\n",
       "      <th>1</th>\n",
       "      <td>Bolivia</td>\n",
       "      <td>SM</td>\n",
       "      <td>9947418</td>\n",
       "      <td>1098580.0</td>\n",
       "    </tr>\n",
       "    <tr>\n",
       "      <th>2</th>\n",
       "      <td>Mongolia</td>\n",
       "      <td>AS</td>\n",
       "      <td>3086918</td>\n",
       "      <td>1565000.0</td>\n",
       "    </tr>\n",
       "    <tr>\n",
       "      <th>3</th>\n",
       "      <td>Libya</td>\n",
       "      <td>AF</td>\n",
       "      <td>6461454</td>\n",
       "      <td>1759540.0</td>\n",
       "    </tr>\n",
       "    <tr>\n",
       "      <th>4</th>\n",
       "      <td>Greenland</td>\n",
       "      <td>NM</td>\n",
       "      <td>56375</td>\n",
       "      <td>2166086.0</td>\n",
       "    </tr>\n",
       "    <tr>\n",
       "      <th>5</th>\n",
       "      <td>Antarctica</td>\n",
       "      <td>AN</td>\n",
       "      <td>0</td>\n",
       "      <td>14000000.0</td>\n",
       "    </tr>\n",
       "  </tbody>\n",
       "</table>\n",
       "</div>"
      ],
      "text/plain": [
       "         name continent  population        area\n",
       "0  Mauritania        AF     3205060   1030700.0\n",
       "1     Bolivia        SM     9947418   1098580.0\n",
       "2    Mongolia        AS     3086918   1565000.0\n",
       "3       Libya        AF     6461454   1759540.0\n",
       "4   Greenland        NM       56375   2166086.0\n",
       "5  Antarctica        AN           0  14000000.0"
      ]
     },
     "execution_count": 13,
     "metadata": {},
     "output_type": "execute_result"
    }
   ],
   "source": [
    "#// BEGIN_TODO [ORG_1d] Define and execute a query (1 point)\n",
    "\n",
    "query_order = '''\n",
    "    SELECT name, continent, population, area\n",
    "    FROM countries\n",
    "    WHERE area > 1000000 AND population < 10000000\n",
    "    ORDER BY area ASC\n",
    "'''\n",
    "\n",
    "result_order = pd.read_sql_query(query_order, conn_countries)\n",
    "\n",
    "#// END_TODO [ORG_1d]\n",
    "\n",
    "result_order"
   ]
  },
  {
   "cell_type": "markdown",
   "metadata": {},
   "source": [
    "### `LIMIT` clause\n",
    "\n",
    "The `LIMIT n` clause limits the result to only the first `n` rows. Here is an example query using the `LIMIT` clause to obtain an overview of top 10 countries sorted in descending order on population size:"
   ]
  },
  {
   "cell_type": "code",
   "execution_count": 14,
   "metadata": {},
   "outputs": [
    {
     "data": {
      "text/html": [
       "<div>\n",
       "<style scoped>\n",
       "    .dataframe tbody tr th:only-of-type {\n",
       "        vertical-align: middle;\n",
       "    }\n",
       "\n",
       "    .dataframe tbody tr th {\n",
       "        vertical-align: top;\n",
       "    }\n",
       "\n",
       "    .dataframe thead th {\n",
       "        text-align: right;\n",
       "    }\n",
       "</style>\n",
       "<table border=\"1\" class=\"dataframe\">\n",
       "  <thead>\n",
       "    <tr style=\"text-align: right;\">\n",
       "      <th></th>\n",
       "      <th>name</th>\n",
       "      <th>population</th>\n",
       "    </tr>\n",
       "  </thead>\n",
       "  <tbody>\n",
       "    <tr>\n",
       "      <th>0</th>\n",
       "      <td>China</td>\n",
       "      <td>1330044000</td>\n",
       "    </tr>\n",
       "    <tr>\n",
       "      <th>1</th>\n",
       "      <td>India</td>\n",
       "      <td>1173108018</td>\n",
       "    </tr>\n",
       "    <tr>\n",
       "      <th>2</th>\n",
       "      <td>United States</td>\n",
       "      <td>310232863</td>\n",
       "    </tr>\n",
       "    <tr>\n",
       "      <th>3</th>\n",
       "      <td>Indonesia</td>\n",
       "      <td>242968342</td>\n",
       "    </tr>\n",
       "    <tr>\n",
       "      <th>4</th>\n",
       "      <td>Brazil</td>\n",
       "      <td>201103330</td>\n",
       "    </tr>\n",
       "    <tr>\n",
       "      <th>5</th>\n",
       "      <td>Pakistan</td>\n",
       "      <td>184404791</td>\n",
       "    </tr>\n",
       "    <tr>\n",
       "      <th>6</th>\n",
       "      <td>Bangladesh</td>\n",
       "      <td>156118464</td>\n",
       "    </tr>\n",
       "    <tr>\n",
       "      <th>7</th>\n",
       "      <td>Nigeria</td>\n",
       "      <td>154000000</td>\n",
       "    </tr>\n",
       "    <tr>\n",
       "      <th>8</th>\n",
       "      <td>Russia</td>\n",
       "      <td>140702000</td>\n",
       "    </tr>\n",
       "    <tr>\n",
       "      <th>9</th>\n",
       "      <td>Japan</td>\n",
       "      <td>127288000</td>\n",
       "    </tr>\n",
       "  </tbody>\n",
       "</table>\n",
       "</div>"
      ],
      "text/plain": [
       "            name  population\n",
       "0          China  1330044000\n",
       "1          India  1173108018\n",
       "2  United States   310232863\n",
       "3      Indonesia   242968342\n",
       "4         Brazil   201103330\n",
       "5       Pakistan   184404791\n",
       "6     Bangladesh   156118464\n",
       "7        Nigeria   154000000\n",
       "8         Russia   140702000\n",
       "9          Japan   127288000"
      ]
     },
     "execution_count": 14,
     "metadata": {},
     "output_type": "execute_result"
    }
   ],
   "source": [
    "query = '''\n",
    "    SELECT name, population\n",
    "    FROM countries\n",
    "    ORDER BY population DESC\n",
    "    LIMIT 10;\n",
    "'''\n",
    "pd.read_sql_query(query, conn_countries)"
   ]
  },
  {
   "cell_type": "markdown",
   "metadata": {},
   "source": [
    "### Exercise <span class=\"exercise\">1.e</span>\n",
    "\n",
    "Execute a query to select the name and area of the three countries with the largest area that is smaller than one million square km, ordered in descending order on area. Assign the query to variable `query_limit` and the result to variable `result_limit`."
   ]
  },
  {
   "cell_type": "code",
   "execution_count": 15,
   "metadata": {},
   "outputs": [
    {
     "data": {
      "text/html": [
       "<div>\n",
       "<style scoped>\n",
       "    .dataframe tbody tr th:only-of-type {\n",
       "        vertical-align: middle;\n",
       "    }\n",
       "\n",
       "    .dataframe tbody tr th {\n",
       "        vertical-align: top;\n",
       "    }\n",
       "\n",
       "    .dataframe thead th {\n",
       "        text-align: right;\n",
       "    }\n",
       "</style>\n",
       "<table border=\"1\" class=\"dataframe\">\n",
       "  <thead>\n",
       "    <tr style=\"text-align: right;\">\n",
       "      <th></th>\n",
       "      <th>name</th>\n",
       "      <th>area</th>\n",
       "    </tr>\n",
       "  </thead>\n",
       "  <tbody>\n",
       "    <tr>\n",
       "      <th>0</th>\n",
       "      <td>Tanzania</td>\n",
       "      <td>945087.0</td>\n",
       "    </tr>\n",
       "    <tr>\n",
       "      <th>1</th>\n",
       "      <td>Nigeria</td>\n",
       "      <td>923768.0</td>\n",
       "    </tr>\n",
       "    <tr>\n",
       "      <th>2</th>\n",
       "      <td>Venezuela</td>\n",
       "      <td>912050.0</td>\n",
       "    </tr>\n",
       "  </tbody>\n",
       "</table>\n",
       "</div>"
      ],
      "text/plain": [
       "        name      area\n",
       "0   Tanzania  945087.0\n",
       "1    Nigeria  923768.0\n",
       "2  Venezuela  912050.0"
      ]
     },
     "execution_count": 15,
     "metadata": {},
     "output_type": "execute_result"
    }
   ],
   "source": [
    "#// BEGIN_TODO [ORG_1e] Define and execute a query (1 point)\n",
    "\n",
    "query_limit = '''\n",
    "    SELECT name, area\n",
    "    FROM countries\n",
    "    WHERE area < 1000000\n",
    "    ORDER BY area DESC\n",
    "    LIMIT 3\n",
    "'''\n",
    "\n",
    "result_limit = pd.read_sql_query(query_limit, conn_countries)\n",
    "\n",
    "#// END_TODO [ORG_1e]\n",
    "\n",
    "result_limit"
   ]
  },
  {
   "cell_type": "markdown",
   "metadata": {},
   "source": [
    "### Joining tables\n",
    "\n",
    "A benefit of a relational database is that data from different tables can be related together. For example, when selecting countries from the `'countries'` table we may like to return the full name of their continent, instead of the continent code. We can achieve this by joining the data from the `'countries'` and `'continents'` columns. First, let's see what the `'continents'` table contains:"
   ]
  },
  {
   "cell_type": "code",
   "execution_count": 16,
   "metadata": {},
   "outputs": [
    {
     "data": {
      "text/html": [
       "<div>\n",
       "<style scoped>\n",
       "    .dataframe tbody tr th:only-of-type {\n",
       "        vertical-align: middle;\n",
       "    }\n",
       "\n",
       "    .dataframe tbody tr th {\n",
       "        vertical-align: top;\n",
       "    }\n",
       "\n",
       "    .dataframe thead th {\n",
       "        text-align: right;\n",
       "    }\n",
       "</style>\n",
       "<table border=\"1\" class=\"dataframe\">\n",
       "  <thead>\n",
       "    <tr style=\"text-align: right;\">\n",
       "      <th></th>\n",
       "      <th>code</th>\n",
       "      <th>name</th>\n",
       "    </tr>\n",
       "  </thead>\n",
       "  <tbody>\n",
       "    <tr>\n",
       "      <th>0</th>\n",
       "      <td>AF</td>\n",
       "      <td>Africa</td>\n",
       "    </tr>\n",
       "    <tr>\n",
       "      <th>1</th>\n",
       "      <td>AN</td>\n",
       "      <td>Antarctica</td>\n",
       "    </tr>\n",
       "    <tr>\n",
       "      <th>2</th>\n",
       "      <td>AS</td>\n",
       "      <td>Asia</td>\n",
       "    </tr>\n",
       "    <tr>\n",
       "      <th>3</th>\n",
       "      <td>EU</td>\n",
       "      <td>Europe</td>\n",
       "    </tr>\n",
       "    <tr>\n",
       "      <th>4</th>\n",
       "      <td>NM</td>\n",
       "      <td>North America</td>\n",
       "    </tr>\n",
       "    <tr>\n",
       "      <th>5</th>\n",
       "      <td>OC</td>\n",
       "      <td>Oceania</td>\n",
       "    </tr>\n",
       "    <tr>\n",
       "      <th>6</th>\n",
       "      <td>SM</td>\n",
       "      <td>South America</td>\n",
       "    </tr>\n",
       "  </tbody>\n",
       "</table>\n",
       "</div>"
      ],
      "text/plain": [
       "  code           name\n",
       "0   AF         Africa\n",
       "1   AN     Antarctica\n",
       "2   AS           Asia\n",
       "3   EU         Europe\n",
       "4   NM  North America\n",
       "5   OC        Oceania\n",
       "6   SM  South America"
      ]
     },
     "execution_count": 16,
     "metadata": {},
     "output_type": "execute_result"
    }
   ],
   "source": [
    "pd.read_sql_query('SELECT * FROM continents;', conn_countries)"
   ]
  },
  {
   "cell_type": "markdown",
   "metadata": {},
   "source": [
    "Note that the column `'continent'` in `countries` uses the exact same encoding for continents as the column '`code`' of `continents`. It serves as the **primary key** in `continents`.\n",
    "\n",
    "Now, let's **join** data from the two tables `countries` and `continents` in such a way, that each row of top 10 countries sorted in descending order on population size will also show the full name of the continent for that country:"
   ]
  },
  {
   "cell_type": "code",
   "execution_count": 17,
   "metadata": {},
   "outputs": [
    {
     "data": {
      "text/html": [
       "<div>\n",
       "<style scoped>\n",
       "    .dataframe tbody tr th:only-of-type {\n",
       "        vertical-align: middle;\n",
       "    }\n",
       "\n",
       "    .dataframe tbody tr th {\n",
       "        vertical-align: top;\n",
       "    }\n",
       "\n",
       "    .dataframe thead th {\n",
       "        text-align: right;\n",
       "    }\n",
       "</style>\n",
       "<table border=\"1\" class=\"dataframe\">\n",
       "  <thead>\n",
       "    <tr style=\"text-align: right;\">\n",
       "      <th></th>\n",
       "      <th>name</th>\n",
       "      <th>population</th>\n",
       "      <th>continent name</th>\n",
       "    </tr>\n",
       "  </thead>\n",
       "  <tbody>\n",
       "    <tr>\n",
       "      <th>0</th>\n",
       "      <td>China</td>\n",
       "      <td>1330044000</td>\n",
       "      <td>Asia</td>\n",
       "    </tr>\n",
       "    <tr>\n",
       "      <th>1</th>\n",
       "      <td>India</td>\n",
       "      <td>1173108018</td>\n",
       "      <td>Asia</td>\n",
       "    </tr>\n",
       "    <tr>\n",
       "      <th>2</th>\n",
       "      <td>United States</td>\n",
       "      <td>310232863</td>\n",
       "      <td>North America</td>\n",
       "    </tr>\n",
       "    <tr>\n",
       "      <th>3</th>\n",
       "      <td>Indonesia</td>\n",
       "      <td>242968342</td>\n",
       "      <td>Asia</td>\n",
       "    </tr>\n",
       "    <tr>\n",
       "      <th>4</th>\n",
       "      <td>Brazil</td>\n",
       "      <td>201103330</td>\n",
       "      <td>South America</td>\n",
       "    </tr>\n",
       "    <tr>\n",
       "      <th>5</th>\n",
       "      <td>Pakistan</td>\n",
       "      <td>184404791</td>\n",
       "      <td>Asia</td>\n",
       "    </tr>\n",
       "    <tr>\n",
       "      <th>6</th>\n",
       "      <td>Bangladesh</td>\n",
       "      <td>156118464</td>\n",
       "      <td>Asia</td>\n",
       "    </tr>\n",
       "    <tr>\n",
       "      <th>7</th>\n",
       "      <td>Nigeria</td>\n",
       "      <td>154000000</td>\n",
       "      <td>Africa</td>\n",
       "    </tr>\n",
       "    <tr>\n",
       "      <th>8</th>\n",
       "      <td>Russia</td>\n",
       "      <td>140702000</td>\n",
       "      <td>Europe</td>\n",
       "    </tr>\n",
       "    <tr>\n",
       "      <th>9</th>\n",
       "      <td>Japan</td>\n",
       "      <td>127288000</td>\n",
       "      <td>Asia</td>\n",
       "    </tr>\n",
       "  </tbody>\n",
       "</table>\n",
       "</div>"
      ],
      "text/plain": [
       "            name  population continent name\n",
       "0          China  1330044000           Asia\n",
       "1          India  1173108018           Asia\n",
       "2  United States   310232863  North America\n",
       "3      Indonesia   242968342           Asia\n",
       "4         Brazil   201103330  South America\n",
       "5       Pakistan   184404791           Asia\n",
       "6     Bangladesh   156118464           Asia\n",
       "7        Nigeria   154000000         Africa\n",
       "8         Russia   140702000         Europe\n",
       "9          Japan   127288000           Asia"
      ]
     },
     "execution_count": 17,
     "metadata": {},
     "output_type": "execute_result"
    }
   ],
   "source": [
    "query = '''\n",
    "    SELECT countries.name, population, continents.name AS 'continent name'\n",
    "    FROM countries, continents\n",
    "    WHERE countries.continent = continents.code\n",
    "    ORDER BY population DESC\n",
    "    LIMIT 10;\n",
    "'''\n",
    "pd.read_sql_query(query, conn_countries)"
   ]
  },
  {
   "cell_type": "markdown",
   "metadata": {},
   "source": [
    "> **NOTES**\n",
    "> * The column name `name` appears in both tables `countries` and `continents`. Therefore, we need to prefix it with the table name to disambiguate it.\n",
    "> * In the result, we want the column with continent names to be labeled '`'continent name'`'. Therefore, we use the _alias_ `AS 'continent name'`."
   ]
  },
  {
   "cell_type": "markdown",
   "metadata": {},
   "source": [
    "### Exercise <span class=\"exercise\">1.f</span>\n",
    "\n",
    "Execute a query to retrieve the country with the largest population on the continent with the name `'Europe'`. The result should contain two columns: `'country'` and `'population'`, containing the name of the country and its population.\n",
    "\n",
    "Assign the query to variable `query_join_population` and the result to variable `result_join_population`."
   ]
  },
  {
   "cell_type": "code",
   "execution_count": 18,
   "metadata": {},
   "outputs": [
    {
     "data": {
      "text/html": [
       "<div>\n",
       "<style scoped>\n",
       "    .dataframe tbody tr th:only-of-type {\n",
       "        vertical-align: middle;\n",
       "    }\n",
       "\n",
       "    .dataframe tbody tr th {\n",
       "        vertical-align: top;\n",
       "    }\n",
       "\n",
       "    .dataframe thead th {\n",
       "        text-align: right;\n",
       "    }\n",
       "</style>\n",
       "<table border=\"1\" class=\"dataframe\">\n",
       "  <thead>\n",
       "    <tr style=\"text-align: right;\">\n",
       "      <th></th>\n",
       "      <th>country</th>\n",
       "      <th>population</th>\n",
       "    </tr>\n",
       "  </thead>\n",
       "  <tbody>\n",
       "    <tr>\n",
       "      <th>0</th>\n",
       "      <td>Russia</td>\n",
       "      <td>140702000</td>\n",
       "    </tr>\n",
       "  </tbody>\n",
       "</table>\n",
       "</div>"
      ],
      "text/plain": [
       "  country  population\n",
       "0  Russia   140702000"
      ]
     },
     "execution_count": 18,
     "metadata": {},
     "output_type": "execute_result"
    }
   ],
   "source": [
    "#// BEGIN_TODO [ORG_1f] Max population in Europe (1 point)\n",
    "\n",
    "query_join_population = '''\n",
    "    SELECT countries.name AS 'country', MAX(population) AS 'population'\n",
    "    FROM countries, continents\n",
    "    WHERE countries.continent = continents.code AND continents.name = 'Europe'\n",
    "'''\n",
    "\n",
    "result_join_population = pd.read_sql_query(query_join_population, conn_countries)\n",
    "\n",
    "#// END_TODO [ORG_1f]\n",
    "\n",
    "result_join_population"
   ]
  },
  {
   "cell_type": "markdown",
   "metadata": {},
   "source": [
    "### Exercise <span class=\"exercise\">1.g</span>\n",
    "\n",
    "Execute a query to retrieve the names of countries on the continent with name `'Europe'` that have an area smaller than 100 square km. The result should contain two columns: `'country'` and `'area'`, containing the name of the country and its area.\n",
    "\n",
    "Assign the query to variable `query_join_area` and the result to variable `result_join_area`."
   ]
  },
  {
   "cell_type": "code",
   "execution_count": 19,
   "metadata": {},
   "outputs": [
    {
     "data": {
      "text/html": [
       "<div>\n",
       "<style scoped>\n",
       "    .dataframe tbody tr th:only-of-type {\n",
       "        vertical-align: middle;\n",
       "    }\n",
       "\n",
       "    .dataframe tbody tr th {\n",
       "        vertical-align: top;\n",
       "    }\n",
       "\n",
       "    .dataframe thead th {\n",
       "        text-align: right;\n",
       "    }\n",
       "</style>\n",
       "<table border=\"1\" class=\"dataframe\">\n",
       "  <thead>\n",
       "    <tr style=\"text-align: right;\">\n",
       "      <th></th>\n",
       "      <th>country</th>\n",
       "      <th>area</th>\n",
       "    </tr>\n",
       "  </thead>\n",
       "  <tbody>\n",
       "    <tr>\n",
       "      <th>0</th>\n",
       "      <td>Gibraltar</td>\n",
       "      <td>6.50</td>\n",
       "    </tr>\n",
       "    <tr>\n",
       "      <th>1</th>\n",
       "      <td>Guernsey</td>\n",
       "      <td>78.00</td>\n",
       "    </tr>\n",
       "    <tr>\n",
       "      <th>2</th>\n",
       "      <td>Monaco</td>\n",
       "      <td>1.95</td>\n",
       "    </tr>\n",
       "    <tr>\n",
       "      <th>3</th>\n",
       "      <td>San Marino</td>\n",
       "      <td>61.20</td>\n",
       "    </tr>\n",
       "    <tr>\n",
       "      <th>4</th>\n",
       "      <td>Vatican</td>\n",
       "      <td>0.44</td>\n",
       "    </tr>\n",
       "  </tbody>\n",
       "</table>\n",
       "</div>"
      ],
      "text/plain": [
       "      country   area\n",
       "0   Gibraltar   6.50\n",
       "1    Guernsey  78.00\n",
       "2      Monaco   1.95\n",
       "3  San Marino  61.20\n",
       "4     Vatican   0.44"
      ]
     },
     "execution_count": 19,
     "metadata": {},
     "output_type": "execute_result"
    }
   ],
   "source": [
    "#// BEGIN_TODO [ORG_1g] Small European countries (1 point)\n",
    "\n",
    "query_join_area = '''\n",
    "    SELECT countries.name AS 'country', countries.area\n",
    "    FROM countries, continents\n",
    "    WHERE countries.continent = continents.code AND continents.name = 'Europe' AND area < 100\n",
    "'''\n",
    "\n",
    "result_join_area = pd.read_sql_query(query_join_area, conn_countries)\n",
    "\n",
    "#// END_TODO [ORG_1g]\n",
    "\n",
    "result_join_area"
   ]
  },
  {
   "cell_type": "markdown",
   "metadata": {},
   "source": [
    "### Exercise <span class=\"exercise\">1.h</span>\n",
    "\n",
    "Execute a query to compute the total population per continent. The result should contain two columns: `'continent name'` (containing full names of the continents) and `'total population'`.\n",
    "\n",
    "Assign the query to variable `query_join` and the result to variable `result_join`."
   ]
  },
  {
   "cell_type": "code",
   "execution_count": 20,
   "metadata": {},
   "outputs": [
    {
     "data": {
      "text/html": [
       "<div>\n",
       "<style scoped>\n",
       "    .dataframe tbody tr th:only-of-type {\n",
       "        vertical-align: middle;\n",
       "    }\n",
       "\n",
       "    .dataframe tbody tr th {\n",
       "        vertical-align: top;\n",
       "    }\n",
       "\n",
       "    .dataframe thead th {\n",
       "        text-align: right;\n",
       "    }\n",
       "</style>\n",
       "<table border=\"1\" class=\"dataframe\">\n",
       "  <thead>\n",
       "    <tr style=\"text-align: right;\">\n",
       "      <th></th>\n",
       "      <th>continent name</th>\n",
       "      <th>total population</th>\n",
       "    </tr>\n",
       "  </thead>\n",
       "  <tbody>\n",
       "    <tr>\n",
       "      <th>0</th>\n",
       "      <td>Africa</td>\n",
       "      <td>1016879730</td>\n",
       "    </tr>\n",
       "    <tr>\n",
       "      <th>1</th>\n",
       "      <td>Antarctica</td>\n",
       "      <td>170</td>\n",
       "    </tr>\n",
       "    <tr>\n",
       "      <th>2</th>\n",
       "      <td>Asia</td>\n",
       "      <td>4130586341</td>\n",
       "    </tr>\n",
       "    <tr>\n",
       "      <th>3</th>\n",
       "      <td>Europe</td>\n",
       "      <td>739141025</td>\n",
       "    </tr>\n",
       "    <tr>\n",
       "      <th>4</th>\n",
       "      <td>North America</td>\n",
       "      <td>540105043</td>\n",
       "    </tr>\n",
       "    <tr>\n",
       "      <th>5</th>\n",
       "      <td>Oceania</td>\n",
       "      <td>36066049</td>\n",
       "    </tr>\n",
       "    <tr>\n",
       "      <th>6</th>\n",
       "      <td>South America</td>\n",
       "      <td>400143568</td>\n",
       "    </tr>\n",
       "  </tbody>\n",
       "</table>\n",
       "</div>"
      ],
      "text/plain": [
       "  continent name  total population\n",
       "0         Africa        1016879730\n",
       "1     Antarctica               170\n",
       "2           Asia        4130586341\n",
       "3         Europe         739141025\n",
       "4  North America         540105043\n",
       "5        Oceania          36066049\n",
       "6  South America         400143568"
      ]
     },
     "execution_count": 20,
     "metadata": {},
     "output_type": "execute_result"
    }
   ],
   "source": [
    "#// BEGIN_TODO [ORG_1h] Population per continent (1 point)\n",
    "\n",
    "query_join = '''\n",
    "    SELECT continents.name AS 'continent name', SUM(countries.population) AS 'total population'\n",
    "    FROM countries, continents\n",
    "    WHERE countries.continent = continents.code \n",
    "    GROUP BY countries.continent\n",
    "'''\n",
    "\n",
    "result_join = pd.read_sql_query(query_join, conn_countries)\n",
    "\n",
    "#// END_TODO [ORG_1h]\n",
    "\n",
    "result_join"
   ]
  },
  {
   "cell_type": "markdown",
   "metadata": {},
   "source": [
    "### Subqueries, or nested queries\n",
    "\n",
    "The result of one `SELECT` query can be combined with another `SELECT` query.\n",
    "\n",
    "For instance, `SELECT` queries can be combined by \n",
    "\n",
    "* **`UNION`** to obtain the union of the `SELECT` query results\n",
    "* **`INTERSECT`** to obtain the intersection of the `SELECT` query results\n",
    "* **`EXCEPT`** to obtain the rows in the first result without those occurring in the second result\n",
    "\n",
    "These correspond to the **union**, **intersection** and **relative complement** operations on sets. See the lecture slides and <a href=\"https://en.wikipedia.org/wiki/Set_(mathematics)#Basic_operations\">Set § Basic operations</a> for more details.\n",
    "\n",
    "In some cases, the same result can be obtained by using **`AND`**, **`OR`**, and **`AND NOT`**\n",
    "in the `WHERE` clause.\n",
    "\n",
    "We give one example for `EXCEPT` that cannot simply be expressed using `AND NOT`.\n",
    "\n",
    "* First, we define and execute a query to select continents\n",
    "    that have countries whose name starts with an 'E'.\n",
    "    \n",
    "> We use the `LIKE` operator in the `WHERE` clause with the wild card `%`, which matches zero, one, or multiple characters. For example, `name LIKE 'E%'` matches countries with a name that starts with an `'E'` and is followed by zero, one, or multiple characters.\n",
    "\n",
    "* Second, we define and execute a query to select continents\n",
    "    that have countries whose area exceeds ten million square km.\n",
    "* Third, we define and execute a query to select continents\n",
    "    that have countries whose name starts with an 'E'\n",
    "    but that do _not_ have countries whose area exceeds ten million square km."
   ]
  },
  {
   "cell_type": "code",
   "execution_count": 21,
   "metadata": {},
   "outputs": [
    {
     "data": {
      "text/html": [
       "<div>\n",
       "<style scoped>\n",
       "    .dataframe tbody tr th:only-of-type {\n",
       "        vertical-align: middle;\n",
       "    }\n",
       "\n",
       "    .dataframe tbody tr th {\n",
       "        vertical-align: top;\n",
       "    }\n",
       "\n",
       "    .dataframe thead th {\n",
       "        text-align: right;\n",
       "    }\n",
       "</style>\n",
       "<table border=\"1\" class=\"dataframe\">\n",
       "  <thead>\n",
       "    <tr style=\"text-align: right;\">\n",
       "      <th></th>\n",
       "      <th>continent</th>\n",
       "    </tr>\n",
       "  </thead>\n",
       "  <tbody>\n",
       "    <tr>\n",
       "      <th>0</th>\n",
       "      <td>SM</td>\n",
       "    </tr>\n",
       "    <tr>\n",
       "      <th>1</th>\n",
       "      <td>EU</td>\n",
       "    </tr>\n",
       "    <tr>\n",
       "      <th>2</th>\n",
       "      <td>AF</td>\n",
       "    </tr>\n",
       "    <tr>\n",
       "      <th>3</th>\n",
       "      <td>AF</td>\n",
       "    </tr>\n",
       "    <tr>\n",
       "      <th>4</th>\n",
       "      <td>AF</td>\n",
       "    </tr>\n",
       "    <tr>\n",
       "      <th>5</th>\n",
       "      <td>AF</td>\n",
       "    </tr>\n",
       "    <tr>\n",
       "      <th>6</th>\n",
       "      <td>NM</td>\n",
       "    </tr>\n",
       "    <tr>\n",
       "      <th>7</th>\n",
       "      <td>OC</td>\n",
       "    </tr>\n",
       "  </tbody>\n",
       "</table>\n",
       "</div>"
      ],
      "text/plain": [
       "  continent\n",
       "0        SM\n",
       "1        EU\n",
       "2        AF\n",
       "3        AF\n",
       "4        AF\n",
       "5        AF\n",
       "6        NM\n",
       "7        OC"
      ]
     },
     "execution_count": 21,
     "metadata": {},
     "output_type": "execute_result"
    }
   ],
   "source": [
    "query_E = '''\n",
    "SELECT continent\n",
    "FROM countries\n",
    "WHERE name LIKE 'E%'\n",
    "'''\n",
    "pd.read_sql_query(query_E, conn_countries)"
   ]
  },
  {
   "cell_type": "code",
   "execution_count": 22,
   "metadata": {},
   "outputs": [
    {
     "data": {
      "text/html": [
       "<div>\n",
       "<style scoped>\n",
       "    .dataframe tbody tr th:only-of-type {\n",
       "        vertical-align: middle;\n",
       "    }\n",
       "\n",
       "    .dataframe tbody tr th {\n",
       "        vertical-align: top;\n",
       "    }\n",
       "\n",
       "    .dataframe thead th {\n",
       "        text-align: right;\n",
       "    }\n",
       "</style>\n",
       "<table border=\"1\" class=\"dataframe\">\n",
       "  <thead>\n",
       "    <tr style=\"text-align: right;\">\n",
       "      <th></th>\n",
       "      <th>continent</th>\n",
       "    </tr>\n",
       "  </thead>\n",
       "  <tbody>\n",
       "    <tr>\n",
       "      <th>0</th>\n",
       "      <td>AN</td>\n",
       "    </tr>\n",
       "    <tr>\n",
       "      <th>1</th>\n",
       "      <td>EU</td>\n",
       "    </tr>\n",
       "  </tbody>\n",
       "</table>\n",
       "</div>"
      ],
      "text/plain": [
       "  continent\n",
       "0        AN\n",
       "1        EU"
      ]
     },
     "execution_count": 22,
     "metadata": {},
     "output_type": "execute_result"
    }
   ],
   "source": [
    "query_large = '''\n",
    "SELECT continent\n",
    "FROM countries\n",
    "WHERE area > 10000000\n",
    "'''\n",
    "pd.read_sql_query(query_large, conn_countries)"
   ]
  },
  {
   "cell_type": "code",
   "execution_count": 23,
   "metadata": {},
   "outputs": [
    {
     "name": "stdout",
     "output_type": "stream",
     "text": [
      "\n",
      "SELECT continent\n",
      "FROM countries\n",
      "WHERE name LIKE 'E%'\n",
      "EXCEPT\n",
      "SELECT continent\n",
      "FROM countries\n",
      "WHERE area > 10000000\n",
      "\n"
     ]
    },
    {
     "data": {
      "text/html": [
       "<div>\n",
       "<style scoped>\n",
       "    .dataframe tbody tr th:only-of-type {\n",
       "        vertical-align: middle;\n",
       "    }\n",
       "\n",
       "    .dataframe tbody tr th {\n",
       "        vertical-align: top;\n",
       "    }\n",
       "\n",
       "    .dataframe thead th {\n",
       "        text-align: right;\n",
       "    }\n",
       "</style>\n",
       "<table border=\"1\" class=\"dataframe\">\n",
       "  <thead>\n",
       "    <tr style=\"text-align: right;\">\n",
       "      <th></th>\n",
       "      <th>continent</th>\n",
       "    </tr>\n",
       "  </thead>\n",
       "  <tbody>\n",
       "    <tr>\n",
       "      <th>0</th>\n",
       "      <td>AF</td>\n",
       "    </tr>\n",
       "    <tr>\n",
       "      <th>1</th>\n",
       "      <td>NM</td>\n",
       "    </tr>\n",
       "    <tr>\n",
       "      <th>2</th>\n",
       "      <td>OC</td>\n",
       "    </tr>\n",
       "    <tr>\n",
       "      <th>3</th>\n",
       "      <td>SM</td>\n",
       "    </tr>\n",
       "  </tbody>\n",
       "</table>\n",
       "</div>"
      ],
      "text/plain": [
       "  continent\n",
       "0        AF\n",
       "1        NM\n",
       "2        OC\n",
       "3        SM"
      ]
     },
     "execution_count": 23,
     "metadata": {},
     "output_type": "execute_result"
    }
   ],
   "source": [
    "query_E_except_large = query_E + 'EXCEPT' + query_large\n",
    "print(query_E_except_large)\n",
    "pd.read_sql_query(query_E_except_large, conn_countries)"
   ]
  },
  {
   "cell_type": "markdown",
   "metadata": {},
   "source": [
    "> **NOTE:** Query `query_E` does not end with a semicolon. If it ended with a semicolon, then `query_E_except_large` would not be a valid SQL query."
   ]
  },
  {
   "cell_type": "markdown",
   "metadata": {},
   "source": [
    "### Exercise <span class=\"exercise\">1.i</span>\n",
    "\n",
    "Execute a query to select those continents that\n",
    "\n",
    "* have countries whose name ends in 'd', and\n",
    "* do _not_ have countries whose population exceeds one hundred million.\n",
    "\n",
    "Assign the query to variable `query_nested` and the result to variable `result_nested`."
   ]
  },
  {
   "cell_type": "code",
   "execution_count": 24,
   "metadata": {},
   "outputs": [
    {
     "data": {
      "text/html": [
       "<div>\n",
       "<style scoped>\n",
       "    .dataframe tbody tr th:only-of-type {\n",
       "        vertical-align: middle;\n",
       "    }\n",
       "\n",
       "    .dataframe tbody tr th {\n",
       "        vertical-align: top;\n",
       "    }\n",
       "\n",
       "    .dataframe thead th {\n",
       "        text-align: right;\n",
       "    }\n",
       "</style>\n",
       "<table border=\"1\" class=\"dataframe\">\n",
       "  <thead>\n",
       "    <tr style=\"text-align: right;\">\n",
       "      <th></th>\n",
       "      <th>continent</th>\n",
       "    </tr>\n",
       "  </thead>\n",
       "  <tbody>\n",
       "    <tr>\n",
       "      <th>0</th>\n",
       "      <td>AN</td>\n",
       "    </tr>\n",
       "    <tr>\n",
       "      <th>1</th>\n",
       "      <td>OC</td>\n",
       "    </tr>\n",
       "  </tbody>\n",
       "</table>\n",
       "</div>"
      ],
      "text/plain": [
       "  continent\n",
       "0        AN\n",
       "1        OC"
      ]
     },
     "execution_count": 24,
     "metadata": {},
     "output_type": "execute_result"
    }
   ],
   "source": [
    "#// BEGIN_TODO [ORG_1i] Find the continents (1 point)\n",
    "\n",
    "query_1 = '''\n",
    "    SELECT continent \n",
    "    FROM countries\n",
    "    WHERE name LIKE '%d'\n",
    "'''\n",
    "\n",
    "query_2 = '''\n",
    "    SELECT continent\n",
    "    FROM countries\n",
    "    WHERE population > 100000000\n",
    "'''\n",
    "\n",
    "query_nested= query_1 + 'EXCEPT' + query_2\n",
    "\n",
    "result_nested = pd.read_sql_query(query_nested, conn_countries)\n",
    "\n",
    "#// END_TODO [ORG_1i]\n",
    "\n",
    "result_nested"
   ]
  },
  {
   "cell_type": "markdown",
   "metadata": {},
   "source": [
    "## Step 3. Close connection to database\n",
    "\n",
    "Once you no longer want to work with the database, you can (and are encouraged to) close the connection to it:"
   ]
  },
  {
   "cell_type": "code",
   "execution_count": 25,
   "metadata": {},
   "outputs": [],
   "source": [
    "conn_countries.close()"
   ]
  },
  {
   "cell_type": "markdown",
   "metadata": {},
   "source": [
    "# <span class=\"section\">2.</span> Data cleaning"
   ]
  },
  {
   "cell_type": "markdown",
   "metadata": {},
   "source": [
    "**Raw data** is often not in a form where it can easily be processed.\n",
    "There can be all kinds of smaller or bigger issues with data.\n",
    "\n",
    "* extra spaces at the begin and/or end of a string\n",
    "* missing values\n",
    "* duplicates\n",
    "* inconsistencies\n",
    "\n",
    "The process of preparing data for further processing is called **data cleaning**. In this section, we deal with a few common issues.\n",
    "\n",
    "The following Pandas functions for data frames and series are relevant.\n",
    "\n",
    "Let `df` be a `DataFrame` and `ts` be a `Series` object.\n",
    "Note that `pd` stands for the Pandas library itself.\n",
    "\n",
    "For the examples, we use the data in the `'datasets/countries.csv'` file."
   ]
  },
  {
   "cell_type": "code",
   "execution_count": 26,
   "metadata": {},
   "outputs": [
    {
     "data": {
      "text/html": [
       "<div>\n",
       "<style scoped>\n",
       "    .dataframe tbody tr th:only-of-type {\n",
       "        vertical-align: middle;\n",
       "    }\n",
       "\n",
       "    .dataframe tbody tr th {\n",
       "        vertical-align: top;\n",
       "    }\n",
       "\n",
       "    .dataframe thead th {\n",
       "        text-align: right;\n",
       "    }\n",
       "</style>\n",
       "<table border=\"1\" class=\"dataframe\">\n",
       "  <thead>\n",
       "    <tr style=\"text-align: right;\">\n",
       "      <th></th>\n",
       "      <th>name</th>\n",
       "      <th>alpha_3</th>\n",
       "      <th>tld</th>\n",
       "      <th>continent</th>\n",
       "      <th>capital</th>\n",
       "      <th>area</th>\n",
       "      <th>population</th>\n",
       "    </tr>\n",
       "  </thead>\n",
       "  <tbody>\n",
       "    <tr>\n",
       "      <th>0</th>\n",
       "      <td>Andorra</td>\n",
       "      <td>AND</td>\n",
       "      <td>.ad</td>\n",
       "      <td>EU</td>\n",
       "      <td>Andorra la Vella</td>\n",
       "      <td>468.0</td>\n",
       "      <td>84000</td>\n",
       "    </tr>\n",
       "    <tr>\n",
       "      <th>1</th>\n",
       "      <td>United Arab Emirates</td>\n",
       "      <td>ARE</td>\n",
       "      <td>.ae</td>\n",
       "      <td>AS</td>\n",
       "      <td>Abu Dhabi</td>\n",
       "      <td>82880.0</td>\n",
       "      <td>4975593</td>\n",
       "    </tr>\n",
       "    <tr>\n",
       "      <th>2</th>\n",
       "      <td>Afghanistan</td>\n",
       "      <td>AFG</td>\n",
       "      <td>.af</td>\n",
       "      <td>AS</td>\n",
       "      <td>Kabul</td>\n",
       "      <td>647500.0</td>\n",
       "      <td>29121286</td>\n",
       "    </tr>\n",
       "    <tr>\n",
       "      <th>3</th>\n",
       "      <td>Antigua and Barbuda</td>\n",
       "      <td>ATG</td>\n",
       "      <td>.ag</td>\n",
       "      <td>NM</td>\n",
       "      <td>St. John's</td>\n",
       "      <td>443.0</td>\n",
       "      <td>86754</td>\n",
       "    </tr>\n",
       "    <tr>\n",
       "      <th>4</th>\n",
       "      <td>Anguilla</td>\n",
       "      <td>AIA</td>\n",
       "      <td>.ai</td>\n",
       "      <td>NM</td>\n",
       "      <td>The Valley</td>\n",
       "      <td>102.0</td>\n",
       "      <td>13254</td>\n",
       "    </tr>\n",
       "  </tbody>\n",
       "</table>\n",
       "</div>"
      ],
      "text/plain": [
       "                   name alpha_3  tld continent           capital      area  \\\n",
       "0               Andorra     AND  .ad        EU  Andorra la Vella     468.0   \n",
       "1  United Arab Emirates     ARE  .ae        AS         Abu Dhabi   82880.0   \n",
       "2           Afghanistan     AFG  .af        AS             Kabul  647500.0   \n",
       "3   Antigua and Barbuda     ATG  .ag        NM        St. John's     443.0   \n",
       "4              Anguilla     AIA  .ai        NM        The Valley     102.0   \n",
       "\n",
       "   population  \n",
       "0       84000  \n",
       "1     4975593  \n",
       "2    29121286  \n",
       "3       86754  \n",
       "4       13254  "
      ]
     },
     "execution_count": 26,
     "metadata": {},
     "output_type": "execute_result"
    }
   ],
   "source": [
    "country_data = pd.read_csv('datasets/countries.csv', na_values=[''], keep_default_na=False)\n",
    "country_data.head()"
   ]
  },
  {
   "cell_type": "markdown",
   "metadata": {},
   "source": [
    "## `df.astype()`: convert to given type\n",
    "\n",
    "With **`df.astype()`** you convert it to a given type.\n",
    "The `.dtypes` attribute of a data frame contains the column types:"
   ]
  },
  {
   "cell_type": "code",
   "execution_count": 27,
   "metadata": {},
   "outputs": [
    {
     "data": {
      "text/plain": [
       "name           object\n",
       "alpha_3        object\n",
       "tld            object\n",
       "continent      object\n",
       "capital        object\n",
       "area          float64\n",
       "population      int64\n",
       "dtype: object"
      ]
     },
     "execution_count": 27,
     "metadata": {},
     "output_type": "execute_result"
    }
   ],
   "source": [
    "country_data.dtypes"
   ]
  },
  {
   "cell_type": "markdown",
   "metadata": {},
   "source": [
    "We can see that columns `'name'`, ... , `'capital'` are of type `object` (which is also used for columns containing strings), `'area'` contains floating point numbers and `'population'` contains integers. We can convert all columns in a data frame to strings:"
   ]
  },
  {
   "cell_type": "code",
   "execution_count": 28,
   "metadata": {},
   "outputs": [
    {
     "data": {
      "text/plain": [
       "name          object\n",
       "alpha_3       object\n",
       "tld           object\n",
       "continent     object\n",
       "capital       object\n",
       "area          object\n",
       "population    object\n",
       "dtype: object"
      ]
     },
     "execution_count": 28,
     "metadata": {},
     "output_type": "execute_result"
    }
   ],
   "source": [
    "country_data_as_str = country_data.astype(str)\n",
    "country_data_as_str.dtypes"
   ]
  },
  {
   "cell_type": "markdown",
   "metadata": {},
   "source": [
    "We can also convert the type of particular columns by supplying a dictionary as argument to `astype()`:"
   ]
  },
  {
   "cell_type": "code",
   "execution_count": 29,
   "metadata": {},
   "outputs": [
    {
     "data": {
      "text/plain": [
       "name           object\n",
       "alpha_3        object\n",
       "tld            object\n",
       "continent      object\n",
       "capital        object\n",
       "area          float64\n",
       "population     object\n",
       "dtype: object"
      ]
     },
     "execution_count": 29,
     "metadata": {},
     "output_type": "execute_result"
    }
   ],
   "source": [
    "population_as_str = country_data.astype({'population': str})\n",
    "population_as_str.dtypes"
   ]
  },
  {
   "cell_type": "markdown",
   "metadata": {},
   "source": [
    "### Exercise <span class=\"exercise\">2.a</span>\n",
    "\n",
    "Change the type of the area to `int` and assign the resulting data frame to `area_as_int`."
   ]
  },
  {
   "cell_type": "code",
   "execution_count": 30,
   "metadata": {},
   "outputs": [
    {
     "data": {
      "text/plain": [
       "name          object\n",
       "alpha_3       object\n",
       "tld           object\n",
       "continent     object\n",
       "capital       object\n",
       "area           int32\n",
       "population     int64\n",
       "dtype: object"
      ]
     },
     "execution_count": 30,
     "metadata": {},
     "output_type": "execute_result"
    }
   ],
   "source": [
    "#// BEGIN_TODO [ORG_2a] Area as int (1 point)\n",
    "\n",
    "area_as_int = country_data.astype({'area': int})\n",
    "\n",
    "#// END_TODO [ORG_2a]\n",
    "\n",
    "area_as_int.dtypes"
   ]
  },
  {
   "cell_type": "markdown",
   "metadata": {},
   "source": [
    "##  `pd.to_numeric()`: convert to numeric\n",
    "\n",
    "With **`pd.to_numeric()`** you can convert an argument to a numeric type. A suitable numeric type (e.g. `int` or `float`) will be chosen.\n",
    "The argument can be a _list_ or _Series_."
   ]
  },
  {
   "cell_type": "code",
   "execution_count": 31,
   "metadata": {},
   "outputs": [
    {
     "data": {
      "text/plain": [
       "0       84000\n",
       "1     4975593\n",
       "2    29121286\n",
       "3       86754\n",
       "4       13254\n",
       "Name: population, dtype: int64"
      ]
     },
     "execution_count": 31,
     "metadata": {},
     "output_type": "execute_result"
    }
   ],
   "source": [
    "pd.to_numeric(country_data_as_str['population']).head()"
   ]
  },
  {
   "cell_type": "code",
   "execution_count": 32,
   "metadata": {},
   "outputs": [
    {
     "data": {
      "text/plain": [
       "0       468.0\n",
       "1     82880.0\n",
       "2    647500.0\n",
       "3       443.0\n",
       "4       102.0\n",
       "Name: area, dtype: float64"
      ]
     },
     "execution_count": 32,
     "metadata": {},
     "output_type": "execute_result"
    }
   ],
   "source": [
    "pd.to_numeric(country_data_as_str['area']).head()"
   ]
  },
  {
   "cell_type": "markdown",
   "metadata": {},
   "source": [
    "## `ts.unique()`: find all unique values\n",
    "\n",
    "With `ts.unique()` you obtain an array in which each item of the series appears once.\n",
    "The order in the array is in the order of appearance in the series object."
   ]
  },
  {
   "cell_type": "code",
   "execution_count": 33,
   "metadata": {},
   "outputs": [
    {
     "data": {
      "text/plain": [
       "array(['Andorra la Vella', 'Abu Dhabi', 'Kabul', \"St. John's\",\n",
       "       'The Valley', 'Tirana', 'Yerevan', 'Luanda', nan, 'Buenos Aires',\n",
       "       'Pago Pago', 'Vienna', 'Canberra', 'Oranjestad', 'Mariehamn',\n",
       "       'Baku', 'Sarajevo', 'Bridgetown', 'Dhaka', 'Brussels',\n",
       "       'Ouagadougou', 'Sofia', 'Manama', 'Bujumbura', 'Porto-Novo',\n",
       "       'Gustavia', 'Hamilton', 'Bandar Seri Begawan', 'Sucre', 'Brasilia',\n",
       "       'Nassau', 'Thimphu', 'Gaborone', 'Minsk', 'Belmopan', 'Ottawa',\n",
       "       'West Island', 'Kinshasa', 'Bangui', 'Brazzaville', 'Bern',\n",
       "       'Yamoussoukro', 'Avarua', 'Santiago', 'Yaounde', 'Beijing',\n",
       "       'Bogota', 'San Jose', 'Havana', 'Praia', ' Willemstad',\n",
       "       'Flying Fish Cove', 'Nicosia', 'Prague', 'Berlin', 'Djibouti',\n",
       "       'Copenhagen', 'Roseau', 'Santo Domingo', 'Algiers', 'Quito',\n",
       "       'Tallinn', 'Cairo', 'El-Aaiun', 'Asmara', 'Madrid', 'Addis Ababa',\n",
       "       'Helsinki', 'Suva', 'Stanley', 'Palikir', 'Torshavn', 'Paris',\n",
       "       'Libreville', 'London', \"St. George's\", 'Tbilisi', 'Cayenne',\n",
       "       'St Peter Port', 'Accra', 'Gibraltar', 'Nuuk', 'Banjul', 'Conakry',\n",
       "       'Basse-Terre', 'Malabo', 'Athens', 'Grytviken', 'Guatemala City',\n",
       "       'Hagatna', 'Bissau', 'Georgetown', 'Hong Kong', 'Tegucigalpa',\n",
       "       'Zagreb', 'Port-au-Prince', 'Budapest', 'Jakarta', 'Dublin',\n",
       "       'Jerusalem', 'Douglas', 'New Delhi', 'Diego Garcia', 'Baghdad',\n",
       "       'Tehran', 'Reykjavik', 'Rome', 'Saint Helier', 'Kingston', 'Amman',\n",
       "       'Tokyo', 'Nairobi', 'Bishkek', 'Phnom Penh', 'Tarawa', 'Moroni',\n",
       "       'Basseterre', 'Pyongyang', 'Seoul', 'Pristina', 'Kuwait City',\n",
       "       'George Town', 'Astana', 'Vientiane', 'Beirut', 'Castries',\n",
       "       'Vaduz', 'Colombo', 'Monrovia', 'Maseru', 'Vilnius', 'Luxembourg',\n",
       "       'Riga', 'Tripoli', 'Rabat', 'Monaco', 'Chisinau', 'Podgorica',\n",
       "       'Marigot', 'Antananarivo', 'Majuro', 'Skopje', 'Bamako',\n",
       "       'Nay Pyi Taw', 'Ulan Bator', 'Macao', 'Saipan', 'Fort-de-France',\n",
       "       'Nouakchott', 'Plymouth', 'Valletta', 'Port Louis', 'Male',\n",
       "       'Lilongwe', 'Mexico City', 'Kuala Lumpur', 'Maputo', 'Windhoek',\n",
       "       'Noumea', 'Niamey', 'Abuja', 'Managua', 'Amsterdam', 'Oslo',\n",
       "       'Kathmandu', 'Yaren', 'Alofi', 'Wellington', 'Muscat',\n",
       "       'Panama City', 'Lima', 'Papeete', 'Port Moresby', 'Manila',\n",
       "       'Islamabad', 'Warsaw', 'Saint-Pierre', 'Adamstown', 'San Juan',\n",
       "       'East Jerusalem', 'Lisbon', 'Melekeok', 'Asuncion', 'Doha',\n",
       "       'Saint-Denis', 'Bucharest', 'Belgrade', 'Moscow', 'Kigali',\n",
       "       'Riyadh', 'Honiara', 'Victoria', 'Khartoum', 'Juba', 'Stockholm',\n",
       "       'Singapore', 'Jamestown', 'Ljubljana', 'Longyearbyen',\n",
       "       'Bratislava', 'Freetown', 'San Marino', 'Dakar', 'Mogadishu',\n",
       "       'Paramaribo', 'Sao Tome', 'San Salvador', 'Philipsburg',\n",
       "       'Damascus', 'Mbabane', 'Cockburn Town', \"N'Djamena\",\n",
       "       'Port-aux-Francais', 'Lome', 'Bangkok', 'Dushanbe', 'Dili',\n",
       "       'Ashgabat', 'Tunis', \"Nuku'alofa\", 'Ankara', 'Port of Spain',\n",
       "       'Funafuti', 'Taipei', 'Dodoma', 'Kiev', 'Kampala', 'Washington',\n",
       "       'Montevideo', 'Tashkent', 'Vatican City', 'Kingstown', 'Caracas',\n",
       "       'Road Town', 'Charlotte Amalie', 'Hanoi', 'Port Vila', 'Mata Utu',\n",
       "       'Apia', 'Sanaa', 'Mamoudzou', 'Pretoria', 'Lusaka', 'Harare',\n",
       "       'Willemstad'], dtype=object)"
      ]
     },
     "execution_count": 33,
     "metadata": {},
     "output_type": "execute_result"
    }
   ],
   "source": [
    "country_data['capital'].unique()"
   ]
  },
  {
   "cell_type": "markdown",
   "metadata": {},
   "source": [
    "### Exercise <span class=\"exercise\">2.b</span>\n",
    "\n",
    "Find all unique continent names in the `country_data` data frame and assign the result to `unique_continents`."
   ]
  },
  {
   "cell_type": "code",
   "execution_count": 34,
   "metadata": {},
   "outputs": [
    {
     "data": {
      "text/plain": [
       "array(['EU', 'AS', 'NM', 'AF', 'AN', 'SM', 'OC'], dtype=object)"
      ]
     },
     "execution_count": 34,
     "metadata": {},
     "output_type": "execute_result"
    }
   ],
   "source": [
    "#// BEGIN_TODO [ORG_2b] Unique continents (1 point)\n",
    "\n",
    "unique_continents = country_data['continent'].unique()\n",
    "\n",
    "#// END_TODO [ORG_2b]\n",
    "\n",
    "unique_continents"
   ]
  },
  {
   "cell_type": "markdown",
   "metadata": {},
   "source": [
    "## `df.duplicated()`: find duplicates\n",
    "\n",
    "With **`df.duplicated()`** you obtain a _boolean mask_\n",
    "indicating which rows appear more than once.\n",
    "With the argument **`subset=`** you can restrict the search for duplicates\n",
    "to specific columns\n",
    "(either a single column or a list of columns)."
   ]
  },
  {
   "cell_type": "code",
   "execution_count": 35,
   "metadata": {},
   "outputs": [
    {
     "data": {
      "text/html": [
       "<div>\n",
       "<style scoped>\n",
       "    .dataframe tbody tr th:only-of-type {\n",
       "        vertical-align: middle;\n",
       "    }\n",
       "\n",
       "    .dataframe tbody tr th {\n",
       "        vertical-align: top;\n",
       "    }\n",
       "\n",
       "    .dataframe thead th {\n",
       "        text-align: right;\n",
       "    }\n",
       "</style>\n",
       "<table border=\"1\" class=\"dataframe\">\n",
       "  <thead>\n",
       "    <tr style=\"text-align: right;\">\n",
       "      <th></th>\n",
       "      <th>name</th>\n",
       "      <th>alpha_3</th>\n",
       "      <th>tld</th>\n",
       "      <th>continent</th>\n",
       "      <th>capital</th>\n",
       "      <th>area</th>\n",
       "      <th>population</th>\n",
       "    </tr>\n",
       "  </thead>\n",
       "  <tbody>\n",
       "    <tr>\n",
       "      <th>29</th>\n",
       "      <td>Bonaire, Saint Eustatius and Saba</td>\n",
       "      <td>BES</td>\n",
       "      <td>.bq</td>\n",
       "      <td>NM</td>\n",
       "      <td>NaN</td>\n",
       "      <td>328.0</td>\n",
       "      <td>18012</td>\n",
       "    </tr>\n",
       "    <tr>\n",
       "      <th>33</th>\n",
       "      <td>Bouvet Island</td>\n",
       "      <td>BVT</td>\n",
       "      <td>.bv</td>\n",
       "      <td>AN</td>\n",
       "      <td>NaN</td>\n",
       "      <td>49.0</td>\n",
       "      <td>0</td>\n",
       "    </tr>\n",
       "    <tr>\n",
       "      <th>95</th>\n",
       "      <td>Heard Island and McDonald Islands</td>\n",
       "      <td>HMD</td>\n",
       "      <td>.hm</td>\n",
       "      <td>AN</td>\n",
       "      <td>NaN</td>\n",
       "      <td>412.0</td>\n",
       "      <td>0</td>\n",
       "    </tr>\n",
       "    <tr>\n",
       "      <th>163</th>\n",
       "      <td>Norfolk Island</td>\n",
       "      <td>NFK</td>\n",
       "      <td>.nf</td>\n",
       "      <td>OC</td>\n",
       "      <td>Kingston</td>\n",
       "      <td>34.6</td>\n",
       "      <td>1828</td>\n",
       "    </tr>\n",
       "    <tr>\n",
       "      <th>220</th>\n",
       "      <td>Tokelau</td>\n",
       "      <td>TKL</td>\n",
       "      <td>.tk</td>\n",
       "      <td>OC</td>\n",
       "      <td>NaN</td>\n",
       "      <td>10.0</td>\n",
       "      <td>1466</td>\n",
       "    </tr>\n",
       "    <tr>\n",
       "      <th>232</th>\n",
       "      <td>United States Minor Outlying Islands</td>\n",
       "      <td>UMI</td>\n",
       "      <td>.um</td>\n",
       "      <td>OC</td>\n",
       "      <td>NaN</td>\n",
       "      <td>0.0</td>\n",
       "      <td>0</td>\n",
       "    </tr>\n",
       "  </tbody>\n",
       "</table>\n",
       "</div>"
      ],
      "text/plain": [
       "                                     name alpha_3  tld continent   capital  \\\n",
       "29     Bonaire, Saint Eustatius and Saba      BES  .bq        NM       NaN   \n",
       "33                          Bouvet Island     BVT  .bv        AN       NaN   \n",
       "95      Heard Island and McDonald Islands     HMD  .hm        AN       NaN   \n",
       "163                        Norfolk Island     NFK  .nf        OC  Kingston   \n",
       "220                               Tokelau     TKL  .tk        OC       NaN   \n",
       "232  United States Minor Outlying Islands     UMI  .um        OC       NaN   \n",
       "\n",
       "      area  population  \n",
       "29   328.0       18012  \n",
       "33    49.0           0  \n",
       "95   412.0           0  \n",
       "163   34.6        1828  \n",
       "220   10.0        1466  \n",
       "232    0.0           0  "
      ]
     },
     "execution_count": 35,
     "metadata": {},
     "output_type": "execute_result"
    }
   ],
   "source": [
    "bm_dup_capital = country_data.duplicated(subset='capital')\n",
    "country_data[bm_dup_capital]"
   ]
  },
  {
   "cell_type": "markdown",
   "metadata": {},
   "source": [
    "There is an extra argument `keep`:\n",
    "\n",
    "* **`keep='first'`** (default): Mark duplicates as `True` _except for the first occurrence_.\n",
    "* **`keep='last'`** : Mark duplicates as `True` _except for the last occurrence_.\n",
    "* **`keep=False`**`: Mark all duplicates as `True`."
   ]
  },
  {
   "cell_type": "code",
   "execution_count": 36,
   "metadata": {},
   "outputs": [
    {
     "data": {
      "text/html": [
       "<div>\n",
       "<style scoped>\n",
       "    .dataframe tbody tr th:only-of-type {\n",
       "        vertical-align: middle;\n",
       "    }\n",
       "\n",
       "    .dataframe tbody tr th {\n",
       "        vertical-align: top;\n",
       "    }\n",
       "\n",
       "    .dataframe thead th {\n",
       "        text-align: right;\n",
       "    }\n",
       "</style>\n",
       "<table border=\"1\" class=\"dataframe\">\n",
       "  <thead>\n",
       "    <tr style=\"text-align: right;\">\n",
       "      <th></th>\n",
       "      <th>name</th>\n",
       "      <th>alpha_3</th>\n",
       "      <th>tld</th>\n",
       "      <th>continent</th>\n",
       "      <th>capital</th>\n",
       "      <th>area</th>\n",
       "      <th>population</th>\n",
       "    </tr>\n",
       "  </thead>\n",
       "  <tbody>\n",
       "    <tr>\n",
       "      <th>8</th>\n",
       "      <td>Antarctica</td>\n",
       "      <td>ATA</td>\n",
       "      <td>.aq</td>\n",
       "      <td>AN</td>\n",
       "      <td>NaN</td>\n",
       "      <td>14000000.0</td>\n",
       "      <td>0</td>\n",
       "    </tr>\n",
       "    <tr>\n",
       "      <th>29</th>\n",
       "      <td>Bonaire, Saint Eustatius and Saba</td>\n",
       "      <td>BES</td>\n",
       "      <td>.bq</td>\n",
       "      <td>NM</td>\n",
       "      <td>NaN</td>\n",
       "      <td>328.0</td>\n",
       "      <td>18012</td>\n",
       "    </tr>\n",
       "    <tr>\n",
       "      <th>33</th>\n",
       "      <td>Bouvet Island</td>\n",
       "      <td>BVT</td>\n",
       "      <td>.bv</td>\n",
       "      <td>AN</td>\n",
       "      <td>NaN</td>\n",
       "      <td>49.0</td>\n",
       "      <td>0</td>\n",
       "    </tr>\n",
       "    <tr>\n",
       "      <th>95</th>\n",
       "      <td>Heard Island and McDonald Islands</td>\n",
       "      <td>HMD</td>\n",
       "      <td>.hm</td>\n",
       "      <td>AN</td>\n",
       "      <td>NaN</td>\n",
       "      <td>412.0</td>\n",
       "      <td>0</td>\n",
       "    </tr>\n",
       "    <tr>\n",
       "      <th>111</th>\n",
       "      <td>Jamaica</td>\n",
       "      <td>JAM</td>\n",
       "      <td>.jm</td>\n",
       "      <td>NM</td>\n",
       "      <td>Kingston</td>\n",
       "      <td>10991.0</td>\n",
       "      <td>2847232</td>\n",
       "    </tr>\n",
       "    <tr>\n",
       "      <th>163</th>\n",
       "      <td>Norfolk Island</td>\n",
       "      <td>NFK</td>\n",
       "      <td>.nf</td>\n",
       "      <td>OC</td>\n",
       "      <td>Kingston</td>\n",
       "      <td>34.6</td>\n",
       "      <td>1828</td>\n",
       "    </tr>\n",
       "    <tr>\n",
       "      <th>220</th>\n",
       "      <td>Tokelau</td>\n",
       "      <td>TKL</td>\n",
       "      <td>.tk</td>\n",
       "      <td>OC</td>\n",
       "      <td>NaN</td>\n",
       "      <td>10.0</td>\n",
       "      <td>1466</td>\n",
       "    </tr>\n",
       "    <tr>\n",
       "      <th>232</th>\n",
       "      <td>United States Minor Outlying Islands</td>\n",
       "      <td>UMI</td>\n",
       "      <td>.um</td>\n",
       "      <td>OC</td>\n",
       "      <td>NaN</td>\n",
       "      <td>0.0</td>\n",
       "      <td>0</td>\n",
       "    </tr>\n",
       "  </tbody>\n",
       "</table>\n",
       "</div>"
      ],
      "text/plain": [
       "                                     name alpha_3  tld continent   capital  \\\n",
       "8                              Antarctica     ATA  .aq        AN       NaN   \n",
       "29     Bonaire, Saint Eustatius and Saba      BES  .bq        NM       NaN   \n",
       "33                          Bouvet Island     BVT  .bv        AN       NaN   \n",
       "95      Heard Island and McDonald Islands     HMD  .hm        AN       NaN   \n",
       "111                               Jamaica     JAM  .jm        NM  Kingston   \n",
       "163                        Norfolk Island     NFK  .nf        OC  Kingston   \n",
       "220                               Tokelau     TKL  .tk        OC       NaN   \n",
       "232  United States Minor Outlying Islands     UMI  .um        OC       NaN   \n",
       "\n",
       "           area  population  \n",
       "8    14000000.0           0  \n",
       "29        328.0       18012  \n",
       "33         49.0           0  \n",
       "95        412.0           0  \n",
       "111     10991.0     2847232  \n",
       "163        34.6        1828  \n",
       "220        10.0        1466  \n",
       "232         0.0           0  "
      ]
     },
     "execution_count": 36,
     "metadata": {},
     "output_type": "execute_result"
    }
   ],
   "source": [
    "bm_dup_capital_all = country_data.duplicated(subset='capital', keep=False)\n",
    "country_data[bm_dup_capital_all]"
   ]
  },
  {
   "cell_type": "markdown",
   "metadata": {},
   "source": [
    "### Exercise <span class=\"exercise\">2.c</span>\n",
    "\n",
    "Some countries in `country_data` share the same `'tld'`. Find the list of `'tld'`s that are shared by more than one country and assign it to `duplicate_tld` (it should be a numpy array or a `list` and contain each shared `'tld'` only once)."
   ]
  },
  {
   "cell_type": "code",
   "execution_count": 37,
   "metadata": {},
   "outputs": [
    {
     "data": {
      "text/plain": [
       "['.gp', '.gp', nan]"
      ]
     },
     "execution_count": 37,
     "metadata": {},
     "output_type": "execute_result"
    }
   ],
   "source": [
    "#// BEGIN_TODO [ORG_2c] Duplicated data (1 point)\n",
    "\n",
    "duplicate_tld = country_data[country_data.duplicated(subset='tld')]['tld'].tolist()\n",
    "\n",
    "#// END_TODO [ORG_2c]\n",
    "\n",
    "duplicate_tld"
   ]
  },
  {
   "cell_type": "markdown",
   "metadata": {},
   "source": [
    "## `df.drop_duplicates()`: remove duplicates\n",
    "\n",
    "With **`df.drop_duplicates()`** you can remove duplicated rows.\n",
    "With the argument **`subset=`** you can restrict the search for duplicates to specific columns."
   ]
  },
  {
   "cell_type": "code",
   "execution_count": 38,
   "metadata": {},
   "outputs": [
    {
     "name": "stdout",
     "output_type": "stream",
     "text": [
      "<class 'pandas.core.frame.DataFrame'>\n",
      "RangeIndex: 251 entries, 0 to 250\n",
      "Data columns (total 7 columns):\n",
      " #   Column      Non-Null Count  Dtype  \n",
      "---  ------      --------------  -----  \n",
      " 0   name        251 non-null    object \n",
      " 1   alpha_3     251 non-null    object \n",
      " 2   tld         249 non-null    object \n",
      " 3   continent   251 non-null    object \n",
      " 4   capital     245 non-null    object \n",
      " 5   area        251 non-null    float64\n",
      " 6   population  251 non-null    int64  \n",
      "dtypes: float64(1), int64(1), object(5)\n",
      "memory usage: 13.9+ KB\n"
     ]
    }
   ],
   "source": [
    "country_data.info()"
   ]
  },
  {
   "cell_type": "code",
   "execution_count": 39,
   "metadata": {},
   "outputs": [
    {
     "name": "stdout",
     "output_type": "stream",
     "text": [
      "<class 'pandas.core.frame.DataFrame'>\n",
      "Int64Index: 245 entries, 0 to 250\n",
      "Data columns (total 7 columns):\n",
      " #   Column      Non-Null Count  Dtype  \n",
      "---  ------      --------------  -----  \n",
      " 0   name        245 non-null    object \n",
      " 1   alpha_3     245 non-null    object \n",
      " 2   tld         243 non-null    object \n",
      " 3   continent   245 non-null    object \n",
      " 4   capital     244 non-null    object \n",
      " 5   area        245 non-null    float64\n",
      " 6   population  245 non-null    int64  \n",
      "dtypes: float64(1), int64(1), object(5)\n",
      "memory usage: 15.3+ KB\n"
     ]
    }
   ],
   "source": [
    "country_data.drop_duplicates(subset=['capital']).info()"
   ]
  },
  {
   "cell_type": "markdown",
   "metadata": {},
   "source": [
    "There is an extra argument `keep`:\n",
    "\n",
    "* **`keep='first'`** (default): Drop duplicates _except for the first occurrence_.\n",
    "* **`keep='last'`** : Drop duplicates _except for the last occurrence_.\n",
    "* **`keep=False`**: Drop all duplicates."
   ]
  },
  {
   "cell_type": "markdown",
   "metadata": {},
   "source": [
    "### Exercise <span class=\"exercise\">2.d</span>\n",
    "\n",
    "Drop from the `country_data` data frame all countries which share the same tld and continent with another country. Assign the resulting data frame to `dropped_dup_tld`."
   ]
  },
  {
   "cell_type": "code",
   "execution_count": 40,
   "metadata": {},
   "outputs": [
    {
     "name": "stdout",
     "output_type": "stream",
     "text": [
      "<class 'pandas.core.frame.DataFrame'>\n",
      "Int64Index: 249 entries, 0 to 250\n",
      "Data columns (total 7 columns):\n",
      " #   Column      Non-Null Count  Dtype  \n",
      "---  ------      --------------  -----  \n",
      " 0   name        249 non-null    object \n",
      " 1   alpha_3     249 non-null    object \n",
      " 2   tld         247 non-null    object \n",
      " 3   continent   249 non-null    object \n",
      " 4   capital     243 non-null    object \n",
      " 5   area        249 non-null    float64\n",
      " 6   population  249 non-null    int64  \n",
      "dtypes: float64(1), int64(1), object(5)\n",
      "memory usage: 15.6+ KB\n"
     ]
    }
   ],
   "source": [
    "#// BEGIN_TODO [ORG_2d] Drop duplicated data (1 point)\n",
    "\n",
    "dropped_dup_tld = country_data.drop_duplicates(subset = ['tld', 'continent'])\n",
    "\n",
    "#// END_TODO [ORG_2d]\n",
    "\n",
    "dropped_dup_tld.info()"
   ]
  },
  {
   "cell_type": "markdown",
   "metadata": {},
   "source": [
    "## `df.dropna()` to remove rows with missing values\n",
    "\n",
    "In the EDA programming exercises the `.isnull()` method was introduced to show rows with missing values (_Not-Available_ (NA) and _Not-a-Number_ (NaN)). With **`df.dropna()`** you can remove rows with *missing values* in a data frame or series object.\n",
    "\n",
    "With the argument **`how=`** you can indicate whether rows with at least one missing value or with all values missing are dropped:\n",
    "\n",
    "* **`how='any'`** (default): if any value is missing, drop that row\n",
    "* **`how='all'`**: if all values are missing, drop that row"
   ]
  },
  {
   "cell_type": "code",
   "execution_count": 41,
   "metadata": {},
   "outputs": [
    {
     "name": "stdout",
     "output_type": "stream",
     "text": [
      "<class 'pandas.core.frame.DataFrame'>\n",
      "Int64Index: 243 entries, 0 to 250\n",
      "Data columns (total 7 columns):\n",
      " #   Column      Non-Null Count  Dtype  \n",
      "---  ------      --------------  -----  \n",
      " 0   name        243 non-null    object \n",
      " 1   alpha_3     243 non-null    object \n",
      " 2   tld         243 non-null    object \n",
      " 3   continent   243 non-null    object \n",
      " 4   capital     243 non-null    object \n",
      " 5   area        243 non-null    float64\n",
      " 6   population  243 non-null    int64  \n",
      "dtypes: float64(1), int64(1), object(5)\n",
      "memory usage: 15.2+ KB\n"
     ]
    }
   ],
   "source": [
    "country_data_dropna = country_data.dropna()\n",
    "country_data_dropna.info()"
   ]
  },
  {
   "cell_type": "markdown",
   "metadata": {},
   "source": [
    "With `.isnull()` we can check that the rows with missing values in the `'capital'` columns were indeed removed:"
   ]
  },
  {
   "cell_type": "code",
   "execution_count": 42,
   "metadata": {},
   "outputs": [
    {
     "data": {
      "text/html": [
       "<div>\n",
       "<style scoped>\n",
       "    .dataframe tbody tr th:only-of-type {\n",
       "        vertical-align: middle;\n",
       "    }\n",
       "\n",
       "    .dataframe tbody tr th {\n",
       "        vertical-align: top;\n",
       "    }\n",
       "\n",
       "    .dataframe thead th {\n",
       "        text-align: right;\n",
       "    }\n",
       "</style>\n",
       "<table border=\"1\" class=\"dataframe\">\n",
       "  <thead>\n",
       "    <tr style=\"text-align: right;\">\n",
       "      <th></th>\n",
       "      <th>name</th>\n",
       "      <th>alpha_3</th>\n",
       "      <th>tld</th>\n",
       "      <th>continent</th>\n",
       "      <th>capital</th>\n",
       "      <th>area</th>\n",
       "      <th>population</th>\n",
       "    </tr>\n",
       "  </thead>\n",
       "  <tbody>\n",
       "    <tr>\n",
       "      <th>8</th>\n",
       "      <td>Antarctica</td>\n",
       "      <td>ATA</td>\n",
       "      <td>.aq</td>\n",
       "      <td>AN</td>\n",
       "      <td>NaN</td>\n",
       "      <td>14000000.0</td>\n",
       "      <td>0</td>\n",
       "    </tr>\n",
       "    <tr>\n",
       "      <th>29</th>\n",
       "      <td>Bonaire, Saint Eustatius and Saba</td>\n",
       "      <td>BES</td>\n",
       "      <td>.bq</td>\n",
       "      <td>NM</td>\n",
       "      <td>NaN</td>\n",
       "      <td>328.0</td>\n",
       "      <td>18012</td>\n",
       "    </tr>\n",
       "    <tr>\n",
       "      <th>33</th>\n",
       "      <td>Bouvet Island</td>\n",
       "      <td>BVT</td>\n",
       "      <td>.bv</td>\n",
       "      <td>AN</td>\n",
       "      <td>NaN</td>\n",
       "      <td>49.0</td>\n",
       "      <td>0</td>\n",
       "    </tr>\n",
       "    <tr>\n",
       "      <th>95</th>\n",
       "      <td>Heard Island and McDonald Islands</td>\n",
       "      <td>HMD</td>\n",
       "      <td>.hm</td>\n",
       "      <td>AN</td>\n",
       "      <td>NaN</td>\n",
       "      <td>412.0</td>\n",
       "      <td>0</td>\n",
       "    </tr>\n",
       "    <tr>\n",
       "      <th>220</th>\n",
       "      <td>Tokelau</td>\n",
       "      <td>TKL</td>\n",
       "      <td>.tk</td>\n",
       "      <td>OC</td>\n",
       "      <td>NaN</td>\n",
       "      <td>10.0</td>\n",
       "      <td>1466</td>\n",
       "    </tr>\n",
       "    <tr>\n",
       "      <th>232</th>\n",
       "      <td>United States Minor Outlying Islands</td>\n",
       "      <td>UMI</td>\n",
       "      <td>.um</td>\n",
       "      <td>OC</td>\n",
       "      <td>NaN</td>\n",
       "      <td>0.0</td>\n",
       "      <td>0</td>\n",
       "    </tr>\n",
       "  </tbody>\n",
       "</table>\n",
       "</div>"
      ],
      "text/plain": [
       "                                     name alpha_3  tld continent capital  \\\n",
       "8                              Antarctica     ATA  .aq        AN     NaN   \n",
       "29     Bonaire, Saint Eustatius and Saba      BES  .bq        NM     NaN   \n",
       "33                          Bouvet Island     BVT  .bv        AN     NaN   \n",
       "95      Heard Island and McDonald Islands     HMD  .hm        AN     NaN   \n",
       "220                               Tokelau     TKL  .tk        OC     NaN   \n",
       "232  United States Minor Outlying Islands     UMI  .um        OC     NaN   \n",
       "\n",
       "           area  population  \n",
       "8    14000000.0           0  \n",
       "29        328.0       18012  \n",
       "33         49.0           0  \n",
       "95        412.0           0  \n",
       "220        10.0        1466  \n",
       "232         0.0           0  "
      ]
     },
     "execution_count": 42,
     "metadata": {},
     "output_type": "execute_result"
    }
   ],
   "source": [
    "country_data[country_data['capital'].isnull()]"
   ]
  },
  {
   "cell_type": "code",
   "execution_count": 43,
   "metadata": {},
   "outputs": [
    {
     "data": {
      "text/html": [
       "<div>\n",
       "<style scoped>\n",
       "    .dataframe tbody tr th:only-of-type {\n",
       "        vertical-align: middle;\n",
       "    }\n",
       "\n",
       "    .dataframe tbody tr th {\n",
       "        vertical-align: top;\n",
       "    }\n",
       "\n",
       "    .dataframe thead th {\n",
       "        text-align: right;\n",
       "    }\n",
       "</style>\n",
       "<table border=\"1\" class=\"dataframe\">\n",
       "  <thead>\n",
       "    <tr style=\"text-align: right;\">\n",
       "      <th></th>\n",
       "      <th>name</th>\n",
       "      <th>alpha_3</th>\n",
       "      <th>tld</th>\n",
       "      <th>continent</th>\n",
       "      <th>capital</th>\n",
       "      <th>area</th>\n",
       "      <th>population</th>\n",
       "    </tr>\n",
       "  </thead>\n",
       "  <tbody>\n",
       "  </tbody>\n",
       "</table>\n",
       "</div>"
      ],
      "text/plain": [
       "Empty DataFrame\n",
       "Columns: [name, alpha_3, tld, continent, capital, area, population]\n",
       "Index: []"
      ]
     },
     "execution_count": 43,
     "metadata": {},
     "output_type": "execute_result"
    }
   ],
   "source": [
    "country_data_dropna[country_data_dropna['capital'].isnull()]"
   ]
  },
  {
   "cell_type": "markdown",
   "metadata": {},
   "source": [
    "### Exercise <span class=\"exercise\">2.e</span>\n",
    "\n",
    "Drop rows in `country_data` with missing values in the `'tld'` column. Assign the resulting data frame to `dropped_na_tld`.\n",
    "\n",
    "<span class=\"t\">Hint<span class=\"c\">:</span></span>\n",
    "<span class=\"h\">\n",
    "Look up the documentation of `dropna()` (e.g. via Shift-Tab-Tab)\n",
    "</span>"
   ]
  },
  {
   "cell_type": "code",
   "execution_count": 44,
   "metadata": {},
   "outputs": [
    {
     "name": "stdout",
     "output_type": "stream",
     "text": [
      "<class 'pandas.core.frame.DataFrame'>\n",
      "Int64Index: 249 entries, 0 to 250\n",
      "Data columns (total 7 columns):\n",
      " #   Column      Non-Null Count  Dtype  \n",
      "---  ------      --------------  -----  \n",
      " 0   name        249 non-null    object \n",
      " 1   alpha_3     249 non-null    object \n",
      " 2   tld         249 non-null    object \n",
      " 3   continent   249 non-null    object \n",
      " 4   capital     243 non-null    object \n",
      " 5   area        249 non-null    float64\n",
      " 6   population  249 non-null    int64  \n",
      "dtypes: float64(1), int64(1), object(5)\n",
      "memory usage: 15.6+ KB\n"
     ]
    }
   ],
   "source": [
    "#// BEGIN_TODO [ORG_2e] Drop missing data (1 point)\n",
    "\n",
    "dropped_na_tld = country_data.dropna(subset = ['tld'])\n",
    "\n",
    "#// END_TODO [ORG_2e]\n",
    "\n",
    "dropped_na_tld.info()"
   ]
  },
  {
   "cell_type": "markdown",
   "metadata": {},
   "source": [
    "## `df.fillna()` to replace missing values\n",
    "\n",
    "With **`df.fillna()`** or **`ts.fillna()`**\n",
    "you can replace *missing values* (_Not-Available_ (NA) and _Not-a-Number_ (NaN))\n",
    "in a data frame or series object.\n",
    "\n",
    "As always, note that this returns a new copy with the filled object."
   ]
  },
  {
   "cell_type": "code",
   "execution_count": 45,
   "metadata": {},
   "outputs": [
    {
     "data": {
      "text/plain": [
       "8       Unknown\n",
       "29      Unknown\n",
       "33      Unknown\n",
       "95      Unknown\n",
       "111    Kingston\n",
       "163    Kingston\n",
       "220     Unknown\n",
       "232     Unknown\n",
       "Name: capital, dtype: object"
      ]
     },
     "execution_count": 45,
     "metadata": {},
     "output_type": "execute_result"
    }
   ],
   "source": [
    "country_data_filled = country_data['capital'].fillna(value='Unknown')\n",
    "country_data_filled[country_data_filled.duplicated(keep=False)]"
   ]
  },
  {
   "cell_type": "markdown",
   "metadata": {},
   "source": [
    "You can replace missing values in particular columns by providing a dictionary for the first argument, specifying which value to use for which column."
   ]
  },
  {
   "cell_type": "code",
   "execution_count": 46,
   "metadata": {},
   "outputs": [
    {
     "data": {
      "text/html": [
       "<div>\n",
       "<style scoped>\n",
       "    .dataframe tbody tr th:only-of-type {\n",
       "        vertical-align: middle;\n",
       "    }\n",
       "\n",
       "    .dataframe tbody tr th {\n",
       "        vertical-align: top;\n",
       "    }\n",
       "\n",
       "    .dataframe thead th {\n",
       "        text-align: right;\n",
       "    }\n",
       "</style>\n",
       "<table border=\"1\" class=\"dataframe\">\n",
       "  <thead>\n",
       "    <tr style=\"text-align: right;\">\n",
       "      <th></th>\n",
       "      <th>name</th>\n",
       "      <th>alpha_3</th>\n",
       "      <th>tld</th>\n",
       "      <th>continent</th>\n",
       "      <th>capital</th>\n",
       "      <th>area</th>\n",
       "      <th>population</th>\n",
       "    </tr>\n",
       "  </thead>\n",
       "  <tbody>\n",
       "    <tr>\n",
       "      <th>0</th>\n",
       "      <td>Andorra</td>\n",
       "      <td>AND</td>\n",
       "      <td>.ad</td>\n",
       "      <td>EU</td>\n",
       "      <td>Andorra la Vella</td>\n",
       "      <td>468.0</td>\n",
       "      <td>84000</td>\n",
       "    </tr>\n",
       "    <tr>\n",
       "      <th>1</th>\n",
       "      <td>United Arab Emirates</td>\n",
       "      <td>ARE</td>\n",
       "      <td>.ae</td>\n",
       "      <td>AS</td>\n",
       "      <td>Abu Dhabi</td>\n",
       "      <td>82880.0</td>\n",
       "      <td>4975593</td>\n",
       "    </tr>\n",
       "    <tr>\n",
       "      <th>2</th>\n",
       "      <td>Afghanistan</td>\n",
       "      <td>AFG</td>\n",
       "      <td>.af</td>\n",
       "      <td>AS</td>\n",
       "      <td>Kabul</td>\n",
       "      <td>647500.0</td>\n",
       "      <td>29121286</td>\n",
       "    </tr>\n",
       "    <tr>\n",
       "      <th>3</th>\n",
       "      <td>Antigua and Barbuda</td>\n",
       "      <td>ATG</td>\n",
       "      <td>.ag</td>\n",
       "      <td>NM</td>\n",
       "      <td>St. John's</td>\n",
       "      <td>443.0</td>\n",
       "      <td>86754</td>\n",
       "    </tr>\n",
       "    <tr>\n",
       "      <th>4</th>\n",
       "      <td>Anguilla</td>\n",
       "      <td>AIA</td>\n",
       "      <td>.ai</td>\n",
       "      <td>NM</td>\n",
       "      <td>The Valley</td>\n",
       "      <td>102.0</td>\n",
       "      <td>13254</td>\n",
       "    </tr>\n",
       "    <tr>\n",
       "      <th>...</th>\n",
       "      <td>...</td>\n",
       "      <td>...</td>\n",
       "      <td>...</td>\n",
       "      <td>...</td>\n",
       "      <td>...</td>\n",
       "      <td>...</td>\n",
       "      <td>...</td>\n",
       "    </tr>\n",
       "    <tr>\n",
       "      <th>246</th>\n",
       "      <td>Mayotte</td>\n",
       "      <td>MYT</td>\n",
       "      <td>.yt</td>\n",
       "      <td>AF</td>\n",
       "      <td>Mamoudzou</td>\n",
       "      <td>374.0</td>\n",
       "      <td>159042</td>\n",
       "    </tr>\n",
       "    <tr>\n",
       "      <th>247</th>\n",
       "      <td>South Africa</td>\n",
       "      <td>ZAF</td>\n",
       "      <td>.za</td>\n",
       "      <td>AF</td>\n",
       "      <td>Pretoria</td>\n",
       "      <td>1219912.0</td>\n",
       "      <td>49000000</td>\n",
       "    </tr>\n",
       "    <tr>\n",
       "      <th>248</th>\n",
       "      <td>Zambia</td>\n",
       "      <td>ZMB</td>\n",
       "      <td>.zm</td>\n",
       "      <td>AF</td>\n",
       "      <td>Lusaka</td>\n",
       "      <td>752614.0</td>\n",
       "      <td>13460305</td>\n",
       "    </tr>\n",
       "    <tr>\n",
       "      <th>249</th>\n",
       "      <td>Zimbabwe</td>\n",
       "      <td>ZWE</td>\n",
       "      <td>.zw</td>\n",
       "      <td>AF</td>\n",
       "      <td>Harare</td>\n",
       "      <td>390580.0</td>\n",
       "      <td>13061000</td>\n",
       "    </tr>\n",
       "    <tr>\n",
       "      <th>250</th>\n",
       "      <td>Netherlands Antilles</td>\n",
       "      <td>ANT</td>\n",
       "      <td>.an</td>\n",
       "      <td>NM</td>\n",
       "      <td>Willemstad</td>\n",
       "      <td>960.0</td>\n",
       "      <td>300000</td>\n",
       "    </tr>\n",
       "  </tbody>\n",
       "</table>\n",
       "<p>251 rows × 7 columns</p>\n",
       "</div>"
      ],
      "text/plain": [
       "                     name alpha_3  tld continent           capital       area  \\\n",
       "0                 Andorra     AND  .ad        EU  Andorra la Vella      468.0   \n",
       "1    United Arab Emirates     ARE  .ae        AS         Abu Dhabi    82880.0   \n",
       "2             Afghanistan     AFG  .af        AS             Kabul   647500.0   \n",
       "3     Antigua and Barbuda     ATG  .ag        NM        St. John's      443.0   \n",
       "4                Anguilla     AIA  .ai        NM        The Valley      102.0   \n",
       "..                    ...     ...  ...       ...               ...        ...   \n",
       "246               Mayotte     MYT  .yt        AF         Mamoudzou      374.0   \n",
       "247          South Africa     ZAF  .za        AF          Pretoria  1219912.0   \n",
       "248                Zambia     ZMB  .zm        AF            Lusaka   752614.0   \n",
       "249              Zimbabwe     ZWE  .zw        AF            Harare   390580.0   \n",
       "250  Netherlands Antilles     ANT  .an        NM        Willemstad      960.0   \n",
       "\n",
       "     population  \n",
       "0         84000  \n",
       "1       4975593  \n",
       "2      29121286  \n",
       "3         86754  \n",
       "4         13254  \n",
       "..          ...  \n",
       "246      159042  \n",
       "247    49000000  \n",
       "248    13460305  \n",
       "249    13061000  \n",
       "250      300000  \n",
       "\n",
       "[251 rows x 7 columns]"
      ]
     },
     "execution_count": 46,
     "metadata": {},
     "output_type": "execute_result"
    }
   ],
   "source": [
    "country_data_filled = country_data.fillna({'capital': 'Unknown'})\n",
    "country_data_filled"
   ]
  },
  {
   "cell_type": "markdown",
   "metadata": {},
   "source": [
    "### Exercise <span class=\"exercise\">2.f</span>\n",
    "\n",
    "Fill the missing values in the `'tld'` column of the `country_data` data frame with `'Missing'`.\n",
    "\n",
    "Assign the resulting data frame to `filled_tld`."
   ]
  },
  {
   "cell_type": "code",
   "execution_count": 47,
   "metadata": {},
   "outputs": [
    {
     "name": "stdout",
     "output_type": "stream",
     "text": [
      "<class 'pandas.core.frame.DataFrame'>\n",
      "RangeIndex: 251 entries, 0 to 250\n",
      "Data columns (total 7 columns):\n",
      " #   Column      Non-Null Count  Dtype  \n",
      "---  ------      --------------  -----  \n",
      " 0   name        251 non-null    object \n",
      " 1   alpha_3     251 non-null    object \n",
      " 2   tld         251 non-null    object \n",
      " 3   continent   251 non-null    object \n",
      " 4   capital     245 non-null    object \n",
      " 5   area        251 non-null    float64\n",
      " 6   population  251 non-null    int64  \n",
      "dtypes: float64(1), int64(1), object(5)\n",
      "memory usage: 13.9+ KB\n"
     ]
    }
   ],
   "source": [
    "#// BEGIN_TODO [ORG_2f] Fill missing data (1 point)\n",
    "\n",
    "filled_tld = country_data.fillna({'tld': 'Missing'})\n",
    "\n",
    "#// END_TODO [ORG_2f]\n",
    "\n",
    "filled_tld.info()"
   ]
  },
  {
   "cell_type": "markdown",
   "metadata": {},
   "source": [
    "## `ts.str.strip()` to strip characters from begin/end of strings\n",
    "\n",
    "With **`ts.str.strip()`** you can remove characters from the beginning and end of all strings in a `Series` object.\n",
    "\n",
    "Without argument, it strips all leading and trailing **whitespace**.\n",
    "\n",
    "Here we strip all trailing and leading zeros from the area that was converted to a string\n",
    "in an earlier example."
   ]
  },
  {
   "cell_type": "code",
   "execution_count": 48,
   "metadata": {},
   "outputs": [
    {
     "data": {
      "text/plain": [
       "0          468.\n",
       "1        82880.\n",
       "2       647500.\n",
       "3          443.\n",
       "4          102.\n",
       "         ...   \n",
       "246        374.\n",
       "247    1219912.\n",
       "248     752614.\n",
       "249     390580.\n",
       "250        960.\n",
       "Name: area, Length: 251, dtype: object"
      ]
     },
     "execution_count": 48,
     "metadata": {},
     "output_type": "execute_result"
    }
   ],
   "source": [
    "country_data_as_str['area'].str.strip('0')"
   ]
  },
  {
   "cell_type": "markdown",
   "metadata": {},
   "source": [
    "### Exercise <span class=\"exercise\">2.g</span>\n",
    "\n",
    "Remove the character `'s'` from the beginning and end of all the country names in `country_data`. Assign the resulting series to `stripped_names`."
   ]
  },
  {
   "cell_type": "code",
   "execution_count": 49,
   "metadata": {},
   "outputs": [
    {
     "data": {
      "text/plain": [
       "0                  Andorra\n",
       "1      United Arab Emirate\n",
       "2              Afghanistan\n",
       "3      Antigua and Barbuda\n",
       "4                 Anguilla\n",
       "              ...         \n",
       "246                Mayotte\n",
       "247           South Africa\n",
       "248                 Zambia\n",
       "249               Zimbabwe\n",
       "250    Netherlands Antille\n",
       "Name: name, Length: 251, dtype: object"
      ]
     },
     "execution_count": 49,
     "metadata": {},
     "output_type": "execute_result"
    }
   ],
   "source": [
    "#// BEGIN_TODO [ORG_2g] Strip the 's' (1 point)\n",
    "\n",
    "stripped_names =  country_data['name'].str.strip('s')\n",
    "\n",
    "#// END_TODO [ORG_2g]\n",
    "\n",
    "stripped_names"
   ]
  },
  {
   "cell_type": "markdown",
   "metadata": {},
   "source": [
    "# <span class=\"section\">3.</span> Exercises: cleaning the mouse experiment\n",
    "\n",
    "\n",
    "*In the earlier exercises you were closely guided. In the following exercises we will put your knowledge to the test.*\n",
    "\n",
    "*Note that these exercises may seem more difficult as you will need to work more indepedently. When you struggle with an exercise then go back to the corresponding earlier section and make sure you really understand the introduced concepts. Do not hesitate to experiment with your own code!*\n",
    "\n",
    "\n",
    "In the following exercises we will analyze the data from the mouse experiment that many of you have contributed to."
   ]
  },
  {
   "cell_type": "markdown",
   "metadata": {},
   "source": [
    "### Exercise <span class=\"exercise\">3.a</span>\n",
    "\n",
    "Read the data from `'datasets/paths_props.csv'` into a data frame and assign it `df_props`."
   ]
  },
  {
   "cell_type": "code",
   "execution_count": 50,
   "metadata": {},
   "outputs": [
    {
     "data": {
      "text/html": [
       "<div>\n",
       "<style scoped>\n",
       "    .dataframe tbody tr th:only-of-type {\n",
       "        vertical-align: middle;\n",
       "    }\n",
       "\n",
       "    .dataframe tbody tr th {\n",
       "        vertical-align: top;\n",
       "    }\n",
       "\n",
       "    .dataframe thead th {\n",
       "        text-align: right;\n",
       "    }\n",
       "</style>\n",
       "<table border=\"1\" class=\"dataframe\">\n",
       "  <thead>\n",
       "    <tr style=\"text-align: right;\">\n",
       "      <th></th>\n",
       "      <th>user</th>\n",
       "      <th>trial</th>\n",
       "      <th>use_tue_laptop</th>\n",
       "      <th>mouse_speed</th>\n",
       "      <th>mouse_accuracy</th>\n",
       "      <th>right_handed</th>\n",
       "      <th>input_method</th>\n",
       "      <th>major</th>\n",
       "      <th>target_x</th>\n",
       "      <th>target_y</th>\n",
       "      <th>target_radius</th>\n",
       "      <th>delay</th>\n",
       "    </tr>\n",
       "  </thead>\n",
       "  <tbody>\n",
       "    <tr>\n",
       "      <th>0</th>\n",
       "      <td>1226</td>\n",
       "      <td>5</td>\n",
       "      <td>1</td>\n",
       "      <td>1.0</td>\n",
       "      <td>1.0</td>\n",
       "      <td>1</td>\n",
       "      <td>0</td>\n",
       "      <td>Industrial Engineering</td>\n",
       "      <td>-84</td>\n",
       "      <td>-84</td>\n",
       "      <td>6</td>\n",
       "      <td>2.136719</td>\n",
       "    </tr>\n",
       "    <tr>\n",
       "      <th>1</th>\n",
       "      <td>1226</td>\n",
       "      <td>6</td>\n",
       "      <td>1</td>\n",
       "      <td>1.0</td>\n",
       "      <td>1.0</td>\n",
       "      <td>1</td>\n",
       "      <td>0</td>\n",
       "      <td>Industrial Engineering</td>\n",
       "      <td>0</td>\n",
       "      <td>190</td>\n",
       "      <td>6</td>\n",
       "      <td>3.540913</td>\n",
       "    </tr>\n",
       "    <tr>\n",
       "      <th>2</th>\n",
       "      <td>1226</td>\n",
       "      <td>7</td>\n",
       "      <td>1</td>\n",
       "      <td>1.0</td>\n",
       "      <td>1.0</td>\n",
       "      <td>1</td>\n",
       "      <td>0</td>\n",
       "      <td>Industrial Engineering</td>\n",
       "      <td>-158</td>\n",
       "      <td>-158</td>\n",
       "      <td>6</td>\n",
       "      <td>3.688381</td>\n",
       "    </tr>\n",
       "    <tr>\n",
       "      <th>3</th>\n",
       "      <td>1226</td>\n",
       "      <td>8</td>\n",
       "      <td>1</td>\n",
       "      <td>1.0</td>\n",
       "      <td>1.0</td>\n",
       "      <td>1</td>\n",
       "      <td>0</td>\n",
       "      <td>Industrial Engineering</td>\n",
       "      <td>81</td>\n",
       "      <td>-81</td>\n",
       "      <td>3</td>\n",
       "      <td>2.823134</td>\n",
       "    </tr>\n",
       "    <tr>\n",
       "      <th>4</th>\n",
       "      <td>1226</td>\n",
       "      <td>9</td>\n",
       "      <td>1</td>\n",
       "      <td>1.0</td>\n",
       "      <td>1.0</td>\n",
       "      <td>1</td>\n",
       "      <td>0</td>\n",
       "      <td>Industrial Engineering</td>\n",
       "      <td>-157</td>\n",
       "      <td>157</td>\n",
       "      <td>9</td>\n",
       "      <td>3.690253</td>\n",
       "    </tr>\n",
       "  </tbody>\n",
       "</table>\n",
       "</div>"
      ],
      "text/plain": [
       "   user  trial  use_tue_laptop  mouse_speed  mouse_accuracy  right_handed  \\\n",
       "0  1226      5               1          1.0             1.0             1   \n",
       "1  1226      6               1          1.0             1.0             1   \n",
       "2  1226      7               1          1.0             1.0             1   \n",
       "3  1226      8               1          1.0             1.0             1   \n",
       "4  1226      9               1          1.0             1.0             1   \n",
       "\n",
       "   input_method                   major  target_x  target_y  target_radius  \\\n",
       "0             0  Industrial Engineering       -84       -84              6   \n",
       "1             0  Industrial Engineering         0       190              6   \n",
       "2             0  Industrial Engineering      -158      -158              6   \n",
       "3             0  Industrial Engineering        81       -81              3   \n",
       "4             0  Industrial Engineering      -157       157              9   \n",
       "\n",
       "      delay  \n",
       "0  2.136719  \n",
       "1  3.540913  \n",
       "2  3.688381  \n",
       "3  2.823134  \n",
       "4  3.690253  "
      ]
     },
     "execution_count": 50,
     "metadata": {},
     "output_type": "execute_result"
    }
   ],
   "source": [
    "#// BEGIN_TODO [ORG_3a] Read the data (1 point)\n",
    "\n",
    "df_props = pd.read_csv('datasets/paths_props.csv') #\n",
    "\n",
    "#// END_TODO [ORG_3a]\n",
    "\n",
    "df_props.head()"
   ]
  },
  {
   "cell_type": "markdown",
   "metadata": {},
   "source": [
    "Each row describes a single trial, i.e. one movement from the center to the target. The meaning of the columns is the following:\n",
    "\n",
    "- `'user'`: The id of the user that recorded this trial.\n",
    "- `'trial'`: The trial number. Trial numbers are local to each user.\n",
    "- `'use_tue_laptop'`: 1 means a TU/e laptop was used during this trial, 0 means a different laptop was used\n",
    "- `'mouse_speed'`, `'mouse_accuracy'`: 1 means the user confirmed this mouse setting, 0 or `NaN` means the user did not confirm this mouse setting. For example, for users who claim using a non-TU/e laptop, the `'mouse_speed'` and `'mouse_accuracy'` options are not shown and the user cannot fill those in.\n",
    "- `'right_handed'`: 1 means user writes with their right hand, 0 means user writes with their left hand\n",
    "- `'input_method'`: 0 means a trackpad, 1 means a mouse\n",
    "- `'target_x'`, `'target_y'`: the screen coordinates in pixels of the blue target, relative to the red dot in the center\n",
    "- `'target_radius'`: radius of the blue target in pixels\n",
    "- `'delay'`: delay in seconds between the start of the trial (i.e. the moment that the mouse was placed on the red dot) and the moment that the blue target was shown\n",
    "- `'major'`: the major of the user\n",
    "\n",
    "As you can see, there is a lot of redundancy in the data. We will reorganize the data into two tables: one describing the user settings (which do not change), and one describing the individual trials. These two tables will be linked via the `'user'` column."
   ]
  },
  {
   "cell_type": "markdown",
   "metadata": {},
   "source": [
    "### Exercise <span class=\"exercise\">3.b</span>\n",
    "\n",
    "Inspect the `df_props` data frame. You will notice that the `'mouse_speed'` and `'mouse_accuracy'` columns contain NaN  values. They are the result of a user using a non-TU/e laptop and not having to confirm these mouse settings. Replace the NaN values in `'mouse_speed'` and `'mouse_accuracy'` columns by 0."
   ]
  },
  {
   "cell_type": "code",
   "execution_count": 51,
   "metadata": {},
   "outputs": [
    {
     "name": "stdout",
     "output_type": "stream",
     "text": [
      "<class 'pandas.core.frame.DataFrame'>\n",
      "RangeIndex: 33342 entries, 0 to 33341\n",
      "Data columns (total 12 columns):\n",
      " #   Column          Non-Null Count  Dtype  \n",
      "---  ------          --------------  -----  \n",
      " 0   user            33342 non-null  int64  \n",
      " 1   trial           33342 non-null  int64  \n",
      " 2   use_tue_laptop  33342 non-null  int64  \n",
      " 3   mouse_speed     33342 non-null  float64\n",
      " 4   mouse_accuracy  33342 non-null  float64\n",
      " 5   right_handed    33342 non-null  int64  \n",
      " 6   input_method    33342 non-null  int64  \n",
      " 7   major           33342 non-null  object \n",
      " 8   target_x        33342 non-null  int64  \n",
      " 9   target_y        33342 non-null  int64  \n",
      " 10  target_radius   33342 non-null  int64  \n",
      " 11  delay           33342 non-null  float64\n",
      "dtypes: float64(3), int64(8), object(1)\n",
      "memory usage: 3.1+ MB\n"
     ]
    }
   ],
   "source": [
    "#// BEGIN_TODO [ORG_3b] Fill missing data (1 point)\n",
    "\n",
    "df_props = df_props.fillna({'mouse_speed':0,'mouse_accuracy':0})\n",
    "\n",
    "#// END_TODO [ORG_3b]\n",
    "\n",
    "df_props.info()"
   ]
  },
  {
   "cell_type": "markdown",
   "metadata": {},
   "source": [
    "### Exercise <span class=\"exercise\">3.c</span>\n",
    "\n",
    "Convert the `'mouse_speed'`, `'mouse_accuracy'` columns to `int` type."
   ]
  },
  {
   "cell_type": "code",
   "execution_count": 52,
   "metadata": {},
   "outputs": [
    {
     "name": "stdout",
     "output_type": "stream",
     "text": [
      "<class 'pandas.core.frame.DataFrame'>\n",
      "RangeIndex: 33342 entries, 0 to 33341\n",
      "Data columns (total 12 columns):\n",
      " #   Column          Non-Null Count  Dtype  \n",
      "---  ------          --------------  -----  \n",
      " 0   user            33342 non-null  int64  \n",
      " 1   trial           33342 non-null  int64  \n",
      " 2   use_tue_laptop  33342 non-null  int64  \n",
      " 3   mouse_speed     33342 non-null  int32  \n",
      " 4   mouse_accuracy  33342 non-null  int32  \n",
      " 5   right_handed    33342 non-null  int64  \n",
      " 6   input_method    33342 non-null  int64  \n",
      " 7   major           33342 non-null  object \n",
      " 8   target_x        33342 non-null  int64  \n",
      " 9   target_y        33342 non-null  int64  \n",
      " 10  target_radius   33342 non-null  int64  \n",
      " 11  delay           33342 non-null  float64\n",
      "dtypes: float64(1), int32(2), int64(8), object(1)\n",
      "memory usage: 2.8+ MB\n"
     ]
    }
   ],
   "source": [
    "#// BEGIN_TODO [ORG_3c] Convert to integers (1 point)\n",
    "\n",
    "df_props = df_props.astype({'mouse_speed':int,'mouse_accuracy':int})\n",
    "\n",
    "#// END_TODO [ORG_3c]\n",
    "\n",
    "df_props.info()"
   ]
  },
  {
   "cell_type": "markdown",
   "metadata": {},
   "source": [
    "### Exercise <span class=\"exercise\">3.d</span>\n",
    "\n",
    "Create a data frame `df_trials` from `df_props` with the columns `'user'`, `'trial'`, `'input_method'`, `'target_x'`, `'target_y'`, `'target_radius'`, `'delay'`."
   ]
  },
  {
   "cell_type": "code",
   "execution_count": 53,
   "metadata": {},
   "outputs": [
    {
     "data": {
      "text/html": [
       "<div>\n",
       "<style scoped>\n",
       "    .dataframe tbody tr th:only-of-type {\n",
       "        vertical-align: middle;\n",
       "    }\n",
       "\n",
       "    .dataframe tbody tr th {\n",
       "        vertical-align: top;\n",
       "    }\n",
       "\n",
       "    .dataframe thead th {\n",
       "        text-align: right;\n",
       "    }\n",
       "</style>\n",
       "<table border=\"1\" class=\"dataframe\">\n",
       "  <thead>\n",
       "    <tr style=\"text-align: right;\">\n",
       "      <th></th>\n",
       "      <th>user</th>\n",
       "      <th>trial</th>\n",
       "      <th>input_method</th>\n",
       "      <th>target_x</th>\n",
       "      <th>target_y</th>\n",
       "      <th>target_radius</th>\n",
       "      <th>delay</th>\n",
       "    </tr>\n",
       "  </thead>\n",
       "  <tbody>\n",
       "    <tr>\n",
       "      <th>0</th>\n",
       "      <td>1226</td>\n",
       "      <td>5</td>\n",
       "      <td>0</td>\n",
       "      <td>-84</td>\n",
       "      <td>-84</td>\n",
       "      <td>6</td>\n",
       "      <td>2.136719</td>\n",
       "    </tr>\n",
       "    <tr>\n",
       "      <th>1</th>\n",
       "      <td>1226</td>\n",
       "      <td>6</td>\n",
       "      <td>0</td>\n",
       "      <td>0</td>\n",
       "      <td>190</td>\n",
       "      <td>6</td>\n",
       "      <td>3.540913</td>\n",
       "    </tr>\n",
       "    <tr>\n",
       "      <th>2</th>\n",
       "      <td>1226</td>\n",
       "      <td>7</td>\n",
       "      <td>0</td>\n",
       "      <td>-158</td>\n",
       "      <td>-158</td>\n",
       "      <td>6</td>\n",
       "      <td>3.688381</td>\n",
       "    </tr>\n",
       "    <tr>\n",
       "      <th>3</th>\n",
       "      <td>1226</td>\n",
       "      <td>8</td>\n",
       "      <td>0</td>\n",
       "      <td>81</td>\n",
       "      <td>-81</td>\n",
       "      <td>3</td>\n",
       "      <td>2.823134</td>\n",
       "    </tr>\n",
       "    <tr>\n",
       "      <th>4</th>\n",
       "      <td>1226</td>\n",
       "      <td>9</td>\n",
       "      <td>0</td>\n",
       "      <td>-157</td>\n",
       "      <td>157</td>\n",
       "      <td>9</td>\n",
       "      <td>3.690253</td>\n",
       "    </tr>\n",
       "  </tbody>\n",
       "</table>\n",
       "</div>"
      ],
      "text/plain": [
       "   user  trial  input_method  target_x  target_y  target_radius     delay\n",
       "0  1226      5             0       -84       -84              6  2.136719\n",
       "1  1226      6             0         0       190              6  3.540913\n",
       "2  1226      7             0      -158      -158              6  3.688381\n",
       "3  1226      8             0        81       -81              3  2.823134\n",
       "4  1226      9             0      -157       157              9  3.690253"
      ]
     },
     "execution_count": 53,
     "metadata": {},
     "output_type": "execute_result"
    }
   ],
   "source": [
    "#// BEGIN_TODO [ORG_3d] Collect trials information (1 point)\n",
    "\n",
    "df_trials = df_props[['user', 'trial', 'input_method', 'target_x', 'target_y', 'target_radius', 'delay']]\n",
    "\n",
    "#// END_TODO [ORG_3d]\n",
    "\n",
    "df_trials.head()"
   ]
  },
  {
   "cell_type": "markdown",
   "metadata": {},
   "source": [
    "### Exercise <span class=\"exercise\">3.e</span>\n",
    "\n",
    "Create a data frame `df_users` from `df_props` with the columns `'user'`, `'use_tue_laptop'`, `'mouse_speed'`, `'mouse_accuracy'`, `'right_handed'`, `'major'`, avoiding duplicate rows."
   ]
  },
  {
   "cell_type": "code",
   "execution_count": 54,
   "metadata": {},
   "outputs": [
    {
     "data": {
      "text/html": [
       "<div>\n",
       "<style scoped>\n",
       "    .dataframe tbody tr th:only-of-type {\n",
       "        vertical-align: middle;\n",
       "    }\n",
       "\n",
       "    .dataframe tbody tr th {\n",
       "        vertical-align: top;\n",
       "    }\n",
       "\n",
       "    .dataframe thead th {\n",
       "        text-align: right;\n",
       "    }\n",
       "</style>\n",
       "<table border=\"1\" class=\"dataframe\">\n",
       "  <thead>\n",
       "    <tr style=\"text-align: right;\">\n",
       "      <th></th>\n",
       "      <th>user</th>\n",
       "      <th>use_tue_laptop</th>\n",
       "      <th>mouse_speed</th>\n",
       "      <th>mouse_accuracy</th>\n",
       "      <th>right_handed</th>\n",
       "      <th>major</th>\n",
       "    </tr>\n",
       "  </thead>\n",
       "  <tbody>\n",
       "    <tr>\n",
       "      <th>0</th>\n",
       "      <td>1226</td>\n",
       "      <td>1</td>\n",
       "      <td>1</td>\n",
       "      <td>1</td>\n",
       "      <td>1</td>\n",
       "      <td>Industrial Engineering</td>\n",
       "    </tr>\n",
       "    <tr>\n",
       "      <th>30</th>\n",
       "      <td>1937</td>\n",
       "      <td>1</td>\n",
       "      <td>1</td>\n",
       "      <td>1</td>\n",
       "      <td>1</td>\n",
       "      <td>Industrial Engineering</td>\n",
       "    </tr>\n",
       "    <tr>\n",
       "      <th>60</th>\n",
       "      <td>625</td>\n",
       "      <td>1</td>\n",
       "      <td>1</td>\n",
       "      <td>1</td>\n",
       "      <td>0</td>\n",
       "      <td>Applied Physics</td>\n",
       "    </tr>\n",
       "    <tr>\n",
       "      <th>90</th>\n",
       "      <td>1025</td>\n",
       "      <td>1</td>\n",
       "      <td>1</td>\n",
       "      <td>1</td>\n",
       "      <td>0</td>\n",
       "      <td>Innovation Sciences</td>\n",
       "    </tr>\n",
       "    <tr>\n",
       "      <th>120</th>\n",
       "      <td>620</td>\n",
       "      <td>1</td>\n",
       "      <td>1</td>\n",
       "      <td>1</td>\n",
       "      <td>1</td>\n",
       "      <td>Industrial Design</td>\n",
       "    </tr>\n",
       "  </tbody>\n",
       "</table>\n",
       "</div>"
      ],
      "text/plain": [
       "     user  use_tue_laptop  mouse_speed  mouse_accuracy  right_handed  \\\n",
       "0    1226               1            1               1             1   \n",
       "30   1937               1            1               1             1   \n",
       "60    625               1            1               1             0   \n",
       "90   1025               1            1               1             0   \n",
       "120   620               1            1               1             1   \n",
       "\n",
       "                      major  \n",
       "0    Industrial Engineering  \n",
       "30   Industrial Engineering  \n",
       "60          Applied Physics  \n",
       "90      Innovation Sciences  \n",
       "120       Industrial Design  "
      ]
     },
     "execution_count": 54,
     "metadata": {},
     "output_type": "execute_result"
    }
   ],
   "source": [
    "#// BEGIN_TODO [ORG_3e] Collect users information (1 point)\n",
    "\n",
    "df_users = df_props[['user', 'use_tue_laptop', 'mouse_speed', 'mouse_accuracy', 'right_handed', 'major']].drop_duplicates()\n",
    "\n",
    "\n",
    "#// END_TODO [ORG_3e]\n",
    "\n",
    "df_users.head()"
   ]
  },
  {
   "cell_type": "markdown",
   "metadata": {},
   "source": [
    "### Exercise <span class=\"exercise\">3.f</span>\n",
    "\n",
    "Inspect the `df_users` data frame. You will notice that for some users there is more than one row. For example, some users appear to have indicated multiple computer settings. Since at this point we cannot ask those users which settings they have actually used, we will discard those users and the corresponding trials.\n",
    "\n",
    "Identify which users have entered contradicting information, i.e. both right and left handed or using different computer settings, and assign them to a list `wrong_users` (it should be a numpy array or a `list` and contain each user with contradicting information only once).\n",
    "\n",
    "<span class=\"t\">Hint<span class=\"c\">:</span></span>\n",
    "<span class=\"h\">\n",
    "For these users there will be multiple rows in the data frame.\n",
    "</span>"
   ]
  },
  {
   "cell_type": "code",
   "execution_count": 55,
   "metadata": {},
   "outputs": [],
   "source": [
    "#// BEGIN_TODO [ORG_3f] Find the wrong users (1 point)\n",
    "\n",
    "wrong_users = df_users[df_users.duplicated(subset=['user'])]['user']\n"
   ]
  },
  {
   "cell_type": "code",
   "execution_count": 56,
   "metadata": {},
   "outputs": [
    {
     "data": {
      "text/plain": [
       "25920    1598\n",
       "29019    1017\n",
       "Name: user, dtype: int64"
      ]
     },
     "execution_count": 56,
     "metadata": {},
     "output_type": "execute_result"
    }
   ],
   "source": [
    "#// END_TODO [ORG_3f]\n",
    "\n",
    "wrong_users"
   ]
  },
  {
   "cell_type": "markdown",
   "metadata": {},
   "source": [
    "### Exercise <span class=\"exercise\">3.g</span>\n",
    "\n",
    "Discard the rows from `df_users` and `df_trials` corresponding to the users which have entered contradicting information.\n",
    "\n",
    "<span class=\"t\">Hint<span class=\"c\">:</span></span>\n",
    "<span class=\"h\">\n",
    "Use a `for` loop to iterate through users with contradicting information. For each user remove the rows corresponding to that user.\n",
    "</span>"
   ]
  },
  {
   "cell_type": "code",
   "execution_count": 57,
   "metadata": {},
   "outputs": [],
   "source": [
    "#// BEGIN_TODO [ORG_3g] Discard the wrong users (1 point)\n",
    "\n",
    "df_users = df_users.drop_duplicates(subset='user',keep=False)\n",
    "\n",
    "for i in df_trials['user']:\n",
    "    if i in wrong_users:\n",
    "        print(i)\n",
    "\n",
    "#// END_TODO [ORG_3g]"
   ]
  },
  {
   "cell_type": "markdown",
   "metadata": {},
   "source": [
    "# <span class=\"section\">4.</span> Exercises: analyzing the mouse experiment\n",
    "\n",
    "In these exercises we will analyze the mouse experiment data to see if the experiment was properly conducted. We will use the data stored in the SQLite database in the 'datasets/mouse_experiment.db' file. This database contains two tables: \n",
    "\n",
    "- the **users** table, which contains columns `'user'`, `'use_tue_laptop'`, `'mouse_speed'`, `'mouse_accuracy'`, `'right_handed'`, `'major'`\n",
    "- the **trials** table, which contains columns `'user'`, `'trial'`, `'input_method'`, `'target_x'`, `'target_y'`, `'target_radius'`, `'delay'`\n",
    "\n",
    "These two tables are linked via the `'user'` column. The meaning of the other columns is in the `'datasets/paths_props.csv'` file described above. "
   ]
  },
  {
   "cell_type": "markdown",
   "metadata": {},
   "source": [
    "### Exercise <span class=\"exercise\">4.a</span>\n",
    "\n",
    "Connect to the SQLite database `'datasets/mouse_experiment.db'`, assigning the connection to variable **`conn_experiment`**."
   ]
  },
  {
   "cell_type": "code",
   "execution_count": 58,
   "metadata": {},
   "outputs": [],
   "source": [
    "#// BEGIN_TODO [ORG_4a] Connect to mouse experiment database (1 point)\n",
    "\n",
    "conn_experiment = sqlite3.connect('datasets/mouse_experiment.db')\n",
    "\n",
    "#// END_TODO [ORG_4a]"
   ]
  },
  {
   "cell_type": "markdown",
   "metadata": {},
   "source": [
    "### Exercise <span class=\"exercise\">4.b</span>\n",
    "\n",
    "Execute a query to count the number of trials that were performed by user 2 with a mouse.\n",
    "\n",
    "Assign the query to variable `query_user_mouse`, and the result (an integer number) to variable `num_user_mouse`."
   ]
  },
  {
   "cell_type": "code",
   "execution_count": 59,
   "metadata": {},
   "outputs": [
    {
     "data": {
      "text/plain": [
       "15"
      ]
     },
     "execution_count": 59,
     "metadata": {},
     "output_type": "execute_result"
    }
   ],
   "source": [
    "#// BEGIN_TODO [ORG_4b] Count the trials (1 point)\n",
    "\n",
    "query_user_mouse = '''SELECT COUNT(user)\n",
    "                    FROM trials\n",
    "                    WHERE user='2' AND input_method='1' '''\n",
    "\n",
    "num_user_mouse = int(pd.read_sql_query(query_user_mouse,conn_experiment)['COUNT(user)'])\n",
    "\n",
    "#// END_TODO [ORG_4b]\n",
    "\n",
    "num_user_mouse"
   ]
  },
  {
   "cell_type": "markdown",
   "metadata": {},
   "source": [
    "### Exercise <span class=\"exercise\">4.c</span>\n",
    "\n",
    "Execute a query to count the number of trials that were performed with a trackpad.\n",
    "\n",
    "Assign the query to variable `query_all_trackpad`, and the result (an integer number) to variable `num_all_trackpad`."
   ]
  },
  {
   "cell_type": "code",
   "execution_count": 60,
   "metadata": {},
   "outputs": [
    {
     "data": {
      "text/plain": [
       "16792"
      ]
     },
     "execution_count": 60,
     "metadata": {},
     "output_type": "execute_result"
    }
   ],
   "source": [
    "#// BEGIN_TODO [ORG_4c] Count the trackpad trials (1 point)\n",
    "\n",
    "query_all_trackpad = '''SELECT COUNT(trial)\n",
    "                    FROM trials\n",
    "                    WHERE input_method = '0'\n",
    "                    '''\n",
    "num_all_trackpad = int(pd.read_sql_query(query_all_trackpad,conn_experiment)['COUNT(trial)'])\n",
    "\n",
    "#// END_TODO [ORG_4c]\n",
    "\n",
    "num_all_trackpad"
   ]
  },
  {
   "cell_type": "markdown",
   "metadata": {},
   "source": [
    "### Exercise <span class=\"exercise\">4.d</span>\n",
    "\n",
    "Execute a query to count the number of trials that were performed by left handed people.\n",
    "\n",
    "Assign the query to variable `query_lefthanded`, and the result (an integer number) to variable `num_lefthanded`.\n",
    "\n",
    "<span class=\"t\">Hint<span class=\"c\">:</span></span>\n",
    "<span class=\"h\">\n",
    "You will need to combine data from both `trials` and `users` tables.\n",
    "</span>"
   ]
  },
  {
   "cell_type": "code",
   "execution_count": 61,
   "metadata": {},
   "outputs": [
    {
     "data": {
      "text/plain": [
       "4316"
      ]
     },
     "execution_count": 61,
     "metadata": {},
     "output_type": "execute_result"
    }
   ],
   "source": [
    "#// BEGIN_TODO [ORG_4d] Count the lefthanded trials (1 point)\n",
    "\n",
    "query_lefthanded = '''SELECT COUNT(trial)\n",
    "                    FROM trials,users\n",
    "                    WHERE trials.user = users.user AND right_handed = '0'\n",
    "                    '''\n",
    "num_lefthanded = int(pd.read_sql_query(query_lefthanded,conn_experiment)['COUNT(trial)'])\n",
    "\n",
    "#// END_TODO [ORG_4d]\n",
    "\n",
    "num_lefthanded"
   ]
  },
  {
   "cell_type": "markdown",
   "metadata": {},
   "source": [
    "### Exercise <span class=\"exercise\">4.e</span>\n",
    "\n",
    "Execute a query to compute the average delay between the start of a trial and the moment the target was shown for left handed vs. right handed people.\n",
    "\n",
    "Assign the query to variable `query_delay`, and the result (a data frame with two rows, first row for left handed and second for right handed people, and one column `'average delay'`) to variable `result_delay`.\n",
    "\n",
    "<span class=\"t\">Hint<span class=\"c\">:</span></span>\n",
    "<span class=\"h\">\n",
    "Use the `GROUP BY` clause.\n",
    "</span>"
   ]
  },
  {
   "cell_type": "code",
   "execution_count": 62,
   "metadata": {},
   "outputs": [
    {
     "ename": "NameError",
     "evalue": "name 'result_delay' is not defined",
     "output_type": "error",
     "traceback": [
      "\u001b[1;31m---------------------------------------------------------------------------\u001b[0m",
      "\u001b[1;31mNameError\u001b[0m                                 Traceback (most recent call last)",
      "\u001b[1;32m<ipython-input-62-9fea8d775271>\u001b[0m in \u001b[0;36m<module>\u001b[1;34m\u001b[0m\n\u001b[0;32m      5\u001b[0m \u001b[1;31m#// END_TODO [ORG_4e]\u001b[0m\u001b[1;33m\u001b[0m\u001b[1;33m\u001b[0m\u001b[1;33m\u001b[0m\u001b[0m\n\u001b[0;32m      6\u001b[0m \u001b[1;33m\u001b[0m\u001b[0m\n\u001b[1;32m----> 7\u001b[1;33m \u001b[0mresult_delay\u001b[0m\u001b[1;33m\u001b[0m\u001b[1;33m\u001b[0m\u001b[0m\n\u001b[0m",
      "\u001b[1;31mNameError\u001b[0m: name 'result_delay' is not defined"
     ]
    }
   ],
   "source": [
    "#// BEGIN_TODO [ORG_4e] Average delay (1 point)\n",
    "\n",
    "# ===== =====> Replace this line by your code. <===== ===== #\n",
    "\n",
    "#// END_TODO [ORG_4e]\n",
    "\n",
    "result_delay"
   ]
  },
  {
   "cell_type": "markdown",
   "metadata": {},
   "source": [
    "### Exercise <span class=\"exercise\">4.f</span>\n",
    "\n",
    "Let us check whether the experiment was properly conducted. In particular, let us check whether the users working with a mouse were not disadvantaged compared to those using the trackpad. We will do it in two steps. First, execute a query to compute the average radius of targets that were shown to users using the different input methods.\n",
    "\n",
    "Assign the query to variable `query_radius`, and the result (a data frame with two columns `'method'` and `'average radius'`) to variable `result_radius`.\n",
    "\n",
    "<span class=\"t\">Hint<span class=\"c\">:</span></span>\n",
    "<span class=\"h\">\n",
    "Use the `GROUP BY` clause to aggregate the different methods.\n",
    "</span>"
   ]
  },
  {
   "cell_type": "code",
   "execution_count": null,
   "metadata": {},
   "outputs": [],
   "source": [
    "#// BEGIN_TODO [ORG_4f] Average radius (1 point)\n",
    "\n",
    "# ===== =====> Replace this line by your code. <===== ===== #\n",
    "\n",
    "#// END_TODO [ORG_4f]\n",
    "\n",
    "result_radius"
   ]
  },
  {
   "cell_type": "markdown",
   "metadata": {},
   "source": [
    "### Exercise <span class=\"exercise\">4.g</span>\n",
    "\n",
    "We consider the experiment to be properly conducted if the absolute difference in the average target radius between the two input methods is at most 20% of the smaller value. Was the experiment properly conducted?\n",
    "\n",
    "Assign your boolean answer to `proper_experiment`."
   ]
  },
  {
   "cell_type": "code",
   "execution_count": null,
   "metadata": {},
   "outputs": [],
   "source": [
    "#// BEGIN_TODO [ORG_4g] Proper experiment? (1 point)\n",
    "\n",
    "# ===== =====> Replace this line by your code. <===== ===== #\n",
    "\n",
    "#// END_TODO [ORG_4g]\n",
    "\n",
    "proper_experiment"
   ]
  },
  {
   "cell_type": "markdown",
   "metadata": {},
   "source": [
    "### Exercise <span class=\"exercise\">4.h</span>\n",
    "\n",
    "Close the connection to the `'mouse_experiment.db'` database."
   ]
  },
  {
   "cell_type": "code",
   "execution_count": null,
   "metadata": {},
   "outputs": [],
   "source": [
    "#// BEGIN_TODO [ORG_4h] Close the mouse experiment database (1 point)\n",
    "\n",
    "# ===== =====> Replace this line by your code. <===== ===== #\n",
    "\n",
    "#// END_TODO [ORG_4h]"
   ]
  },
  {
   "cell_type": "markdown",
   "metadata": {},
   "source": [
    "# Feedback\n",
    "\n",
    "Please fill in this questionaire to help us improve this course for the next year. Your feedback will be anonymized and will not affect your grade in any way!"
   ]
  },
  {
   "cell_type": "markdown",
   "metadata": {},
   "source": [
    "### How many hours did you spend on these Exercises?\n",
    "\n",
    "Assign a number to `feedback_time`."
   ]
  },
  {
   "cell_type": "code",
   "execution_count": null,
   "metadata": {},
   "outputs": [],
   "source": [
    "#// BEGIN_FEEDBACK [Feedback_1] (0 point)\n",
    "\n",
    "#// END_FEEDBACK [Feedback_1] (0 point)\n",
    "\n",
    "import numbers\n",
    "assert isinstance(feedback_time, numbers.Number), \"Please assign a number to feedback_time\"\n",
    "feedback_time"
   ]
  },
  {
   "cell_type": "markdown",
   "metadata": {},
   "source": [
    "### How difficult did you find these Exercises?\n",
    "\n",
    "Assign an integer to `feedback_difficulty`, on a scale 0 - 10, with 0 being very easy, 5 being just right, and 10 being very difficult."
   ]
  },
  {
   "cell_type": "code",
   "execution_count": null,
   "metadata": {},
   "outputs": [],
   "source": [
    "#// BEGIN_FEEDBACK [Feedback_2] (0 point)\n",
    "\n",
    "#// END_FEEDBACK [Feedback_2] (0 point)\n",
    "\n",
    "import numbers\n",
    "assert isinstance(feedback_difficulty, numbers.Number), \"Please assign a number to feedback_difficulty\"\n",
    "feedback_difficulty"
   ]
  },
  {
   "cell_type": "markdown",
   "metadata": {},
   "source": [
    "### (Optional) What did you like?\n",
    "\n",
    "Assign a string to `feedback_like`."
   ]
  },
  {
   "cell_type": "code",
   "execution_count": null,
   "metadata": {},
   "outputs": [],
   "source": [
    "#// BEGIN_FEEDBACK [Feedback_3] (0 point)\n",
    "\n",
    "#// END_FEEDBACK [Feedback_3] (0 point)"
   ]
  },
  {
   "cell_type": "markdown",
   "metadata": {},
   "source": [
    "### (Optional) What can be improved?\n",
    "\n",
    "Assign a string to `feedback_improve`. Please be specific, so that we can act on your feedback. For example, mention the specific exercises and what was unclear."
   ]
  },
  {
   "cell_type": "code",
   "execution_count": null,
   "metadata": {},
   "outputs": [],
   "source": [
    "#// BEGIN_FEEDBACK [Feedback_4] (0 point)\n",
    "\n",
    "#// END_FEEDBACK [Feedback_4] (0 point)"
   ]
  },
  {
   "cell_type": "markdown",
   "metadata": {},
   "source": [
    "\n",
    "\n",
    "\n",
    "## How to submit your work\n",
    "\n",
    "1. **Before submitting**, you must run your notebook by doing **Kernel > Restart & Run All**.  \n",
    "   Make sure that your notebook runs without errors **in linear order**.\n",
    "\n",
    "2. Remember to rename the notebook, replacing `...-template.ipynb` with `...-yourIDnr.ipynb`, where `yourIDnr` is your TU/e identification number.\n",
    "\n",
    "3. Submit the executed notebook with your work\n",
    "   for the appropriate assignment in **Canvas**.\n",
    "\n",
    "* In the **Momotor** tab in Canvas,\n",
    "  you can select that assignment again to find some feedback on your submitted work.\n",
    "  \n",
    "* If there are any problems reported by _Momotor_,\n",
    "  then you need to fix those,\n",
    "  and **resubmit the fixed notebook**.\n",
    "\n",
    "In case of a high workload on our server\n",
    "(because many students submit close to the deadline),\n",
    "it may take longer to receive the feedback.\n",
    "\n",
    "\n"
   ]
  },
  {
   "cell_type": "markdown",
   "metadata": {},
   "source": [
    "---"
   ]
  },
  {
   "cell_type": "code",
   "execution_count": null,
   "metadata": {},
   "outputs": [],
   "source": [
    "# List all defined names\n",
    "%whos"
   ]
  },
  {
   "cell_type": "markdown",
   "metadata": {},
   "source": [
    "---\n",
    "\n",
    "# (End of Notebook) <span class=\"tocSkip\"></span>\n",
    "\n",
    "&copy; 2017-2021 - **TU/e** - Eindhoven University of Technology"
   ]
  }
 ],
 "metadata": {
  "hide_input": false,
  "kernelspec": {
   "display_name": "Python 3",
   "language": "python",
   "name": "python3"
  },
  "language_info": {
   "codemirror_mode": {
    "name": "ipython",
    "version": 3
   },
   "file_extension": ".py",
   "mimetype": "text/x-python",
   "name": "python",
   "nbconvert_exporter": "python",
   "pygments_lexer": "ipython3",
   "version": "3.8.8"
  },
  "toc": {
   "base_numbering": 1,
   "nav_menu": {
    "height": "174px",
    "width": "252px"
   },
   "number_sections": false,
   "sideBar": true,
   "skip_h1_title": false,
   "title_cell": "Table of Contents",
   "title_sidebar": "Contents",
   "toc_cell": true,
   "toc_position": {
    "height": "calc(100% - 180px)",
    "left": "10px",
    "top": "150px",
    "width": "190.594px"
   },
   "toc_section_display": "block",
   "toc_window_display": true
  }
 },
 "nbformat": 4,
 "nbformat_minor": 2
}
