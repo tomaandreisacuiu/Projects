{
 "cells": [
  {
   "cell_type": "markdown",
   "metadata": {},
   "source": [
    "# Programming Lesson and Exercises - DMM<span class=\"tocSkip\"></span>\n",
    "\n",
    "The goal of these programming lesson and exercises is to teach you how to model data using Python, in particular how to fit a regression, classification and clustering model to a data set."
   ]
  },
  {
   "cell_type": "markdown",
   "metadata": {},
   "source": [
    "\n",
    "# Introduction to this template notebook\n",
    "\n",
    "* This is a **personal** notebook.\n",
    "* Make sure you work in a **copy** of `...-template.ipynb`, **renamed** to `...-yourIDnr.ipynb`, where `yourIDnr` is your TU/e identification number.\n",
    "* Keep the copy in the same folder, so that the provided data sets can be loaded.\n",
    "\n",
    "You are expected to work with Python code in this notebook. The locations where you should write your solutions can be recognized by **marker lines**, which look like this:\n",
    "\n",
    ">`#//`\n",
    ">    `BEGIN_TODO [Label]` `Description` `(n points)`\n",
    ">\n",
    ">`#//`\n",
    ">    `END_TODO [Label]`\n",
    "\n",
    "<div class=\"alert alert-warning\" role=\"alert\">\n",
    "<ul>\n",
    "    <li>Do NOT modify or delete these marker lines.  Keep them as they are.</li>\n",
    "    <li>NEVER write code <i>outside</i> the marked blocks. Such code cannot be evaluated.</li>\n",
    "</ul>\n",
    "</div>\n",
    "\n",
    "Proceed in this notebook as follows:\n",
    "* **Read** the text.\n",
    "* **Fill in** your solutions between `BEGIN_TODO` and `END_TODO` marker lines.\n",
    "* **Run** _all_ code cells (also the ones _without_ your code),\n",
    "    _in linear order_ from the first code cell.\n",
    "\n",
    "<div class=\"alert alert-danger\" role=\"danger\">\n",
    "<h3>Integrity</h3>\n",
    "<ul>\n",
    "    <li>In this course you must act according to the rules of the TU/e code of scientific conduct.</li>\n",
    "    <li>All the exercises and the graded assignments are to be executed individually and independently.</li>\n",
    "    <li>You must not copy from the Internet, your friends, books... If you represent other people's work as your own, then that constitutes fraud and will be reported to the Examination Committee.</li>\n",
    "    <li>Making your work available to others (complicity) also constitutes fraud.</li>\n",
    "</ul>\n",
    "</div>\n",
    "\n",
    "## Personalize your notebook\n",
    "\n",
    "1. Copy the following three lines of code:\n",
    "\n",
    "  ```python\n",
    "  AUTHOR_NAME = 'Your Full Name'\n",
    "  AUTHOR_ID_NR = '1234567'\n",
    "  AUTHOR_DATE = 'YYYY-MM-DD'\n",
    "  ```\n",
    "\n",
    "1. Paste them between the marker lines in the next code cell.\n",
    "1. Fill in your _full name, identification number,_ and the current _date_ (i.e. when you first modified this notebook, e.g. `'2020-02-26'`) as strings between quotes.\n",
    "1. Run the code cell by putting the cursor there and typing **Control-Enter**.\n"
   ]
  },
  {
   "cell_type": "code",
   "execution_count": 1,
   "metadata": {},
   "outputs": [
    {
     "data": {
      "text/plain": [
       "('Toma Andrei Sacuiu', '1681591', '2022-02-24')"
      ]
     },
     "execution_count": 1,
     "metadata": {},
     "output_type": "execute_result"
    }
   ],
   "source": [
    "#// BEGIN_TODO [Author] Name, Id.nr., Date, as strings (1 point)\n",
    "\n",
    "AUTHOR_NAME = 'Toma Andrei Sacuiu'\n",
    "AUTHOR_ID_NR = '1681591'\n",
    "AUTHOR_DATE = '2022-02-24'\n",
    "\n",
    "#// END_TODO [Author]\n",
    "\n",
    "AUTHOR_NAME, AUTHOR_ID_NR, AUTHOR_DATE"
   ]
  },
  {
   "cell_type": "markdown",
   "metadata": {
    "toc": "true"
   },
   "source": [
    "<h1>Table of Contents<span class=\"tocSkip\"></span></h1>\n",
    "<div class=\"toc\"><ul class=\"toc-item\"><li><ul class=\"toc-item\"><li><span><a href=\"#Learning-Objectives-of-This-Lesson\" data-toc-modified-id=\"Learning-Objectives-of-This-Lesson-0.1\">Learning Objectives of This Lesson</a></span></li><li><span><a href=\"#Loading-the-libraries\" data-toc-modified-id=\"Loading-the-libraries-0.2\">Loading the libraries</a></span></li><li><span><a href=\"#Data-sets\" data-toc-modified-id=\"Data-sets-0.3\">Data sets</a></span><ul class=\"toc-item\"><li><span><a href=\"#Example-data-set\" data-toc-modified-id=\"Example-data-set-0.3.1\">Example data set</a></span><ul class=\"toc-item\"><li><span><a href=\"#Training-and-test-data-set\" data-toc-modified-id=\"Training-and-test-data-set-0.3.1.1\">Training and test data set</a></span></li></ul></li><li><span><a href=\"#Auto-MPG-data-set\" data-toc-modified-id=\"Auto-MPG-data-set-0.3.2\">Auto MPG data set</a></span><ul class=\"toc-item\"><li><span><a href=\"#Training-and-test-data-set\" data-toc-modified-id=\"Training-and-test-data-set-0.3.2.1\">Training and test data set</a></span></li></ul></li><li><span><a href=\"#Wheat-seeds-data-set\" data-toc-modified-id=\"Wheat-seeds-data-set-0.3.3\">Wheat seeds data set</a></span></li></ul></li></ul></li><li><span><a href=\"#1.-Linear-Regression\" data-toc-modified-id=\"1.-Linear-Regression-1\"><span class=\"section\" id=\"linear_regression_simple\">1.</span> Linear Regression</a></span><ul class=\"toc-item\"><li><ul class=\"toc-item\"><li><span><a href=\"#Step-1.-Select-the-data\" data-toc-modified-id=\"Step-1.-Select-the-data-1.0.1\">Step 1. Select the data</a></span></li><li><span><a href=\"#Step-2.-Create-the-regression-object\" data-toc-modified-id=\"Step-2.-Create-the-regression-object-1.0.2\">Step 2. Create the regression object</a></span></li><li><span><a href=\"#Step-3.-Fit-the-model\" data-toc-modified-id=\"Step-3.-Fit-the-model-1.0.3\">Step 3. Fit the model</a></span></li><li><span><a href=\"#Step-4.-Extract-model-parameters\" data-toc-modified-id=\"Step-4.-Extract-model-parameters-1.0.4\">Step 4. Extract model parameters</a></span></li><li><span><a href=\"#Step-5.-Visualize-the-model\" data-toc-modified-id=\"Step-5.-Visualize-the-model-1.0.5\">Step 5. Visualize the model</a></span></li><li><span><a href=\"#Step-6.-Make-predictions\" data-toc-modified-id=\"Step-6.-Make-predictions-1.0.6\">Step 6. Make predictions</a></span></li><li><span><a href=\"#Step-7.-Assess-the-model's-quality\" data-toc-modified-id=\"Step-7.-Assess-the-model's-quality-1.0.7\">Step 7. Assess the model's quality</a></span><ul class=\"toc-item\"><li><span><a href=\"#Step-7a.-Goodness-of-fit\" data-toc-modified-id=\"Step-7a.-Goodness-of-fit-1.0.7.1\">Step 7a. Goodness of fit</a></span></li><li><span><a href=\"#Step-7b.-Predictive-performance\" data-toc-modified-id=\"Step-7b.-Predictive-performance-1.0.7.2\">Step 7b. Predictive performance</a></span></li></ul></li></ul></li><li><span><a href=\"#Exercises-on-linear-regression\" data-toc-modified-id=\"Exercises-on-linear-regression-1.1\">Exercises on linear regression</a></span><ul class=\"toc-item\"><li><span><a href=\"#Exercise-1.a:-Fit-a-linear-model-for--'mpg'\" data-toc-modified-id=\"Exercise-1.a:-Fit-a-linear-model-for--'mpg'-1.1.1\">Exercise <span class=\"exercise\">1.a</span>: Fit a linear model for  <code>'mpg'</code></a></span></li><li><span><a href=\"#Exercise-1.b:-Visualize-the-model\" data-toc-modified-id=\"Exercise-1.b:-Visualize-the-model-1.1.2\">Exercise <span class=\"exercise\">1.b</span>: Visualize the model</a></span></li><li><span><a href=\"#Exercise-1.c:-Interpret-the-model\" data-toc-modified-id=\"Exercise-1.c:-Interpret-the-model-1.1.3\">Exercise <span class=\"exercise\">1.c</span>: Interpret the model</a></span></li><li><span><a href=\"#Exercise-1.d:-Assess-the-goodness-of-fit\" data-toc-modified-id=\"Exercise-1.d:-Assess-the-goodness-of-fit-1.1.4\">Exercise <span class=\"exercise\" id=\"model_score_mpg_weight\">1.d</span>: Assess the goodness of fit</a></span></li><li><span><a href=\"#Residual-plot\" data-toc-modified-id=\"Residual-plot-1.1.5\">Residual plot</a></span></li><li><span><a href=\"#Exercise-1.e:-Fit-a-linear-model-with-a-quadratic-term\" data-toc-modified-id=\"Exercise-1.e:-Fit-a-linear-model-with-a-quadratic-term-1.1.6\">Exercise <span class=\"exercise\">1.e</span>: Fit a linear model with a quadratic term</a></span></li><li><span><a href=\"#Exercise-1.f:-Extract-model-parameters\" data-toc-modified-id=\"Exercise-1.f:-Extract-model-parameters-1.1.7\">Exercise <span class=\"exercise\">1.f</span>: Extract model parameters</a></span></li><li><span><a href=\"#Exercise-1.g:-Visualize-the-model-with-a-quadratic-term\" data-toc-modified-id=\"Exercise-1.g:-Visualize-the-model-with-a-quadratic-term-1.1.8\">Exercise <span class=\"exercise\">1.g</span>: Visualize the model with a quadratic term</a></span></li><li><span><a href=\"#Exercise-1.h:-Did-the-goodness-of-fit-improve?\" data-toc-modified-id=\"Exercise-1.h:-Did-the-goodness-of-fit-improve?-1.1.9\">Exercise <span class=\"exercise\">1.h</span>: Did the goodness of fit improve?</a></span></li><li><span><a href=\"#Exercise-1.i:-Make-predictions\" data-toc-modified-id=\"Exercise-1.i:-Make-predictions-1.1.10\">Exercise <span class=\"exercise\">1.i</span>: Make predictions</a></span></li><li><span><a href=\"#Exercise-1.j:-Assess-the-predictive-performance\" data-toc-modified-id=\"Exercise-1.j:-Assess-the-predictive-performance-1.1.11\">Exercise <span class=\"exercise\">1.j</span>: Assess the predictive performance</a></span></li></ul></li></ul></li><li><span><a href=\"#2.-Decision-Tree-Mining\" data-toc-modified-id=\"2.-Decision-Tree-Mining-2\"><span class=\"section\">2.</span> Decision Tree Mining</a></span><ul class=\"toc-item\"><li><ul class=\"toc-item\"><li><span><a href=\"#Step-1.-Select-the-data\" data-toc-modified-id=\"Step-1.-Select-the-data-2.0.1\">Step 1. Select the data</a></span></li><li><span><a href=\"#Step-2.-Create-the-decision-tree-classifier\" data-toc-modified-id=\"Step-2.-Create-the-decision-tree-classifier-2.0.2\">Step 2. Create the decision-tree classifier</a></span></li><li><span><a href=\"#Step-3.-Do-the-fitting\" data-toc-modified-id=\"Step-3.-Do-the-fitting-2.0.3\">Step 3. Do the fitting</a></span></li><li><span><a href=\"#Step-4.-Extract-model-parameters\" data-toc-modified-id=\"Step-4.-Extract-model-parameters-2.0.4\">Step 4. Extract model parameters</a></span></li><li><span><a href=\"#Step-5.-Visualize-the-model\" data-toc-modified-id=\"Step-5.-Visualize-the-model-2.0.5\">Step 5. Visualize the model</a></span></li><li><span><a href=\"#Step-6.-Make-predictions\" data-toc-modified-id=\"Step-6.-Make-predictions-2.0.6\">Step 6. Make predictions</a></span></li><li><span><a href=\"#Step-7.-Assess-the-model's-quality\" data-toc-modified-id=\"Step-7.-Assess-the-model's-quality-2.0.7\">Step 7. Assess the model's quality</a></span><ul class=\"toc-item\"><li><span><a href=\"#Step-7a.-Goodness-of-fit\" data-toc-modified-id=\"Step-7a.-Goodness-of-fit-2.0.7.1\">Step 7a. Goodness of fit</a></span></li><li><span><a href=\"#Step-7a.-Predictive-performance\" data-toc-modified-id=\"Step-7a.-Predictive-performance-2.0.7.2\">Step 7a. Predictive performance</a></span></li></ul></li></ul></li><li><span><a href=\"#Exercises-on-decision-trees\" data-toc-modified-id=\"Exercises-on-decision-trees-2.1\">Exercises on decision trees</a></span><ul class=\"toc-item\"><li><span><a href=\"#Exercise-2.a:-Fit-a-decision-tree-for-'origin'\" data-toc-modified-id=\"Exercise-2.a:-Fit-a-decision-tree-for-'origin'-2.1.1\">Exercise <span class=\"exercise\" id=\"exercise-depth-three-tree\">2.a</span>: Fit a decision tree for <code>'origin'</code></a></span></li><li><span><a href=\"#Exercise-2.b:-Assess-the-goodness-of-fit\" data-toc-modified-id=\"Exercise-2.b:-Assess-the-goodness-of-fit-2.1.2\">Exercise <span class=\"exercise\">2.b</span>: Assess the goodness of fit</a></span></li><li><span><a href=\"#Exercise-2.c:-Visualize-the-model\" data-toc-modified-id=\"Exercise-2.c:-Visualize-the-model-2.1.3\">Exercise <span class=\"exercise\">2.c</span>: Visualize the model</a></span></li><li><span><a href=\"#Exercise-2.d:-Assess-the-predictive-performance\" data-toc-modified-id=\"Exercise-2.d:-Assess-the-predictive-performance-2.1.4\">Exercise <span class=\"exercise\">2.d</span>: Assess the predictive performance</a></span></li></ul></li></ul></li><li><span><a href=\"#3.-Clustering\" data-toc-modified-id=\"3.-Clustering-3\"><span class=\"section\">3.</span> Clustering</a></span><ul class=\"toc-item\"><li><ul class=\"toc-item\"><li><span><a href=\"#Step-1.-Select-the-data\" data-toc-modified-id=\"Step-1.-Select-the-data-3.0.1\">Step 1. Select the data</a></span></li><li><span><a href=\"#Step-2.-Create-the-cluster-object\" data-toc-modified-id=\"Step-2.-Create-the-cluster-object-3.0.2\">Step 2. Create the cluster object</a></span></li><li><span><a href=\"#Step-3.-Fit-the-model\" data-toc-modified-id=\"Step-3.-Fit-the-model-3.0.3\">Step 3. Fit the model</a></span></li><li><span><a href=\"#Step-4.-Extract-model-parameters\" data-toc-modified-id=\"Step-4.-Extract-model-parameters-3.0.4\">Step 4. Extract model parameters</a></span></li><li><span><a href=\"#Step-5.-Visualize-the-model\" data-toc-modified-id=\"Step-5.-Visualize-the-model-3.0.5\">Step 5. Visualize the model</a></span></li><li><span><a href=\"#Step-6.-Do-predictions\" data-toc-modified-id=\"Step-6.-Do-predictions-3.0.6\">Step 6. Do predictions</a></span></li><li><span><a href=\"#Step-7.-Assess-the-model's-quality\" data-toc-modified-id=\"Step-7.-Assess-the-model's-quality-3.0.7\">Step 7. Assess the model's quality</a></span></li></ul></li><li><span><a href=\"#Exercises-on-clustering\" data-toc-modified-id=\"Exercises-on-clustering-3.1\">Exercises on clustering</a></span><ul class=\"toc-item\"><li><span><a href=\"#Exercise-3.a:-Cluster-the-wheat-seeds\" data-toc-modified-id=\"Exercise-3.a:-Cluster-the-wheat-seeds-3.1.1\">Exercise <span class=\"exercise\" id=\"exercise-cluster-no-scaling\">3.a</span>: Cluster the wheat seeds</a></span></li><li><span><a href=\"#Exercise-3.b:-Visualize-the-clusters\" data-toc-modified-id=\"Exercise-3.b:-Visualize-the-clusters-3.1.2\">Exercise <span class=\"exercise\">3.b</span>: Visualize the clusters</a></span></li><li><span><a href=\"#Exercise-3.c:-Make-predictions\" data-toc-modified-id=\"Exercise-3.c:-Make-predictions-3.1.3\">Exercise <span class=\"exercise\">3.c</span>: Make predictions</a></span></li><li><span><a href=\"#Exercise-3.d:-Assess-the-model's-quality\" data-toc-modified-id=\"Exercise-3.d:-Assess-the-model's-quality-3.1.4\">Exercise <span class=\"exercise\">3.d</span>: Assess the model's quality</a></span></li><li><span><a href=\"#Exercise-3.e:-Compare-with-the-actual-seed-varieties\" data-toc-modified-id=\"Exercise-3.e:-Compare-with-the-actual-seed-varieties-3.1.5\">Exercise <span class=\"exercise\">3.e</span>: Compare with the actual seed varieties</a></span></li></ul></li></ul></li><li><span><a href=\"#4.-Exercise:-Different-models-for-linear-regression\" data-toc-modified-id=\"4.-Exercise:-Different-models-for-linear-regression-4\"><span class=\"section\">4.</span> Exercise: Different models for linear regression</a></span><ul class=\"toc-item\"><li><ul class=\"toc-item\"><li><span><a href=\"#Exercise-4.a:-Fit-a-linear-model-for-'mpg'-with-a-cross-term-and-a-quadratic-term\" data-toc-modified-id=\"Exercise-4.a:-Fit-a-linear-model-for-'mpg'-with-a-cross-term-and-a-quadratic-term-4.0.1\">Exercise <span class=\"exercise\">4.a</span>: Fit a linear model for <code>'mpg'</code> with a cross term and a quadratic term</a></span></li><li><span><a href=\"#Exercise-4.b:-Did-the-goodness-of-fit-improve?\" data-toc-modified-id=\"Exercise-4.b:-Did-the-goodness-of-fit-improve?-4.0.2\">Exercise <span class=\"exercise\">4.b</span>: Did the goodness of fit improve?</a></span></li><li><span><a href=\"#Exercise-4.c:-Did-the-predictive-performance-improve?\" data-toc-modified-id=\"Exercise-4.c:-Did-the-predictive-performance-improve?-4.0.3\">Exercise <span class=\"exercise\">4.c</span>: Did the predictive performance improve?</a></span></li></ul></li></ul></li><li><span><a href=\"#5.-Exercise:-Depths-of-decision-trees\" data-toc-modified-id=\"5.-Exercise:-Depths-of-decision-trees-5\"><span class=\"section\">5.</span> Exercise: Depths of decision trees</a></span><ul class=\"toc-item\"><li><ul class=\"toc-item\"><li><span><a href=\"#Exercise-5.a:-Fit-a-decision-tree-of-unbounded-maximum-depth\" data-toc-modified-id=\"Exercise-5.a:-Fit-a-decision-tree-of-unbounded-maximum-depth-5.0.1\">Exercise <span class=\"exercise\" id=\"ex_tree\">5.a</span>: Fit a decision tree of unbounded maximum depth</a></span></li><li><span><a href=\"#Exercise-5.b:-Extract-model-parameters\" data-toc-modified-id=\"Exercise-5.b:-Extract-model-parameters-5.0.2\">Exercise <span class=\"exercise\">5.b</span>: Extract model parameters</a></span></li><li><span><a href=\"#Exercise-5.c:-Assess-the-goodness-of-fit\" data-toc-modified-id=\"Exercise-5.c:-Assess-the-goodness-of-fit-5.0.3\">Exercise <span class=\"exercise\">5.c</span>: Assess the goodness of fit</a></span></li><li><span><a href=\"#Exercise-5.d:-Assess-the-predictive-performance\" data-toc-modified-id=\"Exercise-5.d:-Assess-the-predictive-performance-5.0.4\">Exercise <span class=\"exercise\">5.d</span>: Assess the predictive performance</a></span></li><li><span><a href=\"#Exercise-5.e:-Which-tree-is-more-appropriate?\" data-toc-modified-id=\"Exercise-5.e:-Which-tree-is-more-appropriate?-5.0.5\">Exercise <span class=\"exercise\">5.e</span>: Which tree is more appropriate?</a></span></li></ul></li></ul></li></ul></div>"
   ]
  },
  {
   "cell_type": "markdown",
   "metadata": {},
   "source": [
    "## Learning Objectives of This Lesson\n",
    "\n",
    "After this lesson, you should\n",
    "\n",
    "* know how to do **linear regression** on data frames\n",
    "* know how to do **decision tree mining** on data frames\n",
    "* know how to do **k-means clustering** on data frames\n",
    "* know how to determine the **$R^2$** statistic of a linear regression model\n",
    "* know how to determine the **accuracy** of a classification model"
   ]
  },
  {
   "cell_type": "markdown",
   "metadata": {},
   "source": [
    "## Loading the libraries\n",
    "\n",
    "To show examples, we load some Data Analytics libraries first:"
   ]
  },
  {
   "cell_type": "code",
   "execution_count": 2,
   "metadata": {},
   "outputs": [
    {
     "data": {
      "text/html": [
       "<style>.h,.c{display:none}.t{color:#296eaa}.t:active+.h{display:block;}</style>"
      ],
      "text/plain": [
       "<IPython.core.display.HTML object>"
      ]
     },
     "execution_count": 2,
     "metadata": {},
     "output_type": "execute_result"
    }
   ],
   "source": [
    "import numpy as np  # import auxiliary library, typical idiom\n",
    "import pandas as pd  # import the Pandas library, typical idiom\n",
    "\n",
    "# next command ensures that plots appear inside the notebook\n",
    "%matplotlib inline\n",
    "import matplotlib as mpl\n",
    "import matplotlib.pyplot as plt\n",
    "import seaborn as sns  # also improves the look of plots\n",
    "sns.set()\n",
    "plt.rcParams['figure.figsize'] = 10, 5  # default hor./vert. size of plots, in inches\n",
    "plt.rcParams['lines.markeredgewidth'] = 1  # to fix issue with seaborn box plots; needed after import seaborn\n",
    "\n",
    "# reveal a hint only while holding the mouse down\n",
    "from IPython.display import HTML\n",
    "HTML(\"<style>.h,.c{display:none}.t{color:#296eaa}.t:active+.h{display:block;}</style>\")"
   ]
  },
  {
   "cell_type": "markdown",
   "metadata": {},
   "source": [
    "In these exercises we will rely on `sklearn` (*SciKit Learn*), a Python library for machine learning. Now, we selectively import the relevant classes and functions from `sklearn`. Its documentation can be found here: http://scikit-learn.org/."
   ]
  },
  {
   "cell_type": "code",
   "execution_count": 3,
   "metadata": {},
   "outputs": [],
   "source": [
    "from sklearn.linear_model import LinearRegression  # for linear regression\n",
    "from sklearn.cluster import KMeans  # for clustering\n",
    "from sklearn.tree import DecisionTreeClassifier  # for decision tree mining\n",
    "from sklearn.metrics import mean_absolute_error, confusion_matrix\n",
    "from sklearn.model_selection import train_test_split\n",
    "from treeviz import tree_print  # to print decision tree"
   ]
  },
  {
   "cell_type": "markdown",
   "metadata": {},
   "source": [
    "> **WARNING:** Data mining methods often include a random component and are therefore **non-deterministic**. This means that some of the data mining methods can return different answers every time they are executed, even when the same input data is used."
   ]
  },
  {
   "cell_type": "markdown",
   "metadata": {},
   "source": [
    "## Data sets\n",
    "\n",
    "Throughout this notebook we will use three data sets:\n",
    "- **Example data set** will be used to introduce the data mining techniques,\n",
    "- **Auto MPG data set** will be used in the exercises for linear regression and decision tree mining,\n",
    "- **Wheat seeds data set** will be used in the exercises for clustering."
   ]
  },
  {
   "cell_type": "markdown",
   "metadata": {},
   "source": [
    "### Example data set\n",
    "\n",
    "We will use a small idealized data set to demonstrate the use of the methods in the SciKit Learn library. The example data set has two numeric columns labeled `'a'` and `'b'`, one categorical column labeled `'c'`, and twelve rows."
   ]
  },
  {
   "cell_type": "code",
   "execution_count": 4,
   "metadata": {},
   "outputs": [
    {
     "data": {
      "text/html": [
       "<div>\n",
       "<style scoped>\n",
       "    .dataframe tbody tr th:only-of-type {\n",
       "        vertical-align: middle;\n",
       "    }\n",
       "\n",
       "    .dataframe tbody tr th {\n",
       "        vertical-align: top;\n",
       "    }\n",
       "\n",
       "    .dataframe thead th {\n",
       "        text-align: right;\n",
       "    }\n",
       "</style>\n",
       "<table border=\"1\" class=\"dataframe\">\n",
       "  <thead>\n",
       "    <tr style=\"text-align: right;\">\n",
       "      <th></th>\n",
       "      <th>a</th>\n",
       "      <th>b</th>\n",
       "      <th>c</th>\n",
       "    </tr>\n",
       "  </thead>\n",
       "  <tbody>\n",
       "    <tr>\n",
       "      <th>0</th>\n",
       "      <td>0</td>\n",
       "      <td>1</td>\n",
       "      <td>red</td>\n",
       "    </tr>\n",
       "    <tr>\n",
       "      <th>1</th>\n",
       "      <td>1</td>\n",
       "      <td>2</td>\n",
       "      <td>red</td>\n",
       "    </tr>\n",
       "    <tr>\n",
       "      <th>2</th>\n",
       "      <td>2</td>\n",
       "      <td>1</td>\n",
       "      <td>red</td>\n",
       "    </tr>\n",
       "    <tr>\n",
       "      <th>3</th>\n",
       "      <td>3</td>\n",
       "      <td>3</td>\n",
       "      <td>blue</td>\n",
       "    </tr>\n",
       "    <tr>\n",
       "      <th>4</th>\n",
       "      <td>4</td>\n",
       "      <td>2</td>\n",
       "      <td>blue</td>\n",
       "    </tr>\n",
       "    <tr>\n",
       "      <th>5</th>\n",
       "      <td>5</td>\n",
       "      <td>3</td>\n",
       "      <td>blue</td>\n",
       "    </tr>\n",
       "    <tr>\n",
       "      <th>6</th>\n",
       "      <td>4</td>\n",
       "      <td>7</td>\n",
       "      <td>orange</td>\n",
       "    </tr>\n",
       "    <tr>\n",
       "      <th>7</th>\n",
       "      <td>5</td>\n",
       "      <td>8</td>\n",
       "      <td>orange</td>\n",
       "    </tr>\n",
       "    <tr>\n",
       "      <th>8</th>\n",
       "      <td>6</td>\n",
       "      <td>7</td>\n",
       "      <td>orange</td>\n",
       "    </tr>\n",
       "    <tr>\n",
       "      <th>9</th>\n",
       "      <td>7</td>\n",
       "      <td>9</td>\n",
       "      <td>black</td>\n",
       "    </tr>\n",
       "    <tr>\n",
       "      <th>10</th>\n",
       "      <td>8</td>\n",
       "      <td>8</td>\n",
       "      <td>black</td>\n",
       "    </tr>\n",
       "    <tr>\n",
       "      <th>11</th>\n",
       "      <td>9</td>\n",
       "      <td>9</td>\n",
       "      <td>black</td>\n",
       "    </tr>\n",
       "  </tbody>\n",
       "</table>\n",
       "</div>"
      ],
      "text/plain": [
       "    a  b       c\n",
       "0   0  1     red\n",
       "1   1  2     red\n",
       "2   2  1     red\n",
       "3   3  3    blue\n",
       "4   4  2    blue\n",
       "5   5  3    blue\n",
       "6   4  7  orange\n",
       "7   5  8  orange\n",
       "8   6  7  orange\n",
       "9   7  9   black\n",
       "10  8  8   black\n",
       "11  9  9   black"
      ]
     },
     "execution_count": 4,
     "metadata": {},
     "output_type": "execute_result"
    }
   ],
   "source": [
    "df_example = pd.DataFrame([[0, 1, 'red'], [1, 2, 'red'], [2, 1, 'red'],\n",
    "                           [3, 3, 'blue'], [4, 2, 'blue'], [5, 3, 'blue'],\n",
    "                           [4, 7, 'orange'], [5, 8, 'orange'], [6, 7, 'orange'],\n",
    "                           [7, 9, 'black'], [8, 8, 'black'], [9, 9, 'black']],\n",
    "                        columns=['a', 'b', 'c'])\n",
    "df_example"
   ]
  },
  {
   "cell_type": "markdown",
   "metadata": {},
   "source": [
    "Here is a scatter plot of the example data set:"
   ]
  },
  {
   "cell_type": "code",
   "execution_count": 5,
   "metadata": {},
   "outputs": [
    {
     "data": {
      "image/png": "[encoded data removed]",
      "text/plain": [
       "<Figure size 720x360 with 1 Axes>"
      ]
     },
     "metadata": {},
     "output_type": "display_data"
    }
   ],
   "source": [
    "ax = df_example.plot(kind='scatter', x='a', y='b', s=50, c=df_example['c']);\n",
    "ax.set_title(\"Example data set\");"
   ]
  },
  {
   "cell_type": "markdown",
   "metadata": {},
   "source": [
    "#### Training and test data set\n",
    "\n",
    "For evaluating the predictive performance of a trained model we need a test set that is separate from the training set.\n",
    "For this purpose, we divide the whole data set into a _training set_ and a _test set_. The models are then fit using the _training set_ alone, and the predictions are evaluated using the *test set*.\n",
    "\n",
    "In the next code cell we use the built-in `sklearn` function `train_test_split()` to split the data in `df_example` into data frames `df_example_train` and `df_example_test`."
   ]
  },
  {
   "cell_type": "code",
   "execution_count": 6,
   "metadata": {},
   "outputs": [],
   "source": [
    "df_example_train, df_example_test = train_test_split(df_example, test_size=0.2, random_state=7)"
   ]
  },
  {
   "cell_type": "markdown",
   "metadata": {},
   "source": [
    "Here is a scatter plot of the training and test data sets:"
   ]
  },
  {
   "cell_type": "code",
   "execution_count": 7,
   "metadata": {},
   "outputs": [
    {
     "data": {
      "image/png": "[encoded data removed]",
      "text/plain": [
       "<Figure size 720x360 with 1 Axes>"
      ]
     },
     "metadata": {},
     "output_type": "display_data"
    }
   ],
   "source": [
    "ax = df_example_train.plot(kind='scatter', x='a', y='b', s=50, c='red')\n",
    "df_example_test.plot(kind='scatter', x='a', y='b', s=50, c='red', alpha=0.2, ax=ax)\n",
    "ax.legend([\"training set\", \"test set\"])\n",
    "ax.set_title(\"Example data set\");"
   ]
  },
  {
   "cell_type": "markdown",
   "metadata": {},
   "source": [
    "> **IMPORTANT:** We will use the *training set* for training the models, and the *test set* for testing."
   ]
  },
  {
   "cell_type": "markdown",
   "metadata": {},
   "source": [
    "### Auto MPG data set\n",
    "\n",
    "The **Auto MPG** data set (see the file `auto-mpg.csv`) explores the fuel efficiency of cars, measured in Miles Per Gallon (MPG):\n",
    "the higher this number, the more efficient the car. In the exercises we will use this data set to make predictions about the fuel efficiency of a car based on its other properties. \n",
    "\n",
    "Here is a summary of the columns:\n",
    "\n",
    "|Column  | Type | Description | \n",
    "|:-------|:----|:----|\n",
    "|mpg|          continuous| fuel efficiency in miles per gallon; higher value is more efficient|\n",
    "|cylinders|     multi-valued discrete| number of cylinders|\n",
    "|displacement|  continuous| volume of cylinders; in cubic inches|\n",
    "|horsepower|    continuous| engine power; in hp|\n",
    "|weight|        continuous| car mass; in lbs|\n",
    "|acceleration|  continuous| time to accelerate from 0 to 60 mph; in s|\n",
    "|year|    multi-valued discrete| last two digits of the model year|\n",
    "|origin|        multi-valued discrete| 1. American, 2. European, 3. Japanese|\n",
    "|name|      string| make and model; not unique|\n",
    "\n",
    "#### Training and test data set\n",
    "\n",
    "In the next code cell, we load the full data set into the data frame `df_mpg`. Next, we use the built-in `sklearn` function `train_test_split()` to split the data into data frames `df_mpg_train` and `df_mpg_test`.\n",
    "\n",
    "> **IMPORTANT:** We will use the former for training the models, and the latter for testing."
   ]
  },
  {
   "cell_type": "code",
   "execution_count": 8,
   "metadata": {},
   "outputs": [
    {
     "data": {
      "text/html": [
       "<div>\n",
       "<style scoped>\n",
       "    .dataframe tbody tr th:only-of-type {\n",
       "        vertical-align: middle;\n",
       "    }\n",
       "\n",
       "    .dataframe tbody tr th {\n",
       "        vertical-align: top;\n",
       "    }\n",
       "\n",
       "    .dataframe thead th {\n",
       "        text-align: right;\n",
       "    }\n",
       "</style>\n",
       "<table border=\"1\" class=\"dataframe\">\n",
       "  <thead>\n",
       "    <tr style=\"text-align: right;\">\n",
       "      <th></th>\n",
       "      <th>mpg</th>\n",
       "      <th>cylinders</th>\n",
       "      <th>displacement</th>\n",
       "      <th>horsepower</th>\n",
       "      <th>weight</th>\n",
       "      <th>acceleration</th>\n",
       "      <th>year</th>\n",
       "      <th>origin</th>\n",
       "      <th>name</th>\n",
       "    </tr>\n",
       "  </thead>\n",
       "  <tbody>\n",
       "    <tr>\n",
       "      <th>338</th>\n",
       "      <td>27.2</td>\n",
       "      <td>4</td>\n",
       "      <td>135.0</td>\n",
       "      <td>84.0</td>\n",
       "      <td>2490.0</td>\n",
       "      <td>15.7</td>\n",
       "      <td>81</td>\n",
       "      <td>American</td>\n",
       "      <td>plymouth reliant</td>\n",
       "    </tr>\n",
       "    <tr>\n",
       "      <th>173</th>\n",
       "      <td>24.0</td>\n",
       "      <td>4</td>\n",
       "      <td>119.0</td>\n",
       "      <td>97.0</td>\n",
       "      <td>2545.0</td>\n",
       "      <td>17.0</td>\n",
       "      <td>75</td>\n",
       "      <td>Japanese</td>\n",
       "      <td>datsun 710</td>\n",
       "    </tr>\n",
       "    <tr>\n",
       "      <th>331</th>\n",
       "      <td>33.8</td>\n",
       "      <td>4</td>\n",
       "      <td>97.0</td>\n",
       "      <td>67.0</td>\n",
       "      <td>2145.0</td>\n",
       "      <td>18.0</td>\n",
       "      <td>80</td>\n",
       "      <td>Japanese</td>\n",
       "      <td>subaru dl</td>\n",
       "    </tr>\n",
       "    <tr>\n",
       "      <th>53</th>\n",
       "      <td>31.0</td>\n",
       "      <td>4</td>\n",
       "      <td>71.0</td>\n",
       "      <td>65.0</td>\n",
       "      <td>1773.0</td>\n",
       "      <td>19.0</td>\n",
       "      <td>71</td>\n",
       "      <td>Japanese</td>\n",
       "      <td>toyota corolla 1200</td>\n",
       "    </tr>\n",
       "    <tr>\n",
       "      <th>351</th>\n",
       "      <td>34.4</td>\n",
       "      <td>4</td>\n",
       "      <td>98.0</td>\n",
       "      <td>65.0</td>\n",
       "      <td>2045.0</td>\n",
       "      <td>16.2</td>\n",
       "      <td>81</td>\n",
       "      <td>American</td>\n",
       "      <td>ford escort 4w</td>\n",
       "    </tr>\n",
       "  </tbody>\n",
       "</table>\n",
       "</div>"
      ],
      "text/plain": [
       "      mpg  cylinders  displacement  horsepower  weight  acceleration  year  \\\n",
       "338  27.2          4         135.0        84.0  2490.0          15.7    81   \n",
       "173  24.0          4         119.0        97.0  2545.0          17.0    75   \n",
       "331  33.8          4          97.0        67.0  2145.0          18.0    80   \n",
       "53   31.0          4          71.0        65.0  1773.0          19.0    71   \n",
       "351  34.4          4          98.0        65.0  2045.0          16.2    81   \n",
       "\n",
       "       origin                 name  \n",
       "338  American     plymouth reliant  \n",
       "173  Japanese           datsun 710  \n",
       "331  Japanese            subaru dl  \n",
       "53   Japanese  toyota corolla 1200  \n",
       "351  American       ford escort 4w  "
      ]
     },
     "execution_count": 8,
     "metadata": {},
     "output_type": "execute_result"
    }
   ],
   "source": [
    "df_mpg = pd.read_csv('datasets/auto-mpg.csv')\n",
    "df_mpg_train, df_mpg_test = train_test_split(df_mpg, test_size=0.2, random_state=7)\n",
    "\n",
    "# create a copy(), in case train_test_split() returns a view\n",
    "df_mpg_train = df_mpg_train.copy()\n",
    "df_mpg_test = df_mpg_test.copy()\n",
    "\n",
    "df_mpg_train.head()"
   ]
  },
  {
   "cell_type": "markdown",
   "metadata": {},
   "source": [
    "Consider the following columns:\n",
    "\n",
    "* mpg, cylinders, displacement, horsepower, weight, acceleration\n",
    "\n",
    "Which correlations do you expect?\n",
    "\n",
    "You can check your expectations against the following scatter plots."
   ]
  },
  {
   "cell_type": "code",
   "execution_count": 9,
   "metadata": {},
   "outputs": [
    {
     "data": {
      "image/png": "[encoded data removed]",
      "text/plain": [
       "<Figure size 720x720 with 36 Axes>"
      ]
     },
     "metadata": {},
     "output_type": "display_data"
    }
   ],
   "source": [
    "pd.plotting.scatter_matrix(df_mpg_train[['mpg', 'cylinders', 'displacement', 'horsepower', 'weight', 'acceleration']],\n",
    "                           diagonal='kde', figsize=(10, 10));"
   ]
  },
  {
   "cell_type": "markdown",
   "metadata": {},
   "source": [
    "### Wheat seeds data set\n",
    "\n",
    "The **wheat seeds** data set contains six geometrical measurements of 210 different seeds. Here is a summary of the columns:\n",
    "\n",
    "|Column  | Type | Description | \n",
    "|:-------|:----|:----|\n",
    "|area| continuous|area of the kernel in mm$^2$|\n",
    "|perimeter| continuous|perimeter of the kernel in mm|\n",
    "|kernel_length| continuous|length of the kernel in mm|\n",
    "|kernel_width| continuous|width of the kernel in mm|\n",
    "|asymmetry| continuous|asymmetry coefficient |\n",
    "|groove_length| continuous|length of the groove in the kernel in mm|\n",
    "\n",
    "We load the data into the data frame `df_seeds`."
   ]
  },
  {
   "cell_type": "code",
   "execution_count": 10,
   "metadata": {},
   "outputs": [
    {
     "data": {
      "text/html": [
       "<div>\n",
       "<style scoped>\n",
       "    .dataframe tbody tr th:only-of-type {\n",
       "        vertical-align: middle;\n",
       "    }\n",
       "\n",
       "    .dataframe tbody tr th {\n",
       "        vertical-align: top;\n",
       "    }\n",
       "\n",
       "    .dataframe thead th {\n",
       "        text-align: right;\n",
       "    }\n",
       "</style>\n",
       "<table border=\"1\" class=\"dataframe\">\n",
       "  <thead>\n",
       "    <tr style=\"text-align: right;\">\n",
       "      <th></th>\n",
       "      <th>area</th>\n",
       "      <th>perimeter</th>\n",
       "      <th>kernel_length</th>\n",
       "      <th>kernel_width</th>\n",
       "      <th>asymmetry</th>\n",
       "      <th>groove_length</th>\n",
       "    </tr>\n",
       "  </thead>\n",
       "  <tbody>\n",
       "    <tr>\n",
       "      <th>0</th>\n",
       "      <td>15.26</td>\n",
       "      <td>14.84</td>\n",
       "      <td>5.763</td>\n",
       "      <td>3.312</td>\n",
       "      <td>2.221</td>\n",
       "      <td>5.220</td>\n",
       "    </tr>\n",
       "    <tr>\n",
       "      <th>1</th>\n",
       "      <td>14.88</td>\n",
       "      <td>14.57</td>\n",
       "      <td>5.554</td>\n",
       "      <td>3.333</td>\n",
       "      <td>1.018</td>\n",
       "      <td>4.956</td>\n",
       "    </tr>\n",
       "    <tr>\n",
       "      <th>2</th>\n",
       "      <td>14.29</td>\n",
       "      <td>14.09</td>\n",
       "      <td>5.291</td>\n",
       "      <td>3.337</td>\n",
       "      <td>2.699</td>\n",
       "      <td>4.825</td>\n",
       "    </tr>\n",
       "    <tr>\n",
       "      <th>3</th>\n",
       "      <td>13.84</td>\n",
       "      <td>13.94</td>\n",
       "      <td>5.324</td>\n",
       "      <td>3.379</td>\n",
       "      <td>2.259</td>\n",
       "      <td>4.805</td>\n",
       "    </tr>\n",
       "    <tr>\n",
       "      <th>4</th>\n",
       "      <td>16.14</td>\n",
       "      <td>14.99</td>\n",
       "      <td>5.658</td>\n",
       "      <td>3.562</td>\n",
       "      <td>1.355</td>\n",
       "      <td>5.175</td>\n",
       "    </tr>\n",
       "  </tbody>\n",
       "</table>\n",
       "</div>"
      ],
      "text/plain": [
       "    area  perimeter  kernel_length  kernel_width  asymmetry  groove_length\n",
       "0  15.26      14.84          5.763         3.312      2.221          5.220\n",
       "1  14.88      14.57          5.554         3.333      1.018          4.956\n",
       "2  14.29      14.09          5.291         3.337      2.699          4.825\n",
       "3  13.84      13.94          5.324         3.379      2.259          4.805\n",
       "4  16.14      14.99          5.658         3.562      1.355          5.175"
      ]
     },
     "execution_count": 10,
     "metadata": {},
     "output_type": "execute_result"
    }
   ],
   "source": [
    "df_seeds = pd.read_csv('datasets/seeds.csv')\n",
    "df_seeds.head()"
   ]
  },
  {
   "cell_type": "markdown",
   "metadata": {},
   "source": [
    "# <span class=\"section\" id=\"linear_regression_simple\">1.</span> Linear Regression\n",
    "\n",
    "The goal of _linear regression_ is to come up with a _linear model_ that best fits the data.\n",
    "It is a _supervised learning_ method\n",
    "that seeks to 'explain' the dependent variable from the independent variables\n",
    "by a _linear model_.\n",
    "\n",
    "> **Note**:\n",
    "> The term _variable_ means something else in statistics than in programming.\n",
    "> A (statistical) variable is any characteristic,\n",
    "> number, or quantity that can be measured or counted.\n",
    "> Its value can vary from individual to individual in the population.\n",
    ">\n",
    "> In statistics, we distinguish _dependent_ variables (also referred to as output or response variables) and\n",
    "> _independent_ variables (also referred to as input or explanatory variables).\n",
    "> The value of _dependent_ variable is considered to be influenced by the\n",
    "> values of the _independent_ variables.\n",
    "\n",
    "In this lesson,\n",
    "we will use the **Ordinary Least Squares** (OLS) algorithm for linear regression. If you are interested in more details,\n",
    "then you can consult the SciKit Learn documentation:\n",
    "\n",
    "* [Ordinary Least Squares algorithm](http://scikit-learn.org/stable/modules/linear_model.html)\n",
    "* [the `sklearn.linear_model.LinearRegression` object](http://scikit-learn.org/stable/modules/generated/sklearn.linear_model.LinearRegression.html)\n",
    "\n",
    "In the case of our example data set,\n",
    "we see a tendency that larger values of `a` correspond to larger values of `b`,\n",
    "and vice versa. Can we quantify this relationship?"
   ]
  },
  {
   "cell_type": "markdown",
   "metadata": {},
   "source": [
    "### Step 1. Select the data\n",
    "\n",
    "We first need to identify in the data the dependent variable and the independent variables.\n",
    "\n",
    "In this example, we (fairly arbitrarily) _choose_ `a` to be the _independent_ variable\n",
    "and `b` the _dependent_ variable. In real-life applications, it is often more obvious how to make that distinction.\n",
    "\n",
    "We select the data for training and testing a linear regression model as follows:"
   ]
  },
  {
   "cell_type": "code",
   "execution_count": 11,
   "metadata": {},
   "outputs": [],
   "source": [
    "X_reg_train = df_example_train[['a']].copy()  # independent variable; just one column in this case\n",
    "y_reg_train = df_example_train[['b']].copy()  # dependent variable; just one column\n",
    "\n",
    "X_reg_test = df_example_test[['a']].copy()  # independent variable; just one column in this case\n",
    "y_reg_test = df_example_test[['b']].copy()  # dependent variable; just one column"
   ]
  },
  {
   "cell_type": "markdown",
   "metadata": {},
   "source": [
    "> **NOTE:** It is good practice to copy the data (as we have done above). That way, when you start to play around with the selected data (e.g., to add new independent variables), you will not accidentally modify the original data.\n",
    "\n",
    "> **NOTE:** `X_reg_train` and  `y_reg_train` should be data frames, even if they contain only one column (therefore the double square brackets in `df_example[['a']]`).\n",
    "\n",
    "> **NOTE:** In case of **multiple independent variables**, the `X_reg_train` data frame will contain several columns, one for each variable (e.g. `X_reg_train = df[['a', 'b', 'c']]`)."
   ]
  },
  {
   "cell_type": "markdown",
   "metadata": {},
   "source": [
    "### Step 2. Create the regression object\n",
    "\n",
    "Next, we create the _regression object_ for **linear regression**,\n",
    "and store it in the variable `reg`."
   ]
  },
  {
   "cell_type": "code",
   "execution_count": 12,
   "metadata": {},
   "outputs": [],
   "source": [
    "reg = LinearRegression()"
   ]
  },
  {
   "cell_type": "markdown",
   "metadata": {},
   "source": [
    "### Step 3. Fit the model\n",
    "\n",
    "To fit a linear model to the data, we invoke the **`fit(x, y)`** function of the regression object, with `x` being the training data for the independent variables and `y` being the training data for the dependent variables:"
   ]
  },
  {
   "cell_type": "code",
   "execution_count": 13,
   "metadata": {},
   "outputs": [
    {
     "data": {
      "text/plain": [
       "LinearRegression()"
      ]
     },
     "execution_count": 13,
     "metadata": {},
     "output_type": "execute_result"
    }
   ],
   "source": [
    "reg.fit(X_reg_train, y_reg_train)"
   ]
  },
  {
   "cell_type": "markdown",
   "metadata": {},
   "source": [
    "The regression object `reg` is now fitted to the given data, modeling the values in `y_reg_train` in terms of the values in `X_reg_train`."
   ]
  },
  {
   "cell_type": "markdown",
   "metadata": {},
   "source": [
    "### Step 4. Extract model parameters\n",
    "\n",
    "The regression object stores the model parameters that it fitted in the previous step. These parameters can be accessed via attributes of the regression object:\n",
    "\n",
    "* **`reg.intercept_`** : list containing a single *intercept*, that is, the constant term (additive offset)\n",
    "* **`reg.coef_`** : list of *coefficients*, one for each of the independent variables\n",
    "\n",
    "Recall that a linear model with $m$ independent variables can be written as\n",
    "\n",
    "$y = \\beta_0 + \\sum_{i = 1}^m \\beta_i x_i$\n",
    "\n",
    "where $\\beta_0$ and $\\beta_i$ are the fitted parameters, $y$ is the dependent variable and $x_i$ are the independent variables. The single element in `reg.intercept_` corresponds to the $\\beta_0$ parameter, and the elements in `reg.coef_` correspond to the parameters $\\beta_i$ for $1 \\leq i \\leq m$.\n",
    "\n",
    "For our example data, we get the following coefficient and intercept:"
   ]
  },
  {
   "cell_type": "code",
   "execution_count": 14,
   "metadata": {},
   "outputs": [
    {
     "data": {
      "text/plain": [
       "(array([0.60243056]), array([[0.96354167]]))"
      ]
     },
     "execution_count": 14,
     "metadata": {},
     "output_type": "execute_result"
    }
   ],
   "source": [
    "reg.intercept_, reg.coef_"
   ]
  },
  {
   "cell_type": "markdown",
   "metadata": {},
   "source": [
    "where $\\beta_0 = 0.60243056$ and $\\beta_1 = 0.96354167$."
   ]
  },
  {
   "cell_type": "markdown",
   "metadata": {},
   "source": [
    "### Step 5. Visualize the model\n",
    "\n",
    "In the case of a linear model where we have one independent variable and one dependent variable,\n",
    "we can visualize that model as a _line_ in the scatter plot.\n",
    "\n",
    "For higher dimensional linear models (with multiple independent variables), such a visualization is more complex and outside the scope of this lesson.\n",
    "\n",
    "Visualizing this line could be done on the basis of the extracted _coefficient_ and _intercept_. However, for the specific case of a single independent variable and a single dependent variable,\n",
    "Seaborn offers the function **`regplot()`** that produces a **scatter plot with regression line**."
   ]
  },
  {
   "cell_type": "code",
   "execution_count": 15,
   "metadata": {},
   "outputs": [
    {
     "name": "stderr",
     "output_type": "stream",
     "text": [
      "C:\\ProgramData\\Anaconda3\\lib\\site-packages\\seaborn\\_decorators.py:36: FutureWarning: Pass the following variables as keyword args: x, y. From version 0.12, the only valid positional argument will be `data`, and passing other arguments without an explicit keyword will result in an error or misinterpretation.\n",
      "  warnings.warn(\n"
     ]
    },
    {
     "data": {
      "image/png": "[encoded data removed]",
      "text/plain": [
       "<Figure size 720x360 with 1 Axes>"
      ]
     },
     "metadata": {},
     "output_type": "display_data"
    }
   ],
   "source": [
    "ax = sns.regplot(X_reg_train['a'], y_reg_train['b'], line_kws={'color':'orange'}, ci=None);\n",
    "ax.legend(['trained model', 'training data'])\n",
    "ax.set_title(\"Linear model predicting 'b' from 'a' in the example data set\");"
   ]
  },
  {
   "cell_type": "markdown",
   "metadata": {},
   "source": [
    "By providing the argument `line_kws={'color':'orange'}`, we set the color of the line to orange.\n",
    "\n",
    "We also provided the argument `ci = None`, to indicate that Seaborn should not draw a confidence interval (confidence intervals will be covered later in the course). \n",
    "\n",
    "> **NOTE:** `sns.regplot()` does not use the regression object. Rather, Seaborn just recomputes the parameters for the linear regression from the data."
   ]
  },
  {
   "cell_type": "markdown",
   "metadata": {},
   "source": [
    "### Step 6. Make predictions\n",
    "\n",
    "Once you have fitted a model to the training data set, you can use it to predict the dependent values for given independent values, also outside the training set. For that purpose, the regression object provides a function **`predict()`**.\n",
    "\n",
    "Let's use it in our example to predict the outcomes for all given `a` values.\n",
    "We store the predictions in a new column labeled `'b_predicted'`:"
   ]
  },
  {
   "cell_type": "code",
   "execution_count": 16,
   "metadata": {},
   "outputs": [
    {
     "data": {
      "text/html": [
       "<div>\n",
       "<style scoped>\n",
       "    .dataframe tbody tr th:only-of-type {\n",
       "        vertical-align: middle;\n",
       "    }\n",
       "\n",
       "    .dataframe tbody tr th {\n",
       "        vertical-align: top;\n",
       "    }\n",
       "\n",
       "    .dataframe thead th {\n",
       "        text-align: right;\n",
       "    }\n",
       "</style>\n",
       "<table border=\"1\" class=\"dataframe\">\n",
       "  <thead>\n",
       "    <tr style=\"text-align: right;\">\n",
       "      <th></th>\n",
       "      <th>b</th>\n",
       "      <th>b_predicted</th>\n",
       "    </tr>\n",
       "  </thead>\n",
       "  <tbody>\n",
       "    <tr>\n",
       "      <th>0</th>\n",
       "      <td>1</td>\n",
       "      <td>0.602431</td>\n",
       "    </tr>\n",
       "    <tr>\n",
       "      <th>1</th>\n",
       "      <td>2</td>\n",
       "      <td>1.565972</td>\n",
       "    </tr>\n",
       "    <tr>\n",
       "      <th>2</th>\n",
       "      <td>1</td>\n",
       "      <td>2.529514</td>\n",
       "    </tr>\n",
       "    <tr>\n",
       "      <th>3</th>\n",
       "      <td>3</td>\n",
       "      <td>3.493056</td>\n",
       "    </tr>\n",
       "    <tr>\n",
       "      <th>4</th>\n",
       "      <td>2</td>\n",
       "      <td>4.456597</td>\n",
       "    </tr>\n",
       "    <tr>\n",
       "      <th>5</th>\n",
       "      <td>3</td>\n",
       "      <td>5.420139</td>\n",
       "    </tr>\n",
       "    <tr>\n",
       "      <th>6</th>\n",
       "      <td>7</td>\n",
       "      <td>4.456597</td>\n",
       "    </tr>\n",
       "    <tr>\n",
       "      <th>7</th>\n",
       "      <td>8</td>\n",
       "      <td>5.420139</td>\n",
       "    </tr>\n",
       "    <tr>\n",
       "      <th>8</th>\n",
       "      <td>7</td>\n",
       "      <td>6.383681</td>\n",
       "    </tr>\n",
       "    <tr>\n",
       "      <th>9</th>\n",
       "      <td>9</td>\n",
       "      <td>7.347222</td>\n",
       "    </tr>\n",
       "    <tr>\n",
       "      <th>10</th>\n",
       "      <td>8</td>\n",
       "      <td>8.310764</td>\n",
       "    </tr>\n",
       "    <tr>\n",
       "      <th>11</th>\n",
       "      <td>9</td>\n",
       "      <td>9.274306</td>\n",
       "    </tr>\n",
       "  </tbody>\n",
       "</table>\n",
       "</div>"
      ],
      "text/plain": [
       "    b  b_predicted\n",
       "0   1     0.602431\n",
       "1   2     1.565972\n",
       "2   1     2.529514\n",
       "3   3     3.493056\n",
       "4   2     4.456597\n",
       "5   3     5.420139\n",
       "6   7     4.456597\n",
       "7   8     5.420139\n",
       "8   7     6.383681\n",
       "9   9     7.347222\n",
       "10  8     8.310764\n",
       "11  9     9.274306"
      ]
     },
     "execution_count": 16,
     "metadata": {},
     "output_type": "execute_result"
    }
   ],
   "source": [
    "df_example['b_predicted'] = reg.predict(df_example[['a']])\n",
    "df_example[['b', 'b_predicted']]"
   ]
  },
  {
   "cell_type": "markdown",
   "metadata": {},
   "source": [
    "> **NOTE**:\n",
    "> `reg.predict()` requires a two-dimensional structure as argument,\n",
    "> such as a `DataFrame`, and it also returns a two-dimensional result.\n",
    "\n",
    "If you want a prediction for a single independent value, then you need to _wrap_ that value in a `DataFrame`:"
   ]
  },
  {
   "cell_type": "code",
   "execution_count": 17,
   "metadata": {},
   "outputs": [
    {
     "data": {
      "text/plain": [
       "array([[4.93836806]])"
      ]
     },
     "execution_count": 17,
     "metadata": {},
     "output_type": "execute_result"
    }
   ],
   "source": [
    "reg.predict(pd.DataFrame([4.5]))"
   ]
  },
  {
   "cell_type": "markdown",
   "metadata": {},
   "source": [
    "To obtain the prediction as a single value,\n",
    "you can extract it from the result by *indexing*:"
   ]
  },
  {
   "cell_type": "code",
   "execution_count": 18,
   "metadata": {},
   "outputs": [
    {
     "data": {
      "text/plain": [
       "4.938368055555555"
      ]
     },
     "execution_count": 18,
     "metadata": {},
     "output_type": "execute_result"
    }
   ],
   "source": [
    "reg.predict(pd.DataFrame([4.5]))[0, 0]"
   ]
  },
  {
   "cell_type": "markdown",
   "metadata": {},
   "source": [
    "### Step 7. Assess the model's quality\n",
    "\n",
    "There are various ways to assess the quality of a trained model.\n",
    "\n",
    "#### Step 7a. Goodness of fit\n",
    "\n",
    "One way is to look at how well the model fits the **training set**. A common metric for *goodness of fit* is $R^2$, also known as the _coefficient of determination_.\n",
    "$R^2$ typically takes values between 0 and 1, with 1 indicating a perfect fit and 0 indicating a fit that is as good as the horizontal line through the mean value of the dependent variable. Note that $R^2$ can also take on negative values, when the model is a poorer fit than the horizontal line through the mean.\n",
    "\n",
    "$R^2$ can be computed as follows:"
   ]
  },
  {
   "cell_type": "code",
   "execution_count": 19,
   "metadata": {},
   "outputs": [
    {
     "data": {
      "text/plain": [
       "0.7285635217983651"
      ]
     },
     "execution_count": 19,
     "metadata": {},
     "output_type": "execute_result"
    }
   ],
   "source": [
    "reg.score(X_reg_train, y_reg_train)"
   ]
  },
  {
   "cell_type": "markdown",
   "metadata": {},
   "source": [
    "> **NOTE:** If you add more independent variables in the selected data,\n",
    "the value of $R^2$ stays the same or goes up (it never goes down).\n",
    "\n",
    "Another way to evaluate the goodness of fit is to use a **residual plot**, plotting the *residuals*. Residuals are computed by taking the difference between the dependent value and the predicted value:"
   ]
  },
  {
   "cell_type": "code",
   "execution_count": 20,
   "metadata": {},
   "outputs": [
    {
     "data": {
      "text/html": [
       "<div>\n",
       "<style scoped>\n",
       "    .dataframe tbody tr th:only-of-type {\n",
       "        vertical-align: middle;\n",
       "    }\n",
       "\n",
       "    .dataframe tbody tr th {\n",
       "        vertical-align: top;\n",
       "    }\n",
       "\n",
       "    .dataframe thead th {\n",
       "        text-align: right;\n",
       "    }\n",
       "</style>\n",
       "<table border=\"1\" class=\"dataframe\">\n",
       "  <thead>\n",
       "    <tr style=\"text-align: right;\">\n",
       "      <th></th>\n",
       "      <th>b</th>\n",
       "    </tr>\n",
       "  </thead>\n",
       "  <tbody>\n",
       "    <tr>\n",
       "      <th>5</th>\n",
       "      <td>-2.420139</td>\n",
       "    </tr>\n",
       "    <tr>\n",
       "      <th>0</th>\n",
       "      <td>0.397569</td>\n",
       "    </tr>\n",
       "    <tr>\n",
       "      <th>1</th>\n",
       "      <td>0.434028</td>\n",
       "    </tr>\n",
       "    <tr>\n",
       "      <th>11</th>\n",
       "      <td>-0.274306</td>\n",
       "    </tr>\n",
       "    <tr>\n",
       "      <th>8</th>\n",
       "      <td>0.616319</td>\n",
       "    </tr>\n",
       "    <tr>\n",
       "      <th>3</th>\n",
       "      <td>-0.493056</td>\n",
       "    </tr>\n",
       "    <tr>\n",
       "      <th>6</th>\n",
       "      <td>2.543403</td>\n",
       "    </tr>\n",
       "    <tr>\n",
       "      <th>9</th>\n",
       "      <td>1.652778</td>\n",
       "    </tr>\n",
       "    <tr>\n",
       "      <th>4</th>\n",
       "      <td>-2.456597</td>\n",
       "    </tr>\n",
       "  </tbody>\n",
       "</table>\n",
       "</div>"
      ],
      "text/plain": [
       "           b\n",
       "5  -2.420139\n",
       "0   0.397569\n",
       "1   0.434028\n",
       "11 -0.274306\n",
       "8   0.616319\n",
       "3  -0.493056\n",
       "6   2.543403\n",
       "9   1.652778\n",
       "4  -2.456597"
      ]
     },
     "execution_count": 20,
     "metadata": {},
     "output_type": "execute_result"
    }
   ],
   "source": [
    "residuals = y_reg_train - reg.predict(X_reg_train)\n",
    "residuals"
   ]
  },
  {
   "cell_type": "markdown",
   "metadata": {},
   "source": [
    "We can plot the residuals on the $y$ axis against an independent variable on the $x$ axis, to see if the model fits the independent variable well. A good fit is indicated by dots that are distributed randomly relative to the zero line:"
   ]
  },
  {
   "cell_type": "code",
   "execution_count": 21,
   "metadata": {},
   "outputs": [
    {
     "data": {
      "image/png": "[encoded data removed]",
      "text/plain": [
       "<Figure size 720x360 with 1 Axes>"
      ]
     },
     "metadata": {},
     "output_type": "display_data"
    }
   ],
   "source": [
    "plt.scatter(x=X_reg_train['a'], y=residuals, s=50)\n",
    "plt.axhline()\n",
    "plt.title(\"Residual plot for the linear model prediciting 'b' from 'a' in the example data set\")\n",
    "plt.xlabel('a')\n",
    "plt.ylabel('Residual');"
   ]
  },
  {
   "cell_type": "markdown",
   "metadata": {},
   "source": [
    "A structure in the residuals (e.g. a V-shape or a trend) would indicate that the independent variable contains information about the dependent variable and that this information is not included in the model."
   ]
  },
  {
   "cell_type": "markdown",
   "metadata": {},
   "source": [
    "#### Step 7b. Predictive performance\n",
    "\n",
    "We are often interested in how well a trained model generalizes, i.e. how well it will perform on data *outside of the training set*. We can try to measure how well a model generalizes by computing different metrics on a held out **test set**. One such metric is the *mean absolute error*, which is the average absolute difference between the *true* value and the *predicted* value. It can be computed using SciKit Learn function `mean_absolute_error()`:"
   ]
  },
  {
   "cell_type": "code",
   "execution_count": 22,
   "metadata": {},
   "outputs": [
    {
     "data": {
      "text/plain": [
       "1.4733796296296298"
      ]
     },
     "execution_count": 22,
     "metadata": {},
     "output_type": "execute_result"
    }
   ],
   "source": [
    "mean_absolute_error(y_reg_test, reg.predict(X_reg_test))"
   ]
  },
  {
   "cell_type": "markdown",
   "metadata": {},
   "source": [
    "where `y_reg_test` are the true values and `reg.predict(X_reg_test)` are the predicted values. This indicates that on average we can expect the prediction to be off by around 1.47."
   ]
  },
  {
   "cell_type": "markdown",
   "metadata": {},
   "source": [
    "## Exercises on linear regression\n",
    "\n",
    "Now apply this yourself to the Auto MPG data set."
   ]
  },
  {
   "cell_type": "markdown",
   "metadata": {},
   "source": [
    "### Exercise <span class=\"exercise\">1.a</span>: Fit a linear model for  `'mpg'`\n",
    "\n",
    "Fit a linear regression model for predicting the fuel efficiency of cars using the *training data set* `df_mpg_train`, with `'mpg'` as _dependent variable_ and\n",
    "`'weight'` as _independent variable_. Perform the following steps:\n",
    "\n",
    "**Step 1. Select the data**\n",
    "\n",
    "* Assign the training data for the independent variable to `X_mpg_train`,\n",
    "* Assign the training data for the dependent variable to `y_mpg_train`,\n",
    "* Assign the test data for the independent variable to `X_mpg_test`,\n",
    "* Assign the test data for the dependent variable to `y_mpg_test`,\n",
    "\n",
    "**Step 2. Create the regression object**\n",
    "\n",
    "* Assign the regression object to `reg_mpg`,\n",
    "\n",
    "**Step 3. Fit the regression model**\n",
    "\n",
    "**Step 4. Extract the regression parameters**\n",
    "\n",
    "* Assign the coefficient to `coef_mpg` (as an array), and\n",
    "* Assign the intercept to `intercept_mpg` (as an array)."
   ]
  },
  {
   "cell_type": "code",
   "execution_count": 23,
   "metadata": {},
   "outputs": [
    {
     "data": {
      "text/plain": [
       "(array([[-0.00783247]]), array([46.95104442]))"
      ]
     },
     "execution_count": 23,
     "metadata": {},
     "output_type": "execute_result"
    }
   ],
   "source": [
    "#// BEGIN_TODO [DMM_1a] Linear regression (4 points)\n",
    "\n",
    "X_mpg_train = df_mpg_train[['weight']].copy()\n",
    "y_mpg_train = df_mpg_train[['mpg']].copy() \n",
    "X_mpg_test = df_mpg_test[['weight']].copy()\n",
    "y_mpg_test = df_mpg_test[['mpg']].copy() \n",
    "\n",
    "reg_mpg = LinearRegression() \n",
    "\n",
    "reg_mpg.fit(X_mpg_train, y_mpg_train) \n",
    "coef_mpg = reg_mpg.coef_ \n",
    "intercept_mpg = reg_mpg.intercept_ \n",
    "\n",
    "#// END_TODO [DMM_1a]\n",
    "\n",
    "coef_mpg, intercept_mpg"
   ]
  },
  {
   "cell_type": "markdown",
   "metadata": {},
   "source": [
    "### Exercise <span class=\"exercise\">1.b</span>: Visualize the model\n",
    "\n",
    "Create a scatter plot with regression line for the linear model.  \n",
    "\n",
    "<span class=\"t\">Hint<span class=\"c\">:</span></span>\n",
    "<span class=\"h\">\n",
    "Use `sns.regplot()`.\n",
    "</span>"
   ]
  },
  {
   "cell_type": "code",
   "execution_count": 24,
   "metadata": {},
   "outputs": [
    {
     "name": "stderr",
     "output_type": "stream",
     "text": [
      "C:\\ProgramData\\Anaconda3\\lib\\site-packages\\seaborn\\_decorators.py:36: FutureWarning: Pass the following variables as keyword args: x, y. From version 0.12, the only valid positional argument will be `data`, and passing other arguments without an explicit keyword will result in an error or misinterpretation.\n",
      "  warnings.warn(\n"
     ]
    },
    {
     "data": {
      "image/png": "[encoded data removed]",
      "text/plain": [
       "<Figure size 720x360 with 1 Axes>"
      ]
     },
     "metadata": {},
     "output_type": "display_data"
    }
   ],
   "source": [
    "#// BEGIN_TODO [DMM_1b] Scatter plot with regression line (2 points)\n",
    "\n",
    "sns.regplot(X_mpg_train['weight'], y_mpg_train['mpg'], line_kws={'color':'orange'}, ci=None);\n",
    "\n",
    "#// END_TODO [DMM_1b]"
   ]
  },
  {
   "cell_type": "markdown",
   "metadata": {},
   "source": [
    "### Exercise <span class=\"exercise\">1.c</span>: Interpret the model\n",
    "\n",
    "Does the fitted model suggest that a _higher_ weight corresponds to a _higher_ number of miles per gallon? Assign your (boolean) answer to `higher_weight_higher_mpg`."
   ]
  },
  {
   "cell_type": "code",
   "execution_count": 25,
   "metadata": {},
   "outputs": [
    {
     "data": {
      "text/plain": [
       "False"
      ]
     },
     "execution_count": 25,
     "metadata": {},
     "output_type": "execute_result"
    }
   ],
   "source": [
    "#// BEGIN_TODO [DMM_1c] Linear regression (1 point)\n",
    "\n",
    "higher_weight_higher_mpg = False\n",
    "\n",
    "#// END_TODO [DMM_1c]\n",
    "\n",
    "higher_weight_higher_mpg"
   ]
  },
  {
   "cell_type": "markdown",
   "metadata": {},
   "source": [
    "### Exercise <span class=\"exercise\" id=\"model_score_mpg_weight\">1.d</span>: Assess the goodness of fit\n",
    "\n",
    "How well does the model fit the training data, i.e. what is the coefficient of determination $R^2$?\n",
    "Assign your (numeric) answer to `R2_mpg`."
   ]
  },
  {
   "cell_type": "code",
   "execution_count": 26,
   "metadata": {},
   "outputs": [
    {
     "data": {
      "text/plain": [
       "0.7080014802279737"
      ]
     },
     "execution_count": 26,
     "metadata": {},
     "output_type": "execute_result"
    }
   ],
   "source": [
    "#// BEGIN_TODO [DMM_1d] R squared (2 points)\n",
    "\n",
    "R2_mpg = reg_mpg.score(X_mpg_train, y_mpg_train)\n",
    "\n",
    "#// END_TODO [DMM_1d]\n",
    "\n",
    "R2_mpg"
   ]
  },
  {
   "cell_type": "markdown",
   "metadata": {},
   "source": [
    "### Residual plot\n",
    "\n",
    "We can use a residual plot to see if there is any structure in the residuals, indicating that the training data can be modeled more accurately with a different model:"
   ]
  },
  {
   "cell_type": "code",
   "execution_count": 27,
   "metadata": {},
   "outputs": [
    {
     "data": {
      "image/png": "[encoded data removed]",
      "text/plain": [
       "<Figure size 720x360 with 1 Axes>"
      ]
     },
     "metadata": {},
     "output_type": "display_data"
    }
   ],
   "source": [
    "plt.scatter(x = X_mpg_train['weight'], y = (y_mpg_train - reg_mpg.predict(X_mpg_train)), s=50)\n",
    "plt.axhline()\n",
    "plt.title(\"Residual plot for the linear model prediciting 'mpg' from 'weight'\")\n",
    "plt.xlabel('Weight')\n",
    "plt.ylabel('Residual');"
   ]
  },
  {
   "cell_type": "markdown",
   "metadata": {},
   "source": [
    "We can see that the residuals are not distributed randomly relative to the zero line (e.g. the variance of the residuals increases for lower `'weight'` values), suggesting that a more complex model in terms of `'weight'` may result in a better fit."
   ]
  },
  {
   "cell_type": "markdown",
   "metadata": {},
   "source": [
    "### Exercise <span class=\"exercise\">1.e</span>: Fit a linear model with a quadratic term\n",
    "\n",
    "When we look at the initial plot of `mpg` versus `weight`,\n",
    "it does not look linear, but curved.\n",
    "This suggests to include higher-order terms,\n",
    "such as the square of `weight`. In this exercise, we will try to find coefficients $a$, $b$ and $c$ such that\n",
    "\n",
    "  `mpg` $\\approx a$ `weight`$^2$ + $b$ `weight` + $c$\n",
    "\n",
    "To this end, create a new data frame named `X_mpg_qt_train` containing the `'weight'` column of `df_mpg_train`. Then add a column `'weight^2'` holding the values for `weight`$^2$ (i.e. `weight` squared).\n",
    "\n",
    "Next, fit a linear regression model with `mpg` as dependent variable,\n",
    "and both `weight` and `weight`$^2$ as independent variables.\n",
    "\n",
    "Assign\n",
    "\n",
    "* the data for the independent variable (a data frame with the `'weight'` and `'weight^2'` columns) to `X_mpg_qt_train`,\n",
    "* the regression object to `reg_mpg_qt`,\n",
    "* the coefficients to `coef_mpg_qt` (as an array),\n",
    "* the intercept to `intercept_mpg_qt` (as an array),\n",
    "* $R^2$ (for the training set `X_mpg_qt_train`) to `R2_mpg_qt`.\n",
    "\n",
    "<span class=\"t\">Hint<span class=\"c\">:</span></span>\n",
    "<span class=\"h\">\n",
    "You can reuse the `y_mpg_train` created earlier as the dependent variable for fitting the model.\n",
    "</span>"
   ]
  },
  {
   "cell_type": "code",
   "execution_count": 28,
   "metadata": {},
   "outputs": [
    {
     "data": {
      "text/plain": [
       "(array([[-2.03771397e-02,  1.95324882e-06]]),\n",
       " array([65.55748333]),\n",
       " 0.7383397890274058)"
      ]
     },
     "execution_count": 28,
     "metadata": {},
     "output_type": "execute_result"
    }
   ],
   "source": [
    "#// BEGIN_TODO [DMM_1e] Model with quadratic term explaining mpg from weight (5 points)\n",
    "\n",
    "df_mpg_train['weight^2'] = df_mpg_train[['weight']] ** 2\n",
    "X_mpg_qt_train = df_mpg_train[['weight', 'weight^2']].copy() \n",
    "y_mpg_qt_train = df_mpg_train[['mpg']].copy() \n",
    "\n",
    "reg_mpg_qt = LinearRegression() \n",
    "\n",
    "reg_mpg_qt.fit(X_mpg_qt_train, y_mpg_qt_train)\n",
    "\n",
    "coef_mpg_qt = reg_mpg_qt.coef_ \n",
    "intercept_mpg_qt = reg_mpg_qt.intercept_ \n",
    "\n",
    "R2_mpg_qt = reg_mpg_qt.score(X_mpg_qt_train, y_mpg_qt_train)\n",
    "\n",
    "#// END_TODO [DMM_1e]\n",
    "\n",
    "coef_mpg_qt, intercept_mpg_qt, R2_mpg_qt"
   ]
  },
  {
   "cell_type": "markdown",
   "metadata": {},
   "source": [
    "### Exercise <span class=\"exercise\">1.f</span>: Extract model parameters\n",
    "\n",
    "From the linear regression we can extract coefficients $a$, $b$ and $c$ such that\n",
    "\n",
    "`mpg` $\\approx a$ `weight`${}^2$ + $b$ `weight` + $c$\n",
    "\n",
    "Assign those values of $a$, $b$ and $c$ to the Python variables `a`, `b` and `c`. Use the equation to compute the predicted `mpg` when the `weight` is $4000$ lbs and assign it to `y_mpg_4000`.\n",
    "\n",
    "<span class=\"t\">Hint<span class=\"c\">:</span></span>\n",
    "<span class=\"h\">\n",
    "The coefficients are in the same order as the columns of the fitted data frame with independent variables, in this case `X_mpg_qt_train`.\n",
    "</span>"
   ]
  },
  {
   "cell_type": "code",
   "execution_count": 29,
   "metadata": {},
   "outputs": [
    {
     "data": {
      "text/plain": [
       "(1.953248819643505e-06,\n",
       " -0.02037713966197384,\n",
       " array([65.55748333]),\n",
       " array([15.30090579]))"
      ]
     },
     "execution_count": 29,
     "metadata": {},
     "output_type": "execute_result"
    }
   ],
   "source": [
    "#// BEGIN_TODO [DMM_1f] Extract model parameters for the quadratic model (2 points)\n",
    "\n",
    "a = coef_mpg_qt[0][1]\n",
    "b = coef_mpg_qt[0][0]\n",
    "c = intercept_mpg_qt\n",
    "\n",
    "weight = 4000\n",
    "y_mpg_4000 = a * weight**2 + b*weight + c\n",
    "\n",
    "#// END_TODO [DMM_1f]\n",
    "\n",
    "a, b, c, y_mpg_4000"
   ]
  },
  {
   "cell_type": "markdown",
   "metadata": {},
   "source": [
    "### Exercise <span class=\"exercise\">1.g</span>: Visualize the model with a quadratic term\n",
    "\n",
    "Create a scatter plot with regression line for this quadratic model (use `sns.regplot()` with argument `order=2` for a linear model with a quadratic term). Add the test data to the plot in a different color.\n",
    "\n",
    "<span class=\"t\">Hint<span class=\"c\">:</span></span>\n",
    "<span class=\"h\">\n",
    "Use `X_mpg_train` as independent variable. Revisit superimposing plots in VIS exercises for adding the test data.\n",
    "</span>"
   ]
  },
  {
   "cell_type": "code",
   "execution_count": 30,
   "metadata": {},
   "outputs": [
    {
     "name": "stderr",
     "output_type": "stream",
     "text": [
      "C:\\ProgramData\\Anaconda3\\lib\\site-packages\\seaborn\\_decorators.py:36: FutureWarning: Pass the following variables as keyword args: x, y. From version 0.12, the only valid positional argument will be `data`, and passing other arguments without an explicit keyword will result in an error or misinterpretation.\n",
      "  warnings.warn(\n"
     ]
    },
    {
     "data": {
      "image/png": "[encoded data removed]",
      "text/plain": [
       "<Figure size 720x360 with 1 Axes>"
      ]
     },
     "metadata": {},
     "output_type": "display_data"
    }
   ],
   "source": [
    "#// BEGIN_TODO [DMM_1g] Scatter plot and quadratic model (2 points)\n",
    "\n",
    "ax1 = sns.regplot(X_mpg_qt_train[['weight^2']], y_mpg_train['mpg'], line_kws={'color':'orange'}, ci=None, order = 2);\n",
    "\n",
    "df_mpg_test.plot(kind = 'scatter', x = 'weight', y = 'mpg', s=50, c='red', ax = ax1);\n",
    "\n",
    "#// END_TODO [DMM_1g]"
   ]
  },
  {
   "cell_type": "markdown",
   "metadata": {},
   "source": [
    "### Exercise <span class=\"exercise\">1.h</span>: Did the goodness of fit improve?\n",
    "\n",
    "Is the value of $R^2$ for new model better than in <span class=\"reference\" ref=\"model_score_mpg_weight\"><a href=\"#model_score_mpg_weight\">Exercise 1.d</a></span>? Assign your boolean answer to `R2_improved_for_qt`."
   ]
  },
  {
   "cell_type": "code",
   "execution_count": 31,
   "metadata": {},
   "outputs": [
    {
     "data": {
      "text/plain": [
       "True"
      ]
     },
     "execution_count": 31,
     "metadata": {},
     "output_type": "execute_result"
    }
   ],
   "source": [
    "#// BEGIN_TODO [DMM_1h] Is this better than the linear model from 1.a? (1 point)\n",
    "\n",
    "R2_improved_for_qt = True\n",
    "\n",
    "#// END_TODO [DMM_1h]\n",
    "\n",
    "R2_improved_for_qt"
   ]
  },
  {
   "attachments": {
    "mpg100.png": {
     "image/png": "[encoded data removed]"
    }
   },
   "cell_type": "markdown",
   "metadata": {},
   "source": [
    "> **WARNING**: In fact, if you add more independent variables, the value of $R^2$ will _always_ increase. \n",
    "> This does not necessarily mean that the model gets better. If you add too many variables, the model will **overfit**, i.e. although predictions for data the model has seen are good, predictions on new data will be poor.\n",
    ">\n",
    "> Below is an example of fitting a high-order polynomial. It is a plot of a linear regression model explaining `mpg` from `weight` of order 100. Note that the predictions of mpg for previously unseen weights (e.g. between 4500 and 5500 lbs) will be poor.\n",
    "> ![mpg100.png](attachment:mpg100.png)"
   ]
  },
  {
   "cell_type": "markdown",
   "metadata": {},
   "source": [
    "### Exercise <span class=\"exercise\">1.i</span>: Make predictions\n",
    "\n",
    "Predict the fuel efficiency (in mpg) of the cars in the test set.\n",
    "To this end, create a new data frame `X_mpg_qt_test` containing the `'weight'` column of `df_mpg_test`. Then add a column `'weight^2'` holding the values for `weight`$^2$ (i.e. `weight` squared).\n",
    "\n",
    "Assign your answer as a new column labeled `'predicted_mpg'` to the data frame `df_mpg_test`. \n",
    "\n",
    "<span class=\"t\">Hint<span class=\"c\">:</span></span>\n",
    "<span class=\"h\">\n",
    "Use `reg_mpg_qt.predict()`.\n",
    "</span>"
   ]
  },
  {
   "cell_type": "code",
   "execution_count": 32,
   "metadata": {},
   "outputs": [
    {
     "name": "stderr",
     "output_type": "stream",
     "text": [
      "<ipython-input-32-f185ccb918ce>:4: SettingWithCopyWarning: \n",
      "A value is trying to be set on a copy of a slice from a DataFrame.\n",
      "Try using .loc[row_indexer,col_indexer] = value instead\n",
      "\n",
      "See the caveats in the documentation: https://pandas.pydata.org/pandas-docs/stable/user_guide/indexing.html#returning-a-view-versus-a-copy\n",
      "  X_mpg_qt_test['weight^2'] = X_mpg_qt_test['weight']**2\n"
     ]
    },
    {
     "data": {
      "text/html": [
       "<div>\n",
       "<style scoped>\n",
       "    .dataframe tbody tr th:only-of-type {\n",
       "        vertical-align: middle;\n",
       "    }\n",
       "\n",
       "    .dataframe tbody tr th {\n",
       "        vertical-align: top;\n",
       "    }\n",
       "\n",
       "    .dataframe thead th {\n",
       "        text-align: right;\n",
       "    }\n",
       "</style>\n",
       "<table border=\"1\" class=\"dataframe\">\n",
       "  <thead>\n",
       "    <tr style=\"text-align: right;\">\n",
       "      <th></th>\n",
       "      <th>mpg</th>\n",
       "      <th>cylinders</th>\n",
       "      <th>displacement</th>\n",
       "      <th>horsepower</th>\n",
       "      <th>weight</th>\n",
       "      <th>acceleration</th>\n",
       "      <th>year</th>\n",
       "      <th>origin</th>\n",
       "      <th>name</th>\n",
       "      <th>predicted_mpg</th>\n",
       "    </tr>\n",
       "  </thead>\n",
       "  <tbody>\n",
       "    <tr>\n",
       "      <th>148</th>\n",
       "      <td>26.0</td>\n",
       "      <td>4</td>\n",
       "      <td>116.0</td>\n",
       "      <td>75.0</td>\n",
       "      <td>2246.0</td>\n",
       "      <td>14.0</td>\n",
       "      <td>74</td>\n",
       "      <td>European</td>\n",
       "      <td>fiat 124 tc</td>\n",
       "      <td>29.643623</td>\n",
       "    </tr>\n",
       "    <tr>\n",
       "      <th>389</th>\n",
       "      <td>22.0</td>\n",
       "      <td>6</td>\n",
       "      <td>232.0</td>\n",
       "      <td>112.0</td>\n",
       "      <td>2835.0</td>\n",
       "      <td>14.7</td>\n",
       "      <td>82</td>\n",
       "      <td>American</td>\n",
       "      <td>ford granada l</td>\n",
       "      <td>23.486993</td>\n",
       "    </tr>\n",
       "    <tr>\n",
       "      <th>350</th>\n",
       "      <td>34.7</td>\n",
       "      <td>4</td>\n",
       "      <td>105.0</td>\n",
       "      <td>63.0</td>\n",
       "      <td>2215.0</td>\n",
       "      <td>14.9</td>\n",
       "      <td>81</td>\n",
       "      <td>American</td>\n",
       "      <td>plymouth horizon 4</td>\n",
       "      <td>30.005197</td>\n",
       "    </tr>\n",
       "    <tr>\n",
       "      <th>52</th>\n",
       "      <td>30.0</td>\n",
       "      <td>4</td>\n",
       "      <td>88.0</td>\n",
       "      <td>76.0</td>\n",
       "      <td>2065.0</td>\n",
       "      <td>14.5</td>\n",
       "      <td>71</td>\n",
       "      <td>European</td>\n",
       "      <td>fiat 124b</td>\n",
       "      <td>31.807782</td>\n",
       "    </tr>\n",
       "    <tr>\n",
       "      <th>332</th>\n",
       "      <td>29.8</td>\n",
       "      <td>4</td>\n",
       "      <td>89.0</td>\n",
       "      <td>62.0</td>\n",
       "      <td>1845.0</td>\n",
       "      <td>15.3</td>\n",
       "      <td>80</td>\n",
       "      <td>European</td>\n",
       "      <td>vokswagen rabbit</td>\n",
       "      <td>34.610568</td>\n",
       "    </tr>\n",
       "  </tbody>\n",
       "</table>\n",
       "</div>"
      ],
      "text/plain": [
       "      mpg  cylinders  displacement  horsepower  weight  acceleration  year  \\\n",
       "148  26.0          4         116.0        75.0  2246.0          14.0    74   \n",
       "389  22.0          6         232.0       112.0  2835.0          14.7    82   \n",
       "350  34.7          4         105.0        63.0  2215.0          14.9    81   \n",
       "52   30.0          4          88.0        76.0  2065.0          14.5    71   \n",
       "332  29.8          4          89.0        62.0  1845.0          15.3    80   \n",
       "\n",
       "       origin                name  predicted_mpg  \n",
       "148  European         fiat 124 tc      29.643623  \n",
       "389  American      ford granada l      23.486993  \n",
       "350  American  plymouth horizon 4      30.005197  \n",
       "52   European           fiat 124b      31.807782  \n",
       "332  European    vokswagen rabbit      34.610568  "
      ]
     },
     "execution_count": 32,
     "metadata": {},
     "output_type": "execute_result"
    }
   ],
   "source": [
    "#// BEGIN_TODO [DMM_1i] Predict fuel efficiency (2 points)\n",
    "\n",
    "X_mpg_qt_test = df_mpg_test[['weight']]\n",
    "X_mpg_qt_test['weight^2'] = X_mpg_qt_test['weight']**2\n",
    "\n",
    "df_mpg_test['predicted_mpg'] = reg_mpg_qt.predict(X_mpg_qt_test)\n",
    "\n",
    "#// END_TODO [DMM_1i]\n",
    "\n",
    "df_mpg_test.head()\n"
   ]
  },
  {
   "cell_type": "markdown",
   "metadata": {},
   "source": [
    "### Exercise <span class=\"exercise\">1.j</span>: Assess the predictive performance\n",
    "\n",
    "Let us see how good the predictions really are. Evaluate the mean absolute error on the **_test set_** and assign its value to the variable `MAE_mpg_qt`. \n",
    "\n",
    "<span class=\"t\">Hint<span class=\"c\">:</span></span>\n",
    "<span class=\"h\">\n",
    "You can reuse `y_mpg_test` for the true values.\n",
    "</span>"
   ]
  },
  {
   "cell_type": "code",
   "execution_count": 33,
   "metadata": {},
   "outputs": [
    {
     "data": {
      "text/plain": [
       "3.1336018423523426"
      ]
     },
     "execution_count": 33,
     "metadata": {},
     "output_type": "execute_result"
    }
   ],
   "source": [
    "#// BEGIN_TODO [DMM_1j] Prediction accuracy (1 points)\n",
    "\n",
    "MAE_mpg_qt = mean_absolute_error(y_mpg_test, reg_mpg.predict(X_mpg_test))\n",
    "\n",
    "#// END_TODO [DMM_1j]\n",
    "\n",
    "MAE_mpg_qt"
   ]
  },
  {
   "cell_type": "markdown",
   "metadata": {},
   "source": [
    "# <span class=\"section\">2.</span> Decision Tree Mining\n",
    "\n",
    "The goal of _decision tree mining_ is to come up with a _decision tree_ that best fits the data. It is a _supervised learning_ method that seeks to predict a dependent variable from independent variables, where\n",
    "\n",
    "* each decision is based on the value of one variable,\n",
    "* the tree has a minimal depth\n",
    "  (each decision is most informative).\n",
    "\n",
    "In this lesson, we will use (an optimized version of) the **CART** algorithm\n",
    "for decision tree mining. It can be started with a bound on the tree depth.\n",
    "\n",
    "> **Note**: the decision tree implementation in sklearn is non-deterministic, i.e. it contains a random component. Consequently, the fitted model may differ each time you call the fitting function. You can see it by executing multiple times the cells with the code fitting the tree and extracting the model parameters.\n",
    "\n",
    "If you are interested in more details, you can consult the documentation at SciKit Learn:\n",
    "\n",
    "* [Decision Trees](http://scikit-learn.org/stable/modules/tree.html)\n",
    "* [the `sklearn.tree.DecisionTreeClassifier` decision-tree object](http://scikit-learn.org/stable/modules/generated/sklearn.tree.DecisionTreeClassifier.html)"
   ]
  },
  {
   "cell_type": "markdown",
   "metadata": {},
   "source": [
    "### Step 1. Select the data\n",
    "\n",
    "We illustrate how to train a decision tree classifier, by using the data frame `df_example`. The following scatter plot visualizes the training set, using the dependent variable `'c'` to color the dots: "
   ]
  },
  {
   "cell_type": "code",
   "execution_count": 34,
   "metadata": {},
   "outputs": [
    {
     "data": {
      "image/png": "[encoded data removed]",
      "text/plain": [
       "<Figure size 720x360 with 1 Axes>"
      ]
     },
     "metadata": {},
     "output_type": "display_data"
    }
   ],
   "source": [
    "ax = df_example_train.plot(kind='scatter', x='a', y='b', s=50, c=df_example_train['c'])\n",
    "ax.set_xlim(0, 10);\n",
    "ax.set_title(\"Training subset of the example data set\");"
   ]
  },
  {
   "cell_type": "markdown",
   "metadata": {},
   "source": [
    "We choose `'a'` and `'b'` to be the *independent* variables and `'c'` to be the *dependent* variable:"
   ]
  },
  {
   "cell_type": "code",
   "execution_count": 35,
   "metadata": {},
   "outputs": [],
   "source": [
    "X_dtc_train = df_example_train[['a', 'b']].copy()\n",
    "y_dtc_train = df_example_train['c'].copy()\n",
    "\n",
    "X_dtc_test = df_example_test[['a', 'b']].copy()\n",
    "y_dtc_test = df_example_test['c'].copy()"
   ]
  },
  {
   "cell_type": "markdown",
   "metadata": {},
   "source": [
    "### Step 2. Create the decision-tree classifier\n",
    "\n",
    "Next, we create the _decision-tree object_ for **decision tree mining**,\n",
    "and store it in the variable `dtc`.\n",
    "We supply an upper bound on the tree depth as argument."
   ]
  },
  {
   "cell_type": "code",
   "execution_count": 36,
   "metadata": {},
   "outputs": [],
   "source": [
    "dtc = DecisionTreeClassifier(max_depth=3)"
   ]
  },
  {
   "cell_type": "markdown",
   "metadata": {},
   "source": [
    "If you do not supply an upper bound,\n",
    "then the decision tree will grow as far as is 'necessary' to get the best result.\n",
    "\n",
    "A larger tree is not necessarily better. Large trees may **overfit**: produce good results on training data but poor results on test data."
   ]
  },
  {
   "cell_type": "markdown",
   "metadata": {},
   "source": [
    "### Step 3. Do the fitting\n",
    "\n",
    "Invoke the **`fit()`** function of the decision-tree object,\n",
    "supplying the selected data:"
   ]
  },
  {
   "cell_type": "code",
   "execution_count": 37,
   "metadata": {},
   "outputs": [
    {
     "data": {
      "text/plain": [
       "DecisionTreeClassifier(max_depth=3)"
      ]
     },
     "execution_count": 37,
     "metadata": {},
     "output_type": "execute_result"
    }
   ],
   "source": [
    "dtc.fit(X_dtc_train, y_dtc_train)"
   ]
  },
  {
   "cell_type": "markdown",
   "metadata": {},
   "source": [
    "### Step 4. Extract model parameters\n",
    "\n",
    "In case of decision tree mining,\n",
    "the relevant attributes of the decision-tree classifier `dtc` are:\n",
    "\n",
    "* **`dtc.tree_`** : the _mined decision tree_\n",
    "  * **`dtc.tree_.node_count`** : the _number of nodes_ in the tree\n",
    "  * **`dtc.tree_.max_depth`** : the _depth_ of the tree, that is, the maximum distance from the root to any leaf\n",
    "* **`dtc.feature_importances_ `** : the _relative importance_ of each independent variable\n",
    "* **`dtc.classes_`** : the _inferred dependent values_ for the dependent variable(s)  \n",
    "\n",
    "It is convenient\n",
    "\n",
    "* to visualize the tree (see Step 5)\n",
    "\n",
    "* to convert the feature importances to a data frame\n",
    "    with the same column labels as the original data"
   ]
  },
  {
   "cell_type": "code",
   "execution_count": 38,
   "metadata": {},
   "outputs": [
    {
     "data": {
      "text/plain": [
       "(7, 2)"
      ]
     },
     "execution_count": 38,
     "metadata": {},
     "output_type": "execute_result"
    }
   ],
   "source": [
    "dtc.tree_.node_count, dtc.tree_.max_depth"
   ]
  },
  {
   "cell_type": "code",
   "execution_count": 39,
   "metadata": {},
   "outputs": [
    {
     "data": {
      "text/html": [
       "<div>\n",
       "<style scoped>\n",
       "    .dataframe tbody tr th:only-of-type {\n",
       "        vertical-align: middle;\n",
       "    }\n",
       "\n",
       "    .dataframe tbody tr th {\n",
       "        vertical-align: top;\n",
       "    }\n",
       "\n",
       "    .dataframe thead th {\n",
       "        text-align: right;\n",
       "    }\n",
       "</style>\n",
       "<table border=\"1\" class=\"dataframe\">\n",
       "  <thead>\n",
       "    <tr style=\"text-align: right;\">\n",
       "      <th></th>\n",
       "      <th>a</th>\n",
       "      <th>b</th>\n",
       "    </tr>\n",
       "  </thead>\n",
       "  <tbody>\n",
       "    <tr>\n",
       "      <th>0</th>\n",
       "      <td>0.36</td>\n",
       "      <td>0.64</td>\n",
       "    </tr>\n",
       "  </tbody>\n",
       "</table>\n",
       "</div>"
      ],
      "text/plain": [
       "      a     b\n",
       "0  0.36  0.64"
      ]
     },
     "execution_count": 39,
     "metadata": {},
     "output_type": "execute_result"
    }
   ],
   "source": [
    "feature_importances = pd.DataFrame([dtc.feature_importances_], columns=X_dtc_train.columns)\n",
    "feature_importances"
   ]
  },
  {
   "cell_type": "code",
   "execution_count": 40,
   "metadata": {},
   "outputs": [
    {
     "data": {
      "text/plain": [
       "array(['black', 'blue', 'orange', 'red'], dtype=object)"
      ]
     },
     "execution_count": 40,
     "metadata": {},
     "output_type": "execute_result"
    }
   ],
   "source": [
    "dtc.classes_"
   ]
  },
  {
   "attachments": {
    "example-decision-tree.png": {
     "image/png": "[encoded data removed]"
    }
   },
   "cell_type": "markdown",
   "metadata": {},
   "source": [
    "### Step 5. Visualize the model\n",
    "\n",
    "Unfortunately,\n",
    "creating a _graphical representation_ of a decision tree\n",
    "(as shown in the image below) is [outside the scope of these lessons](http://scikit-learn.org/stable/modules/tree.html).\n",
    "\n",
    "![example-decision-tree.png](attachment:example-decision-tree.png)\n",
    "\n",
    "Instead, we use a (third-party) function **`tree_print()`**,\n",
    "which is imported from `treeviz.py`,\n",
    "to show a _textual representation_."
   ]
  },
  {
   "cell_type": "code",
   "execution_count": 41,
   "metadata": {},
   "outputs": [
    {
     "name": "stdout",
     "output_type": "stream",
     "text": [
      "if b =< 5.0: \n",
      "  |then if a =< 2.0: \n",
      "  |  |then red\n",
      "  |  |else blue\n",
      "  |else if b =< 8.0: \n",
      "  |  |then orange\n",
      "  |  |else black\n",
      "<---->\n",
      "Tree Depth:  2\n"
     ]
    }
   ],
   "source": [
    "tree_print(dtc, X_dtc_train)"
   ]
  },
  {
   "cell_type": "markdown",
   "metadata": {},
   "source": [
    "Recall that we set `max_depth=3` when creating the decision-tree object.\n",
    "Apparently, the dependent value can be predicted fully with a smaller tree,\n",
    "since the mined decision tree actually has only a depth of 2."
   ]
  },
  {
   "cell_type": "markdown",
   "metadata": {},
   "source": [
    "### Step 6. Make predictions\n",
    "\n",
    "Once you have fitted a model to the training data set, you can use it to predict the dependent values for given independent values, also outside the training set. For that purpose, the regression object provides a function **`predict()`**.\n",
    "\n",
    "Let's use it in our example to predict the outcomes for `a` and `b` values in the training set:"
   ]
  },
  {
   "cell_type": "code",
   "execution_count": 42,
   "metadata": {},
   "outputs": [
    {
     "data": {
      "text/plain": [
       "array(['blue', 'red', 'red', 'black', 'orange', 'blue', 'orange', 'black',\n",
       "       'blue'], dtype=object)"
      ]
     },
     "execution_count": 42,
     "metadata": {},
     "output_type": "execute_result"
    }
   ],
   "source": [
    "y_dtc_pred = dtc.predict(X_dtc_train)\n",
    "y_dtc_pred"
   ]
  },
  {
   "cell_type": "markdown",
   "metadata": {},
   "source": [
    "We can compare these predictions to the true values in the training set:"
   ]
  },
  {
   "cell_type": "code",
   "execution_count": 43,
   "metadata": {},
   "outputs": [
    {
     "data": {
      "text/html": [
       "<div>\n",
       "<style scoped>\n",
       "    .dataframe tbody tr th:only-of-type {\n",
       "        vertical-align: middle;\n",
       "    }\n",
       "\n",
       "    .dataframe tbody tr th {\n",
       "        vertical-align: top;\n",
       "    }\n",
       "\n",
       "    .dataframe thead th {\n",
       "        text-align: right;\n",
       "    }\n",
       "</style>\n",
       "<table border=\"1\" class=\"dataframe\">\n",
       "  <thead>\n",
       "    <tr style=\"text-align: right;\">\n",
       "      <th></th>\n",
       "      <th>true</th>\n",
       "      <th>predicted</th>\n",
       "    </tr>\n",
       "  </thead>\n",
       "  <tbody>\n",
       "    <tr>\n",
       "      <th>5</th>\n",
       "      <td>blue</td>\n",
       "      <td>blue</td>\n",
       "    </tr>\n",
       "    <tr>\n",
       "      <th>0</th>\n",
       "      <td>red</td>\n",
       "      <td>red</td>\n",
       "    </tr>\n",
       "    <tr>\n",
       "      <th>1</th>\n",
       "      <td>red</td>\n",
       "      <td>red</td>\n",
       "    </tr>\n",
       "    <tr>\n",
       "      <th>11</th>\n",
       "      <td>black</td>\n",
       "      <td>black</td>\n",
       "    </tr>\n",
       "    <tr>\n",
       "      <th>8</th>\n",
       "      <td>orange</td>\n",
       "      <td>orange</td>\n",
       "    </tr>\n",
       "    <tr>\n",
       "      <th>3</th>\n",
       "      <td>blue</td>\n",
       "      <td>blue</td>\n",
       "    </tr>\n",
       "    <tr>\n",
       "      <th>6</th>\n",
       "      <td>orange</td>\n",
       "      <td>orange</td>\n",
       "    </tr>\n",
       "    <tr>\n",
       "      <th>9</th>\n",
       "      <td>black</td>\n",
       "      <td>black</td>\n",
       "    </tr>\n",
       "    <tr>\n",
       "      <th>4</th>\n",
       "      <td>blue</td>\n",
       "      <td>blue</td>\n",
       "    </tr>\n",
       "  </tbody>\n",
       "</table>\n",
       "</div>"
      ],
      "text/plain": [
       "      true predicted\n",
       "5     blue      blue\n",
       "0      red       red\n",
       "1      red       red\n",
       "11   black     black\n",
       "8   orange    orange\n",
       "3     blue      blue\n",
       "6   orange    orange\n",
       "9    black     black\n",
       "4     blue      blue"
      ]
     },
     "execution_count": 43,
     "metadata": {},
     "output_type": "execute_result"
    }
   ],
   "source": [
    "pd.DataFrame({\"true\": y_dtc_train, \"predicted\": y_dtc_pred})"
   ]
  },
  {
   "cell_type": "markdown",
   "metadata": {},
   "source": [
    "### Step 7. Assess the model's quality\n",
    "\n",
    "The quality of a decision tree can be expressed as its *accuracy*.\n",
    "\n",
    "#### Step 7a. Goodness of fit\n",
    "\n",
    "One way is to look at how well the model fits the training set. The *goodness of fit* of a classification model, e.g. a decision tree, can be measured by computing the accuracy on the **training set** as follows:"
   ]
  },
  {
   "cell_type": "code",
   "execution_count": 44,
   "metadata": {},
   "outputs": [
    {
     "data": {
      "text/plain": [
       "1.0"
      ]
     },
     "execution_count": 44,
     "metadata": {},
     "output_type": "execute_result"
    }
   ],
   "source": [
    "dtc.score(X_dtc_train, y_dtc_train)"
   ]
  },
  {
   "cell_type": "markdown",
   "metadata": {},
   "source": [
    "This score is at best 1.0 (100% correct),\n",
    "and will drop towards 0.0 with less accuracy.\n",
    "\n",
    "> **NOTE:** _Accuracy_ treats all errors in the same way.\n",
    "When not all types of errors have the same impact\n",
    "(think of _false positives_ versus *false negatives*),\n",
    "accuracy is not a good measure.\n",
    "In such cases, it is better to produce a *confusion matrix*, e.g. using the `confusion_matrix()` function in SciKit Learn.\n",
    "\n",
    "#### Step 7a. Predictive performance\n",
    "\n",
    "We are often interested in how well a trained model generalizes, i.e. how well it will perform on data *outside of the training set*. We can try to measure how well a model generalizes by computing the accuracy on the **test set**:"
   ]
  },
  {
   "cell_type": "code",
   "execution_count": 45,
   "metadata": {},
   "outputs": [
    {
     "data": {
      "text/plain": [
       "0.6666666666666666"
      ]
     },
     "execution_count": 45,
     "metadata": {},
     "output_type": "execute_result"
    }
   ],
   "source": [
    "dtc.score(X_dtc_test, y_dtc_test)"
   ]
  },
  {
   "cell_type": "markdown",
   "metadata": {},
   "source": [
    "Comparing the accuracy computed on the training and test sets we can see that the training accuracy is high and the test accuracy is low. This indicates that, despite the tree being shallow, it has overfitted the training data."
   ]
  },
  {
   "cell_type": "markdown",
   "metadata": {},
   "source": [
    "## Exercises on decision trees\n",
    "\n",
    "Let us see if we can learn a decision tree to predict the origin of the cars in the Auto MPG data set."
   ]
  },
  {
   "cell_type": "markdown",
   "metadata": {},
   "source": [
    "### Exercise <span class=\"exercise\" id=\"exercise-depth-three-tree\">2.a</span>: Fit a decision tree for `'origin'`\n",
    "\n",
    "Fit a decision tree with **maximum depth of $3$** using the *training data set*, with `'origin'` as _dependent variable_ and the features\n",
    "`'mpg', 'cylinders', 'displacement', 'weight', 'acceleration', 'year'`\n",
    "as _independent variables_. Perform the following steps:\n",
    "\n",
    "**Step 1. Select the data**\n",
    "\n",
    "* Assign the following list of column labels to `features`: `'mpg', 'cylinders', 'displacement', 'weight', 'acceleration', 'year'`\n",
    "* Assign the *training data* for the independent variable to `X_mpg_dtc_train`\n",
    "* Assign the *training data* for the dependent variable to `y_mpg_dtc_train`\n",
    "* Assign the *test data* for the independent variable to `X_mpg_dtc_test`\n",
    "* Assign the *test data* for the dependent variable to `y_mpg_dtc_test`\n",
    "\n",
    "**Step 2. Create the decision-tree object**\n",
    "\n",
    "* Assign the decision tree classifier to `dtc_depth_3`\n",
    "\n",
    "**Step 3. Fit the model**\n",
    "\n",
    "**Step 4. Extract model parameters**\n",
    "\n",
    "* Create a data frame `feature_importances_depth_3` with the _relative importance_ of feature"
   ]
  },
  {
   "cell_type": "code",
   "execution_count": 46,
   "metadata": {},
   "outputs": [
    {
     "data": {
      "text/html": [
       "<div>\n",
       "<style scoped>\n",
       "    .dataframe tbody tr th:only-of-type {\n",
       "        vertical-align: middle;\n",
       "    }\n",
       "\n",
       "    .dataframe tbody tr th {\n",
       "        vertical-align: top;\n",
       "    }\n",
       "\n",
       "    .dataframe thead th {\n",
       "        text-align: right;\n",
       "    }\n",
       "</style>\n",
       "<table border=\"1\" class=\"dataframe\">\n",
       "  <thead>\n",
       "    <tr style=\"text-align: right;\">\n",
       "      <th></th>\n",
       "      <th>mpg</th>\n",
       "      <th>cylinders</th>\n",
       "      <th>displacement</th>\n",
       "      <th>weight</th>\n",
       "      <th>acceleration</th>\n",
       "      <th>year</th>\n",
       "    </tr>\n",
       "  </thead>\n",
       "  <tbody>\n",
       "    <tr>\n",
       "      <th>0</th>\n",
       "      <td>0.0</td>\n",
       "      <td>0.0</td>\n",
       "      <td>0.843791</td>\n",
       "      <td>0.116268</td>\n",
       "      <td>0.039941</td>\n",
       "      <td>0.0</td>\n",
       "    </tr>\n",
       "  </tbody>\n",
       "</table>\n",
       "</div>"
      ],
      "text/plain": [
       "   mpg  cylinders  displacement    weight  acceleration  year\n",
       "0  0.0        0.0      0.843791  0.116268      0.039941   0.0"
      ]
     },
     "execution_count": 46,
     "metadata": {},
     "output_type": "execute_result"
    }
   ],
   "source": [
    "#// BEGIN_TODO [DMM_2a] Decision tree (4 points)\n",
    "\n",
    "features = df_mpg_train[['mpg', 'cylinders', 'displacement', 'weight', 'acceleration', 'year']].copy()\n",
    "X_mpg_dtc_train = features\n",
    "X_mpg_dtc_train = df_mpg_train[['mpg', 'cylinders', 'displacement', 'weight', 'acceleration', 'year']].copy()\n",
    "y_mpg_dtc_train = df_mpg_train[['origin']].copy()\n",
    "\n",
    "X_mpg_dtc_test = df_mpg_test[['mpg', 'cylinders', 'displacement', 'weight', 'acceleration', 'year']].copy()\n",
    "y_mpg_dtc_test = df_mpg_test[['origin']].copy()\n",
    "\n",
    "dtc_depth_3 = DecisionTreeClassifier(max_depth = 3)\n",
    "\n",
    "dtc_depth_3.fit(X_mpg_dtc_train, y_mpg_dtc_train)\n",
    "\n",
    "feature_importances_depth_3 = pd.DataFrame([dtc_depth_3.feature_importances_], columns = X_mpg_dtc_train.columns)\n",
    "\n",
    "#// END_TODO [DMM_2a]\n",
    "\n",
    "feature_importances_depth_3"
   ]
  },
  {
   "cell_type": "markdown",
   "metadata": {},
   "source": [
    "### Exercise <span class=\"exercise\">2.b</span>: Assess the goodness of fit\n",
    "\n",
    "Assess the goodness fit of the decision tree by computing the accuracy on the training set. Assign your answer to the variable `acc_depth_3_train`."
   ]
  },
  {
   "cell_type": "code",
   "execution_count": 47,
   "metadata": {},
   "outputs": [
    {
     "data": {
      "text/plain": [
       "0.8050314465408805"
      ]
     },
     "execution_count": 47,
     "metadata": {},
     "output_type": "execute_result"
    }
   ],
   "source": [
    "#// BEGIN_TODO [DMM_2b] Training set accuracy for a decision tree of depth <= 3 (2 points)\n",
    "\n",
    "acc_depth_3_train = dtc_depth_3.score(X_mpg_dtc_train, y_mpg_dtc_train)\n",
    "\n",
    "#// END_TODO [DMM_2b]\n",
    "\n",
    "acc_depth_3_train"
   ]
  },
  {
   "cell_type": "markdown",
   "metadata": {},
   "source": [
    "### Exercise <span class=\"exercise\">2.c</span>: Visualize the model\n",
    "\n",
    "Show a textual representation of the decision tree."
   ]
  },
  {
   "cell_type": "code",
   "execution_count": 48,
   "metadata": {},
   "outputs": [
    {
     "name": "stdout",
     "output_type": "stream",
     "text": [
      "if displacement =< 134.5: \n",
      "  |then if displacement =< 97.25: \n",
      "  |  |then if acceleration =< 19.449999809265137: \n",
      "  |  |  |then Japanese\n",
      "  |  |  |else European\n",
      "  |  |else if displacement =< 99.0: \n",
      "  |  |  |then American\n",
      "  |  |  |else European\n",
      "  |else if displacement =< 190.5: \n",
      "  |  |then if weight =< 3071.5: \n",
      "  |  |  |then American\n",
      "  |  |  |else European\n",
      "  |  |else American\n",
      "<------->\n",
      "Tree Depth:  3\n"
     ]
    }
   ],
   "source": [
    "#// BEGIN_TODO [DMM_2c] Textual representation of decision tree (1 point)\n",
    "\n",
    "tree_print(dtc_depth_3, X_mpg_dtc_train)\n",
    "\n",
    "#// END_TODO [DMM_2c]"
   ]
  },
  {
   "cell_type": "markdown",
   "metadata": {},
   "source": [
    "### Exercise <span class=\"exercise\">2.d</span>: Assess the predictive performance\n",
    "\n",
    "The obtained decision tree gives us a simple scheme to predict the origin of cars based on their features. Let us see how good these predictions are for the cars in the test set: assess the quality of the decision tree by computing its accuracy for the _test set_. Assign your answer to the variable `acc_depth_3_test`."
   ]
  },
  {
   "cell_type": "code",
   "execution_count": 49,
   "metadata": {},
   "outputs": [
    {
     "data": {
      "text/plain": [
       "0.7625"
      ]
     },
     "execution_count": 49,
     "metadata": {},
     "output_type": "execute_result"
    }
   ],
   "source": [
    "#// BEGIN_TODO [DMM_2d] Test set accuracy for a decision tree of depth <= 3 (1 point)\n",
    "\n",
    "acc_depth_3_test = dtc_depth_3.score(X_mpg_dtc_test, y_mpg_dtc_test)\n",
    "\n",
    "#// END_TODO [DMM_2d]\n",
    "\n",
    "acc_depth_3_test"
   ]
  },
  {
   "cell_type": "markdown",
   "metadata": {},
   "source": [
    "# <span class=\"section\">3.</span> Clustering\n",
    "\n",
    "The goal of _clustering_ is to come up with a _collection of clusters_ that best fits the data.\n",
    "It is an _unsupervised learning_ method\n",
    "that seeks to group the data 'points' in coherent groups, where\n",
    "\n",
    "* distances _within_ (intra) groups are relatively *small*, and\n",
    "* distances _between_ (inter) groups are relatively _large_.\n",
    "\n",
    "In this lesson, we will use the **K-Means** algorithm for clustering.\n",
    "It is non-deterministic, and must be started with the desired number of clusters.\n",
    "\n",
    "If you are interested in more details, you can consult the documentation at SciKit Learn:\n",
    "\n",
    "* [K-Means algorithm](http://scikit-learn.org/stable/modules/clustering.html#k-means)\n",
    "* [the `sklearn.cluster.KMeans` cluster object](http://scikit-learn.org/stable/modules/generated/sklearn.cluster.KMeans.html)"
   ]
  },
  {
   "cell_type": "markdown",
   "metadata": {},
   "source": [
    "### Step 1. Select the data\n",
    "\n",
    "We select the `'a'` and `'b'` columns from `df_example`:"
   ]
  },
  {
   "cell_type": "code",
   "execution_count": 50,
   "metadata": {},
   "outputs": [],
   "source": [
    "X_km = df_example[['a', 'b']].copy()"
   ]
  },
  {
   "cell_type": "markdown",
   "metadata": {},
   "source": [
    "### Step 2. Create the cluster object\n",
    "\n",
    "Next, we create the _cluster object_ for **K-Means clustering**,\n",
    "supplying the desired number of clusters as argument (**`n_clusters=...`**),\n",
    "and store it in the variable `km`.\n",
    "\n",
    "In this example, we go for four clusters:"
   ]
  },
  {
   "cell_type": "code",
   "execution_count": 51,
   "metadata": {},
   "outputs": [],
   "source": [
    "km = KMeans(n_clusters=4)"
   ]
  },
  {
   "cell_type": "markdown",
   "metadata": {},
   "source": [
    "### Step 3. Fit the model\n",
    "\n",
    "Invoke the **`fit()`** function of the cluster object,\n",
    "supplying the selected data:"
   ]
  },
  {
   "cell_type": "code",
   "execution_count": 52,
   "metadata": {},
   "outputs": [
    {
     "data": {
      "text/plain": [
       "KMeans(n_clusters=4)"
      ]
     },
     "execution_count": 52,
     "metadata": {},
     "output_type": "execute_result"
    }
   ],
   "source": [
    "km.fit(X_km)"
   ]
  },
  {
   "cell_type": "markdown",
   "metadata": {},
   "source": [
    "### Step 4. Extract model parameters\n",
    "\n",
    "In case of K-Means clustering,\n",
    "the relevant attributes of the cluster object `km` are:\n",
    "\n",
    "* **`km.cluster_centers_ `** : the _locations of the cluster centers_\n",
    "* **`km.labels_`** : the _cluster labels_ for the data points (labels are in the range from $0$ through $k-1$, where $k = $ `n_clusters`).\n",
    "\n",
    "It is convenient\n",
    "\n",
    "* to convert the cluster centers to a data frame with the same column labels as the original data,\n",
    "    and\n",
    "* to add the labels as a new column to the data being clustered.\n",
    "\n",
    "In case of our example, we do this as follows."
   ]
  },
  {
   "cell_type": "code",
   "execution_count": 53,
   "metadata": {},
   "outputs": [
    {
     "data": {
      "text/html": [
       "<div>\n",
       "<style scoped>\n",
       "    .dataframe tbody tr th:only-of-type {\n",
       "        vertical-align: middle;\n",
       "    }\n",
       "\n",
       "    .dataframe tbody tr th {\n",
       "        vertical-align: top;\n",
       "    }\n",
       "\n",
       "    .dataframe thead th {\n",
       "        text-align: right;\n",
       "    }\n",
       "</style>\n",
       "<table border=\"1\" class=\"dataframe\">\n",
       "  <thead>\n",
       "    <tr style=\"text-align: right;\">\n",
       "      <th></th>\n",
       "      <th>a</th>\n",
       "      <th>b</th>\n",
       "    </tr>\n",
       "  </thead>\n",
       "  <tbody>\n",
       "    <tr>\n",
       "      <th>0</th>\n",
       "      <td>4.0</td>\n",
       "      <td>2.666667</td>\n",
       "    </tr>\n",
       "    <tr>\n",
       "      <th>1</th>\n",
       "      <td>5.0</td>\n",
       "      <td>7.333333</td>\n",
       "    </tr>\n",
       "    <tr>\n",
       "      <th>2</th>\n",
       "      <td>1.0</td>\n",
       "      <td>1.333333</td>\n",
       "    </tr>\n",
       "    <tr>\n",
       "      <th>3</th>\n",
       "      <td>8.0</td>\n",
       "      <td>8.666667</td>\n",
       "    </tr>\n",
       "  </tbody>\n",
       "</table>\n",
       "</div>"
      ],
      "text/plain": [
       "     a         b\n",
       "0  4.0  2.666667\n",
       "1  5.0  7.333333\n",
       "2  1.0  1.333333\n",
       "3  8.0  8.666667"
      ]
     },
     "execution_count": 53,
     "metadata": {},
     "output_type": "execute_result"
    }
   ],
   "source": [
    "centers = pd.DataFrame(km.cluster_centers_, columns=X_km.columns)\n",
    "centers"
   ]
  },
  {
   "cell_type": "code",
   "execution_count": 54,
   "metadata": {},
   "outputs": [
    {
     "data": {
      "text/html": [
       "<div>\n",
       "<style scoped>\n",
       "    .dataframe tbody tr th:only-of-type {\n",
       "        vertical-align: middle;\n",
       "    }\n",
       "\n",
       "    .dataframe tbody tr th {\n",
       "        vertical-align: top;\n",
       "    }\n",
       "\n",
       "    .dataframe thead th {\n",
       "        text-align: right;\n",
       "    }\n",
       "</style>\n",
       "<table border=\"1\" class=\"dataframe\">\n",
       "  <thead>\n",
       "    <tr style=\"text-align: right;\">\n",
       "      <th></th>\n",
       "      <th>a</th>\n",
       "      <th>b</th>\n",
       "      <th>cluster</th>\n",
       "    </tr>\n",
       "  </thead>\n",
       "  <tbody>\n",
       "    <tr>\n",
       "      <th>0</th>\n",
       "      <td>0</td>\n",
       "      <td>1</td>\n",
       "      <td>2</td>\n",
       "    </tr>\n",
       "    <tr>\n",
       "      <th>1</th>\n",
       "      <td>1</td>\n",
       "      <td>2</td>\n",
       "      <td>2</td>\n",
       "    </tr>\n",
       "    <tr>\n",
       "      <th>2</th>\n",
       "      <td>2</td>\n",
       "      <td>1</td>\n",
       "      <td>2</td>\n",
       "    </tr>\n",
       "    <tr>\n",
       "      <th>3</th>\n",
       "      <td>3</td>\n",
       "      <td>3</td>\n",
       "      <td>0</td>\n",
       "    </tr>\n",
       "    <tr>\n",
       "      <th>4</th>\n",
       "      <td>4</td>\n",
       "      <td>2</td>\n",
       "      <td>0</td>\n",
       "    </tr>\n",
       "    <tr>\n",
       "      <th>5</th>\n",
       "      <td>5</td>\n",
       "      <td>3</td>\n",
       "      <td>0</td>\n",
       "    </tr>\n",
       "    <tr>\n",
       "      <th>6</th>\n",
       "      <td>4</td>\n",
       "      <td>7</td>\n",
       "      <td>1</td>\n",
       "    </tr>\n",
       "    <tr>\n",
       "      <th>7</th>\n",
       "      <td>5</td>\n",
       "      <td>8</td>\n",
       "      <td>1</td>\n",
       "    </tr>\n",
       "    <tr>\n",
       "      <th>8</th>\n",
       "      <td>6</td>\n",
       "      <td>7</td>\n",
       "      <td>1</td>\n",
       "    </tr>\n",
       "    <tr>\n",
       "      <th>9</th>\n",
       "      <td>7</td>\n",
       "      <td>9</td>\n",
       "      <td>3</td>\n",
       "    </tr>\n",
       "    <tr>\n",
       "      <th>10</th>\n",
       "      <td>8</td>\n",
       "      <td>8</td>\n",
       "      <td>3</td>\n",
       "    </tr>\n",
       "    <tr>\n",
       "      <th>11</th>\n",
       "      <td>9</td>\n",
       "      <td>9</td>\n",
       "      <td>3</td>\n",
       "    </tr>\n",
       "  </tbody>\n",
       "</table>\n",
       "</div>"
      ],
      "text/plain": [
       "    a  b  cluster\n",
       "0   0  1        2\n",
       "1   1  2        2\n",
       "2   2  1        2\n",
       "3   3  3        0\n",
       "4   4  2        0\n",
       "5   5  3        0\n",
       "6   4  7        1\n",
       "7   5  8        1\n",
       "8   6  7        1\n",
       "9   7  9        3\n",
       "10  8  8        3\n",
       "11  9  9        3"
      ]
     },
     "execution_count": 54,
     "metadata": {},
     "output_type": "execute_result"
    }
   ],
   "source": [
    "X_km['cluster'] = km.labels_\n",
    "X_km"
   ]
  },
  {
   "cell_type": "markdown",
   "metadata": {},
   "source": [
    "### Step 5. Visualize the model\n",
    "\n",
    "To visualize the clusters,\n",
    "we create a scatter plot,\n",
    "where we color each data point according to its cluster.\n",
    "\n",
    "Finally, we put in the centers marked by a cross."
   ]
  },
  {
   "cell_type": "code",
   "execution_count": 55,
   "metadata": {},
   "outputs": [
    {
     "data": {
      "image/png": "[encoded data removed]",
      "text/plain": [
       "<Figure size 720x360 with 1 Axes>"
      ]
     },
     "metadata": {},
     "output_type": "display_data"
    }
   ],
   "source": [
    "ax = X_km[X_km['cluster']==0].plot(kind='scatter', x='a', y='b', s=50, c='green')\n",
    "X_km[X_km['cluster']==1].plot(kind='scatter',x='a',y='b',s=50, c='orange', ax = ax)\n",
    "X_km[X_km['cluster']==2].plot(kind='scatter',x='a',y='b',s=50, c='purple', ax = ax)\n",
    "X_km[X_km['cluster']==3].plot(kind='scatter',x='a',y='b',s=50, c='blue', ax = ax)\n",
    "\n",
    "centers.plot(kind = 'scatter', x='a', y='b', c=['green','orange','purple','blue'], s=50, marker='x', ax=ax);"
   ]
  },
  {
   "cell_type": "markdown",
   "metadata": {},
   "source": [
    "### Step 6. Do predictions\n",
    "\n",
    "Given one or more additional data points, you can find their clusters,\n",
    "that is, the label of the nearest cluster center, with the function **`predict()`**."
   ]
  },
  {
   "cell_type": "code",
   "execution_count": 56,
   "metadata": {},
   "outputs": [
    {
     "data": {
      "text/plain": [
       "array([2, 0, 1, 0, 1, 3])"
      ]
     },
     "execution_count": 56,
     "metadata": {},
     "output_type": "execute_result"
    }
   ],
   "source": [
    "test_km = [(1, 4), (2, 4), (4, 6), (5, 4), (7, 6), (8, 8)]\n",
    "km.predict(test_km)"
   ]
  },
  {
   "attachments": {
    "kmeans-regions.png": {
     "image/png": "[encoded data removed]"
    }
   },
   "cell_type": "markdown",
   "metadata": {},
   "source": [
    "Check these predictions. It may be helpful to consult the following plot\n",
    "(its creation is beyond the scope of these lessons),\n",
    "which shows the cluster (color) predicted by `km.predict()`\n",
    "for all points in the plot area .\n",
    "\n",
    "![kmeans-regions.png](attachment:kmeans-regions.png)"
   ]
  },
  {
   "cell_type": "markdown",
   "metadata": {},
   "source": [
    "### Step 7. Assess the model's quality\n",
    "\n",
    "For clustering, a quality measure is the _sum of squared distances_ of data points\n",
    "to their closest cluster center, also known as _inertia_.\n",
    "Its value is non-negative, and 0 is the best.\n",
    "\n",
    "It is obtained as follows."
   ]
  },
  {
   "cell_type": "code",
   "execution_count": 57,
   "metadata": {},
   "outputs": [
    {
     "data": {
      "text/plain": [
       "10.666666666666666"
      ]
     },
     "execution_count": 57,
     "metadata": {},
     "output_type": "execute_result"
    }
   ],
   "source": [
    "inertia = km.inertia_\n",
    "inertia"
   ]
  },
  {
   "cell_type": "markdown",
   "metadata": {},
   "source": [
    "> **WARNING**: The inertia will always go down if you create more clusters, similarly to how the value of $R^2$ for linear regression always goes up if you add more independent variables. Again, this does _not_ mean that more clusters is always better: at some point every point will just have its own cluster, and the clustering becomes meaningless."
   ]
  },
  {
   "cell_type": "markdown",
   "metadata": {},
   "source": [
    "## Exercises on clustering\n",
    "\n",
    "In this exercise we will attempt to identify different types of *wheat seeds*, by clustering on their geometrical properties. We will use the data in `df_seeds`."
   ]
  },
  {
   "cell_type": "markdown",
   "metadata": {},
   "source": [
    "### Exercise <span class=\"exercise\" id=\"exercise-cluster-no-scaling\">3.a</span>: Cluster the wheat seeds \n",
    "\n",
    "Cluster the wheat-seed data with the $k$-means algorithm with $k$ set to $3$. Perform the following steps:\n",
    "\n",
    "**Step 1. Select the data**\n",
    "\n",
    "* Copy the entire `df_seeds` data set to a data frame `X_seeds_train`\n",
    "\n",
    "**Step 2. Create the cluster object**\n",
    "\n",
    "* Assign the cluster object to `km_seeds`\n",
    "\n",
    "**Step 3. Fit the model**\n",
    "\n",
    "**Step 4. Extract the model parameters**\n",
    "\n",
    "* Assign the cluster centers to `centers_seeds`, and\n",
    "* Add a new column named `'cluster'` with the cluster labels to the data frame `X_seeds_train`"
   ]
  },
  {
   "cell_type": "code",
   "execution_count": 58,
   "metadata": {},
   "outputs": [
    {
     "data": {
      "text/html": [
       "<div>\n",
       "<style scoped>\n",
       "    .dataframe tbody tr th:only-of-type {\n",
       "        vertical-align: middle;\n",
       "    }\n",
       "\n",
       "    .dataframe tbody tr th {\n",
       "        vertical-align: top;\n",
       "    }\n",
       "\n",
       "    .dataframe thead th {\n",
       "        text-align: right;\n",
       "    }\n",
       "</style>\n",
       "<table border=\"1\" class=\"dataframe\">\n",
       "  <thead>\n",
       "    <tr style=\"text-align: right;\">\n",
       "      <th></th>\n",
       "      <th>area</th>\n",
       "      <th>perimeter</th>\n",
       "      <th>kernel_length</th>\n",
       "      <th>kernel_width</th>\n",
       "      <th>asymmetry</th>\n",
       "      <th>groove_length</th>\n",
       "      <th>cluster</th>\n",
       "    </tr>\n",
       "  </thead>\n",
       "  <tbody>\n",
       "    <tr>\n",
       "      <th>0</th>\n",
       "      <td>15.26</td>\n",
       "      <td>14.84</td>\n",
       "      <td>5.763</td>\n",
       "      <td>3.312</td>\n",
       "      <td>2.221</td>\n",
       "      <td>5.220</td>\n",
       "      <td>2</td>\n",
       "    </tr>\n",
       "    <tr>\n",
       "      <th>1</th>\n",
       "      <td>14.88</td>\n",
       "      <td>14.57</td>\n",
       "      <td>5.554</td>\n",
       "      <td>3.333</td>\n",
       "      <td>1.018</td>\n",
       "      <td>4.956</td>\n",
       "      <td>2</td>\n",
       "    </tr>\n",
       "    <tr>\n",
       "      <th>2</th>\n",
       "      <td>14.29</td>\n",
       "      <td>14.09</td>\n",
       "      <td>5.291</td>\n",
       "      <td>3.337</td>\n",
       "      <td>2.699</td>\n",
       "      <td>4.825</td>\n",
       "      <td>2</td>\n",
       "    </tr>\n",
       "    <tr>\n",
       "      <th>3</th>\n",
       "      <td>13.84</td>\n",
       "      <td>13.94</td>\n",
       "      <td>5.324</td>\n",
       "      <td>3.379</td>\n",
       "      <td>2.259</td>\n",
       "      <td>4.805</td>\n",
       "      <td>2</td>\n",
       "    </tr>\n",
       "    <tr>\n",
       "      <th>4</th>\n",
       "      <td>16.14</td>\n",
       "      <td>14.99</td>\n",
       "      <td>5.658</td>\n",
       "      <td>3.562</td>\n",
       "      <td>1.355</td>\n",
       "      <td>5.175</td>\n",
       "      <td>2</td>\n",
       "    </tr>\n",
       "    <tr>\n",
       "      <th>5</th>\n",
       "      <td>14.38</td>\n",
       "      <td>14.21</td>\n",
       "      <td>5.386</td>\n",
       "      <td>3.312</td>\n",
       "      <td>2.462</td>\n",
       "      <td>4.956</td>\n",
       "      <td>2</td>\n",
       "    </tr>\n",
       "    <tr>\n",
       "      <th>6</th>\n",
       "      <td>14.69</td>\n",
       "      <td>14.49</td>\n",
       "      <td>5.563</td>\n",
       "      <td>3.259</td>\n",
       "      <td>3.586</td>\n",
       "      <td>5.219</td>\n",
       "      <td>2</td>\n",
       "    </tr>\n",
       "    <tr>\n",
       "      <th>7</th>\n",
       "      <td>14.11</td>\n",
       "      <td>14.10</td>\n",
       "      <td>5.420</td>\n",
       "      <td>3.302</td>\n",
       "      <td>2.700</td>\n",
       "      <td>5.000</td>\n",
       "      <td>2</td>\n",
       "    </tr>\n",
       "    <tr>\n",
       "      <th>8</th>\n",
       "      <td>16.63</td>\n",
       "      <td>15.46</td>\n",
       "      <td>6.053</td>\n",
       "      <td>3.465</td>\n",
       "      <td>2.040</td>\n",
       "      <td>5.877</td>\n",
       "      <td>2</td>\n",
       "    </tr>\n",
       "    <tr>\n",
       "      <th>9</th>\n",
       "      <td>16.44</td>\n",
       "      <td>15.25</td>\n",
       "      <td>5.884</td>\n",
       "      <td>3.505</td>\n",
       "      <td>1.969</td>\n",
       "      <td>5.533</td>\n",
       "      <td>2</td>\n",
       "    </tr>\n",
       "  </tbody>\n",
       "</table>\n",
       "</div>"
      ],
      "text/plain": [
       "    area  perimeter  kernel_length  kernel_width  asymmetry  groove_length  \\\n",
       "0  15.26      14.84          5.763         3.312      2.221          5.220   \n",
       "1  14.88      14.57          5.554         3.333      1.018          4.956   \n",
       "2  14.29      14.09          5.291         3.337      2.699          4.825   \n",
       "3  13.84      13.94          5.324         3.379      2.259          4.805   \n",
       "4  16.14      14.99          5.658         3.562      1.355          5.175   \n",
       "5  14.38      14.21          5.386         3.312      2.462          4.956   \n",
       "6  14.69      14.49          5.563         3.259      3.586          5.219   \n",
       "7  14.11      14.10          5.420         3.302      2.700          5.000   \n",
       "8  16.63      15.46          6.053         3.465      2.040          5.877   \n",
       "9  16.44      15.25          5.884         3.505      1.969          5.533   \n",
       "\n",
       "   cluster  \n",
       "0        2  \n",
       "1        2  \n",
       "2        2  \n",
       "3        2  \n",
       "4        2  \n",
       "5        2  \n",
       "6        2  \n",
       "7        2  \n",
       "8        2  \n",
       "9        2  "
      ]
     },
     "execution_count": 58,
     "metadata": {},
     "output_type": "execute_result"
    }
   ],
   "source": [
    "#// BEGIN_TODO [DMM_3a] Mine 3 clusters (3 points)\n",
    "\n",
    "X_seeds_train = df_seeds.copy()\n",
    "\n",
    "km_seeds = KMeans(n_clusters = 3)\n",
    "\n",
    "km_seeds.fit(X_seeds_train)\n",
    "\n",
    "centers_seeds = pd.DataFrame(km_seeds.cluster_centers_, columns = X_seeds_train.columns)\n",
    "\n",
    "X_seeds_train['cluster'] = km_seeds.labels_\n",
    "\n",
    "#// END_TODO [DMM_3a]\n",
    "\n",
    "X_seeds_train.head(10)"
   ]
  },
  {
   "cell_type": "code",
   "execution_count": 59,
   "metadata": {},
   "outputs": [
    {
     "data": {
      "text/html": [
       "<div>\n",
       "<style scoped>\n",
       "    .dataframe tbody tr th:only-of-type {\n",
       "        vertical-align: middle;\n",
       "    }\n",
       "\n",
       "    .dataframe tbody tr th {\n",
       "        vertical-align: top;\n",
       "    }\n",
       "\n",
       "    .dataframe thead th {\n",
       "        text-align: right;\n",
       "    }\n",
       "</style>\n",
       "<table border=\"1\" class=\"dataframe\">\n",
       "  <thead>\n",
       "    <tr style=\"text-align: right;\">\n",
       "      <th></th>\n",
       "      <th>area</th>\n",
       "      <th>perimeter</th>\n",
       "      <th>kernel_length</th>\n",
       "      <th>kernel_width</th>\n",
       "      <th>asymmetry</th>\n",
       "      <th>groove_length</th>\n",
       "    </tr>\n",
       "  </thead>\n",
       "  <tbody>\n",
       "    <tr>\n",
       "      <th>0</th>\n",
       "      <td>18.721803</td>\n",
       "      <td>16.297377</td>\n",
       "      <td>6.208934</td>\n",
       "      <td>3.722672</td>\n",
       "      <td>3.603590</td>\n",
       "      <td>6.066098</td>\n",
       "    </tr>\n",
       "    <tr>\n",
       "      <th>1</th>\n",
       "      <td>11.964416</td>\n",
       "      <td>13.274805</td>\n",
       "      <td>5.229286</td>\n",
       "      <td>2.872922</td>\n",
       "      <td>4.759740</td>\n",
       "      <td>5.088519</td>\n",
       "    </tr>\n",
       "    <tr>\n",
       "      <th>2</th>\n",
       "      <td>14.648472</td>\n",
       "      <td>14.460417</td>\n",
       "      <td>5.563778</td>\n",
       "      <td>3.277903</td>\n",
       "      <td>2.648933</td>\n",
       "      <td>5.192319</td>\n",
       "    </tr>\n",
       "  </tbody>\n",
       "</table>\n",
       "</div>"
      ],
      "text/plain": [
       "        area  perimeter  kernel_length  kernel_width  asymmetry  groove_length\n",
       "0  18.721803  16.297377       6.208934      3.722672   3.603590       6.066098\n",
       "1  11.964416  13.274805       5.229286      2.872922   4.759740       5.088519\n",
       "2  14.648472  14.460417       5.563778      3.277903   2.648933       5.192319"
      ]
     },
     "execution_count": 59,
     "metadata": {},
     "output_type": "execute_result"
    }
   ],
   "source": [
    "centers_seeds"
   ]
  },
  {
   "cell_type": "markdown",
   "metadata": {},
   "source": [
    "### Exercise <span class=\"exercise\">3.b</span>: Visualize the clusters\n",
    "\n",
    "Plot the results in a scatter plot, with the `'asymmetry'` column on the $x$-axis, and the `'perimeter'` column on the $y$-axis. Display each cluster in a different color. In addition, put red markers at the cluster centers. "
   ]
  },
  {
   "cell_type": "code",
   "execution_count": 60,
   "metadata": {},
   "outputs": [
    {
     "data": {
      "image/png": "[encoded data removed]",
      "text/plain": [
       "<Figure size 720x360 with 1 Axes>"
      ]
     },
     "metadata": {},
     "output_type": "display_data"
    }
   ],
   "source": [
    "#// BEGIN_TODO [DMM_3b] Plot the clusters distinguished by color (2 points)\n",
    "\n",
    "ax = X_seeds_train[X_seeds_train['cluster'] == 0].plot(kind = 'scatter', x = 'asymmetry', y = 'perimeter', s = 50, c = 'green')\n",
    "X_seeds_train[X_seeds_train['cluster'] == 1].plot(kind = 'scatter', x = 'asymmetry', y = 'perimeter', s = 50, c = 'orange', ax = ax)\n",
    "X_seeds_train[X_seeds_train['cluster'] == 2].plot(kind = 'scatter', x = 'asymmetry', y = 'perimeter', s = 50, c = 'purple', ax = ax)\n",
    "X_seeds_train[X_seeds_train['cluster'] == 3].plot(kind = 'scatter', x = 'asymmetry', y = 'perimeter', s = 50, c = 'blue', ax = ax)\n",
    "\n",
    "centers_seeds.plot(kind = 'scatter', x = 'asymmetry', y = 'perimeter', c = 'red', s = 50, marker = 'x', ax = ax);\n",
    "\n",
    "#// END_TODO [DMM_3b]"
   ]
  },
  {
   "cell_type": "markdown",
   "metadata": {},
   "source": [
    "### Exercise <span class=\"exercise\">3.c</span>: Make predictions\n",
    "\n",
    "Predict the cluster for seeds with the following geometrical properties\n",
    "given in the data frame `X_seeds_test` below. Assign your answer to the new column `X_seeds_test['predicted_cluster']`."
   ]
  },
  {
   "cell_type": "code",
   "execution_count": 61,
   "metadata": {},
   "outputs": [
    {
     "data": {
      "text/html": [
       "<div>\n",
       "<style scoped>\n",
       "    .dataframe tbody tr th:only-of-type {\n",
       "        vertical-align: middle;\n",
       "    }\n",
       "\n",
       "    .dataframe tbody tr th {\n",
       "        vertical-align: top;\n",
       "    }\n",
       "\n",
       "    .dataframe thead th {\n",
       "        text-align: right;\n",
       "    }\n",
       "</style>\n",
       "<table border=\"1\" class=\"dataframe\">\n",
       "  <thead>\n",
       "    <tr style=\"text-align: right;\">\n",
       "      <th></th>\n",
       "      <th>area</th>\n",
       "      <th>perimeter</th>\n",
       "      <th>kernel_length</th>\n",
       "      <th>kernel_width</th>\n",
       "      <th>asymmetry</th>\n",
       "      <th>groove_length</th>\n",
       "      <th>predicted_cluster</th>\n",
       "    </tr>\n",
       "  </thead>\n",
       "  <tbody>\n",
       "    <tr>\n",
       "      <th>0</th>\n",
       "      <td>14.3</td>\n",
       "      <td>14.0</td>\n",
       "      <td>5.5</td>\n",
       "      <td>3.1</td>\n",
       "      <td>2.8</td>\n",
       "      <td>4.9</td>\n",
       "      <td>2</td>\n",
       "    </tr>\n",
       "    <tr>\n",
       "      <th>1</th>\n",
       "      <td>16.5</td>\n",
       "      <td>15.7</td>\n",
       "      <td>6.3</td>\n",
       "      <td>3.5</td>\n",
       "      <td>3.4</td>\n",
       "      <td>6.0</td>\n",
       "      <td>0</td>\n",
       "    </tr>\n",
       "    <tr>\n",
       "      <th>2</th>\n",
       "      <td>11.5</td>\n",
       "      <td>13.0</td>\n",
       "      <td>5.0</td>\n",
       "      <td>2.7</td>\n",
       "      <td>4.8</td>\n",
       "      <td>5.0</td>\n",
       "      <td>1</td>\n",
       "    </tr>\n",
       "  </tbody>\n",
       "</table>\n",
       "</div>"
      ],
      "text/plain": [
       "   area  perimeter  kernel_length  kernel_width  asymmetry  groove_length  \\\n",
       "0  14.3       14.0            5.5           3.1        2.8            4.9   \n",
       "1  16.5       15.7            6.3           3.5        3.4            6.0   \n",
       "2  11.5       13.0            5.0           2.7        4.8            5.0   \n",
       "\n",
       "   predicted_cluster  \n",
       "0                  2  \n",
       "1                  0  \n",
       "2                  1  "
      ]
     },
     "execution_count": 61,
     "metadata": {},
     "output_type": "execute_result"
    }
   ],
   "source": [
    "X_seeds_test = pd.DataFrame([[14.3, 14.0, 5.5, 3.1, 2.8, 4.9], \n",
    "                             [16.5, 15.7, 6.3, 3.5, 3.4, 6.0],\n",
    "                             [11.5, 13.0, 5.0, 2.7, 4.8, 5.0]], columns=df_seeds.columns )\n",
    "\n",
    "#// BEGIN_TODO [DMM_3c] Predict clusters (2 points)\n",
    "\n",
    "X_seeds_test['predicted_cluster'] = km_seeds.predict(X_seeds_test)\n",
    "\n",
    "#// END_TODO [DMM_3c]\n",
    "\n",
    "X_seeds_test"
   ]
  },
  {
   "cell_type": "markdown",
   "metadata": {},
   "source": [
    "### Exercise <span class=\"exercise\">3.d</span>: Assess the model's quality\n",
    "\n",
    "Determine the model's _inertia_, and assign it to the variable `inertia_seeds`"
   ]
  },
  {
   "cell_type": "code",
   "execution_count": 62,
   "metadata": {},
   "outputs": [
    {
     "data": {
      "text/plain": [
       "587.2460383245345"
      ]
     },
     "execution_count": 62,
     "metadata": {},
     "output_type": "execute_result"
    }
   ],
   "source": [
    "#// BEGIN_TODO [DMM_3d] Model quality (1 point)\n",
    "\n",
    "inertia_seeds = km_seeds.inertia_\n",
    "\n",
    "#// END_TODO [DMM_3d]\n",
    "inertia_seeds"
   ]
  },
  {
   "cell_type": "markdown",
   "metadata": {},
   "source": [
    "### Exercise <span class=\"exercise\">3.e</span>: Compare with the actual seed varieties\n",
    "\n",
    "Using the $k$-means algorithm, we have identified our own types of wheat seeds. Clustering is an unsupervised learning technique, which is usually used when the data is not labeled. For this particular data set, however, the seeds actually come from three established wheat varieties. Let us see how our types compare to the varieties. \n",
    "\n",
    "The first seventy seeds in the data set were from the _Kama_ variety, the second seventy were _Rosa_ wheat seeds and the last seventy were _Canadian_ wheat seeds.\n",
    "\n",
    "Add this information, as strings, in a column `'variety'` to the data frame `X_seeds_train`. Afterwards, we will  compare the clusters with the variety labels."
   ]
  },
  {
   "cell_type": "code",
   "execution_count": 63,
   "metadata": {},
   "outputs": [
    {
     "data": {
      "text/html": [
       "<div>\n",
       "<style scoped>\n",
       "    .dataframe tbody tr th:only-of-type {\n",
       "        vertical-align: middle;\n",
       "    }\n",
       "\n",
       "    .dataframe tbody tr th {\n",
       "        vertical-align: top;\n",
       "    }\n",
       "\n",
       "    .dataframe thead th {\n",
       "        text-align: right;\n",
       "    }\n",
       "</style>\n",
       "<table border=\"1\" class=\"dataframe\">\n",
       "  <thead>\n",
       "    <tr style=\"text-align: right;\">\n",
       "      <th></th>\n",
       "      <th>area</th>\n",
       "      <th>perimeter</th>\n",
       "      <th>kernel_length</th>\n",
       "      <th>kernel_width</th>\n",
       "      <th>asymmetry</th>\n",
       "      <th>groove_length</th>\n",
       "      <th>cluster</th>\n",
       "      <th>variety</th>\n",
       "    </tr>\n",
       "  </thead>\n",
       "  <tbody>\n",
       "    <tr>\n",
       "      <th>0</th>\n",
       "      <td>15.26</td>\n",
       "      <td>14.84</td>\n",
       "      <td>5.763</td>\n",
       "      <td>3.312</td>\n",
       "      <td>2.221</td>\n",
       "      <td>5.220</td>\n",
       "      <td>2</td>\n",
       "      <td>Kama</td>\n",
       "    </tr>\n",
       "    <tr>\n",
       "      <th>1</th>\n",
       "      <td>14.88</td>\n",
       "      <td>14.57</td>\n",
       "      <td>5.554</td>\n",
       "      <td>3.333</td>\n",
       "      <td>1.018</td>\n",
       "      <td>4.956</td>\n",
       "      <td>2</td>\n",
       "      <td>Kama</td>\n",
       "    </tr>\n",
       "    <tr>\n",
       "      <th>2</th>\n",
       "      <td>14.29</td>\n",
       "      <td>14.09</td>\n",
       "      <td>5.291</td>\n",
       "      <td>3.337</td>\n",
       "      <td>2.699</td>\n",
       "      <td>4.825</td>\n",
       "      <td>2</td>\n",
       "      <td>Kama</td>\n",
       "    </tr>\n",
       "    <tr>\n",
       "      <th>3</th>\n",
       "      <td>13.84</td>\n",
       "      <td>13.94</td>\n",
       "      <td>5.324</td>\n",
       "      <td>3.379</td>\n",
       "      <td>2.259</td>\n",
       "      <td>4.805</td>\n",
       "      <td>2</td>\n",
       "      <td>Kama</td>\n",
       "    </tr>\n",
       "    <tr>\n",
       "      <th>4</th>\n",
       "      <td>16.14</td>\n",
       "      <td>14.99</td>\n",
       "      <td>5.658</td>\n",
       "      <td>3.562</td>\n",
       "      <td>1.355</td>\n",
       "      <td>5.175</td>\n",
       "      <td>2</td>\n",
       "      <td>Kama</td>\n",
       "    </tr>\n",
       "    <tr>\n",
       "      <th>...</th>\n",
       "      <td>...</td>\n",
       "      <td>...</td>\n",
       "      <td>...</td>\n",
       "      <td>...</td>\n",
       "      <td>...</td>\n",
       "      <td>...</td>\n",
       "      <td>...</td>\n",
       "      <td>...</td>\n",
       "    </tr>\n",
       "    <tr>\n",
       "      <th>205</th>\n",
       "      <td>12.19</td>\n",
       "      <td>13.20</td>\n",
       "      <td>5.137</td>\n",
       "      <td>2.981</td>\n",
       "      <td>3.631</td>\n",
       "      <td>4.870</td>\n",
       "      <td>1</td>\n",
       "      <td>Canadian</td>\n",
       "    </tr>\n",
       "    <tr>\n",
       "      <th>206</th>\n",
       "      <td>11.23</td>\n",
       "      <td>12.88</td>\n",
       "      <td>5.140</td>\n",
       "      <td>2.795</td>\n",
       "      <td>4.325</td>\n",
       "      <td>5.003</td>\n",
       "      <td>1</td>\n",
       "      <td>Canadian</td>\n",
       "    </tr>\n",
       "    <tr>\n",
       "      <th>207</th>\n",
       "      <td>13.20</td>\n",
       "      <td>13.66</td>\n",
       "      <td>5.236</td>\n",
       "      <td>3.232</td>\n",
       "      <td>8.315</td>\n",
       "      <td>5.056</td>\n",
       "      <td>1</td>\n",
       "      <td>Canadian</td>\n",
       "    </tr>\n",
       "    <tr>\n",
       "      <th>208</th>\n",
       "      <td>11.84</td>\n",
       "      <td>13.21</td>\n",
       "      <td>5.175</td>\n",
       "      <td>2.836</td>\n",
       "      <td>3.598</td>\n",
       "      <td>5.044</td>\n",
       "      <td>1</td>\n",
       "      <td>Canadian</td>\n",
       "    </tr>\n",
       "    <tr>\n",
       "      <th>209</th>\n",
       "      <td>12.30</td>\n",
       "      <td>13.34</td>\n",
       "      <td>5.243</td>\n",
       "      <td>2.974</td>\n",
       "      <td>5.637</td>\n",
       "      <td>5.063</td>\n",
       "      <td>1</td>\n",
       "      <td>Canadian</td>\n",
       "    </tr>\n",
       "  </tbody>\n",
       "</table>\n",
       "<p>210 rows × 8 columns</p>\n",
       "</div>"
      ],
      "text/plain": [
       "      area  perimeter  kernel_length  kernel_width  asymmetry  groove_length  \\\n",
       "0    15.26      14.84          5.763         3.312      2.221          5.220   \n",
       "1    14.88      14.57          5.554         3.333      1.018          4.956   \n",
       "2    14.29      14.09          5.291         3.337      2.699          4.825   \n",
       "3    13.84      13.94          5.324         3.379      2.259          4.805   \n",
       "4    16.14      14.99          5.658         3.562      1.355          5.175   \n",
       "..     ...        ...            ...           ...        ...            ...   \n",
       "205  12.19      13.20          5.137         2.981      3.631          4.870   \n",
       "206  11.23      12.88          5.140         2.795      4.325          5.003   \n",
       "207  13.20      13.66          5.236         3.232      8.315          5.056   \n",
       "208  11.84      13.21          5.175         2.836      3.598          5.044   \n",
       "209  12.30      13.34          5.243         2.974      5.637          5.063   \n",
       "\n",
       "     cluster   variety  \n",
       "0          2      Kama  \n",
       "1          2      Kama  \n",
       "2          2      Kama  \n",
       "3          2      Kama  \n",
       "4          2      Kama  \n",
       "..       ...       ...  \n",
       "205        1  Canadian  \n",
       "206        1  Canadian  \n",
       "207        1  Canadian  \n",
       "208        1  Canadian  \n",
       "209        1  Canadian  \n",
       "\n",
       "[210 rows x 8 columns]"
      ]
     },
     "execution_count": 63,
     "metadata": {},
     "output_type": "execute_result"
    }
   ],
   "source": [
    "#// BEGIN_TODO [DMM_3e] Add variety column (1 point)\n",
    "\n",
    "X_seeds_train.loc[0:69, 'variety'] = 'Kama'\n",
    "X_seeds_train.loc[70:139, 'variety'] = 'Rosa'\n",
    "X_seeds_train.loc[140:209, 'variety'] = 'Canadian'\n",
    "\n",
    "#// END_TODO [DMM_3e]\n",
    "\n",
    "X_seeds_train"
   ]
  },
  {
   "cell_type": "markdown",
   "metadata": {},
   "source": [
    "By executing the following cell, you can get some insight on how the clusters produced by the $k$-means algorithm compare to the established varieties."
   ]
  },
  {
   "cell_type": "code",
   "execution_count": 64,
   "metadata": {},
   "outputs": [
    {
     "data": {
      "text/html": [
       "<div>\n",
       "<style scoped>\n",
       "    .dataframe tbody tr th:only-of-type {\n",
       "        vertical-align: middle;\n",
       "    }\n",
       "\n",
       "    .dataframe tbody tr th {\n",
       "        vertical-align: top;\n",
       "    }\n",
       "\n",
       "    .dataframe thead th {\n",
       "        text-align: right;\n",
       "    }\n",
       "</style>\n",
       "<table border=\"1\" class=\"dataframe\">\n",
       "  <thead>\n",
       "    <tr style=\"text-align: right;\">\n",
       "      <th></th>\n",
       "      <th>count</th>\n",
       "      <th>unique</th>\n",
       "      <th>top</th>\n",
       "      <th>freq</th>\n",
       "    </tr>\n",
       "    <tr>\n",
       "      <th>cluster</th>\n",
       "      <th></th>\n",
       "      <th></th>\n",
       "      <th></th>\n",
       "      <th></th>\n",
       "    </tr>\n",
       "  </thead>\n",
       "  <tbody>\n",
       "    <tr>\n",
       "      <th>0</th>\n",
       "      <td>61</td>\n",
       "      <td>2</td>\n",
       "      <td>Rosa</td>\n",
       "      <td>60</td>\n",
       "    </tr>\n",
       "    <tr>\n",
       "      <th>1</th>\n",
       "      <td>77</td>\n",
       "      <td>2</td>\n",
       "      <td>Canadian</td>\n",
       "      <td>68</td>\n",
       "    </tr>\n",
       "    <tr>\n",
       "      <th>2</th>\n",
       "      <td>72</td>\n",
       "      <td>3</td>\n",
       "      <td>Kama</td>\n",
       "      <td>60</td>\n",
       "    </tr>\n",
       "  </tbody>\n",
       "</table>\n",
       "</div>"
      ],
      "text/plain": [
       "        count unique       top freq\n",
       "cluster                            \n",
       "0          61      2      Rosa   60\n",
       "1          77      2  Canadian   68\n",
       "2          72      3      Kama   60"
      ]
     },
     "execution_count": 64,
     "metadata": {},
     "output_type": "execute_result"
    }
   ],
   "source": [
    "X_seeds_train.groupby('cluster')['variety'].describe()"
   ]
  },
  {
   "cell_type": "markdown",
   "metadata": {},
   "source": [
    "If everything went well, you will see that there is actually quite a good correspondence!"
   ]
  },
  {
   "cell_type": "markdown",
   "metadata": {},
   "source": [
    "---"
   ]
  },
  {
   "cell_type": "markdown",
   "metadata": {},
   "source": [
    "# <span class=\"section\">4.</span> Exercise: Different models for linear regression\n",
    "\n",
    "\n",
    "*In the earlier exercises you were closely guided. In the following exercises we will put your knowledge to the test.*\n",
    "\n",
    "*Note that these exercises may seem more difficult as you will need to work more indepedently. When you struggle with an exercise then go back to the corresponding earlier section and make sure you really understand the introduced concepts. Do not hesitate to experiment with your own code!*\n",
    "\n",
    "\n",
    "In Exercise 1, we fitted a linear model 'explaining' `mpg` from `weight`. In this exercise, we will add more independent variables, and see whether the predictions become more accurate. "
   ]
  },
  {
   "cell_type": "markdown",
   "metadata": {},
   "source": [
    "### Exercise <span class=\"exercise\">4.a</span>: Fit a linear model for `'mpg'` with a cross term and a quadratic term\n",
    "\n",
    "The relationship between `mpg` and the `weight` may actually depend on the `horsepower`. Such dependencies can be captured with cross terms.\n",
    "\n",
    "Fit a model with `mpg` as dependent variable,\n",
    "and four independent variables: `weight`, `horsepower`, `weight` $\\times$ `horsepower`, and `weight`$^2$.\n",
    "\n",
    "Which percentage of the variation in `mpg` is explained by the variation in these four factors?\n",
    "\n",
    "Assign\n",
    "\n",
    "* the training data for the independent variable to `X_mpg_ct_train`, with column names `'weight'`, `'horsepower'`, `'weight x hp'` and `'weight^2'`,\n",
    "* the test data for the independent variable to `X_mpg_ct_test`, with the same column names as `X_mpg_ct_train`,\n",
    "* the fitted regression object to `reg_mpg_ct`,\n",
    "* the coefficients to `coef_mpg_ct` (as an array),\n",
    "* the intercept to `intercept_mpg_ct` (as an array),\n",
    "* $R^2$ evaluated on the **training set** to `R2_mpg_ct`,\n",
    "* the mean absolute error evaluated on the **test set** to `MAE_mpg_ct`."
   ]
  },
  {
   "cell_type": "code",
   "execution_count": 65,
   "metadata": {},
   "outputs": [],
   "source": [
    "#// BEGIN_TODO [DMM_4a] Model with cross term and quadratic term (5 points)\n",
    "\n",
    "X_mpg_ct_train = df_mpg_train[['weight', 'horsepower']].copy()\n",
    "X_mpg_ct_train['weight x hp'] = df_mpg_train['weight'] * df_mpg_train['horsepower']\n",
    "X_mpg_ct_train['weight^2'] = df_mpg_train['weight'] ** 2\n",
    "\n",
    "X_mpg_ct_test = df_mpg_test[['weight', 'horsepower']].copy()\n",
    "X_mpg_ct_test['weight x hp'] = df_mpg_test['weight'] * df_mpg_test['horsepower']\n",
    "X_mpg_ct_test['weight^2'] = df_mpg_test['weight'] ** 2\n",
    "\n",
    "reg_mpg_ct = LinearRegression()\n",
    "\n",
    "reg_mpg_ct.fit(X_mpg_ct_train, y_mpg_train)\n",
    "\n",
    "coef_mpg_ct = reg_mpg_ct.coef_\n",
    "intercept_mpg_ct = reg_mpg_ct.intercept_ \n",
    "\n",
    "R2_mpg_ct = reg_mpg_ct.score(X_mpg_ct_train, y_mpg_train)\n",
    "\n",
    "MAE_mpg_ct = mean_absolute_error(y_mpg_test, reg_mpg_ct.predict(X_mpg_ct_test))"
   ]
  },
  {
   "cell_type": "code",
   "execution_count": 66,
   "metadata": {},
   "outputs": [
    {
     "data": {
      "text/plain": [
       "(array([[-1.11731527e-02, -2.72359565e-01,  5.99467290e-05,\n",
       "         -7.79280144e-08]]),\n",
       " array([65.7241694]),\n",
       " 0.7695769440434705,\n",
       " 2.8766778853399577)"
      ]
     },
     "execution_count": 66,
     "metadata": {},
     "output_type": "execute_result"
    }
   ],
   "source": [
    "#// END_TODO [DMM_4a]\n",
    "\n",
    "coef_mpg_ct, intercept_mpg_ct, R2_mpg_ct, MAE_mpg_ct"
   ]
  },
  {
   "cell_type": "markdown",
   "metadata": {},
   "source": [
    "### Exercise <span class=\"exercise\">4.b</span>: Did the goodness of fit improve?\n",
    "\n",
    "Does this model have a better $R^2$ *on the training set* than the model with just the quadratic term? Assign your boolean answer to the variable `R2_improved_for_ct`."
   ]
  },
  {
   "cell_type": "code",
   "execution_count": 67,
   "metadata": {},
   "outputs": [
    {
     "data": {
      "text/plain": [
       "True"
      ]
     },
     "execution_count": 67,
     "metadata": {},
     "output_type": "execute_result"
    }
   ],
   "source": [
    "#// BEGIN_TODO [DMM_4b] Did R2 on the training set improve? (1 point)\n",
    "\n",
    "R2_improved_for_ct = True\n",
    "\n",
    "#// END_TODO [DMM_4b]\n",
    "\n",
    "R2_improved_for_ct"
   ]
  },
  {
   "cell_type": "markdown",
   "metadata": {},
   "source": [
    "### Exercise <span class=\"exercise\">4.c</span>: Did the predictive performance improve?\n",
    "\n",
    "Does this model have a better mean absolute error *on the test set* than the model with just the weight term? Assign your boolean answer to the variable `MAE_improved_for_ct`."
   ]
  },
  {
   "cell_type": "code",
   "execution_count": 68,
   "metadata": {},
   "outputs": [],
   "source": [
    "#// BEGIN_TODO [DMM_4c] Did MAE on the test set improve? (2 points)\n",
    "\n",
    "MAE_improved_for_ct = True\n"
   ]
  },
  {
   "cell_type": "code",
   "execution_count": 69,
   "metadata": {},
   "outputs": [
    {
     "data": {
      "text/plain": [
       "True"
      ]
     },
     "execution_count": 69,
     "metadata": {},
     "output_type": "execute_result"
    }
   ],
   "source": [
    "#// END_TODO [DMM_4c]\n",
    "\n",
    "MAE_improved_for_ct"
   ]
  },
  {
   "cell_type": "markdown",
   "metadata": {},
   "source": [
    "# <span class=\"section\">5.</span> Exercise: Depths of decision trees\n",
    "\n",
    "In <span class=\"exercise_ref\"><a href=\"#exercise-depth-three-tree\">Exercise 2.a</a></span> we have created a decision tree of depth 3 to classify cars into their origins. In this exercise, we will investigate what happens to the decision trees when we do not put a maximum on the depth of the tree.\n",
    "We can decide how deep we allow a decision tree to be,\n",
    "by setting the appropriate parameter."
   ]
  },
  {
   "cell_type": "markdown",
   "metadata": {},
   "source": [
    "### Exercise <span class=\"exercise\" id=\"ex_tree\">5.a</span>: Fit a decision tree of unbounded maximum depth\n",
    "\n",
    "Let's see what happens if we leave the decision tree unbounded. Fit a decision tree with unspecified maximum depth to predict the `origin`. Assign the decision tree classifier to `dtc_unbdd`.\n",
    "\n",
    "<span class=\"t\">Hint<span class=\"c\">:</span></span>\n",
    "<span class=\"h\">\n",
    "Use the `features` and `y_mpg_dtc_train` you have defined earlier.\n",
    "</span>"
   ]
  },
  {
   "cell_type": "code",
   "execution_count": 70,
   "metadata": {},
   "outputs": [
    {
     "data": {
      "text/plain": [
       "DecisionTreeClassifier()"
      ]
     },
     "execution_count": 70,
     "metadata": {},
     "output_type": "execute_result"
    }
   ],
   "source": [
    "#// BEGIN_TODO [DMM_5a] Unbounded decision tree (2 points)\n",
    "\n",
    "dtc_unbdd = DecisionTreeClassifier()\n",
    "\n",
    "dtc_unbdd.fit(X_mpg_dtc_train, y_mpg_dtc_train)\n"
   ]
  },
  {
   "cell_type": "code",
   "execution_count": 71,
   "metadata": {},
   "outputs": [
    {
     "name": "stdout",
     "output_type": "stream",
     "text": [
      "if displacement =< 134.5: \n",
      "  |then if displacement =< 97.25: \n",
      "  |  |then if acceleration =< 19.449999809265137: \n",
      "  |  |  |then if acceleration =< 14.949999809265137: \n",
      "  |  |  |  |then if year =< 73.0: \n",
      "  |  |  |  |  |then Japanese\n",
      "  |  |  |  |  |else if year =< 79.5: \n",
      "  |  |  |  |  |  |then if mpg =< 28.5: \n",
      "  |  |  |  |  |  |  |then if weight =< 2212.5: \n",
      "  |  |  |  |  |  |  |  |then American\n",
      "  |  |  |  |  |  |  |  |else European\n",
      "  |  |  |  |  |  |  |else European\n",
      "  |  |  |  |  |  |else Japanese\n",
      "  |  |  |  |else if mpg =< 27.5: \n",
      "  |  |  |  |  |then if displacement =< 93.5: \n",
      "  |  |  |  |  |  |then European\n",
      "  |  |  |  |  |  |else if year =< 71.5: \n",
      "  |  |  |  |  |  |  |then European\n",
      "  |  |  |  |  |  |  |else Japanese\n",
      "  |  |  |  |  |else if weight =< 2179.5: \n",
      "  |  |  |  |  |  |then if weight =< 1910.0: \n",
      "  |  |  |  |  |  |  |then if weight =< 1810.0: \n",
      "  |  |  |  |  |  |  |  |then Japanese\n",
      "  |  |  |  |  |  |  |  |else if weight =< 1855.0: \n",
      "  |  |  |  |  |  |  |  |  |then European\n",
      "  |  |  |  |  |  |  |  |  |else American\n",
      "  |  |  |  |  |  |  |else if year =< 74.5: \n",
      "  |  |  |  |  |  |  |  |then European\n",
      "  |  |  |  |  |  |  |  |else Japanese\n",
      "  |  |  |  |  |  |else European\n",
      "  |  |  |else if displacement =< 87.5: \n",
      "  |  |  |  |then if year =< 73.5: \n",
      "  |  |  |  |  |then European\n",
      "  |  |  |  |  |else if year =< 75.0: \n",
      "  |  |  |  |  |  |then Japanese\n",
      "  |  |  |  |  |  |else American\n",
      "  |  |  |  |else European\n",
      "  |  |else if displacement =< 99.0: \n",
      "  |  |  |then if mpg =< 38.79999923706055: \n",
      "  |  |  |  |then if mpg =< 29.699999809265137: \n",
      "  |  |  |  |  |then if mpg =< 28.5: \n",
      "  |  |  |  |  |  |then American\n",
      "  |  |  |  |  |  |else if year =< 76.0: \n",
      "  |  |  |  |  |  |  |then European\n",
      "  |  |  |  |  |  |  |else Japanese\n",
      "  |  |  |  |  |else American\n",
      "  |  |  |  |else European\n",
      "  |  |  |else if weight =< 2757.5: \n",
      "  |  |  |  |then if acceleration =< 18.399999618530273: \n",
      "  |  |  |  |  |then if year =< 77.5: \n",
      "  |  |  |  |  |  |then if displacement =< 121.5: \n",
      "  |  |  |  |  |  |  |then if weight =< 2563.5: \n",
      "  |  |  |  |  |  |  |  |then if mpg =< 25.5: \n",
      "  |  |  |  |  |  |  |  |  |then if weight =< 2224.0: \n",
      "  |  |  |  |  |  |  |  |  |  |then European\n",
      "  |  |  |  |  |  |  |  |  |  |else if displacement =< 107.5: \n",
      "  |  |  |  |  |  |  |  |  |  |  |then European\n",
      "  |  |  |  |  |  |  |  |  |  |  |else if acceleration =< 17.5: \n",
      "  |  |  |  |  |  |  |  |  |  |  |  |then Japanese\n",
      "  |  |  |  |  |  |  |  |  |  |  |  |else European\n",
      "  |  |  |  |  |  |  |  |  |else European\n",
      "  |  |  |  |  |  |  |  |else European\n",
      "  |  |  |  |  |  |  |else if acceleration =< 13.75: \n",
      "  |  |  |  |  |  |  |  |then Japanese\n",
      "  |  |  |  |  |  |  |  |else American\n",
      "  |  |  |  |  |  |else if displacement =< 106.0: \n",
      "  |  |  |  |  |  |  |then if acceleration =< 15.099999904632568: \n",
      "  |  |  |  |  |  |  |  |then if mpg =< 33.60000038146973: \n",
      "  |  |  |  |  |  |  |  |  |then European\n",
      "  |  |  |  |  |  |  |  |  |else American\n",
      "  |  |  |  |  |  |  |  |else European\n",
      "  |  |  |  |  |  |  |else if weight =< 2372.5: \n",
      "  |  |  |  |  |  |  |  |then Japanese\n",
      "  |  |  |  |  |  |  |  |else if year =< 81.5: \n",
      "  |  |  |  |  |  |  |  |  |then if displacement =< 120.5: \n",
      "  |  |  |  |  |  |  |  |  |  |then Japanese\n",
      "  |  |  |  |  |  |  |  |  |  |else if displacement =< 128.0: \n",
      "  |  |  |  |  |  |  |  |  |  |  |then if mpg =< 31.199999809265137: \n",
      "  |  |  |  |  |  |  |  |  |  |  |  |then American\n",
      "  |  |  |  |  |  |  |  |  |  |  |  |else European\n",
      "  |  |  |  |  |  |  |  |  |  |  |else Japanese\n",
      "  |  |  |  |  |  |  |  |  |else American\n",
      "  |  |  |  |  |else American\n",
      "  |  |  |  |else European\n",
      "  |else if displacement =< 190.5: \n",
      "  |  |then if weight =< 3071.5: \n",
      "  |  |  |then if acceleration =< 13.949999809265137: \n",
      "  |  |  |  |then if acceleration =< 13.349999904632568: \n",
      "  |  |  |  |  |then if weight =< 2812.5: \n",
      "  |  |  |  |  |  |then American\n",
      "  |  |  |  |  |  |else Japanese\n",
      "  |  |  |  |  |else Japanese\n",
      "  |  |  |  |else if cylinders =< 5.0: \n",
      "  |  |  |  |  |then American\n",
      "  |  |  |  |  |else if displacement =< 150.5: \n",
      "  |  |  |  |  |  |then Japanese\n",
      "  |  |  |  |  |  |else American\n",
      "  |  |  |else European\n",
      "  |  |else American\n",
      "<---------------------------------->\n",
      "Tree Depth:  12\n"
     ]
    }
   ],
   "source": [
    "#// END_TODO [DMM_5a]\n",
    "\n",
    "tree_print(dtc_unbdd, X_mpg_dtc_train)"
   ]
  },
  {
   "cell_type": "markdown",
   "metadata": {},
   "source": [
    "### Exercise <span class=\"exercise\">5.b</span>: Extract model parameters\n",
    "\n",
    "Which depth level does the tree assume? Assign your integer answer to the variable `depth_level_tree`.\n",
    "\n",
    "<span class=\"t\">Hint<span class=\"c\">:</span></span>\n",
    "<span class=\"h\">\n",
    "You may simply look at the tree and provide a number.\n",
    "</span>"
   ]
  },
  {
   "cell_type": "code",
   "execution_count": 72,
   "metadata": {},
   "outputs": [
    {
     "data": {
      "text/plain": [
       "12"
      ]
     },
     "execution_count": 72,
     "metadata": {},
     "output_type": "execute_result"
    }
   ],
   "source": [
    "#// BEGIN_TODO [DMM_5b] Depth of unbounded tree (1 point)\n",
    "\n",
    "depth_level_tree = 12\n",
    "\n",
    "#// END_TODO [DMM_5b]\n",
    "\n",
    "depth_level_tree"
   ]
  },
  {
   "cell_type": "markdown",
   "metadata": {},
   "source": [
    "### Exercise <span class=\"exercise\">5.c</span>: Assess the goodness of fit\n",
    "\n",
    "Does the tree of <span class=\"reference\" ref=\"ex_tree\"><a href=\"#ex_tree\">Exercise 5.a</a></span> make any mistakes on the training set?\n",
    "\n",
    "Assign\n",
    "\n",
    "* the predicted classification for all cars in the _training data set_ to the variable `y_pred_unbdd_train`,\n",
    "* the accuracy of the tree for the _training data set_ to `accuracy_unbdd_train`."
   ]
  },
  {
   "cell_type": "code",
   "execution_count": 73,
   "metadata": {},
   "outputs": [],
   "source": [
    "#// BEGIN_TODO [DMM_5c] Training set accuracy for unbounded tree (3 points)\n",
    "\n",
    "y_pred_unbdd_train = dtc_unbdd.predict(X_mpg_dtc_train)\n",
    "accuracy_unbdd_train = dtc_unbdd.score(X_mpg_dtc_train, y_mpg_dtc_train)\n"
   ]
  },
  {
   "cell_type": "code",
   "execution_count": 74,
   "metadata": {},
   "outputs": [
    {
     "data": {
      "text/plain": [
       "1.0"
      ]
     },
     "execution_count": 74,
     "metadata": {},
     "output_type": "execute_result"
    }
   ],
   "source": [
    "#// END_TODO [DMM_5c]\n",
    "\n",
    "accuracy_unbdd_train"
   ]
  },
  {
   "cell_type": "markdown",
   "metadata": {},
   "source": [
    "### Exercise <span class=\"exercise\">5.d</span>: Assess the predictive performance\n",
    "\n",
    "The unbounded depth tree performs well on the training data set. But how good is it for predicting the origin of cars for data it has not seen before? \n",
    "\n",
    "Compute the accuracy for the predictions of the unbounded decision tree on the test set.\n",
    "\n",
    "Assign\n",
    "\n",
    "* the predicted classification for all cars in the _test data set_ to the variable `y_pred_unbdd_test`,\n",
    "* the accuracy of the tree for the _test data set_ to `accuracy_unbdd_test`."
   ]
  },
  {
   "cell_type": "code",
   "execution_count": 75,
   "metadata": {},
   "outputs": [],
   "source": [
    "#// BEGIN_TODO [DMM_5d] Test set accuracy for unbounded tree (3 points)\n",
    "\n",
    "y_pred_unbdd_test = dtc_unbdd.predict(X_mpg_dtc_test)\n",
    "accuracy_unbdd_test = dtc_unbdd.score(X_mpg_dtc_test, y_mpg_dtc_test)\n"
   ]
  },
  {
   "cell_type": "code",
   "execution_count": 76,
   "metadata": {},
   "outputs": [
    {
     "data": {
      "text/plain": [
       "0.825"
      ]
     },
     "execution_count": 76,
     "metadata": {},
     "output_type": "execute_result"
    }
   ],
   "source": [
    "#// END_TODO [DMM_5d]\n",
    "\n",
    "accuracy_unbdd_test"
   ]
  },
  {
   "cell_type": "markdown",
   "metadata": {},
   "source": [
    "### Exercise <span class=\"exercise\">5.e</span>: Which tree is more appropriate?\n",
    "\n",
    "Which of the trees we have considered in this exercise, and Exercise 2, is more appropriate and why?\n",
    "\n",
    ">a. The unbounded tree, because it makes the least mistakes\n",
    ">\n",
    ">b. The tree of depth 3, because it has a better balance between accuracy and simplicity\n",
    "\n",
    "Assign your answer (string `'a'` or `'b'`) to the variable `more_appropriate_tree`."
   ]
  },
  {
   "cell_type": "code",
   "execution_count": 77,
   "metadata": {},
   "outputs": [
    {
     "data": {
      "text/plain": [
       "'b'"
      ]
     },
     "execution_count": 77,
     "metadata": {},
     "output_type": "execute_result"
    }
   ],
   "source": [
    "#// BEGIN_TODO [DMM_5e] Most appropriate tree? (1 point)\n",
    "\n",
    "more_appropriate_tree = 'b'\n",
    "\n",
    "#// END_TODO [DMM_5e]\n",
    "\n",
    "more_appropriate_tree"
   ]
  },
  {
   "cell_type": "markdown",
   "metadata": {},
   "source": [
    "# Feedback\n",
    "\n",
    "Please fill in this questionaire to help us improve this course for the next year. Your feedback will be anonymized and will not affect your grade in any way!"
   ]
  },
  {
   "cell_type": "markdown",
   "metadata": {},
   "source": [
    "### How many hours did you spend on these Exercises?\n",
    "\n",
    "Assign a number to `feedback_time`."
   ]
  },
  {
   "cell_type": "code",
   "execution_count": 78,
   "metadata": {},
   "outputs": [
    {
     "data": {
      "text/plain": [
       "10"
      ]
     },
     "execution_count": 78,
     "metadata": {},
     "output_type": "execute_result"
    }
   ],
   "source": [
    "#// BEGIN_FEEDBACK [Feedback_1] (0 point)\n",
    "\n",
    "feedback_time = 10\n",
    "\n",
    "#// END_FEEDBACK [Feedback_1] (0 point)\n",
    "\n",
    "import numbers\n",
    "assert isinstance(feedback_time, numbers.Number), \"Please assign a number to feedback_time\"\n",
    "feedback_time"
   ]
  },
  {
   "cell_type": "markdown",
   "metadata": {},
   "source": [
    "### How difficult did you find these Exercises?\n",
    "\n",
    "Assign an integer to `feedback_difficulty`, on a scale 0 - 10, with 0 being very easy, 5 being just right, and 10 being very difficult."
   ]
  },
  {
   "cell_type": "code",
   "execution_count": 79,
   "metadata": {},
   "outputs": [
    {
     "data": {
      "text/plain": [
       "8"
      ]
     },
     "execution_count": 79,
     "metadata": {},
     "output_type": "execute_result"
    }
   ],
   "source": [
    "#// BEGIN_FEEDBACK [Feedback_2] (0 point)\n",
    "\n",
    "feedback_difficulty = 8\n",
    "\n",
    "#// END_FEEDBACK [Feedback_2] (0 point)\n",
    "\n",
    "import numbers\n",
    "assert isinstance(feedback_difficulty, numbers.Number), \"Please assign a number to feedback_difficulty\"\n",
    "feedback_difficulty"
   ]
  },
  {
   "cell_type": "markdown",
   "metadata": {},
   "source": [
    "### (Optional) What did you like?\n",
    "\n",
    "Assign a string to `feedback_like`."
   ]
  },
  {
   "cell_type": "code",
   "execution_count": 80,
   "metadata": {},
   "outputs": [],
   "source": [
    "#// BEGIN_FEEDBACK [Feedback_3] (0 point)\n",
    "\n",
    "#// END_FEEDBACK [Feedback_3] (0 point)"
   ]
  },
  {
   "cell_type": "markdown",
   "metadata": {},
   "source": [
    "### (Optional) What can be improved?\n",
    "\n",
    "Assign a string to `feedback_improve`. Please be specific, so that we can act on your feedback. For example, mention the specific exercises and what was unclear."
   ]
  },
  {
   "cell_type": "code",
   "execution_count": 81,
   "metadata": {},
   "outputs": [],
   "source": [
    "#// BEGIN_FEEDBACK [Feedback_4] (0 point)\n",
    "\n",
    "#// END_FEEDBACK [Feedback_4] (0 point)"
   ]
  },
  {
   "cell_type": "markdown",
   "metadata": {},
   "source": [
    "\n",
    "\n",
    "\n",
    "## How to submit your work\n",
    "\n",
    "1. **Before submitting**, you must run your notebook by doing **Kernel > Restart & Run All**.  \n",
    "   Make sure that your notebook runs without errors **in linear order**.\n",
    "\n",
    "2. Remember to rename the notebook, replacing `...-template.ipynb` with `...-yourIDnr.ipynb`, where `yourIDnr` is your TU/e identification number.\n",
    "\n",
    "3. Submit the executed notebook with your work\n",
    "   for the appropriate assignment in **Canvas**.\n",
    "\n",
    "* In the **Momotor** tab in Canvas,\n",
    "  you can select that assignment again to find some feedback on your submitted work.\n",
    "  \n",
    "* If there are any problems reported by _Momotor_,\n",
    "  then you need to fix those,\n",
    "  and **resubmit the fixed notebook**.\n",
    "\n",
    "In case of a high workload on our server\n",
    "(because many students submit close to the deadline),\n",
    "it may take longer to receive the feedback.\n",
    "\n",
    "\n"
   ]
  },
  {
   "cell_type": "markdown",
   "metadata": {},
   "source": [
    "---"
   ]
  },
  {
   "cell_type": "code",
   "execution_count": 82,
   "metadata": {},
   "outputs": [
    {
     "name": "stdout",
     "output_type": "stream",
     "text": [
      "Variable                      Type                      Data/Info\n",
      "-----------------------------------------------------------------\n",
      "AUTHOR_DATE                   str                       2022-02-24\n",
      "AUTHOR_ID_NR                  str                       1681591\n",
      "AUTHOR_NAME                   str                       Toma Andrei Sacuiu\n",
      "DecisionTreeClassifier        ABCMeta                   <class 'sklearn.tree._cla<...>.DecisionTreeClassifier'>\n",
      "HTML                          type                      <class 'IPython.core.display.HTML'>\n",
      "KMeans                        type                      <class 'sklearn.cluster._kmeans.KMeans'>\n",
      "LinearRegression              ABCMeta                   <class 'sklearn.linear_mo<...>._base.LinearRegression'>\n",
      "MAE_improved_for_ct           bool                      True\n",
      "MAE_mpg_ct                    float64                   2.8766778853399577\n",
      "MAE_mpg_qt                    float64                   3.1336018423523426\n",
      "R2_improved_for_ct            bool                      True\n",
      "R2_improved_for_qt            bool                      True\n",
      "R2_mpg                        float64                   0.7080014802279737\n",
      "R2_mpg_ct                     float64                   0.7695769440434705\n",
      "R2_mpg_qt                     float64                   0.7383397890274058\n",
      "X_dtc_test                    DataFrame                     a  b\\n7   5  8\\n10  8  8\\n2   2  1\n",
      "X_dtc_train                   DataFrame                     a  b\\n5   5  3\\n0   0<...> 4  7\\n9   7  9\\n4   4  2\n",
      "X_km                          DataFrame                     a  b  cluster\\n0   0 <...>     3\\n11  9  9        3\n",
      "X_mpg_ct_test                 DataFrame                      weight  horsepower  <...>\\n\\n[80 rows x 4 columns]\n",
      "X_mpg_ct_train                DataFrame                      weight  horsepower  <...>n\\n[318 rows x 4 columns]\n",
      "X_mpg_dtc_test                DataFrame                       mpg  cylinders  dis<...>\\n\\n[80 rows x 6 columns]\n",
      "X_mpg_dtc_train               DataFrame                       mpg  cylinders  dis<...>n\\n[318 rows x 6 columns]\n",
      "X_mpg_qt_test                 DataFrame                      weight    weight^2\\n<...>\\n\\n[80 rows x 2 columns]\n",
      "X_mpg_qt_train                DataFrame                      weight    weight^2\\n<...>n\\n[318 rows x 2 columns]\n",
      "X_mpg_test                    DataFrame                      weight\\n148  2246.0\\<...>\\n\\n[80 rows x 1 columns]\n",
      "X_mpg_train                   DataFrame                      weight\\n338  2490.0\\<...>n\\n[318 rows x 1 columns]\n",
      "X_reg_test                    DataFrame                     a\\n7   5\\n10  8\\n2   2\n",
      "X_reg_train                   DataFrame                     a\\n5   5\\n0   0\\n1   <...>   3\\n6   4\\n9   7\\n4   4\n",
      "X_seeds_test                  DataFrame                    area  perimeter  kerne<...> \\n2                  1  \n",
      "X_seeds_train                 DataFrame                       area  perimeter  ke<...>n\\n[210 rows x 8 columns]\n",
      "a                             float64                   1.953248819643505e-06\n",
      "acc_depth_3_test              float64                   0.7625\n",
      "acc_depth_3_train             float64                   0.8050314465408805\n",
      "accuracy_unbdd_test           float64                   0.825\n",
      "accuracy_unbdd_train          float64                   1.0\n",
      "ax                            AxesSubplot               AxesSubplot(0.125,0.125;0.775x0.755)\n",
      "ax1                           AxesSubplot               AxesSubplot(0.125,0.125;0.775x0.755)\n",
      "b                             float64                   -0.02037713966197384\n",
      "c                             ndarray                   1: 1 elems, type `float64`, 8 bytes\n",
      "centers                       DataFrame                      a         b\\n0  4.0 <...>.333333\\n3  8.0  8.666667\n",
      "centers_seeds                 DataFrame                         area  perimeter  <...>  2.648933       5.192319\n",
      "coef_mpg                      ndarray                   1x1: 1 elems, type `float64`, 8 bytes\n",
      "coef_mpg_ct                   ndarray                   1x4: 4 elems, type `float64`, 32 bytes\n",
      "coef_mpg_qt                   ndarray                   1x2: 2 elems, type `float64`, 16 bytes\n",
      "confusion_matrix              function                  <function confusion_matrix at 0x00000236019A13A0>\n",
      "depth_level_tree              int                       12\n",
      "df_example                    DataFrame                     a  b       c  b_predi<...>9  9   black     9.274306\n",
      "df_example_test               DataFrame                     a  b       c\\n7   5  <...>  black\\n2   2  1     red\n",
      "df_example_train              DataFrame                     a  b       c\\n5   5  <...>  black\\n4   4  2    blue\n",
      "df_mpg                        DataFrame                       mpg  cylinders  dis<...>n\\n[398 rows x 9 columns]\n",
      "df_mpg_test                   DataFrame                       mpg  cylinders  dis<...>n\\n[80 rows x 10 columns]\n",
      "df_mpg_train                  DataFrame                       mpg  cylinders  dis<...>\\n[318 rows x 10 columns]\n",
      "df_seeds                      DataFrame                       area  perimeter  ke<...>n\\n[210 rows x 6 columns]\n",
      "dtc                           DecisionTreeClassifier    DecisionTreeClassifier(max_depth=3)\n",
      "dtc_depth_3                   DecisionTreeClassifier    DecisionTreeClassifier(max_depth=3)\n",
      "dtc_unbdd                     DecisionTreeClassifier    DecisionTreeClassifier()\n",
      "feature_importances           DataFrame                       a     b\\n0  0.36  0.64\n",
      "feature_importances_depth_3   DataFrame                    mpg  cylinders  displa<...>16268      0.039941   0.0\n",
      "features                      DataFrame                       mpg  cylinders  dis<...>n\\n[318 rows x 6 columns]\n",
      "feedback_difficulty           int                       8\n",
      "feedback_time                 int                       10\n",
      "higher_weight_higher_mpg      bool                      False\n",
      "inertia                       float                     10.666666666666666\n",
      "inertia_seeds                 float                     587.2460383245345\n",
      "intercept_mpg                 ndarray                   1: 1 elems, type `float64`, 8 bytes\n",
      "intercept_mpg_ct              ndarray                   1: 1 elems, type `float64`, 8 bytes\n",
      "intercept_mpg_qt              ndarray                   1: 1 elems, type `float64`, 8 bytes\n",
      "km                            KMeans                    KMeans(n_clusters=4)\n",
      "km_seeds                      KMeans                    KMeans(n_clusters=3)\n",
      "mean_absolute_error           function                  <function mean_absolute_e<...>or at 0x00000236019EE8B0>\n",
      "more_appropriate_tree         str                       b\n",
      "mpl                           module                    <module 'matplotlib' from<...>matplotlib\\\\__init__.py'>\n",
      "np                            module                    <module 'numpy' from 'C:\\<...>ges\\\\numpy\\\\__init__.py'>\n",
      "numbers                       module                    <module 'numbers' from 'C<...>conda3\\\\lib\\\\numbers.py'>\n",
      "pd                            module                    <module 'pandas' from 'C:<...>es\\\\pandas\\\\__init__.py'>\n",
      "plt                           module                    <module 'matplotlib.pyplo<...>\\\\matplotlib\\\\pyplot.py'>\n",
      "reg                           LinearRegression          LinearRegression()\n",
      "reg_mpg                       LinearRegression          LinearRegression()\n",
      "reg_mpg_ct                    LinearRegression          LinearRegression()\n",
      "reg_mpg_qt                    LinearRegression          LinearRegression()\n",
      "residuals                     DataFrame                            b\\n5  -2.42013<...>   1.652778\\n4  -2.456597\n",
      "sns                           module                    <module 'seaborn' from 'C<...>s\\\\seaborn\\\\__init__.py'>\n",
      "test_km                       list                      n=6\n",
      "train_test_split              function                  <function train_test_split at 0x00000236019830D0>\n",
      "tree_print                    function                  <function tree_print at 0x0000023601DAECA0>\n",
      "weight                        int                       4000\n",
      "y_dtc_pred                    ndarray                   9: 9 elems, type `object`, 72 bytes\n",
      "y_dtc_test                    Series                    7     orange\\n10     blac<...>d\\nName: c, dtype: object\n",
      "y_dtc_train                   Series                    5       blue\\n0        re<...>e\\nName: c, dtype: object\n",
      "y_mpg_4000                    ndarray                   1: 1 elems, type `float64`, 8 bytes\n",
      "y_mpg_dtc_test                DataFrame                        origin\\n148  Europ<...>\\n\\n[80 rows x 1 columns]\n",
      "y_mpg_dtc_train               DataFrame                        origin\\n338  Ameri<...>n\\n[318 rows x 1 columns]\n",
      "y_mpg_qt_train                DataFrame                       mpg\\n338  27.2\\n173<...>n\\n[318 rows x 1 columns]\n",
      "y_mpg_test                    DataFrame                       mpg\\n148  26.0\\n389<...>\\n\\n[80 rows x 1 columns]\n",
      "y_mpg_train                   DataFrame                       mpg\\n338  27.2\\n173<...>n\\n[318 rows x 1 columns]\n",
      "y_pred_unbdd_test             ndarray                   80: 80 elems, type `object`, 640 bytes\n",
      "y_pred_unbdd_train            ndarray                   318: 318 elems, type `object`, 2544 bytes\n",
      "y_reg_test                    DataFrame                     b\\n7   8\\n10  8\\n2   1\n",
      "y_reg_train                   DataFrame                     b\\n5   3\\n0   1\\n1   <...>   3\\n6   7\\n9   9\\n4   2\n"
     ]
    }
   ],
   "source": [
    "# List all defined names\n",
    "%whos"
   ]
  },
  {
   "cell_type": "markdown",
   "metadata": {},
   "source": [
    "---\n",
    "\n",
    "# (End of Notebook) <span class=\"tocSkip\"></span>\n",
    "\n",
    "&copy; 2017-2021 - **TU/e** - Eindhoven University of Technology"
   ]
  }
 ],
 "metadata": {
  "hide_input": false,
  "kernelspec": {
   "display_name": "Python 3",
   "language": "python",
   "name": "python3"
  },
  "language_info": {
   "codemirror_mode": {
    "name": "ipython",
    "version": 3
   },
   "file_extension": ".py",
   "mimetype": "text/x-python",
   "name": "python",
   "nbconvert_exporter": "python",
   "pygments_lexer": "ipython3",
   "version": "3.8.8"
  },
  "toc": {
   "base_numbering": 1,
   "nav_menu": {
    "height": "174px",
    "width": "252px"
   },
   "number_sections": false,
   "sideBar": true,
   "skip_h1_title": false,
   "title_cell": "Table of Contents",
   "title_sidebar": "Contents",
   "toc_cell": true,
   "toc_position": {
    "height": "652px",
    "left": "0px",
    "right": "1041px",
    "top": "107px",
    "width": "294px"
   },
   "toc_section_display": "block",
   "toc_window_display": true
  }
 },
 "nbformat": 4,
 "nbformat_minor": 2
}
